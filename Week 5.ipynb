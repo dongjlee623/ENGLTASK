{
 "cells": [
  {
   "cell_type": "code",
   "execution_count": 3,
   "metadata": {},
   "outputs": [],
   "source": [
    "import nltk\n",
    "import re"
   ]
  },
  {
   "cell_type": "code",
   "execution_count": 4,
   "metadata": {},
   "outputs": [
    {
     "name": "stdout",
     "output_type": "stream",
     "text": [
      "['u', 'e', 'a', 'i', 'a', 'i', 'i', 'i', 'e', 'i', 'a', 'i', 'o', 'i', 'o', 'u']\n",
      "['rc', 'fr', 'st', 'xp', 'ci']\n",
      "['supercalifragilisticexpialidocious']\n",
      "['sup', 'rcal', 'frag', 'lis', 'tic', 'xpial', 'doc']\n"
     ]
    }
   ],
   "source": [
    "word = 'supercalifragilisticexpialidocious'\n",
    "result = re.findall('[aeiou]', word)\n",
    "print(result)\n",
    "result = re.findall('[aeiou](..)[aeiou]', word)\n",
    "print(result)\n",
    "result = re.findall('[^aeiou].+[^aeiou]', word) # greedy search \n",
    "#. 하고 찾는 것은 한자리를 차지하는게 하나만 나오면 된다. 가능한 크게 찾는다. 앞에꺼랑 합쳐서 찾아진다. 모음이 아닌것, 하나이상의 캐릭터, 그리고 또 모음이 아닌것\n",
    "print(result)\n",
    "result = re.findall('[^aeiou].+?[^aeiou]', word) # reluctant search .+?로 들어가면 있거나 없거나. 물음표가 잇으면 가능한 좁게 찾으라는 뜻\n",
    "print(result)"
   ]
  },
  {
   "cell_type": "code",
   "execution_count": 5,
   "metadata": {},
   "outputs": [
    {
     "name": "stdout",
     "output_type": "stream",
     "text": [
      "['!', '#', '$', '%', '&', \"'\", \"''\", \"'30s\", \"'40s\", \"'50s\", \"'80s\", \"'82\", \"'86\", \"'S\", \"'d\", \"'ll\", \"'m\", \"'re\", \"'s\", \"'ve\", '*', '*-1', '*-10', '*-100', '*-101', '*-102', '*-103', '*-104', '*-105', '*-106', '*-107', '*-108', '*-109', '*-11', '*-110', '*-111', '*-112', '*-113', '*-114', '*-115', '*-116', '*-117', '*-118', '*-119', '*-12', '*-120', '*-121', '*-122', '*-123', '*-124', '*-125', '*-126', '*-127', '*-128', '*-129', '*-13', '*-130', '*-131', '*-132', '*-133', '*-134', '*-135', '*-136', '*-137', '*-138', '*-139', '*-14', '*-140', '*-141', '*-142', '*-144', '*-145', '*-146', '*-147', '*-149', '*-15', '*-150', '*-151', '*-152', '*-153', '*-154', '*-155', '*-156', '*-157', '*-158', '*-159', '*-16', '*-160', '*-161', '*-162', '*-163', '*-164', '*-165', '*-166', '*-17', '*-18', '*-19', '*-2', '*-20', '*-21', '*-22', '*-23', '*-24', '*-25', '*-26', '*-27', '*-28', '*-29', '*-3', '*-30', '*-31', '*-32', '*-33', '*-34', '*-35', '*-36', '*-37', '*-38', '*-39', '*-4', '*-40', '*-41', '*-42', '*-43', '*-44', '*-45', '*-46', '*-47', '*-48', '*-49', '*-5', '*-50', '*-51', '*-52', '*-53', '*-54', '*-55', '*-56', '*-57', '*-58', '*-59', '*-6', '*-60', '*-61', '*-62', '*-63', '*-64', '*-66', '*-67', '*-68', '*-69', '*-7', '*-70', '*-71', '*-72', '*-73', '*-74', '*-75', '*-76', '*-77', '*-78', '*-79', '*-8', '*-80', '*-81', '*-82', '*-83', '*-84', '*-85', '*-86', '*-87', '*-88', '*-89', '*-9', '*-90', '*-91', '*-92', '*-93', '*-94', '*-95', '*-96', '*-97', '*-98', '*-99', '*?*', '*EXP*-1', '*EXP*-2', '*EXP*-3', '*ICH*-1', '*ICH*-2', '*ICH*-3', '*ICH*-4', '*NOT*', '*PPA*-1', '*PPA*-2', '*PPA*-3', '*RNR*-1', '*RNR*-2', '*RNR*-4', '*T*-1', '*T*-10', '*T*-100', '*T*-101', '*T*-102', '*T*-103', '*T*-104', '*T*-105', '*T*-106', '*T*-107', '*T*-108', '*T*-109', '*T*-11', '*T*-110', '*T*-111', '*T*-112', '*T*-113', '*T*-114', '*T*-115', '*T*-116', '*T*-117', '*T*-118', '*T*-119', '*T*-12', '*T*-120', '*T*-121', '*T*-122', '*T*-123', '*T*-124', '*T*-125', '*T*-126', '*T*-127', '*T*-128', '*T*-129', '*T*-13', '*T*-130', '*T*-131', '*T*-132', '*T*-133', '*T*-134', '*T*-135', '*T*-136', '*T*-137', '*T*-138', '*T*-139', '*T*-14', '*T*-140', '*T*-141', '*T*-142', '*T*-143', '*T*-144', '*T*-145', '*T*-146', '*T*-147', '*T*-148', '*T*-149', '*T*-15', '*T*-150', '*T*-151', '*T*-152', '*T*-153', '*T*-154', '*T*-155', '*T*-156', '*T*-157', '*T*-158', '*T*-159', '*T*-16', '*T*-160', '*T*-161', '*T*-162', '*T*-163', '*T*-164', '*T*-165', '*T*-166', '*T*-167', '*T*-168', '*T*-169', '*T*-17', '*T*-170', '*T*-171', '*T*-172', '*T*-173', '*T*-174', '*T*-175', '*T*-176', '*T*-177', '*T*-178', '*T*-179', '*T*-18', '*T*-180', '*T*-181', '*T*-182', '*T*-183', '*T*-184', '*T*-185', '*T*-186', '*T*-187', '*T*-188', '*T*-189', '*T*-19', '*T*-190', '*T*-191', '*T*-192', '*T*-193', '*T*-194', '*T*-195', '*T*-196', '*T*-197', '*T*-198', '*T*-199', '*T*-2', '*T*-20', '*T*-200', '*T*-201', '*T*-202', '*T*-203', '*T*-204', '*T*-205', '*T*-206', '*T*-207', '*T*-208', '*T*-21', '*T*-210', '*T*-211', '*T*-212', '*T*-213', '*T*-214', '*T*-215', '*T*-216', '*T*-217', '*T*-218', '*T*-219', '*T*-22', '*T*-220', '*T*-221', '*T*-222', '*T*-223', '*T*-224', '*T*-225', '*T*-226', '*T*-227', '*T*-228', '*T*-229', '*T*-23', '*T*-230', '*T*-231', '*T*-232', '*T*-233', '*T*-234', '*T*-235', '*T*-236', '*T*-237', '*T*-238', '*T*-239', '*T*-24', '*T*-240', '*T*-241', '*T*-242', '*T*-243', '*T*-244', '*T*-245', '*T*-246', '*T*-247', '*T*-248', '*T*-249', '*T*-25', '*T*-250', '*T*-251', '*T*-252', '*T*-253', '*T*-254', '*T*-255', '*T*-256', '*T*-257', '*T*-258', '*T*-259', '*T*-26', '*T*-260', '*T*-27', '*T*-28', '*T*-29', '*T*-3', '*T*-30', '*T*-31', '*T*-32', '*T*-33', '*T*-34', '*T*-35', '*T*-36', '*T*-37', '*T*-38', '*T*-39', '*T*-4', '*T*-40', '*T*-41', '*T*-42', '*T*-43', '*T*-44', '*T*-45', '*T*-46', '*T*-47', '*T*-48', '*T*-49', '*T*-5', '*T*-50', '*T*-51', '*T*-52', '*T*-53', '*T*-54', '*T*-55', '*T*-56', '*T*-57', '*T*-58', '*T*-59', '*T*-6', '*T*-60', '*T*-61', '*T*-62', '*T*-63', '*T*-64', '*T*-65', '*T*-66', '*T*-67', '*T*-68', '*T*-69', '*T*-7', '*T*-70', '*T*-71', '*T*-72', '*T*-73', '*T*-74', '*T*-75', '*T*-76', '*T*-77', '*T*-78', '*T*-79', '*T*-8', '*T*-80', '*T*-81', '*T*-82', '*T*-83', '*T*-84', '*T*-85', '*T*-86', '*T*-87', '*T*-88', '*T*-89', '*T*-9', '*T*-90', '*T*-91', '*T*-92', '*T*-93', '*T*-94', '*T*-95', '*T*-96', '*T*-97', '*T*-98', '*T*-99', '*U*', ',', '-', '--', '-LCB-', '-LRB-', '-RCB-', '-RRB-', '.', '...', '0', '0.0085', '0.05', '0.1', '0.16', '0.2', '0.25', '0.28', '0.3', '0.4', '0.5', '0.50', '0.54', '0.56', '0.60', '0.7', '0.82', '0.84', '0.9', '0.95', '0.99', '1', '1,000', '1,050,000', '1,100', '1,200', '1,298', '1,400', '1,460', '1,500', '1,570', '1,620', '1,880', '1.01', '1.1', '1.125', '1.14', '1.1650', '1.17', '1.18', '1.19', '1.2', '1.20', '1.24', '1.25', '1.26', '1.28', '1.35', '1.39', '1.4', '1.457', '1.46', '1.49', '1.5', '1.50', '1.55', '1.56', '1.5755', '1.5805', '1.6', '1.61', '1.637', '1.64', '1.65', '1.7', '1.75', '1.76', '1.8', '1.82', '1.8415', '1.85', '1.8500', '1.9', '1.916', '1.92', '10', '10,000', '10-day', '10-lap', '10-year', '10.19', '10.2', '10.5', '100', '100,000', '100,980', '100-megabyte', '100-share', '101', '102', '103', '105', '106', '107', '107.03', '107.9', '108', '109.73', '10th', '11', '11,000', '11,390,000', '11,762', '11-month-old', '11.10', '11.5', '11.57', '11.6', '11.72', '11.95', '110', '111', '112.9', '113.2', '114', '115', '116.3', '116.4', '116.7', '116.9', '118', '118.6', '119', '11\\\\/16', '11th', '12', '12,252', '12-member', '12-point', '12-year', '12.09', '12.5', '12.52', '12.68', '12.7', '12.82', '12.97', '120', '120,000', '120-a-share', '120.7', '1206.26', '121.6', '125', '126,000', '126.1', '126.15', '127.03', '128', '129.91', '12\\\\/32', '13', '13,056', '13.1', '13.15', '13.5', '13.50', '13.625', '13.65', '13.73', '13.8', '13.90', '130', '130.6', '130.7', '131.01', '132', '132,000', '132.9', '133', '133.7', '133.8', '135', '138', '139', '13\\\\/16', '14', '14,821', '14-hour', '14.', '14.00', '14.13', '14.26', '14.28', '14.43', '14.5', '14.53', '14.54', '14.6', '14.75', '14.99', '140', '141.9', '142.84', '142.85', '143.08', '143.80', '143.93', '144', '145', '148', '148.9', '149', '149.9', '14\\\\/32', '15', '15,000', '15-day', '15.5', '150', '150,000', '150-point', '150.00', '152,000', '153.3', '154,240,000', '154.2', '155', '158,666', '16', '16,000', '16,072', '16.05', '16.09', '16.125', '16.2', '16.5', '16.68', '16.7', '16.9', '160', '1614', '1637', '169.9', '16\\\\/32', '17', '17-year-old', '17.3', '17.4', '17.5', '17.95', '170', '170,000', '170,262', '1738.1', '175', '176', '176.1', '177', '1787', '179', '18', '18,000', '18,444', '18-a-share', '18-year-old', '18.3', '18.6', '18.95', '180', '184', '185.9', '187', '188', '188.84', '19', '19-month-old', '19.3', '19.50', '19.6', '19.94', '19.95', '190', '190-point', '1901', '1903', '191.9', '1917', '1920s', '1925', '1928-33', '1929', '1933', '1934', '1937-40', '1940s', '1948', '195', '1950s', '1953', '1955', '1956', '1960s', '1961', '1965', '1966', '1967', '1968', '1969', '1970', '1970s', '1971', '1972', '1973', '1973-75', '1975', '1976', '1977', '1979', '198', '1980', '1980s', '1981', '1982', '1983', '1983-85', '1984', '1985', '1986', '1986-87', '1987', '1987-88', '1988', '1988-89', '1989', '1989-90', '1990', '1990-91', '1990s', '1991', '1991-1999', '1991-2000', '1992', '1992-1999', '1993', '1994', '1995', '1996', '1997', '1998', '1999', '1:30', '1\\\\/10th', '1\\\\/2', '1\\\\/4', '1\\\\/8', '1st', '2', '2,000', '2,050-passenger', '2,099', '2,303,328', '2,410', '2,500', '2,700', '2-3', '2-8', '2.07', '2.1', '2.15', '2.19', '2.2', '2.25', '2.29', '2.3', '2.30', '2.35', '2.375', '2.4', '2.42', '2.44', '2.46', '2.47', '2.5', '2.50', '2.6', '2.62', '2.65', '2.7', '2.75', '2.8', '2.80', '2.87', '2.875', '2.9', '2.95', '20', '20,000', '20-point', '20-stock', '20.07', '20.5', '200', '200,000', '2000', '2003\\\\/2007', '2005', '2009', '2017', '2019', '2029', '203', '20s', '21', '21,000', '21-month', '21.1', '21.9', '210', '210,000', '212', '214', '2141.7', '2160.1', '2163.2', '22', '22.75', '220', '220.45', '221.4', '225', '225,000', '225.6', '226,570,380', '227', '228', '22\\\\/32', '23', '23,000', '23,403', '23.25', '23.4', '23.5', '23.72', '230-215', '234.4', '235', '236.74', '236.79', '237-seat', '238,000-circulation', '24', '24,000', '24.95', '240', '240,000', '240-page', '241', '244,000', '245', '25', '25,000', '25-year-old', '25.50', '25.6', '250', '250,000', '251.2', '257', '26', '26,000', '26,956', '26.2', '26.5', '26.8', '260', '263.07', '2645.90', '266', '2691.19', '27', '27-year', '27.1', '27.4', '270', '271,124', '271-147', '273.5', '274', '275', '278.7', '28', '28.25', '28.36', '28.4', '28.5', '28.53', '28.6', '280', '282', '286', '29', '29.3', '29.4', '29.9', '292.32', '295', '29year', '2\\\\/32', '3', '3,040,000', '3,250,000', '3,288,453', '3,500', '3,600', '3-4', '3.01', '3.04', '3.1', '3.16', '3.18', '3.19', '3.2', '3.20', '3.23', '3.253', '3.28', '3.3', '3.35', '3.375', '3.4', '3.42', '3.43', '3.5', '3.55', '3.6', '3.61', '3.625', '3.7', '3.75', '3.8', '3.80', '3.9', '30', '30,000', '30,537', '30,841', '30-day', '30-minute', '30-point', '30-share', '30-year', '30.6', '30.9', '300', '300,000', '300-113', '300-a-share', '300-day', '301', '3057', '306', '30s', '31', '31-year-old', '310', '313', '319.75', '32', '32.8', '320', '321', '321,000', '325,000', '326', '33', '331,000', '334.5', '339', '34', '34.625', '340,000', '341.20', '343', '3436.58', '35', '35.2', '35.7', '350', '350,000', '352.7', '352.9', '353', '35500.64', '35564.43', '36', '36-day', '36-minute', '36-store', '36.9', '360', '361,376', '361.8', '3648.82', '37', '37-a-share', '37-year-old', '37.3', '37.5', '370', '372.14', '372.9', '374.19', '374.20', '377.60', '38', '38.3', '38.375', '38.5', '38.875', '380', '382-37', '386', '387.8', '388', '39', '396,000', '397', '3:15', '3\\\\/4', '3\\\\/8', '4', '4,000', '4,393,237', '4,645', '4.1', '4.10', '4.2', '4.25', '4.3', '4.4', '4.5', '4.55', '4.6', '4.7', '4.75', '4.8', '4.875', '4.898', '4.9', '40', '40,000', '40-megabyte', '40-year-old', '40.21', '400', '400,000', '405', '41', '41.60', '415', '415.6', '415.8', '42', '42-year', '42.1', '42.5', '420', '422.5', '43', '43-year-old', '43.875', '430', '434.4', '436.01', '44', '445', '446.62', '449.04', '45', '45,000', '45-a-share', '45.2', '45.3', '45.75', '450', '451', '454', '456.64', '458', '46', '46.1', '467', '47', '47.1', '47.125', '47.5', '47.6', '472', '48', '49', '49.9', '490', '492', '494.50', '497.34', '5', '5,000', '5,699', '5.1', '5.2180', '5.276', '5.29', '5.3', '5.39', '5.4', '5.435', '5.5', '5.57', '5.6', '5.63', '5.7', '5.70', '5.8', '5.82', '5.9', '5.92', '50', '50,000', '50-50', '50-state', '50.1', '50.38', '50.45', '500', '500,000', '500,004', '500-Stock', '500-stock', '501', '50\\\\/50', '51', '51-year-old', '51.25', '51.6', '512', '52', '52-week', '520-lawyer', '53', '53-year-old', '534', '54', '54-year-old', '55', '55-a-share', '55-year-old', '55.1', '550,000', '56', '566.54', '57', '57.50', '57.6', '57.7', '570', '576', '58', '58-year-old', '58.64', '59', '59-year-old', '59.6', '59.9', '598', '5\\\\/8', '6', '6,000', '6,500', '6,799', '6.03', '6.1', '6.20', '6.21', '6.25', '6.4', '6.40', '6.44', '6.5', '6.50', '6.53', '6.6', '6.7', '6.70', '6.79', '6.84', '6.9', '60', '60,000', '60.36', '600', '600,000', '605', '608,413', '609', '61', '618.1', '62', '62%-owned', '62-year-old', '62.1', '62.5', '62.625', '620', '63', '63-year-old', '63.79', '630.9', '64', '64-year-old', '64.5', '644', '645,000', '65', '66.5', '666', '672', '68', '69', '69-point', '692', '6\\\\/2', '7', '7,500', '7.15', '7.2', '7.20', '7.272', '7.3', '7.4', '7.40', '7.422', '7.45', '7.458', '7.5', '7.50', '7.52', '7.55', '7.60', '7.62', '7.63', '7.65', '7.74', '7.78', '7.79', '7.8', '7.80', '7.84', '7.88', '7.90', '7.95', '70', '70-a-share', '70.2', '70.7', '700', '700,000', '701', '705.6', '71', '71,309', '72', '72.7', '721', '722', '73', '730', '734.9', '737.5', '75', '75-year-old', '750', '750,000', '753', '76', '767', '77', '77,000', '77.56', '77.6', '77.70', '777', '778', '78', '79', '7\\\\/16', '7\\\\/8', '8', '8.04', '8.06', '8.07', '8.1', '8.12', '8.14', '8.15', '8.19', '8.2', '8.22', '8.25', '8.30', '8.35', '8.45', '8.467', '8.47', '8.48', '8.5', '8.50', '8.53', '8.55', '8.56', '8.575', '8.60', '8.64', '8.65', '8.70', '8.75', '8.9', '80', '80.50', '80.8', '800', '81.8', '811.9', '82,389', '83', '83,206', '83.4', '830,000', '8300', '8300s', '84-month', '84-year-old', '84.29', '84.9', '847', '85', '85.1', '85.7', '850', '858,000', '86', '86.12', '87-store', '87.5', '877,663', '879', '88', '88.32', '89', '89,500', '89.7', '89.9', '890', '9', '9,118', '9.3', '9.32', '9.37', '9.45', '9.5', '9.625', '9.75', '9.8', '9.82', '9.9', '90', '90-cent-an-hour', '90-day', '900', '909', '913', '917', '92', '92.9', '93', '93,000', '93.3', '93.9', '94', '94.2', '94.8', '95', '95,142', '95.09', '96.4', '960', '963', '967,809', '98', '98.3', '99', '99.1', '99.3', '992,000', '9\\\\/32', ':', ';', '?', '@', 'A', 'A-D', 'A.', 'A.C.', 'A.D.', 'A.L.', 'ABA', 'ABORTION', 'AC-130U', 'ACCEPTANCES', 'ACCOUNT', 'ACQUISITION', 'ADRs', 'AG', 'AGREES', 'AIDS', 'AMR', 'AN', 'AND', 'APPEARS', 'ASLACTON', 'ASSETS', 'ASSOCIATES', 'ASSOCIATION', 'AT&T', 'Abbey', 'Abbot', 'About', 'Above', 'Abrupt', 'Absorbed', 'Academically', 'Acceptance', 'According', 'Account', 'Achievement', 'Ackerman', 'Acquisition', 'Act', 'Activity', 'Actually', 'Ad', 'Adam', 'Adams', 'Adds', 'Administration', 'Adolph', 'Adopting', 'Advance', 'Advanced', 'Advancing', 'Advice', 'Advocates', 'Aerojet', 'Aerospace', 'Affairs', 'Africa', 'African', 'After', 'Again', 'Against', 'Agency', 'Agnew', 'Agriculture', 'Ailes', 'Air', 'Airlines', 'Airways', 'Akerfeldt', 'Akio', 'Aktiebolaget', 'Al', 'Ala', 'Ala.', 'Alan', 'Albany', 'Albert', 'Albuquerque', 'Alexander', 'Alfred', 'All', 'Alleghany', 'Allen', 'Allendale', 'Allergan', 'Alliance', 'Allied', 'Almost', 'Aloha', 'Along', 'Already', 'Also', 'Alstyne', 'Altair', 'Although', 'Altogether', 'Alurralde', 'Alvin', 'Always', 'Alysia', 'Alzheimer', 'Am', 'Amendment', 'America', 'American', 'American-made', 'American-style', 'Americana', 'Americans', 'Ames', 'Amin', 'Among', 'Amsterdam', 'An', 'Ana', 'Analysts', 'Ancient', 'And', 'Andean', 'Anderson', 'Andersson', 'Andrea', 'Andrew', 'Andy', 'Angeles', 'Angelo', 'Angels', 'Angier', 'Anglia', 'Anglian', 'Angola', 'Anku', 'Ann', 'Anne', 'Annualized', 'Another', 'Anthony', 'Anti-Deficiency', 'Antinori', 'Antitrust', 'Antonio', 'Any', 'Anything', 'Appeals', 'Appellate', 'Apple', 'Appropriations', 'April', 'Aptitude', 'Aquino', 'Arabia', 'Arabian', 'Arafat', 'Arbitrage', 'Arbitrage-related', 'Arbitraging', 'Areas', 'Argentina', 'Argentine', 'Ariail', 'Arighi', 'Ariz.', 'Arizona', 'Ark', 'Arlington', 'Army', 'Arnold', 'Arraignments', 'Arthur', 'Article', 'Articles', 'Artist', 'As', 'Asada', 'Asher', 'Asia', 'Asian', 'Asians', 'Asked', 'Aslacton', 'Assets', 'Assistant', 'Associates', 'Association', 'Assuming', 'Assurance', 'At', 'Atlanta', 'Atlanta-based', 'Atlantic', 'Atsushi', 'Attorney', 'Attorneys', 'Attwood', 'Auctions', 'Audit', 'Auditors', 'Aug.', 'August', 'Aurora', 'Austin', 'Australia', 'Australian', 'Austria', 'Austrian', 'Authority', 'Automobile', 'Avenue', 'Average', 'Avon', 'Avrett', 'B', 'B-1B', 'B.', 'B.A.T', 'BALLOT', 'BANKERS', 'BILLS', 'BIRDS', 'BMP', 'BMP-1', 'BRAMALEA', 'BRIEFS', 'BTR', 'Babcock', 'Back', 'Backe', 'Backer', 'Backseat', 'Bailey', 'Baim', 'Baker', 'Baking', 'Baldwin', 'Ballantine\\\\/Del', 'Ballot', 'Baltimore', 'Bancorp', 'Bangkok', 'Bank', 'Bankers', 'Banking', 'Bankruptcy', 'Banks', 'Banque', 'Bar', 'Barbados', 'Barbara', 'Barbaresco', 'Barclays', 'Barfield', 'Barge', 'Baris', 'Barnett', 'Barney', 'Barnum', 'Barrels', 'Barrett', 'Barron', 'Barth', 'Basham', 'Basic', 'Basin', 'Bass', 'Bates', 'Baton', 'Baum', 'Beach', 'Beall', 'Bears', 'Beatles', 'Beauty', 'Because', 'Before', 'Beginning', 'Behind', 'Beige', 'Beijing', 'Being', 'Beirut', 'Bell', 'Bellows', 'Bells', 'Belt', 'Bendectin', 'Bennett', 'Bentsen', 'Berger', 'Berlin', 'Berliner', 'Berman', 'Bermuda', 'Bermuda-based', 'Bernstein', 'Berson', 'Besides', 'Beta', 'Beth', 'Bethlehem', 'Betting', 'Beverly', 'Bew', 'Bhutto', 'Biaggi', 'Biedermann', 'Big', 'Bill', 'Billings', 'Biondi-Santi', 'Birmingham', 'Biscayne', 'Black', 'Blackstone', 'Blanc', 'Blanchard', 'Blancs', 'Blue', 'Blunt', 'Board', 'Bob', 'Boca', 'Bodner', 'Boeing', 'Boesel', 'Bolduc', 'Bolivia', 'Bon', 'Bond', 'Bonds', 'Bonnell', 'Book', 'Boone', 'Boorse', 'Bordeaux', 'Borge', 'Borough', 'Boston', 'Both', 'Bougainville', 'Boulder', 'Bowery', 'Bowes', 'Bowl', 'Bowman', 'Brace', 'Bradford', 'Bradley', 'Brady', 'Braidwood', 'Bramalea', 'Brands', 'Braun', 'Brazil', 'Brazilian', 'Breakey', 'Brean', 'Breeden', 'Brenda', 'Brent', 'Bretz', 'Brian', 'Bribe', 'Bricklayers', 'Bridge', 'Bridges', 'Bridgestone\\\\/Firestone', 'Bridgeville', 'Brigham', 'Brisk', 'Britain', 'British', 'Britta', 'Broadcasting', 'Broken', 'Bromwich', 'Bronces', 'Bronx', 'Brooke', 'Brooklyn', 'Brooks', 'Brothers', 'Brown', 'Brownell', 'Brownstein', 'Brunei', 'Brunello', 'Brunswick', 'Brussels', 'Buckhead', 'Bucking', 'Budget', 'Bugs', 'Buick', 'Builders', 'Bumkins', 'Bund', 'Bunny', 'Bureau', 'Burgundies', 'Burgundy', 'Burnham', 'Burt', 'Bush', 'Business', 'But', 'Butler', 'Buy', 'Buyers', 'Buying', 'By', 'Byron', 'C$', \"C'mon\", 'C-130', 'C-90', 'C.', 'C.D.s', 'C.J.B.', 'CALL', 'CAMPAIGN', 'CAT', 'CBS', 'CDC', 'CDs', 'CEO', 'CEOs', 'CERTIFICATES', 'CHANGED', 'CIA', 'CLEARS', 'COLLECTING', 'COMMERCIAL', 'COMMUNICATIONS', 'COMPUTERS', 'COPPER', 'CORP', \"CREATOR'S\", 'CS', 'CSV', 'CTB', 'CTBS', 'Cab', 'Cabbage', 'Cabernet', 'Cabernets', 'Calder', 'Caldor', 'Calif', 'Calif.', 'Calif.-based', 'California', 'Californian', 'Cambridge', 'Camille', 'Camilli', 'Campaign', 'Campbell', 'Campeau', 'Can', 'Canada', 'Canadian', 'Cancer', 'Candela', 'Candlestick', 'Canepa', 'Cannell', 'Capital', 'Capitol', 'Cara', 'Carballo', 'Carbide', 'Card', 'Care', 'Caribbean', 'Carl', 'Carla', 'Carlos', 'Carlton', 'Carnegie-Mellon', 'Carney', 'Carnival', 'Carolina', 'Carrier', 'Carson', 'Carter', 'Cartons', 'Cartoonist', 'Cask', 'Cataracts', 'Catch-22', 'Caters', 'Cathedral', 'Catholic', 'Cathryn', 'Cedric', 'Cellar', 'Cellars', 'Center', 'Centerbank', 'Centers', 'Central', 'Century', 'Cerf', 'Certainly', 'Chabrol', 'Chadha', 'Chafic', 'Chairman', 'Chamber', 'Champagne', 'Champagnes', 'Champion', 'Chandler', 'Change-ringing', 'Chaplin', 'Chapman', 'Chapter', 'Characters', 'Chardonnay', 'Chardonnays', 'Charities', 'Charles', 'Charlie', 'Charlotte', 'Charter', 'Chase', 'Chateau', 'Chatsworth', 'Cheese', 'Cheetham', 'ChemPlus', 'Chemical', 'Chevrolet', 'Chicago', 'Chicago-style', 'Child', 'Chile', 'Chilean', 'Chilver', 'China', 'Chinchon', 'Chinese', 'Chinese-American', 'Chiodo', 'Chivas', 'Chong-sik', 'Choose', 'Christian', 'Christie', 'Christmas', 'Christopher', 'Chrysler', 'Chuck', 'Church', 'Cigna', 'Cincinnati', 'Circle', 'Circuit', 'Circulation', 'Circulations', 'Citadel', 'Citibank', 'Citicorp', 'Citing', 'Citizen', 'Citizens', 'City', 'Civil', 'Civilization', 'Claire', 'Clairton', 'Clara', 'Clarence', 'Clark', 'Class', 'Claude', 'Clays', 'Clemens', 'Cleveland', 'Clinton', 'Clive', 'Close', 'Closes', 'Club', 'Cluff', 'Co', 'Co.', 'Coast', 'Coca-Cola', 'Coche-Dury', 'Coconut', 'Code', 'Coincident', 'Cole', 'Coleco', 'Coleman', 'Collector', 'College', 'Colleges', 'Collins', 'Colo.', 'Colonsville', 'Colony', 'Colorado', 'Colorliner', 'Columbia', 'Columbus', 'Combo', 'Commerce', 'Commission', 'Commissions', 'Committee', 'Commodities', 'Commodity', 'Commodore', 'Common', 'Commonwealth', 'Communication', 'Communications', 'Communist', 'Communists', 'Community', 'Companies', 'Compare', 'Competes', 'Composer', 'Composite', 'Compound', 'Comprehensive', 'Compromises', 'Computer', 'Comtes', 'Concerned', 'Concurrent', 'Conduct', 'Confederation', 'Conference', 'Confidence', 'Confronted', 'Congress', 'Congressman', 'Coniston', 'Conn', 'Conn.', 'Conn.based', 'Connecticut', 'Connections', 'Consent', 'Consequence', 'Consider', 'Consolidated', 'Constitution', 'Constitutional', 'Consumer', 'Containers', 'Contel', 'Continental', 'Continued', 'Continuing', 'Contra', 'Contracts', 'Contras', 'Control', 'Controls', 'Convention', 'Cooper', 'Coors', 'Copperweld', 'Corazon', 'CoreStates', 'Corn', 'Corp', 'Corp.', 'Corporate', 'Corporations', 'Corps', 'Correll', 'Corrigan', 'Corton-Charlemagne', 'Cos.', 'Cosby', 'Cosmopolitan', 'Cost-effective', 'Cote', 'Cotran', 'Cougar', 'Could', 'Council', 'Countries', 'Country', 'County', 'Court', 'Courter', 'Courts', 'Coxon', 'Craftsmen', 'Crane', 'Crash', 'Cray', 'Cray-3', 'Credit', 'Creek', 'Crew', 'Crime', 'Criminal', 'Cristal', 'Criticism', 'Critics', 'Cross', 'Crown', 'Cru', 'Crude', 'Cruise', 'Crum', 'Cullowhee', 'Cultural', 'Cup-Tote', 'Current', 'Currently', 'Curry', 'Customers', 'Cutrer', 'Czech', 'Czechoslovakia', \"D'Amico\", 'D.', 'D.C.', 'DD', 'DDB', 'DEFENSE', 'DEPOSIT', 'DES', 'DIALING', 'DIAPER', 'DISCOUNT', 'DNA', 'DOONESBURY', 'DOT', 'DSM', 'Dahl', 'Dai-Ichi', 'Daily', 'Daiwa', 'Dakota', 'Dakotas', 'Dale', 'Dallara', 'Dallas', 'Dan', 'Dana-Farber', 'Danforth', 'Daniel', 'Daniels', 'Danube', 'Danville', 'Danzig', 'Darkhorse', 'Darrell', 'Data', 'Datapoint', 'Davenport', 'David', 'Davies', 'Davis', 'Day', 'DeFazio', 'Dealers', 'Dean', 'Deane', 'Deborah', 'Debt', 'Dec.', 'December', 'Declining', 'Deere', 'Default', 'Defending', 'Defense', 'Del', 'Del.', 'Delaware', 'Delegates', 'Dell', 'Delmont', 'Delwin', 'Demand', 'Democracy', 'Democrat', 'Democratic', 'Democrats', 'Deng', 'Dennis', 'Denver', 'Department', 'Depending', 'Deposits-a', 'Derchin', 'Deregulation', 'Derek', 'Derel', 'Deryck', 'Des', 'Desai', 'Design', 'Designated', 'Despite', 'Destinations', 'Determining', 'Detroit', 'Developed', 'Development', 'Devon', 'DiLoreto', 'Diamond', 'Diaper', 'Diceon', 'Dick', 'Died', 'Different', 'Dill', 'Dingell', 'Dinkins', 'Discos', 'Disease', 'Disputada', 'Disputado', 'District', 'Dividend', 'Division', 'Do', 'Doak', 'Dobson', 'Documents', 'Dodge', 'Dodger', 'Doerflinger', 'Dogs', 'Dolan', 'Dole', 'Dollar', 'Dollar-yen', 'Dolphin', 'Dolphins', 'Dom', 'Domaine', 'Domestic', 'Dominion', 'Dominus', 'Dompierre', 'Don', 'Donald', 'Donaldson', 'Donoghue', 'Donuts', 'Dorothy', 'Dorrance', 'Douglas', 'Dover', 'Dow', 'Down', 'Dr.', 'Dresser', 'Drew', 'Drexel', 'Dreyfus', 'Drink', 'Driscoll', 'Driskill', 'Drobnick', 'Droz', 'Drug', 'Du', 'Duchossois', 'Due', 'Dugdale', 'Duke', 'Duluth', 'Dumpster', 'Dunkin', \"Dunkin'\", 'Dunn', 'Dunton', 'During', 'Dutch', 'DyDee', 'Dynamics', 'E.', 'E.C.', 'E.W.', 'EC', 'ECONOMIC', 'EEOC', 'ENDED', 'ENERGY', 'EST', 'EURODOLLARS', 'EVERYONE', 'EXCHANGE', 'Each', 'Eagleton', 'Eakle', 'Earle', 'Earlham', 'Earlier', 'Earnings', 'Earns', 'East', 'Eastern', 'Eaton', 'Economic', 'Economics', 'Economists', 'Economy', 'Ed', 'Edelman', 'Edge', 'Edison', 'Editorials', 'Ednie', 'Education', 'Educational', 'Edward', 'Edwards', 'Edwin', 'Eggers', 'Egnuss', 'Egypt', 'Egyptian', 'Einhorn', 'Either', 'El', 'Elco', 'Elders', 'Electric', 'Electronics', 'Eliminate', 'Elisa', 'Elisabeth', 'Elizabeth', 'Elliott', 'Ellis', 'Elmhurst', 'Elsevier', 'Elsewhere', 'Embassy', 'Emile', 'Employers', 'Employment', 'Encouraged', 'Encouraging', 'End', 'Energy', 'Engineers', 'England', 'English', 'English-speaking', 'Enright', 'Ensrud', 'Enterprise', 'Entertainment', 'Environment', 'Environmental', 'Enzor', 'Equal', 'Equitable', 'Equity', 'Equivalents', 'Equus', 'Erbamont', 'Eric', 'Esso', 'Estate', 'Estates', 'Estimated', 'Ethel', 'Eugene', 'Eurobonds', 'Europe', 'European', 'Evans', 'Even', 'Eveready', 'Every', 'Everybody', 'Everyone', 'Everything', 'Evidence', 'Examiner', 'Except', 'Exchange', 'Excision', 'Excluding', 'Experts', 'Explorer', 'Exports', 'Express', 'Express-Buick', 'Exxon', 'Exxon-owned', 'F', 'F-series', 'F.', 'F.H.', 'F.W.', 'FALL', 'FAMILY', 'FAX', 'FBI', 'FEDERAL', 'FERC', 'FIRST', 'FOREIGN', 'FT', 'FT-SE', 'FTC', 'FUNDS', 'Fabian', 'Facilities', 'Factories', 'Factory', 'Fahrenheit', 'Fails', 'Failure', 'Fair', 'Fairlawn', 'Fairless', 'Family', 'Fang', 'Fannie', 'Fans', 'Fantasy', 'Far', 'Fargo', 'Farm', 'Farmers', 'Farren', 'Faulding', 'Fax', 'Fe', 'Fears', 'Feb.', 'February', 'Fed', 'Federal', 'Federalist', 'Federation', 'Feeding', 'Fees', 'Fellowship', 'Felten', 'Feniger', 'Ferdinand', 'Fernando', 'Ferro', 'Few', 'Fewer', 'Fidelity', 'Fields', 'Fifteen', 'Filling', 'Filmed', 'Filter', 'Finance', 'Financial', 'Financially', 'Financing', 'Finland', 'Finmeccanica', 'Finnish', 'Fire', 'Firms', 'First', 'Fischer', 'Fishman', 'Five', 'Fla.', 'Florida', 'Florio', 'Floyd', 'Follow-up', 'Following', 'Food', 'Foods', 'Foot', 'For', 'Force', 'Ford', 'Foreign', 'Foreigners', 'Forget', 'Form', 'Forster', 'Fortune', 'Foster', 'Foundation', 'Founded', 'Fountain', 'Four', 'Fourteen', 'Fourth', 'Fracturing', 'France', 'Frances', 'Francis', 'Francisco', 'Francisco-based', 'Frank', 'Frankfurt', 'Frankly', 'Fred', 'Freddie', 'Frederick', 'Free', 'Freeport-McMoRan', 'Fremantle', 'French', 'Frenzy', 'Freshbake', 'Freud', 'FreudToy', 'Friday', 'Friedrichs', 'Friends', 'From', 'Fuentes', 'Fuji', 'Fujitsu', 'Fulbright', 'Fulham', 'Fulton', 'Fund', 'Fundamentalists', 'Funded', 'Funding', 'Funny', 'Furillo', 'Further', 'Furukawa', 'Futures', 'G', 'G.', 'G.m.b', 'GAF', 'GHKM', 'GHS', 'GM', 'GMAC', 'GOODY', 'GOP', 'GRAINS', 'GROWTH', 'Ga.', 'Gaithersburg', 'Gaja', 'Ganes', 'Garanti', 'Garbage', 'Gardner', 'Garret', 'Garrison', 'Garry', 'Gartner', 'Gary', 'Gas', 'Gasoline', 'Gates', 'Gates-Warren', 'Gayle', 'Gelles', 'GenCorp', 'Genel', 'General', 'Generalized', 'Generally', 'Genetics', 'Geneva', 'Genie', 'George', 'Georgetown', 'Georgia', 'Georgia-Pacific', 'Gerald', 'Gerard', 'Gerhard', 'German', 'Germans', 'Germany', 'Germany-based', 'Getting', 'Giant', 'Giants', 'Gillespie', 'Gillett', 'Gilts', 'Gingl', 'Ginnie', 'Ginsberg', 'Giraud', 'Giuliani', 'Given', 'Glass', 'Glauber', 'Glaxo', 'Glendale', 'Glenham', 'Glenn', 'God', 'Gold', 'Goldinger', 'Goldman', 'Goldsmith', 'Goode', 'Goodman', 'Gorbachev', 'Gordon', 'Gorman', 'Gotta', 'Gottlieb', 'Gov.', 'Government', 'Grace', 'Graduate', 'Graduates', 'Graham', 'Grain', 'Grand', 'Grandsire', 'Grange', 'Grant', 'Gray', 'Great', 'Greece', 'Green', 'Greenville', 'Greenwich', 'Greer', 'Gregory', 'Grgich', 'Griffin', 'Gringo', 'Gross', 'Groton', 'Groucho', 'Group', 'Groups', 'Growth', 'Guarantee', 'Guaranteed', 'Guard', 'Guber', 'Guber\\\\/Peters', 'Guerrilla', 'Guffey', 'Guigal', 'Guild', 'Guinea', 'Gulf', 'Gunmen', 'H.', 'H.N.', 'HHS', 'HOME', 'HUD', 'Hackensack', 'Haden', 'Hadson', 'Hahn', 'Hale', 'Hallett', 'Hallwood', 'Hamilton', 'Hammacher', 'Hammerschmidt', 'Hammersmith', 'Hammerton', 'Hammond', 'Hampshire', 'Hampton', 'Handelsbanken', 'Haney', 'Hanifen', 'Hanover', 'Hans', 'Hara', 'Harcourt', 'Harold', 'Harper', 'Harpo', 'Harris', 'Harrison', 'Harry', 'Hart-Scott-Rodino', 'Hartford', 'Haruki', 'Harvard', 'Hasbrouk', 'Hatch', 'Haut-Brion', 'Have', 'Haven', 'Having', 'Hawaii', 'Hawaiian', 'Hawke', 'Hayes', 'Hayne', 'Hazell', 'He', 'Health', 'Hearst', 'Heatherington', 'Heating', 'Heavy', 'Heidelberg', 'Heightened', 'Heights', 'Heiwado', 'Helsinki', 'Henderson', 'Henry', 'Her', 'Herald', 'Herald-American', 'Herbert', 'Here', 'Heritage', 'Hermitage', 'Herrington', 'High', 'High-grade', 'Higher', 'Highway', 'Hill', 'Hills', 'Hiroshi', 'Hiroshima', 'His', 'History', 'Hitachi', 'Hoffman', 'Hold', 'Holding', 'Holdings', 'Holland', 'Hollingsworth', 'Hollis', 'Holt', 'Home', 'Homebrew', 'Homeless', 'Honduras', 'Hong', 'Honolulu', 'Hoosier', 'Hopkins', 'Hopwood', 'Hormats', 'Horsham', 'Hospital', 'Hostess', 'Hot', 'Hotel', 'Houghton', 'Hours', 'House', 'House-Senate', 'Housing', 'Houston', 'How', 'Howard', 'However', 'Hoylake', 'Hubbard', 'Hubbell', 'Huber', 'Hudnut', 'Hudson', 'Huge', 'Hugo', 'Human', 'Hummerstone', 'Hungary', 'Huntington', 'Huntsville', 'Huppert', 'Hurley', 'Hurricane', 'Hutchinson', 'Hutton', 'Huxtable', 'Hymowitz', 'I', 'I.', 'IBC', 'IBM', 'II', 'III', 'IMSAI', 'INGERSOLL-RAND', 'INQUIRY', 'INS', 'INTER-TEL', 'INTERBANK', 'INTERPUBLIC', 'IOUs', 'IRAs', 'IRS', 'ISSUES', 'IT', 'ITC', 'IX', 'Ian', 'Icahn', 'Ichiro', 'Ideas', 'If', 'Ill', 'Ill.', 'Illinois', 'Illuminating', 'Ilminster', 'Image', 'Imhoff', 'Impact', 'Impediments', 'Imports', 'Improvement', 'In', 'Inc', 'Inc.', 'Income', 'Ind.', 'Indeed', 'Index', 'Index-arbitrage', 'Indexing', 'India', 'Indiana', 'Indianapolis', 'Individual', 'Individuals', 'Indonesia', 'Industrial', 'Industries', 'Industry', 'Information', 'Initiative', 'Inland', 'Inns', 'Inouye', 'Insight', 'Instead', 'Institute', 'Institutes', 'Institution', 'Institutions', 'Instruments', 'Insurance', 'Intecknings', 'Integra', 'Integra-A', 'Intel', 'Intelogic', 'Interleukin-3', 'Intermec', 'Intermediate', 'Internal', 'International', 'Internatonal', 'Interpublic', 'Interviews', 'Invariably', 'Inventor', 'Inventories', 'Investment', 'Investments', 'Investor', 'Investors', 'Iowa', 'Iran-Contra', 'Iran\\\\/Contra', 'Irvine', 'Irving', 'Irwin', 'Is', 'Isabelle', 'Islamabad', 'Islamic', 'Island', 'Islands', 'Israel', 'Issues', 'It', 'Italian', 'Italy', 'Items', 'Itoh', 'Its', 'J.', 'J.L.', 'J.P.', 'JUDGE', 'JUDICIAL', 'Jack', 'Jackson', 'Jacksonville', 'Jacob', 'Jacobs', 'Jaffray', 'Jaguar', 'Jail', 'Jalaalwalikraam', 'Jamaica', 'James', 'Jan.', 'January', 'Japan', 'Japanese', 'Jay', 'Jefferson', 'Jeffrey', 'Jenkins', 'Jennison', 'Jenrette', 'Jeremy', 'Jerritts', 'Jerry', 'Jersey', 'Jersey-based', 'Jews', 'Jihad', 'Jim', 'Jimmy', 'Joanne', 'Jobs', 'Joe', 'Joel', 'John', 'Johnny', 'Johns', 'Johnson', 'Johnson-era', 'Jon', 'Jonas', 'Jonathan', 'Jones', 'Joni', 'Joseph', 'Journal', 'Journals', 'Jovanovich', 'Jr', 'Jr.', 'Judah', 'Judge', 'Judges', 'Judging', 'Judicial', 'Judiciary', 'Judie', 'Judith', 'Julia', 'July', 'June', 'Junk', 'Junk-bond', 'Just', 'Justice', 'K.', 'Kalamazoo', 'Kalipharma', 'Kaminski', 'Kane', 'Kangyo', 'Kansas', 'Kappa', 'Karl', 'Karns', 'Kathleen', 'Kathryn', 'Katzenstein', 'Kawasaki', 'Kean', 'Kearny', 'Keehn', 'Keidanren', 'Keith', 'Kelli', 'Kendrick', 'Kennedy', 'Kenneth', 'Kensington', 'Kent', 'Kentucky', 'Kerensky', 'Ketchum', 'Key', 'Kidder', 'Kill', 'Killeen', 'Kingdom', 'Kingsbridge', 'Kirkpatrick', 'Klauser', 'Klein', 'Kligman', 'Knapp', 'Knopf', 'Knowing', 'Kobe', 'Kodansha', 'Koito', 'Koizumi', 'Komatsu', 'Kondo', 'Kong', 'Korea', 'Krenz', 'Kuala', 'Kuhns', 'Kurland', 'Kuvin', 'Ky.', 'L.', 'L.A.', 'L.P.', 'LANDOR', 'LATE', 'LIBOR', 'LOAN', 'LONDON', 'LSI', 'LTV', 'LYNCH', 'La', 'La.', 'LaSalle', 'Labor', 'Laboratories', 'Labouisse', 'Lafite-Rothschild', 'Lake', 'Lakes', 'Lama', 'Lambert', 'Lancaster', 'Landis', 'Landonne', 'Landor', 'Landrieu', 'Lane', 'Langner', 'Larry', 'Las', 'Laser', 'Last', 'Late', 'Later', 'Latin', 'Latour', 'Lauderhill', 'Laura', 'Laurence', 'Law', 'Lawless', 'Lawmakers', 'Lawyers', 'Lazzaroni', 'Lead', 'Leap', 'Learning', 'Lebanon', 'Lee', 'Lefcourt', 'Left', 'Legal', 'Legend', 'Legg', 'Legislating', 'Legislation', 'Lehman', 'Leigh', 'Leighton', 'Leinonen', 'Leming', 'Leningrad', 'Lentjes', 'Leo', 'Leon', 'Leroy', 'Level', 'Lewis', 'Lezovich', 'Li', 'Liberation', 'Lids', 'Lieberman', 'Life', 'Light', 'Lighthouse', 'Lights', 'Like', 'Lilly', 'Limited', 'Linda', 'Linden', 'Lindner', 'Lines', 'Literacy', 'Little', 'Lizhi', 'Lloyd', 'Loan', 'Lobo', 'Lobsenz', 'Local', 'Loewi', 'Loews', 'Logic', 'London', 'London-based', 'Long', 'Long-term', 'Longer', 'Longwood', 'Lonski', 'Lorain', 'Lord', 'Lorenzo', 'Lorillard', 'Los', 'Louis', 'Louisiana', 'Louisiana-Pacific', 'Louisville', 'Lovett', 'Lowe', 'Lt.', 'Ltd', 'Ltd.', 'Luce', 'Lucille', 'Lufkin', 'Lumpur', 'Lure', 'Lurgi', 'Lurie', 'Lyle', 'Lyn', 'Lynch', 'M.', 'M.D.', 'MEDICINE', 'MERRILL', 'METALS', 'MITI', 'MONEY', 'MORTGAGE', 'Mac', 'MacDonald', 'MacLellan', 'Macheski', 'Machines', 'Macmillan', 'Macmillan\\\\/McGraw', 'Macmillan\\\\/McGraw-Hill', 'Madison', 'Mae', 'Magleby', 'Magna', 'Mahoney', 'Maine', 'Major', 'Majority', 'Makato', 'Make', 'Malaysia', 'Malcolm', 'Malizia', 'Malta', 'Man', 'Management', 'Manchester', 'Manfred', 'Manhattan', 'Manila', 'Mannix', 'Manufacturers', 'Manufacturing', 'Many', 'Mara', 'Marathon', 'Marc', 'March', 'Marchand', 'Marchese', 'Marcus', 'Marder', 'Marge', 'Marie', 'Marie-Louise', 'Marietta', 'Marina', 'Marine', 'Mario', 'Marion', 'Mariotta', 'Mark', 'Market', 'Markets', 'Markey', 'Marshall', 'Martin', 'Marty', 'Marubeni', 'Marvin', 'Mary', 'Maryland', 'Mason', 'Mass', 'Mass.', 'Massachusetts', 'Materials', 'Mather', 'Matthew', 'Matthews', 'Mattress', 'Maughan', 'Maxwell', 'May', 'Maybe', 'Mayer', 'Mayland', 'Mayor', 'Maytag', 'Mazda', 'McAlpine', 'McAuley', 'McCabe', 'McCormick', 'McDermott', 'McDonald', 'McFall', 'McFarlan', 'McGovern', 'McGraw-Hill', 'McGuigan', 'McLeod', 'McMillin', 'Md.', 'Mead', 'Meanwhile', 'Media', 'Medical', 'Medicine', 'Meese', 'Mehrens', 'Mehta', 'Meinders', 'Melamed', 'Mellon', 'Memphis', 'Menem', 'Merc', 'Mercantile', 'Mercedes', 'Mercer', 'Merchant', 'Mercury', 'Mergers', 'Meridian', 'Merrick', 'Merrill', 'Mesnil', 'Messrs.', 'Metal', 'Metallgesellschaft', 'Metropolitan', 'Mexican', 'Mexico', 'Miami', 'Miami-based', 'Mich.', 'Mich.-based', 'Michael', 'Michaels', 'Michelin', 'Michigan', 'Michio', 'Mickey', 'Micronite', 'Middlesex', 'Midland', 'Midvale', 'Midwesco', 'Midwest', 'Midwestern', 'Mifflin', 'Miguel', 'Mike', 'Mikhail', 'Miklos', 'Milan', 'Miles', 'Miller', 'Millis', 'Milne', 'Milwaukee', 'Mindy', 'Minera', 'Mining', 'Minister', 'Ministry', 'Minn.', 'Minneapolis', 'Minneapolis-based', 'Minnesota', 'Miss.', 'Mission', 'Mississippi', 'Missouri', 'Mitchell', 'Mitsubishi', 'Mitsui', 'Mo', 'Mo.', 'Mo.-based', 'Modifications', 'Mogavero', 'Moines', 'Moleculon', 'Mona', 'Monchecourt', 'Monday', 'Monetary', 'Money', 'Monitor', 'Monopolies', 'Mont', 'Montedison', 'Montgomery', 'Monticello', 'Moody', 'Moon', 'Moore', 'More', 'Moreover', 'Morgan', 'Morita', 'Morrell', 'Morrison', 'Mortgage', 'Mortgage-Backed', 'Mortimer', 'Moscow', 'Moslem', 'Mossman', 'Most', 'Mostly', 'Motor', 'Motors', 'Mount', 'Moving', 'Mr.', 'Mrs', 'Mrs.', 'Ms.', 'Much', 'Mulford', 'Municipal', 'Murakami', 'Muramatsu', 'Murray', 'Muscolina', 'Mutchin', 'Mutual', 'Muzzling', 'My', 'Myron', 'N.', 'N.C', 'N.C.', 'N.H.', 'N.J', 'N.J.', 'N.J.-based', 'N.M.', 'N.V', 'N.V.', 'N.Y', 'N.Y.', 'NASD', 'NATIONAL', 'NBC', 'NBC-owned', 'NBI', 'NCNB', 'NCR', 'NEC', 'NESB', 'NEW', 'NIH', 'NIH-appointed', 'NL', 'NRDC', 'NTG', 'NYSE', 'Nagano', 'Nagymaros', 'Najarian', 'Named', 'Namibia', 'Namibian', 'Nancy', 'Napa', 'Napolitan', 'Nasdaq', 'Nasty', 'National', 'Nationale', 'Nations', 'Nationwide', 'Natural', 'Nature', 'Navy', 'Neal', 'Neanderthals', 'Nearby', 'Nebraska', 'Nederlanden', 'Needham', 'Negotiable', 'Negus', 'Neil', 'Neither', 'Nekoosa', 'Nelms', 'Nelson', 'Nemeth', 'Nesconset', 'Nestor', 'Net', 'NetWare', 'Netherlands', 'Neuberger', 'Nev.', 'Nevertheless', 'New', 'Newgate', 'Newhouse', 'News', 'News-American', 'Newspapers', 'Newsweek', 'Next', 'Nicaraguan', 'Nichol', 'Nicholas', 'Nicole', 'Nielsen', 'Nigel', 'Nikkei', 'Nilson', 'Nine', 'Nippon', 'Nipponese', 'Nissan', 'Nissho-Iwai', 'Nixon', 'No', 'No-Smoking', 'No.', 'Nobel', 'Noble', 'Nofzinger', 'Nomenklatura', 'Nomura', 'None', 'Nonetheless', 'Nor', 'Norfolk', 'Noriega', 'Norman', 'North', 'Northampton', 'Northeast', 'Northern', 'Northy', 'Norwalk', 'Norwegian', 'Norwest', 'Norwick', 'Not', 'Note', 'Notes', 'Nov.', 'Novell', 'Novello', 'November', 'Now', 'Numerous', 'Nuys', 'Nylev', \"O'Brien\", \"O'Connor\", \"O'Loughlin\", \"O'Neill\", 'O.', 'OF', 'OFFERED', 'OK', 'ON', 'ORTEGA', 'OSHA', 'OTC', 'OVER', 'Oak', 'Obligations', 'Observing', 'Occidental', 'Occupational', 'Oct.', 'October', 'Odd-year', 'Odyssey', 'Of', 'Off-Track', 'Offering', 'Office', 'Officials', 'Often', 'Ogilvy', 'Oh', 'Ohio', 'Ohio-based', 'Oil', 'Oklahoma', 'Old', 'Old-House', 'Oliver', 'Olsen', 'Olson', 'Olympia', 'Olympic', 'On', 'Once', 'One', 'Only', 'Open', 'Operations', 'Opinion', 'Opportunity', 'Optical', 'Options', 'Opus', 'Or', 'Orange', 'Orchestra', 'Order', 'Orders', 'Ordnance', 'Ore.', 'Organization', 'Organizations', 'Orlando', 'Orleans', 'Orleans-based', 'Orrick', 'Ortega', 'Orville', 'Osaka', 'Osborn', 'Oshkosh', 'Otero', 'Other', 'Otherwise', 'Output', 'Outside', 'Over', 'Overall', 'Overseas', 'Owner', 'Oxnard', 'Oy', 'P.', 'PAP', 'PAPER', 'PAPERS', 'PC', 'PCs', 'PETS', 'PHOTOGRAPH', 'PLC', 'PLO', 'POP', 'PORTING', 'POTABLES', 'PRECIOUS', 'PRIME', 'PRODUCTS', 'PS', 'PTA', 'Pa', 'Pa.', 'Pace', 'Pacific', 'Packages', 'Packaging', 'PaineWebber', 'Pakistan', 'Palestine', 'Palestinian', 'Palisades', 'Palmer', 'Pamela', 'Pamplin', 'Pan', 'Panama', 'Paper', 'Papua-New', 'Paramount', 'Pardus', 'Parent', 'Parents', 'Paribas', 'Paris', 'Park', 'Parkinson', 'Parliament', 'Part', 'Participants', 'Particularly', 'Partly', 'Partners', 'Partnership', 'Party', 'Pasadena', 'Paso', 'Pat', 'Patch', 'Pate', 'Patents', 'Patients', 'Patricia', 'Patrick', 'Pattenden', 'Paul', 'Pauline', 'Payments', 'Payouts', 'Peabody', 'Peck', 'Pencil', 'Peng', 'Peninsula', 'Pennsylvania', 'Pennview', 'Pentagon', 'People', 'Peoria', 'Pepperdine', 'Pepperidge', 'Per-share', 'Perch', 'Perestroika', 'Performing', 'Perhaps', 'Perignon', 'Periods', 'Perpetual', 'Perritt', 'Persky', 'Personal', 'Perspective', 'Pet', 'Peter', 'Peters', 'Petersburg', 'Petersen', 'Petroleum', 'Petrus', 'PhacoFlex', 'Pharaoh', 'Phelan', 'Phi', 'Philadelphia', 'Philadelphia-based', 'Philip', 'Philippine', 'Philippines', 'Phillip', 'Phillips', 'Phipps', 'Phoenix', 'Photograph', 'Photography', 'Pick', 'Pickens', 'Pictures', 'Piero', 'Pierre', 'Pinocchio', 'Piper', 'Piscataway', 'Pitcher', 'Pitney', 'Pittsburgh', 'Place', 'Plains', 'Plan', 'Plans', 'Plantation', 'Planters', 'Platt', 'Plaza', 'Poland', 'Policies', 'Policy', 'Polish', 'Political', 'Polls', 'Polytechnic', 'Pont', 'Poor', 'Poore', 'Population', 'Porter', 'Ports', 'Portugal', 'Possible', 'Possibly', 'Post', 'Posted', 'Power', 'Powers', 'Practical', 'Pramual', 'Prater', 'Pratt', 'Prebon', 'Precious', 'Preferences', 'Preliminary', 'Premier', 'President', 'Pressures', 'Preston', 'Pretax', 'Pretoria', 'Pretty', 'Previously', 'Price', 'Prices', 'Prime', 'Primerica', 'Princeton', 'Prior', 'Private', 'Prize', 'Pro-forma', 'Probably', 'Proceeds', 'Producers', 'Productions', 'Products', 'Prof', 'Prof.', 'Professional', 'Professors', 'Profit', 'Program', 'Programs', 'Propaganda', 'Proper', 'Property\\\\/casualty', 'Proponents', 'Prosecutors', 'Protection', 'Provided', 'Providence', 'Prudential-Bache', 'Psychiatry', 'Pty.', 'Public', 'Publications', 'Publishers', 'Publishing', 'Puccio', 'Puerto', 'Purchase', 'Purchasing', 'Purepac', 'Purina', 'Put', 'Putty', 'Quant', 'Queen', 'R', 'R.', 'R.D.', 'R.I.', 'R.P.', 'RATE', 'RATES', 'RBC', 'READY', 'RMS', 'ROGERS', 'RULING', 'Rabia', 'Radio', 'Rae', 'Rail', 'Railroad', 'Raleigh', 'Rally', 'Ralston', 'Ramirez', 'Randolph', 'Random', 'Ranger', 'Ranieri', 'Rankin', 'Rapanelli', 'Rate', 'Rated', 'Rather', 'Ratings', 'Ratner', 'Ratners', 'Raton', 'Raul', 'Ravenswood', 'Ray', 'Raymond', 'Reached', 'Reagan', 'Reagan-Bush', 'Reames', 'Reasons', 'Recently', 'Recess', 'Red', 'Red-blooded', 'Reddington', 'Redevelopment', 'Reducing', 'Reed', 'Regal', 'Regarded', 'Register', 'Regulatory', 'Rekindled', 'Related', 'Relations', 'Reliance', 'Remember', 'Renaissance-style', 'Renee', 'Rent-A-Car', 'Rep.', 'Report', 'Representative', 'Republican', 'Republicans', 'Research', 'Researchers', 'Reserve', 'Reserves', 'Resistance', 'Resources', 'Restaurant', 'Results', 'Retail', 'Retin-A', 'Reupke', 'Reuter', 'Reuters', 'Rev.', 'Revenue', 'Review', 'Revolution', 'Rexinger', 'Rey', 'Rey\\\\/Fawcett', 'Rhone', 'Rice', 'Richard', 'Richebourg', 'Richmond', 'Rick', 'Ricken', 'Rico', 'Ridgefield', 'Riese', 'Rieslings', 'Right', 'Rill', 'Ringers', 'Ringing', 'Riserva', 'Risks', 'Rita', 'River', 'Riviera', 'Riyadh', 'Robbie', 'Robert', 'Robertson', 'Rock', 'Rockefeller', 'Rockford', 'Rockwell', 'Roederer', 'Roger', 'Rogers', 'Roland', 'Rolling', 'Roman', 'Romanee-Conti', 'Ronald', 'Roof', 'Roosevelt', 'Root', 'Rosenblum', 'Ross', 'Rothschild', 'Rotie', 'Rouge', 'Roukema', 'Rowe', 'Royal', 'Rozell', 'Rubber', 'Rubicam', 'Rubinfien', 'Rudolph', 'Rumors', 'Runkel', 'Russel', 'Russell', 'Russian', 'Russo', 'Rust', 'Rusty', 'Ruth', 'S&L', 'S&P', 'S.', 'S.A', 'S.I.', 'S.p', 'S.p.A.', 'SALARIES', 'SALT', 'SAT', 'SCI', 'SDI', 'SEC', 'SERVICES', 'SHAREDATA', 'SOYBEANS', 'SWITCHING', 'Sabhavasu', 'Sable', 'Sachs', 'Sacramento', 'Sacramento-based', 'Safety', 'Saints', 'Saitama', 'Sale', 'Sales', 'Salinas', 'Salmore', 'Salomon', 'Salon', 'Salty', 'Salvador', 'Samnick', 'Samuel', 'San', 'Sandberg', 'Sanderoff', 'Sandifer', 'Sandinista', 'Sandoz', 'Sandra', 'Sanford', 'Sangyo', 'Santa', 'Sasaki', 'Satrum', 'Saturday', 'Saudi', 'Saul', 'Sauternes', 'Sauvignon', 'Savin', 'Savings', 'Sayers', 'Says', 'Scandinavian', 'Scannell', 'Schaefer', 'Scherer', 'Schlemmer', 'Schmidt', 'Scholastic', 'School', 'Schroder', 'Schwab', 'Schweiz', 'Science', 'Scientists', 'Scoring', 'Scotia', 'Scotland', 'Scott', 'Scowcroft', 'Scripps', 'Scypher', 'Sea', 'Seagate', 'Seahorse', 'Seats', 'Seattle', 'Seattle-based', 'Sebastian', 'Secilia', 'Second', 'Secretary', 'Section', 'Securities', 'Security', 'Seed', 'Sen.', 'Senate', 'Senate-House', 'Send', 'Senior', 'Seniors', 'Seoul', 'Separately', 'Sept.', 'Sept.30', 'September', 'Serial', 'Series', 'Service', 'Services', 'Session', 'Several', 'Seymour', 'Shangkun', 'Shapiro', 'Share', 'ShareData', 'Shaw', 'She', 'Shearson', 'Sheep', 'Sheffield', 'Shelby', 'Shell', 'Shepperd', 'Sherwin', 'Sherwood', 'Shipments', 'Shokubai', 'Shores', 'Short', 'Shorter', 'Shortly', 'Show', 'Showa', 'Shrum', 'Shugart', 'Shuxian', 'Si', 'Sidak', 'Sidewalk', 'Siegal', 'Sierra', 'Sigler', 'Sigmund', 'Signet', 'Signore', 'Signs', 'Silicon', 'Silver', 'Silverman', 'Simeon', 'Similar', 'Similarly', 'Simmons', 'Simon', 'Since', 'Singapore', 'Sino-U.S.', 'Sir', 'Sit', 'Siti', 'Sixth', 'Skilled', 'Skills', 'Skinner', 'Skokie', 'Sloan', 'Smaby', 'Small', 'Smelting', 'Smith', 'So', 'Social', 'Society', 'Soho', 'Sol', 'Solaia', 'Soldado', 'Solihull', 'Solomonic', 'Solution', 'Some', 'Somerset', 'Something', 'Sometimes', 'Sonnett', 'Sonny', 'Sony', 'Soon', 'Sotheby', 'Soup', 'Souper', 'Soups', 'Source', 'South', 'Southeast', 'Southern', 'Soviet', 'Soviets', 'Spaghetti', 'Spain', 'Spanish', 'Speculation', 'Speedway', 'Spence', 'Spending', 'Spiegel', 'Spielvogel', 'Spillane', 'Spirit', 'Spiro', 'Spitler', 'Spoon', 'Spreads', 'Springfield', 'Springs', 'Sprint', 'Squier', 'Sr.', 'St.', 'Stadium', 'Stadiums', 'Stag', 'Stamford', 'Standard', 'Standardized', 'Standing', 'Stanford', 'Stanley', 'Stark', 'Starting', 'State', 'States', 'Stearn', 'Steel', 'Steelworkers', 'Steinberg', 'Stena', 'Stephanie', 'Stephen', 'Stephens', 'Sterling', 'Stern', 'Sternberg', 'Steve', 'Steven', 'Stevens', 'Stevenson', 'Stewart', 'Stieglitz', 'Still', 'Stirlen', 'Stock', 'Stock-index', 'Stockbrokers', 'Stockholders', 'Stockholm', 'Stocks', 'Stoll', 'Stores', 'Stories', 'Stork', 'Story', 'Strait', 'Strategic', 'Street', 'Strindberg', 'Stronach', 'Strong', 'Strother', 'Structural', 'Stuart', 'Stung', 'Subcontractors', 'Such', 'Sugarman', 'Suisse', 'Sulaiman', 'Sullivan', 'Sumitomo', 'Sun', 'Sunday', 'Sundays', 'SuperDot', 'Superconductors', 'Superdome', 'Supportive', 'Supreme', 'Sure', 'Surrey', 'Survey', 'Susan', 'Sutcliffe', 'Svenska', 'Swearingen', 'Sweden', 'Swiss', 'Switzerland', 'Sydney', 'Symbol', 'Symphony', 'Syndicate', 'Synergistics', 'Syracuse', 'System', 'Systems', 'T-shirts', 'T.', 'TEXAS', 'THAT', 'THE', 'THREE', 'TIRED', 'TO', 'TRANSPLANT', 'TREASURY', 'TRIAL', 'TRIMMING', 'TROUBLES', 'TRS-80', 'TRUST', 'TV', 'TWO', 'TXO', 'Taccetta', 'Tache', 'Tailors', 'Taipei', 'Taittinger', 'Taiwan', 'Taizo', 'Takashima', 'Take', 'Takeover', 'Takes', 'Takeshi', 'Taking', 'Takuma', 'Talcott', 'Tandy', 'Tarwhine', 'Tassinari', 'Tatsunori', 'Taurus', 'Taylor', 'Teacher', 'Team', 'Technology', 'Teddy', 'Teikoku', 'Telegraph', 'Telephone', 'Telerate', 'Television', 'Temple', 'Ten', 'Tenn.', 'Terms', 'Terrace', 'Terrence', 'Test', 'Test-preparation', 'Texaco', 'Texan', 'Texas', 'Texas-based', 'Thai', 'Thailand', 'Than', 'That', 'The', 'Their', 'Then', 'Theodore', 'There', 'These', 'They', 'Think', 'Third', 'This', 'Thomas', 'Those', 'Though', 'Thousands', 'Thrall', 'Three', 'Thunderbird', 'Thursday', 'Thus', 'Tiger', 'Time', 'Times', 'Times-Stock', 'Timex', 'Tiny', 'Tip', 'Tiphook', 'Tire', 'Title', 'To', 'Today', 'Tokio', 'Tokyo', 'Tokyu', 'Toledo', 'Tom', 'Tony', 'Too', 'Topix', 'Toronto', 'Toronto-based', 'Torrington', 'Total', 'Totally', 'Tots', 'Touches', 'Tourism', 'Tower', 'Townes', 'Toys', 'Trace', 'Trade', 'Traded', 'Traders', 'Trading', 'Traditional', 'Traditionally', 'Traficant', 'Trailer', 'Train', 'Tramp', 'Trans', 'Transamerica', 'Transportation', 'Travelers', 'Traverse', 'Tray', 'Treasury', 'Treble', 'Trettien', 'Tribe', 'Tribune', 'Trinity', 'Triton', 'Trockenbeerenauslesen', 'Trojan', 'Trotter', 'Troubled', 'Truck', 'Trudeau', 'Trump', 'Trust', 'Trustco', 'Tube', 'Tuesday', 'Tulane', 'Turkey', 'Turnaround', 'Tuscany', 'Two', 'Typical', 'Typically', 'Tyre', 'U.K.', 'U.N.-supervised', 'U.S.', 'U.S.-Japan', 'U.S.-Japanese', 'U.S.-backed', 'U.S.A', 'U.S.A.', 'U.S.S.R.', 'UAL', 'UBS', 'UNION', 'UPHELD', 'US', 'US$', 'USA', 'USIA', 'USX', 'Unable', 'Uncertainty', 'Under', 'Underwood', 'Underwoods', 'Unemployment', 'Unfortunately', 'Unico', 'Unicorp', 'Union', 'United', 'Unitholders', 'University', 'Univest', 'Unless', 'Unlike', 'Until', 'Upham', 'Upjohn', 'Uptick', 'Urban', 'Us', 'Use', 'Used', 'Utah', 'Utilities', 'Utsumi', 'Uzi-model', 'VOA', 'Va.', 'Vacancies', 'Valhi', 'Valley', 'Valrico', 'Value', 'Van', 'VanSant', 'Vanderbilt', 'Vargas', 'Varying', 'Vega', 'Vegas', 'Velcro', 'Venture', 'Veraldi', 'Vermont', 'Veselich', 'Viacom', 'Vicar', 'Vice', 'Vichy', 'Victor', 'Video', 'Village', 'Vineyard', 'Vinken', 'Virgin', 'Virginia', 'Virginians', 'Virtually', 'Visa', 'Vitulli', 'Voice', 'Volatility', 'Volume', 'Vos', 'Vose', 'Voters', 'W.', 'W.D.', 'W.N.', 'W.R.', 'WAFA', 'WAR', 'WFRR', 'WHAS', 'WPP', 'WTD', 'WTVJ', 'Wa', 'Wadsworth', 'Waertsilae', 'Wakayama', 'Wakui', 'Walbrecher', 'Walker', 'Walkman', 'Wall', 'Wallach', 'Walt', 'Walters', 'Wamre', 'War', 'Ward', 'Warehouse', 'Warner', 'Warren', 'Warrenton', 'Warsaw', 'Wash.', 'Washington', 'Washington-based', 'Waste', 'Watanabe', 'Water', 'Waterloo', 'Watson', 'WayMar', 'Wayland', 'Wayne', 'We', 'Weatherly', 'Webb', 'Wednesday', 'Wedtech', 'Week', 'Weil', 'Weisfield', 'Wellcome', 'Wellington', 'Wells', 'Wertheim', 'West', 'Westborough', 'Western', 'Westminster', 'Westport', 'What', 'Wheeland', 'Whelen', 'When', 'Where', 'Whereas', 'Whether', 'While', 'Whip', 'White', 'Whiting', 'Who', 'Why', 'Wick', 'Wickliffe', 'Wilbur', 'Wilcox', 'Wild', 'Wilder', 'Wilfred', 'William', 'Williams', 'Wilmington', 'Wilson', 'Wilton', 'Wine', 'Winiarski', 'Winning', 'Wis.', 'With', 'Without', 'Wohlstetter', 'Wolf', 'Women', 'Wong', 'Wood', 'Woodcliff', 'Woodrow', 'Woodward', 'Woolworth', 'Workers', 'Works', 'Worksheets', 'World', 'World-Wide', 'Wozniak', 'Wright', 'Writers', 'Wu', 'X', 'Xerox', 'Xiaoping', 'YMCA', 'YWCA', 'Yale', 'Yamaichi', 'Yamamoto', 'Yang', 'Yasser', 'Yasuda', 'Year', 'Yeargin', 'Yesterday', 'Yet', 'Yields', 'York', 'York-based', 'Yorker', 'Yorkers', 'Yoshihashi', 'You', 'Young', 'Younkers', 'Your', 'Youths', 'Yquem', 'Z.', 'Zaharah', 'Zayed', 'Zealand', 'Zenith', 'Zicklin', 'Zuckerman', 'Zurich', '`', '``', 'a', 'abandon', 'abandoned', 'abating', 'abide', 'ability', 'able', 'aboard', 'abolishing', 'abortion', 'abortion-related', 'abortionist', 'abortions', 'abounding', 'about', 'above', 'above-market', 'abridging', 'abroad', 'absolute', 'absolutely', 'absorbed', 'absurd', 'absurdity', 'abuse', 'abuzz', 'academic', 'academics', 'acceded', 'accelerated', 'acceleration', 'accept', 'acceptance', 'acceptances', 'accepted', 'accepting', 'access', 'accessories', 'accident', 'accidentally', 'accidents', 'accommodate', 'accommodations', 'accompany', 'accomplishments', 'accord', 'accordance', 'according', 'account', 'accountability', 'accountant', 'accountants', 'accounted', 'accounting', 'accounts', 'accrue', 'accrued', 'accumulated', 'accurate', 'accurately', 'accused', 'accusing', 'aces', 'acetate', 'achieve', 'achieved', 'achievement', 'achievement-test', 'achieving', 'acid', 'acid-rain', 'acknowledge', 'acknowledges', 'acknowledging', 'acne', 'acquire', 'acquired', 'acquirer', 'acquirers', 'acquires', 'acquiring', 'acquisition', 'acquisition-minded', 'acquisitions', 'acre', 'acres', 'across', 'act', 'acted', 'acting', 'action', 'actions', 'active', 'actively', 'activities', 'activity', 'actor', 'actress', 'acts', 'actual', 'actually', 'acute', 'ad', 'adapted', 'adapting', 'add', 'added', 'addiction', 'adding', 'addition', 'additional', 'additions', 'address', 'addresses', 'addressing', 'adds', 'adequate', 'adequately', 'adjustable', 'adjusted', 'adjusting', 'adjustment', 'adjustments', 'administer', 'administration', 'administrations', 'administrative', 'administrator', 'administrators', 'admits', 'admitted', 'admitting', 'adopt', 'adopted', 'ads', 'adult', 'adults', 'advance', 'advanced', 'advances', 'advancing', 'advantage', 'advantages', 'advent', 'adverse', 'advertise', 'advertised', 'advertisements', 'advertisers', 'advertising', 'advertorial', 'advice', 'advise', 'advised', 'adviser', 'advisory', 'advocate', 'advocated', 'advocates', 'advocating', 'aerospace', 'aesthetic', 'affair', 'affairs', 'affect', 'affecting', 'affiliate', 'affiliates', 'affirmative', 'afflicted', 'afford', 'affordable', 'afraid', 'after', 'after-tax', 'aftereffects', 'aftermath', 'afternoon', 'afterwards', 'again', 'against', 'age', 'agencies', 'agency', 'agenda', 'agents', 'aggravated', 'aggressive', 'aggressively', 'aghast', 'ago', 'agree', 'agreed', 'agreed-upon', 'agreeing', 'agreement', 'agreements', 'agrees', 'agricultural', 'agriculture', 'ahead', 'ai', 'aid', 'aide', 'aides', 'aids', 'ailing', 'aim', 'aimed', 'aiming', 'aims', 'air', 'aircraft', 'aired', 'airline', 'airline-related', 'airlines', 'airplane', 'airports', 'aisles', 'akin', 'alarmed', 'alcohol', 'alcoholics', 'alcoholism', 'alert', 'alerts', 'alienated', 'alike', 'alive', 'all', 'all-cash', 'allegations', 'alleged', 'allegedly', 'alleging', 'alleviate', 'allies', 'allocated', 'allocation', 'allow', 'allowed', 'almost', 'alone', 'along', 'already', 'also', 'altar', 'altered', 'altering', 'alternative', 'alternatively', 'alternatives', 'although', 'altogether', 'altruistic', 'alumni', 'always', 'am', 'amass', 'amazingly', 'ambassador', 'ambassadors', 'ambitions', 'ambitious', 'amend', 'amended', 'amending', 'amendment', 'amendments', 'amicable', 'amid', 'among', 'amortization', 'amount', 'amounted', 'amounts', 'amphobiles', 'ample', 'amps', 'amusing', 'an', 'analysis', 'analyst', 'analysts', 'analyze', 'ancestry', 'ancient', 'ancillary', 'and', 'anecdotal', 'anemic', 'anger', 'angered', 'angle', 'angry', 'ankle', 'announce', 'announced', 'announcement', 'announcer', 'annoyed', 'annual', 'annualized', 'annually', 'another', 'answer', 'answered', 'answers', 'anti-China', 'anti-abortion', 'anti-abortionists', 'anti-drug', 'anti-dumping', 'anti-miscarriage', 'anti-morning-sickness', 'anti-program', 'anti-programmers', 'anti-takeover', 'anticipated', 'anticipates', 'anticipating', 'anticipation', 'antitrust', 'antitrust-law', 'anxieties', 'anxious', 'any', 'anybody', 'anyone', 'anything', 'anytime', 'anyway', 'anywhere', 'apart', 'apartment', 'apiece', 'apologize', 'apologizing', 'apology', 'apparel', 'apparent', 'apparently', 'appeal', 'appealing', 'appeals', 'appear', 'appeared', 'appearing', 'appears', 'appease', 'appetite', 'applaud', 'apple', 'apples', 'appliance', 'appliances', 'applicability', 'applicable', 'application', 'applications', 'applied', 'apply', 'appoint', 'appointed', 'appointment', 'appointments', 'appreciation', 'apprehensive', 'approach', 'approached', 'approaches', 'appropriate', 'appropriated', 'appropriation', 'appropriations', 'appropriators', 'approval', 'approve', 'approved', 'approves', 'approximately', 'arbitrage', 'arbitrager', 'arbitragers', 'arbs', 'arched', 'architect', 'architects', 'architectural', 'architecture', 'are', 'area', 'areas', 'argue', 'argued', 'argues', 'arguing', 'argument', 'arguments', 'arise', 'arising', 'arm', 'armed', 'arms', 'around', 'arranged', 'arrangement', 'arrangements', 'array', 'arrest', 'arrested', 'arrival', 'arrive', 'arrived', 'arrows', 'arsenide', 'art', 'article', 'articles', 'artist', 'arts', 'as', 'asbestos', 'asbestos-related', 'asbestosis', 'ascendency', 'ascribe', 'ask', 'asked', 'asking', 'asks', 'aspect', 'aspects', 'aspersions', 'aspires', 'assassinated', 'assault', 'assaults', 'assemble', 'assembled', 'assembly', 'assembly-line', 'assert', 'asserted', 'asserting', 'assertion', 'assertions', 'asserts', 'assess', 'assessed', 'asset', 'asset-sale', 'asset-valuation', 'assets', 'assigned', 'assist', 'assistance', 'assistant', 'assisted', 'associate', 'associated', 'associates', 'association', 'assume', 'assumed', 'assuming', 'assumption', 'assurance', 'assure', 'assured', 'astonishment', 'astronomical', 'at', 'athletic', 'atmosphere', 'attached', 'attack', 'attacking', 'attacks', 'attempt', 'attempted', 'attempting', 'attempts', 'attend', 'attendance', 'attended', 'attending', 'attention', 'attitude', 'attorney', 'attorney-client', 'attorneys', 'attract', 'attracted', 'attracting', 'attractions', 'attractive', 'attracts', 'attributed', 'attributes', 'auction', 'auctioned', 'auctions', 'audience', 'audiocassettes', 'audit', 'auditor', 'augment', 'auspices', 'austere', 'author', 'authorities', 'authority', 'authorized', 'authorizes', 'authorizing', 'authors', 'autions', 'auto', 'auto-safety', 'automated', 'automatic', 'automation', 'automobile', 'automobiles', 'automotive', 'automotive-lighting', 'automotive-parts', 'autos', 'autumn', 'available', 'avenge', 'avenues', 'average', 'averaged', 'avert', 'averted', 'avid', 'avoid', 'avoiding', 'awaits', 'awarded', 'awarding', 'awards', 'aware', 'awareness', 'away', 'awful', 'awfully', 'b', 'baby', 'back', 'backdrop', 'backed', 'backers', 'backgrounds', 'backing', 'backlog', 'backlogs', 'backyard', 'bad', 'badly', 'bag', 'bags', 'bakery', 'balance', 'balanced', 'bald-faced', 'balkanized', 'balked', 'ball', 'balloon', 'ballot', 'balloting', 'ballots', 'ballpark', 'ballplayers', 'ballroom', 'balls', 'ban', 'band', 'band-wagon', 'bang', 'bank', 'bank-backed', 'banker', 'bankers', 'banking', 'bankroll', 'bankrupt', 'bankruptcy', 'bankruptcy-law', 'banks', 'banned', 'banning', 'banquet', 'bans', 'bar', 'barely', 'bargain', 'bargains', 'barge', 'barges', 'barking', 'barometer', 'barred', 'barrel', 'barrels', 'barrier', 'barriers', 'bars', 'base', 'baseball', 'based', 'bases', 'basic', 'basically', 'basis', 'basket', 'baskets', 'bass', 'bat', 'battered', 'battery', 'battery-operated', 'batting', 'battle', 'battles', 'be', 'bearing', 'bearish', 'beat', 'beaten', 'beautiful', 'beauty', 'became', 'because', 'become', 'becomes', 'becoming', 'bedding', 'beds', 'been', 'beer', 'beer-belly', 'beers', 'befell', 'before', 'beforehand', 'befuddled', 'beg', 'began', 'begin', 'beginning', 'begins', 'begot', 'begun', 'behalf', 'behaving', 'behavior', 'beheading', 'behemoth', 'behest', 'behind', 'being', 'beleaguered', 'belfries', 'belfry', 'believe', 'believed', 'believes', 'bell', 'bell-ringer', 'bell-ringing', 'bellringers', 'bells', 'bellwether', 'belong', 'belonging', 'belongs', 'below', 'belt', 'belts', 'bench', 'benchmark', 'benchmarks', 'bend', 'beneficial', 'beneficiaries', 'beneficiary', 'benefit', 'benefited', 'benefits', 'benevolent', 'benign', 'best', 'best-seller', 'best-selling', 'besuboru', 'betrayer', 'better', 'betterment', 'betting', 'between', 'beverage', 'beyond', 'biannual', 'bias', 'bicameral', 'bickering', 'bid', 'bidder', 'bidders', 'bidding', 'bids', 'big', 'big-ticket', 'big-time', 'bigger', 'biggest', 'bilateral', 'bilingual', 'bill', 'billed', 'billing', 'billings', 'billion', 'billion-dollar', 'billionaire', 'billions', 'bills', 'bin', 'binders', 'binge', 'biscuit', 'bit', 'bitter', 'bitterness', 'black', 'black-and-white', 'blackjack', 'blacks', 'blamed', 'blames', 'blank', 'bled', 'blender', 'bless', 'blessing', 'blighted', 'blind', 'blindfold', 'blinks', 'blip', 'bloc', 'block', 'blocked', 'blocks', 'blood', 'blood-cell', 'bloods', 'bloody', 'blow', 'bludgeon', 'blue', 'blue-chip', 'blue-chips', 'blue-collar', 'blurred', 'board', 'boarding', 'boast', 'body', 'boilers', 'bold', 'bolster', 'bolstered', 'bomb', 'bombarding', 'bomber', 'bombers', 'bombs', 'bond', 'bonds', 'bone', 'bonus', 'bonuses', 'boogieman', 'book', 'booked', 'booklet', 'booklets', 'books', 'boom', 'boomers', 'booming', 'boost', 'boosted', 'boosters', 'boosting', 'boosts', 'boots', 'borders', 'born', 'borough', 'borrowed', 'borrowers', 'borrowing', 'borrowings', 'botched', 'both', 'bothered', 'bottle', 'bottlenecks', 'bottles', 'bottom', 'bottom-line', 'bought', 'bounce', 'bounced', 'bout', 'boutique', 'bowed', 'box', 'boy', 'boyfriends', 'boys', 'brain', 'brakes', 'branch', 'branches', 'brand', 'brat', 'breach', 'bread', 'bread-and-butter', 'break', 'breakdown', 'breaker', 'breakers', 'breakfast', 'breaking', 'breaks', 'breathe', 'breathed', 'breathtaking', 'breed', 'breezy', 'bribe', 'bribed', 'bribery', 'bribing', 'bricks', 'bridge', 'bridges', 'brief', 'briefing', 'briefings', 'bright', 'brightened', 'brightest', 'brilliant', 'brilliantly', 'bring', 'bringing', 'brings', 'broad', 'broad-based', 'broadcasting', 'broadcasts', 'broaden', 'broadened', 'broader', 'broadly', 'broke', 'broken', 'broker', 'brokerage', 'brokering', 'brokers', 'bronze', 'brought', 'brunt', 'brushed', 'brutal', 'buck', 'buckle', 'budding', 'budget', 'buffet', 'build', 'building', 'building-products', 'buildings', 'builds', 'buildup', 'built', 'built-from-kit', 'bulk', 'bull', 'bulldozers', 'bullets', 'bulls', 'bunches', 'bundles', 'bundling', 'buoyed', 'burden', 'burdens', 'bureaucracy', 'bureaucratic', 'burlap', 'burn', 'burned', 'buses', 'bushel', 'bushels', 'busiest', 'business', 'businesses', 'businessman', 'businessmen', 'busloads', 'bust', 'but', 'butterfly', 'buttoned-down', 'buy', 'buy-back', 'buy-out', 'buy-outs', 'buyer', 'buyers', 'buying', 'buys', 'by', 'bygone', 'ca', 'cabinet', 'cable', 'cabs', 'cadet', 'cadmium', 'cake', 'calculate', 'calculated', 'calculations', 'calculator', 'call', 'called', 'caller', 'callers', 'calling', 'calls', 'came', 'camera', 'campaign', 'campaigner', 'campaigning', 'campaigns', 'campus', 'can', 'cancellation', 'cancer', 'cancer-causing', 'cancers', 'candidate', 'candidates', 'cane', 'canine', 'cap', 'capability', 'capacity', 'capital', 'capital-gains', 'capital-markets', 'capitalism', 'capitalist', 'capitalize', 'capitalized', 'capped', 'capsules', 'captivating', 'captive', 'capture', 'car', 'car-care', 'car-development', 'car-safety', 'carbon', 'card', 'card-member', 'cardboard', 'cardiovascular', 'cards', 'care', 'cared', 'career', 'careers', 'carefree', 'careful', 'carefully', 'caretaker', 'cargo', 'carillons', 'carried', 'carrier', 'carriers', 'carries', 'carry', 'carrying', 'cars', 'cartilage', 'cartoonist', 'cascading', 'case', 'cases', 'cash', 'cash-and-stock', 'cash-flow', 'cash-rich', 'casino', 'cast', 'cast-iron', 'casting', 'castle', 'casts', 'cataract', 'catch', 'catch-up', 'categories', 'category', 'cater', 'cattle', 'caught', 'cause', 'caused', 'causes', 'causing', 'caustic', 'caution', 'cautioned', 'cautious', 'cautiously', 'caveat', 'cavernous', 'cease-fire', 'ceiling', 'celebrate', 'celebrity', 'cell', 'cells', 'cement', 'censorship', 'cent', 'centennial', 'center', 'centerpiece', 'centers', 'centimeter', 'central', 'centralized', 'cents', 'cents-a-unit', 'century', 'ceramic', 'cereal', 'certain', 'certainly', 'certificate', 'certificates', 'certified', 'certin', 'chain', 'chaired', 'chairman', 'chairs', 'chalk', 'challenge', 'challenging', 'chamber', 'championing', 'champions', 'chance', 'change', 'change-ringing', 'changed', 'changes', 'changing', 'channel', 'chaos', 'chaotic', 'character', 'characteristics', 'characterized', 'characterizing', 'characters', 'charge', 'charged', 'charges', 'charging', 'charm', 'charts', 'chary', 'chase', 'chassis', 'chastised', 'chat', 'chatter', 'chauffeur', 'cheaper', 'cheapest', 'cheat', 'cheating', 'check', 'checkbook', 'checking', 'checks', 'cheerleaders', 'cheerleading', 'chefs', 'chemical', 'chemicals', 'chest', 'chicago', 'chief', 'chiefly', 'child', 'childish', 'children', 'chilled', 'chip', 'chips', 'chocolate', 'choice', 'choose', 'chooses', 'choosing', 'chopped', 'chose', 'chosen', 'chronicle', 'chrysotile', 'chunk', 'chunks', 'church', 'church-goers', 'churches', 'cigarette', 'cigarettes', 'circle', 'circuit', 'circuit-board', 'circuit-breaker', 'circulated', 'circulation', 'circumstances', 'citation', 'citations', 'cite', 'cited', 'cites', 'cities', 'citing', 'citizen', 'citizen-sparked', 'citizens', 'city', 'city-owned', 'civics', 'civil', 'civilization', 'claim', 'claimed', 'claiming', 'claims', 'clamped', 'clannish', 'clarified', 'clarify', 'clashed', 'class', 'classed', 'classes', 'classic', 'classical', 'classics', 'classifications', 'classified', 'classmates', 'classroom', 'clause', 'clean', 'clean-air', 'clean-up', 'cleaned', 'cleaner', 'cleaner-burning', 'cleanliness', 'cleanup', 'clear', 'clearance', 'cleared', 'clearer', 'clearing', 'clearly', 'clerics', 'clerks', 'clicked', 'client', 'clients', 'climate', 'climb', 'climbed', 'climbing', 'clipped', 'clippings', 'clobbered', 'clock', 'close', 'close-up', 'closed', 'closed-end', 'closely', 'closeness', 'closer', 'closing', 'cloth', 'clothes', 'clothing', 'cloud', 'clouding', 'clouds', 'club', 'clubs', 'clues', 'cluster', 'cluttered', 'co-author', 'co-chairman', 'co-developers', 'co-founded', 'co-owner', 'coaching', 'coal', 'coal-fired', 'coated', 'cocky', 'cocoa', 'code', 'codified', 'coffee', 'cohesive', 'coincidental', 'coke', 'cold', 'colder', 'coliseum', 'collaborated', 'collapse', 'collapsed', 'collar', 'collateral', 'colleagues', 'collected', 'collecting', 'collection', 'collections', 'collective', 'collective-bargaining', 'college', 'college-bowl', 'colleges', 'colony', 'color', 'colored', 'column', 'columns', 'combat', 'combination', 'combinations', 'combine', 'combined', 'combines', 'come', 'comeback', 'comedies', 'comes', 'comfort', 'comfortable', 'comfortably', 'coming', 'command', 'commanded', 'comment', 'commenting', 'comments', 'commerce', 'commercial', 'commercials', 'commission', 'commissions', 'commit', 'commitment', 'commitments', 'committed', 'committee', 'committees', 'committing', 'commodities', 'commodity', 'common', 'common-law', 'communication', 'communications', 'community', 'companies', 'companion', 'company', 'comparable', 'compare', 'compared', 'compares', 'comparison', 'compassion', 'compatible', 'compel', 'compelling', 'compensate', 'compensation', 'compete', 'competed', 'competes', 'competing', 'competition', 'competitions', 'competitive', 'competitor', 'competitors', 'compilation', 'compiled', 'complain', 'complained', 'complaining', 'complains', 'complaint', 'complaints', 'complete', 'completed', 'completely', 'completeness', 'completing', 'completion', 'complex', 'complexes', 'compliance', 'complicate', 'complicated', 'composed', 'composite', 'compositions', 'composting', 'compound', 'comprehensive', 'compressed', 'compromise', 'computer', 'computer-aided', 'computer-assisted', 'computer-driven', 'computer-generated', 'computer-services', 'computer-system-design', 'computerize', 'computerized', 'computers', 'computing', 'concede', 'concedes', 'conceding', 'conceivable', 'concentrate', 'concentrated', 'concentrating', 'concentration', 'concept', 'concern', 'concerned', 'concerns', 'concession', 'concessions', 'conclude', 'concluded', 'concrete', 'condemned', 'condemning', 'condition', 'conditional', 'conditions', 'conduct', 'conducted', 'conducting', 'conduit', 'conferees', 'conference', 'confidant', 'confidence', 'confident', 'confidential', 'confined', 'confines', 'confirm', 'confirmed', 'confirms', 'conflict', 'conflicts', 'conforms', 'confrontational', 'confuse', 'confused', 'conglomerate', 'congregation', 'congressional', 'congressman', 'congressmen', 'connected', 'connection', 'consecutive', 'consensus', 'consent', 'consented', 'consequence', 'consequences', 'conservative', 'consider', 'considerable', 'considerably', 'consideration', 'considered', 'considering', 'considers', 'consist', 'consistent', 'consistently', 'consisting', 'consists', 'consomme', 'consonant', 'conspicuous', 'constantly', 'constituent', 'constitute', 'constitutional', 'constitutional-law', 'constraints', 'construction', 'construed', 'consultant', 'consultants', 'consulting', 'consumer', 'consumer-driven', 'consumers', 'consumption', 'contacted', 'contacts', 'contain', 'contained', 'container', 'containers', 'containing', 'contains', 'contemporary', 'contends', 'content', 'contest', 'contesting', 'contests', 'context', 'continental', 'contingency-fee', 'contingent', 'continually', 'continue', 'continued', 'continues', 'continuing', 'continuingly', 'continuous', 'continuously', 'contract', 'contracted', 'contractor', 'contractors', 'contracts', 'contradict', 'contradictions', 'contrary', 'contrast', 'contrasts', 'contribute', 'contributed', 'contributing', 'contribution', 'contributions', 'contributors', 'control', 'controlled', 'controlling', 'controls', 'controversial', 'controversy', 'convenient', 'conventional', 'conversations', 'conversion', 'convert', 'converted', 'convertible', 'converting', 'convey', 'convicted', 'conviction', 'convince', 'convinced', 'cool', 'cooled', 'cooperating', 'cooperation', 'coordinate', 'coordinator', 'cop-killer', 'cope', 'copied', 'copies', 'copper', 'copper-rich', 'copy', 'copycats', 'copying', 'copyright', 'copyrights', 'core', 'corkscrews', 'corn', 'corn-buying', 'corners', 'cornerstones', 'corporate', 'corporate-wide', 'corporation', 'corporations', 'correct', 'corrected', 'correcting', 'correspondence', 'corridors', 'corrupt', 'corruption', 'cosmetic', 'cost', 'cost-benefit', 'cost-control', 'cost-cutting', 'cost-sharing', 'costly', 'costs', 'cotton', 'could', 'council', 'councils', 'counseling', 'count', 'counter', 'counteract', 'counterattack', 'counterpart', 'counterparts', 'counterrevolutionary', 'counterweight', 'counting', 'countless', 'countries', 'country', 'counts', 'couple', 'coupled', 'couples', 'coupon', 'courage', 'course', 'court', 'court-ordered', 'courtroom', 'courts', 'cousins', 'cover', 'coverage', 'covered', 'covering', 'covers', 'cow', 'cozy', 'crack', 'crackdown', 'cracks', 'craft', 'crane-safety', 'cranked', 'crapshoot', 'crash', 'crashes', 'crashing', 'craze', 'creams', 'create', 'created', 'creates', 'creating', 'creation', 'creativity', 'creator', 'creature', 'credentials', 'credibility', 'credit', 'credit-rating', 'creditor', 'creditors', 'credits', 'creditworthiness', 'crews', 'crib', 'crime', 'criminal', 'crippled', 'crises', 'crisis', 'criteria', 'critical', 'criticism', 'criticized', 'critics', 'crocidolite', 'crook', 'crookery', 'crop', 'crops', 'cross-border', 'crossed', 'crossing', 'crowd', 'crowded', 'crucial', 'crude', 'cruise', 'cruising', 'crunch', 'crusade', 'crushed', 'cry', 'crying', 'crystal', 'crystal-lattice', 'crystals', 'cue', 'cues', 'culprit', 'cult', 'cultivated', 'cultivation', 'cumbersome', 'cups', 'curb', 'curbed', 'curbing', 'cure', 'curled', 'curly', 'currencies', 'currency', 'current', 'current-carrying', 'currently', 'curriculum', 'curse', 'curses', 'curtail', 'curtailed', 'cushion', 'cushioned', 'custom', 'custom-chip', 'customer', 'customers', 'customized', 'cut', 'cutbacks', 'cute', 'cuts', 'cutthroat', 'cutting', 'cuvees', 'cycle', 'cycles', 'cyclical', 'dailies', 'daily', 'dairy', 'dam', 'damage', 'damaged', 'damages', 'damaging', 'damn', 'dams', 'dances', 'dancing', 'dark', 'darned', 'dashed', 'dashes', 'data', 'date', 'dating', 'daughters', 'dawn', 'day', 'day-care', 'day-to-day', 'days', 'de', 'dead', 'dead-eyed', 'deadline', 'deadwood', 'deal', 'dealers', 'dealing', 'dealings', 'deals', 'dean', 'death', 'deaths', 'debacle', 'debate', 'debenture', 'debentures', 'debt', 'debts', 'debut', 'decade', 'decade-long', 'decades', 'decay', 'deceptive', 'decide', 'decided', 'decides', 'decision', 'decisions', 'decisive', 'deck', 'declaration', 'declare', 'declared', 'declaring', 'decline', 'declined', 'decliners', 'declines', 'declining', 'decorated', 'decorator', 'decrease', 'decried', 'decries', 'deducting', 'deeds', 'deem', 'deemed', 'deeply', 'default', 'defeat', 'defeated', 'defeats', 'defects', 'defendant', 'defendants', 'defended', 'defends', 'defense', 'defensive', 'deficiencies', 'deficit', 'define', 'defined', 'defines', 'definitely', 'definitive', 'defuse', 'defying', 'degenerative', 'degree', 'degrees', 'del', 'delay', 'delayed', 'delays', 'delete', 'deliberately', 'deliberating', 'delisted', 'deliver', 'delivered', 'delivering', 'delivery', 'deluge', 'deluxe', 'demand', 'demanding', 'demands', 'demise', 'demobilize', 'democracy', 'democratic', 'demographic', 'demonstrates', 'demonstrating', 'demonstrations', 'demonstrators', 'den', 'denial', 'denied', 'denies', 'denominator', 'denounce', 'denouncing', 'deny', 'denying', 'department', 'departments', 'departure', 'departures', 'depend', 'depended', 'depending', 'depends', 'depleted', 'deplorable', 'deposit', 'depositary', 'depository', 'deposits', 'depressed', 'depression', 'depressions', 'deprivation', 'deprived', 'deputy', 'deregulation', 'derisively', 'derivative', 'derivatives', 'derived', 'descending', 'describe', 'described', 'describes', 'deserve', 'deserving', 'design', 'designated', 'designation', 'designations', 'designed', 'designer', 'designers', 'designing', 'desirable', 'desire', 'desired', 'desires', 'desktop', 'desperately', 'despise', 'despised', 'despite', 'dessert', 'destination', 'destroy', 'desultory', 'detail', 'detailed', 'details', 'detective-story', 'deter', 'deteriorated', 'deteriorating', 'deterioration', 'determine', 'determined', 'deterring', 'devastating', 'develop', 'developed', 'developer', 'developing', 'development', 'developments', 'develops', 'deviant', 'deviation', 'device', 'devices', 'devise', 'devised', 'devote', 'devoted', 'devouring', 'dexterity', 'diabetes', 'diagnosed', 'diagram', 'dialogue', 'diamond', 'diaper', 'did', 'die', 'died', 'diethylstilbestrol', 'differ', 'difference', 'differences', 'different', 'differential', 'differently', 'difficult', 'difficulties', 'difficulty', 'digs', 'dilemma', 'diluted', 'diming', 'diminish', 'diminished', 'dinner', 'dinosaurs', 'diplomacy', 'diplomatic', 'diplomats', 'direct', 'direct-investment', 'direct-mail', 'directed', 'directing', 'direction', 'directionless', 'directly', 'director', 'directors', 'directorship', 'dirtiest', 'dirty', 'disadvantage', 'disaffected', 'disaffiliation', 'disagree', 'disagreeable', 'disagreed', 'disagreement', 'disagrees', 'disappear', 'disappears', 'disappointed', 'disappointing', 'disappointment', 'disapproval', 'disapprove', 'disapproved', 'disarray', 'disaster', 'disaster-assistance', 'disasters', 'discarded', 'discharge', 'disciplinary', 'disciplined', 'disclose', 'disclosed', 'disclosing', 'disclosure', 'disclosures', 'disconnect', 'discontent', 'discontinue', 'discontinued', 'discontinuing', 'discordant', 'discos', 'discount', 'discounts', 'discourage', 'discouraging', 'discovered', 'discredit', 'discrepancies', 'discretion', 'discretionary', 'discrimination', 'discuss', 'discussed', 'discussing', 'discussion', 'discussions', 'disease', 'diseases', 'disembodied', 'disgorge', 'disk', 'dislike', 'dismal', 'dismay', 'dismayed', 'dismiss', 'dismissal', 'dismissed', 'disorders', 'disparate', 'display', 'displays', 'disposables', 'disposal', 'disposed', 'disproportionate', 'dispute', 'disputed', 'disputes', 'disregard', 'disruption', 'disruptive', 'disseminate', 'disseminating', 'dissemination', 'dissident', 'dissolves', 'distant', 'distasteful', 'distinct', 'distinguished', 'distorted', 'distributable', 'distributed', 'distributes', 'distribution', 'distributor', 'district', 'districts', 'disturbing', 'disturbs', 'divergence', 'diverse', 'diversification', 'diversified', 'diversify', 'diversifying', 'diversionary', 'divest', 'divided', 'dividend', 'dividends', 'dividing', 'division', 'divisions', 'do', 'do-it-yourself', 'docile', 'doctor', 'doctorate', 'doctors', 'doctrine', 'document', 'documented', 'documents', 'does', 'doing', 'doling', 'dollar', 'dollar-denominated', 'dollars', 'dolls', 'domestic', 'domestically', 'dominance', 'dominant', 'dominated', 'dominates', 'dominating', 'domination', 'done', 'donor', 'door', 'doors', 'dormitory', 'double', 'double-A', 'double-C', 'double-digit', 'doubled', 'doubt', 'doubted', 'doubts', 'down', 'downfall', 'downgrade', 'downgraded', 'downgrading', 'downright', 'downside', 'downtown', 'downturn', 'downward', 'dozen', 'dozens', 'drafted', 'drag-down', 'drain', 'dramatic', 'dramatically', 'drastic', 'drastically', 'draw', 'drawbacks', 'drawing', 'drawn', 'draws', 'dreadful', 'dreamed', 'dreamt', 'drearier', 'dressed', 'drew', 'drift', 'drifted', 'drink', 'drinking', 'drinks', 'drive', 'driver', 'drivers', 'drives', 'driving', 'drooled', 'drop', 'drop-in', 'drop-off', 'dropped', 'drops', 'drought', 'droughts', 'drove', 'drug', 'drugs', 'drums', 'drunk', 'dry', 'dubbed', 'duck', 'duckling', 'due', 'duly', 'dumbfounded', 'dummies', 'dumped', 'duo', 'durable', 'durable-goods', 'during', 'dust', 'dust-up', 'dusty', 'duties', 'duty', 'duty-free', 'dwindling', 'dynamics', 'each', 'eager', 'earlier', 'earliest', 'early', 'early-retirement', 'earn', 'earned', 'earning', 'earnings', 'earns', 'earthquake', 'ease', 'eased', 'eases', 'easier', 'easily', 'easing', 'easy', 'easy-to-read', 'eat', 'eating', 'echoed', 'eclectic', 'eclipse', 'economic', 'economical', 'economics', 'economies', 'economist', 'economists', 'economy', 'edged', 'editing', 'edition', 'editions', 'editor', 'editorial', 'editorially', 'editors', 'educated', 'education', 'educational', 'educators', 'effect', 'effective', 'effectively', 'effects', 'efficiencies', 'efficiency', 'efficient', 'effort', 'efforts', 'egregious', 'eight', 'eight-count', 'eight-month', 'eight-person', 'eighth', 'either', 'elaborate', 'elderly', 'elected', 'election', 'elections', 'electorate', 'electric', 'electric-utility', 'electrical', 'electrical-safety', 'electricity', 'electronic', 'electronics', 'element', 'elementary', 'elephant', 'elevators', 'eligible', 'eliminate', 'eliminated', 'eliminates', 'eliminating', 'elimination', 'elite', 'else', 'elsewhere', 'elusive', 'emasculate', 'embarrassing', 'embassy', 'embroiled', 'emerge', 'emerged', 'emergencies', 'emergency', 'emerges', 'emerging', 'emigrate', 'emigres', 'emissions', 'emotional', 'emotions', 'emphasis', 'emphasized', 'empire', 'employed', 'employee', 'employees', 'employer', 'employers', 'employment', 'employs', 'empowered', 'empowers', 'empty', 'enable', 'enabled', 'enables', 'enabling', 'enact', 'enacted', 'encircling', 'enclosed', 'encounter', 'encourage', 'encourages', 'encouraging', 'encroaching', 'end', 'ended', 'ending', 'endless', 'endorse', 'endorsed', 'ends', 'energetic', 'energy', 'energy-services', 'enforce', 'enforcement', 'engage', 'engaged', 'engaging', 'engineer', 'engineered', 'engineering', 'engineers', 'engines', 'enhanced', 'enhances', 'enjoy', 'enjoyed', 'enjoying', 'enlarged', 'enormous', 'enormously', 'enough', 'enraged', 'enrollment', 'ensembles', 'ensnarled', 'ensure', 'entangled', 'enter', 'entered', 'entering', 'enters', 'entertain', 'entertaining', 'entertainment', 'enthusiasm', 'entice', 'enticed', 'entire', 'entirely', 'entitled', 'entitles', 'entity', 'entrance', 'entrants', 'entrench', 'entrenched', 'entrepreneur', 'entrusted', 'enviable', 'environment', 'environmental', 'environmentalists', 'environments', 'envoy', 'episodes', 'equal', 'equal-opportunity', 'equaling', 'equally', 'equals', 'equip', 'equipment', 'equipped', 'equities', 'equity', 'equity-purchase', 'equivalent', 'era', 'erasures', 'erect', 'erode', 'erodes', 'erroneous', 'error', 'errors', 'erudite', 'escalated', 'escape', 'escaped', 'escort', 'escrow', 'especially', 'espouse', 'essays', 'essentially', 'establish', 'established', 'establishing', 'establishment', 'estate', 'estimate', 'estimated', 'estimates', 'estimation', 'etc.', 'eternal', 'ethanol', 'ethical', 'ethics', 'evaluated', 'evaluating', 'evaluation', 'evaporated', 'even', 'evening', 'evenly', 'evensong', 'event', 'events', 'eventually', 'ever', 'every', 'everybody', 'everyday', 'everyone', 'everything', 'everywhere', 'evidence', 'evident', 'evil', 'evoke', 'evoking', 'evolution', 'evolve', 'evolved', 'ex-dividend', 'exacerbated', 'exact', 'exactly', 'examination', 'examinations', 'examine', 'examined', 'example', 'examples', 'exceed', 'exceeded', 'exceeding', 'exceedingly', 'exceeds', 'excellence', 'except', 'exception', 'exceptional', 'exceptionally', 'excess', 'excesses', 'excessive', 'excessively', 'exchange', 'exchanges', 'exchanging', 'excise', 'excision', 'excited', 'exciting', 'exclusion', 'exclusive', 'exclusively', 'execs', 'execute', 'executed', 'executes', 'executing', 'execution', 'executive', 'executive-office', 'executives', 'exempt', 'exemption', 'exercisable', 'exercise', 'exercised', 'exerting', 'exhaust', 'exhausted', 'exhibited', 'exhibition', 'exhibits', 'exist', 'existed', 'existence', 'existing', 'exists', 'exit', 'exits', 'exodus', 'exorbitant', 'expand', 'expanded', 'expanding', 'expands', 'expansion', 'expect', 'expectation', 'expectations', 'expected', 'expecting', 'expects', 'expedited', 'expelled', 'expendable', 'expenditures', 'expense', 'expenses', 'expensive', 'experience', 'experienced', 'experiencing', 'expert', 'experts', 'expire', 'expired', 'expires', 'explain', 'explained', 'explaining', 'explains', 'explanatory', 'exploded', 'exploit', 'exploration', 'explore', 'explosion', 'explosive', 'export', 'export-oriented', 'exporter', 'exporters', 'exports', 'exposed', 'exposure', 'exposures', 'expressed', 'expressing', 'expression', 'expressly', 'expunged', 'extend', 'extended', 'extending', 'extension', 'extensive', 'extent', 'external', 'extra', 'extramarital', 'extraordinary', 'extremely', 'exuded', 'eye', 'eyeing', 'eyes', 'fabled', 'fabricate', 'fabricator', 'facade', 'face', 'faced', 'faces', 'facial', 'facilitate', 'facilities', 'facility', 'facing', 'fact', 'factor', 'factoring', 'factors', 'factory', 'facts', 'faculty', 'faded', 'fail', 'failed', 'failing', 'fails', 'failures', 'faint', 'fainting', 'fair', 'fairly', 'fairness', 'faith', 'faithful', 'fall', 'fallen', 'falling', 'falls', 'falsify', 'faltered', 'famed', 'familiar', 'familiarization', 'families', 'family', 'family-planning', 'famous', 'fan', 'fanciful', 'fancy', 'fanfare', 'fans', 'far', 'fare', 'fared', 'farm', 'farmers', 'farms', 'fashion', 'fashioned', 'fast', 'fast-food', 'fast-growing', 'fasteners', 'faster', 'fastest', 'fastest-growing', 'fat', 'fatalities', 'fate', 'father', 'father-in-law', 'fattened', 'fault', 'faultlessly', 'favor', 'favorable', 'favorably', 'favored', 'favorite', 'favors', 'fawning', 'fear', 'feared', 'fearful', 'fears', 'feasible', 'feature', 'featured', 'features', 'featuring', 'fed', 'federal', 'federally', 'fee', 'feed', 'feeds', 'feel', 'feeling', 'feelings', 'feels', 'fees', 'feet', 'feline', 'fell', 'fellow', 'felonies', 'felony', 'felt', 'female', 'fend', 'fetal', 'fetal-tissue', 'fetching', 'feudal', 'few', 'fewer', 'fiber', 'fiber-end', 'fiber-optic', 'fibers', 'field', 'fielded', 'fields', 'fierce', 'fifth', 'fifth-grade', 'fifth-largest', 'fight', 'fighters', 'fighting', 'fights', 'figure', 'figures', 'file', 'filed', 'filing', 'filings', 'fill', 'filled', 'filling', 'fills', 'film', 'films', 'filter', 'filters', 'final', 'finalized', 'finally', 'finance', 'financed', 'financial', 'financial-services', 'financially', 'financier', 'financing', 'financings', 'find', 'finding', 'findings', 'finds', 'fine', 'fined', 'fines', 'finest', 'fingers', 'finished', 'finite', 'fire', 'fired', 'fires', 'firings', 'firm', 'firmed', 'firmly', 'firmness', 'firms', 'first', 'first-half', 'first-rate', 'first-time', 'fiscal', 'fit', 'fits', 'five', 'five-cent', 'five-day', 'five-inch', 'five-point', 'five-year', 'fixed', 'fixed-income', 'fixed-price', 'fixed-rate', 'fixes', 'fixtures', 'fizzled', 'flag', 'flagrant', 'flap', 'flashy', 'flat', 'flatulent', 'fled', 'fledgling', 'fleet', 'fleeting', 'flexibility', 'flies', 'flightiness', 'flights', 'flim-flammery', 'flirted', 'floated', 'floating-rate', 'flood', 'flooded', 'floor', 'floors', 'floral', 'flourish', 'flow', 'flows', 'fluctuation', 'fluctuations', 'fluent', 'flush', 'flux', 'fly', 'foam', 'focus', 'focused', 'focusing', 'fold', 'foldability', 'foldable', 'folded', 'folio', 'folks', 'follow', 'followed', 'following', 'follows', 'fond', 'food', 'food-industry', 'food-shop', 'foods', 'foot', 'football', 'for', 'force', 'forced', 'forces', 'forcing', 'forecast', 'forecasting', 'forecasts', 'foreign', 'foreign-led', 'foreign-stock', 'foreigners', 'forest-product', 'forest-products', 'forgiven', 'forgotten', 'form', 'formal', 'formally', 'format', 'formation', 'formed', 'former', 'formerly', 'forms', 'formula', 'forthcoming', 'fortunes', 'forum', 'forward', 'fought', 'foul', 'found', 'foundation', 'foundations', 'founded', 'founder', 'foundering', 'four', 'four-color', 'four-day', 'four-foot-high', 'four-year', 'four-year-old', 'fourth', 'fourth-quarter', 'fraction', 'fractionally', 'fracture', 'fragile', 'fragmentation', 'framers', 'framework', 'franc', 'francs', 'frankly', 'frantic', 'fraud', 'free', 'free-enterprise', 'free-lance', 'freedom', 'freedoms', 'freeway', 'frenzy', 'frequency', 'frequently', 'fresh', 'freshman', 'fret', 'fretted', 'friction', 'friend', 'friendly', 'friends', 'friendship', 'frightened', 'fringe', 'from', 'front', 'front-seat', 'fronts', 'frozen', 'frustrating', 'fuel', 'fueled', 'fueling', 'fuels', 'full', 'full-fledged', 'full-length', 'full-time', 'full-year', 'fuller', 'fully', 'fumes', 'fuming', 'functioning', 'functions', 'fund', 'fundamental', 'fundamentalist', 'fundamentally', 'funded', 'funding', 'fundraising', 'funds', 'funny', 'furious', 'furniture', 'furor', 'further', 'future', 'futures', 'futures-related', 'gain', 'gained', 'gaining', 'gains', 'galling', 'gallium', 'gallon', 'galvanized', 'gambler', 'gambling', 'game', 'games', 'gamut', 'gangs', 'garage', 'garbage', 'garden-variety', 'gas', 'gasoline', 'gather', 'gauge', 'gauges', 'gauging', 'gave', 'gelatin', 'general', 'generalizations', 'generally', 'generate', 'generated', 'generation', 'generations', 'generators', 'generic', 'generous', 'genes', 'genie', 'gentle', 'genuine', 'geography', 'geometrical', 'get', 'get-out-the-vote', 'gets', 'getting', 'giant', 'giants', 'gift', 'gifts', 'gigantic', 'gilt', 'girl', 'girlfriend', 'give', 'giveaways', 'given', 'gives', 'giving', 'glamorize', 'glass', 'glitches', 'global', 'globally', 'globe', 'gloomy', 'glory', 'gloss', 'go', 'goal', 'goblins', 'goes', 'going', 'gold', 'golden', 'gone', 'good', 'good-faith', 'good-hearted', 'good-natured', 'goodies', 'goods', 'goodwill', 'gored', 'got', 'gotten', 'goverment', 'government', 'government-certified', 'government-funded', 'government-owned', 'governor', 'governors', 'grade', 'grader', 'graders', 'gradual', 'gradually', 'graduated', 'grain', 'grains', 'grand', 'grandfather', 'grandstander', 'grant', 'granted', 'granting', 'grants', 'grapes', 'graphics', 'graphs', 'grapple', 'great', 'greater', 'greatest', 'greatly', 'greed', 'greedy', 'green', 'greenmailer', 'grew', 'grim', 'gripping', 'gross', 'ground', 'group', 'groups', 'grower', 'growers', 'growing', 'grown', 'grows', 'growth', 'growths', 'guarantee', 'guaranteed', 'guarantees', 'guarding', 'guards', 'gubernatorial', 'guerrillas', 'guest', 'guests', 'guide', 'guided', 'guild', 'guilders', 'guilty', 'guns', 'gunship', 'gut', 'gut-wrenching', 'guy', 'guys', 'gyrate', 'gyrations', 'habit', 'had', 'hailed', 'hailing', 'hair', 'half', 'half-hour', 'halls', 'halt', 'halted', 'halts', 'halve', 'hampered', 'hamstrung', 'hand', 'handed', 'handful', 'handle', 'handled', 'handles', 'handling', 'hands', 'hang', 'hangs', 'happen', 'happened', 'happening', 'happens', 'happier', 'happy', 'harass', 'harassment', 'harbinger', 'hard', 'hard-charging', 'hard-drinking', 'hard-hitting', 'harder', 'hardest-hit', 'hardly', 'hardware', 'harm', 'harmed', 'harmful', 'harmony', 'harms', 'harped', 'harsh', 'harshly', 'harvest', 'harvested', 'has', 'haul', 'hauled', 'hauling', 'have', 'having', 'hay', 'hazardous', 'hazards', 'he', 'head', 'headcount-control', 'headed', 'heading', 'headline', 'headlined', 'headquarters', 'headrests', 'heads', 'healing', 'health', 'healthy', 'hear', 'heard', 'hearing', 'hearings', 'heart', 'heartland', 'heated', 'heating', 'heavily', 'heavy', 'heavy-duty', 'heavy-truck', 'hedging', 'heebie-jeebies', 'hefty', 'hegemony', 'heightened', 'heirs', 'held', 'helm', 'help', 'helped', 'helpful', 'helping', 'helps', 'her', 'herald', 'here', 'hero', 'herself', 'hid', 'hidden', 'hierarchical', 'high', 'high-balance', 'high-flying', 'high-level', 'high-minded', 'high-polluting', 'high-priced', 'high-quality', 'high-rate', 'high-rise', 'high-risk', 'high-rolling', 'high-speed', 'high-stakes', 'high-tech', 'high-technology', 'high-volume', 'high-yield', 'higher', 'higher-salaried', 'highest', 'highest-pitched', 'highlight', 'highly', 'highs', 'highway', 'hill', 'him', 'himself', 'hint', 'hire', 'hired', 'his', 'historic', 'historical', 'historically', 'history', 'hit', 'hither', 'hits', 'hitter', 'hitting', 'hobbyists', 'hold', 'holder', 'holders', 'holding', 'holdings', 'holds', 'hole', 'holiday', 'holidays', 'home', 'home-market', 'homeless', 'homelessness', 'homes', 'homework', 'homosexual', 'honor', 'honorably', 'honors', 'hook', 'hoopla', 'hope', 'hoped', 'hopefully', 'hopes', 'hormone', 'horoscopes', 'hospitable', 'hospital', 'hospitals', 'host', 'hostage', 'hosted', 'hostile', 'hostility', 'hot', 'hotel', 'hotels', 'hottest', 'hour', 'hours', 'house', 'household', 'households', 'houses', 'housewife', 'housing', 'housing-assistance', 'how', 'how-to', 'however', 'hub', 'huge', 'hugging', 'human', 'humans', 'humble', 'hundred', 'hundreds', 'hung', 'hunker', 'hunted', 'hurdles', 'hurt', 'hurting', 'husband', 'hustlers', 'hydraulically', 'hypocrisy', 'hypothetical', 'hysteria', 'idea', 'ideas', 'identical', 'identified', 'identify', 'identities', 'identity-management', 'ideological', 'idiomatic', 'if', 'ignored', 'ignoring', 'ill', 'illegal', 'illegality', 'illegally', 'illness', 'illustrates', 'image', 'images', 'imaginative', 'imagine', 'imbalances', 'immediate', 'immediately', 'immense', 'imminent', 'immune', 'impact', 'impaired', 'impart', 'impartial', 'impatient', 'impede', 'impeding', 'impending', 'imperative', 'impetuous', 'impetus', 'implant', 'implement', 'implementation', 'implemented', 'implements', 'implication', 'implications', 'implicit', 'implicitly', 'implied', 'implies', 'imply', 'import', 'importance', 'important', 'imported', 'importer', 'imports', 'impose', 'imposed', 'imposes', 'imposing', 'impossible', 'impressed', 'impression', 'impressive', 'improbable', 'improper', 'improve', 'improved', 'improvement', 'improvements', 'improves', 'improving', 'impudent', 'in', 'in-store', 'inaccurate', 'inaccurately', 'inadequacy', 'inadequate', 'inappropriate', 'inauspicious', 'incapable', 'incentive', 'incentive-backed', 'incentive-bonus', 'incentives', 'inception', 'incest', 'inched', 'inches', 'inching', 'incident', 'incisions', 'include', 'included', 'includes', 'including', 'income', 'incomes', 'incomplete', 'incorporated', 'increase', 'increased', 'increases', 'increasing', 'increasingly', 'incredible', 'incurred', 'indeed', 'indefinitely', 'independence', 'independent', 'index', 'index-arbitrage', 'index-fund', 'index-options', 'index-related', 'indexers', 'indexes', 'indicate', 'indicated', 'indicates', 'indicating', 'indication', 'indications', 'indicator', 'indicators', 'indictment', 'indifference', 'indirect', 'individual', 'individuals', 'induce', 'indulging', 'industrial', 'industrial-production', 'industrialized', 'industrials', 'industries', 'industry', 'industry-supported', 'industry-wide', 'industrywide', 'inefficiencies', 'inevitable', 'infectious', 'inferences', 'inflated', 'inflation', 'inflationary', 'influence', 'influenced', 'influencing', 'influential', 'inform', 'informally', 'information', 'information-services', 'infrequent', 'infringed', 'infusion', 'ingenuity', 'ingredients', 'inherent', 'inherently', 'inherited', 'inheritor', 'inhibit', 'initial', 'initialing', 'initially', 'initiate', 'initiated', 'initiating', 'initiative', 'initiatives', 'injecting', 'injuries', 'injuring', 'injury', 'inkling', 'inmates', 'inner', 'inner-city', 'innovation', 'innovative', 'innuendoes', 'inoperative', 'inquiries', 'inquiring', 'inquiry', 'insane', 'insanity', 'insert', 'inserted', 'inside', 'insider', 'insider-trading', 'insiders', 'insidious', 'insinuating', 'insist', 'insisted', 'insistence', 'insists', 'insolvency', 'inspection', 'inspirational', 'inspired', 'install', 'installed', 'installing', 'installment', 'instance', 'instances', 'instead', 'institute', 'instituted', 'institution', 'institutional', 'institutions', 'instructed', 'instruction', 'instrument', 'instrumental', 'instruments', 'insurance', 'insurance-company', 'insured', 'insurer', 'insurgents', 'integrated', 'integration', 'integrity', 'intellectual', 'intellectual-property', 'intelligence', 'intelligent', 'intend', 'intended', 'intense', 'intensity', 'intent', 'intention', 'intentioned', 'interactions', 'interbank', 'interest', 'interest-bearing', 'interest-rate', 'interested', 'interesting', 'interests', 'interference', 'interim', 'interior', 'interjects', 'intermediate', 'internal', 'international', 'interpretation', 'interrogated', 'interrogation', 'interstate', 'intertitles', 'intervention', 'interventions', 'interview', 'interviewed', 'intimately', 'intimidate', 'into', 'intoxication', 'intraday', 'intraocular', 'intricate', 'intriguing', 'introduce', 'introduced', 'introduces', 'introducing', 'introduction', 'intrusion', 'intrusions', 'invades', 'invariably', 'invent', 'invented', 'invention', 'inventiveness', 'inventories', 'inventory', 'inverse', 'inverted', 'invest', 'invested', 'investigate', 'investigating', 'investigation', 'investigations', 'investing', 'investment', 'investment-grade', 'investments', 'investor', 'investor-relations', 'investors', 'invests', 'invite', 'inviting', 'involve', 'involved', 'involvement', 'involves', 'involving', 'iota', 'ire', 'irony', 'irrelevant', 'is', 'issue', 'issued', 'issuer', 'issuers', 'issues', 'issuing', 'it', 'item', 'items', 'its', 'itself', 'jail', 'jam', 'jeopardizing', 'jeopardy', 'jet', 'jeweler', 'jitters', 'job', 'jobs', 'jockeys', 'join', 'joined', 'joining', 'joins', 'joint', 'joint-venture', 'jointly', 'jolts', 'jostle', 'journal', 'journalistic', 'journalists', 'joy', 'joys', 'judge', 'judged', 'judges', 'judgment', 'judgments', 'judicial', 'judiciary', 'juggernaut', 'juggle', 'jugglers', 'jump', 'jumped', 'jumping', 'jumps', 'junk', 'junk-bond', 'jurisdiction', 'jurisdictional', 'jury', 'just', 'justice', 'justices', 'justified', 'justify', 'justifying', 'juvenile', 'keep', 'keeping', 'keeps', 'kept', 'key', 'keyboards', 'kicked', 'kicker', 'kidnapper', 'kidnapping', 'kidney', 'kids', 'kill', 'killed', 'killing', 'killings', 'kilobytes', 'kind', 'kindergarten', 'kindness', 'kinds', 'kit', 'kits', 'knell', 'knew', 'knife', 'knight', 'knitted', 'knocked', 'know', 'knowledge', 'knowledgeable', 'known', 'knowns', 'knows', 'la', 'lab', 'label', 'labeled', 'labeling', 'labels', 'labor', 'labor-backed', 'labor-intensive', 'labor-management', 'laboriously', 'lack', 'lacked', 'lackluster', 'lacks', 'lady', 'lagging', 'laid', 'land', 'land-idling', 'landfill', 'landfills', 'landing', 'landowners', 'language', 'language-housekeeper', 'languages', 'lap', 'lap-shoulder', 'lapses', 'large', 'large-scale', 'largely', 'larger', 'larger-than-normal', 'largest', 'laser', 'last', 'lasted', 'lasting', 'late', 'lately', 'later', 'latest', 'latter', 'lauded', 'laughing', 'launch', 'launch-vehicle', 'launched', 'laurels', 'law', 'lawmakers', 'lawmaking', 'laws', 'lawsuit', 'lawsuits', 'lawyer', 'lawyers', 'lay', 'layer', 'laying', 'le', 'lead', 'leader', 'leaders', 'leadership', 'leading', 'leaky', 'leap', 'leapt', 'learn', 'learned', 'learning', 'lease', 'leases', 'leash', 'leasing', 'least', 'leather', 'leave', 'leaves', 'leaving', 'led', 'leery', 'leeway', 'left', 'legal', 'legislation', 'legislative', 'legislators', 'legislature', 'len', 'lend-lease', 'lender', 'lenders', 'lending', 'length', 'lengthen', 'lengthened', 'lens', 'lent', 'lesions', 'less', 'less-serious', 'less-than-brilliant', 'lessen', 'lessening', 'lesser', 'lesson', 'let', 'letter', 'letter-writing', 'letters', 'letting', 'level', 'leveling', 'levels', 'leveraged', 'leveraging', 'liabilities', 'liability', 'liable', 'liberal', 'liberals', 'liberty', 'library', 'license', 'licensed', 'licenses', 'licensing', 'lieu', 'lieutenant', 'life', 'life-insurance', 'life-of-contract', 'life-style', 'lifes', 'lift', 'lifted', 'lifting', 'light', 'light-truck', 'lighter', 'lightning-fast', 'lights', 'like', 'likelihood', 'likely', 'likeness', 'limbo', 'limit', 'limitation', 'limited', 'limited-partnership', 'limiting', 'limits', 'limping', 'line', 'line-item', 'liners', 'lines', 'link', 'linked', 'links', 'lion', 'lipsticks', 'liquid', 'liquid-nitrogen', 'liquidated', 'liquidation', 'liquidity', 'list', 'listed', 'listeners', 'listing', 'litany', 'literary', 'literature', 'litigation', 'little', 'live', 'livelihood', 'lives', 'livestock', 'living', 'load', 'loaded', 'loading', 'loan', 'loans', 'loathsome', 'lobbies', 'lobbyist', 'lobbyists', 'lobster', 'local', 'locally', 'located', 'location', 'locations', 'lock', 'locked', 'lofty', 'log', 'logic', 'logistical', 'logjam', 'logo', 'long', 'long-tenured', 'long-term', 'long-time', 'longer', 'longer-term', 'longest', 'longevity', 'longstanding', 'longtime', 'look', 'looked', 'lookee-loos', 'looking', 'looks', 'loom', 'looming', 'loops', 'loose', 'lore', 'lose', 'loser', 'loses', 'losing', 'loss', 'losses', 'lost', 'lot', 'lotions', 'lotter', 'lottery', 'loudest', 'lousy', 'loved', 'loveliest', 'lovely', 'lover', 'low', 'low-ability', 'low-altitude', 'low-ball', 'low-cost', 'low-priced', 'low-tech', 'lower', 'lower-priced', 'lower-priority', 'lowered', 'lowering', 'lowest', 'loyal', 'loyalty', 'luck', 'lucky', 'lucrative', 'lunch', 'lung', 'lungs', 'lure', 'luxury', 'lying', 'lynch-mob', 'lyrics', 'machine', 'machine-gun-toting', 'machinery', 'machines', 'machinists', 'made', 'madly', 'magazine', 'magazines', 'magicians', 'magnetic', 'magnets', 'magnified', 'magnitude', 'mail', 'mailed', 'mailing', 'main', 'mainframe', 'mainland', 'mainly', 'maintain', 'maintained', 'maintaining', 'maintenance', 'major', 'major-league', 'majority', 'make', 'maker', 'makers', 'makes', 'making', 'male', 'male-dominated', 'male-only', 'males', 'malignant', 'malnutrition', 'mammoth', 'man', 'manage', 'managed', 'management', 'managements', 'manager', 'managers', 'manages', 'managing', 'mandates', 'mania', 'manipulate', 'manipulators', 'manmade-fiber', 'manner', 'manpower', 'manually', 'manufacture', 'manufactured', 'manufacturer', 'manufacturers', 'manufacturing', 'many', 'map', 'marbles', 'march', 'marching', 'margin', 'marginally', 'margins', 'mark', 'markdown', 'markdowns', 'market', 'market-based', 'market-makers', 'market-oriented', 'market-share', 'marketed', 'marketer', 'marketers', 'marketing', 'marketing-communications', 'marketplace', 'markets', 'markkaa', 'marks', 'markup', 'marriages', 'marrow', 'martyr', 'marvelously', 'massacre', 'massive', 'master', 'masters', 'match', 'matched', 'matches', 'matching', 'material', 'materialistic', 'materialize', 'materialized', 'materials', 'mathematical', 'mathematics', 'mating', 'matter', 'matters', 'mature', 'maturing', 'maturities', 'maturity', 'maximize', 'maximum', 'may', 'maybe', 'mayor', 'maze', 'me', 'meal', 'meals', 'mean', 'meaning', 'meaningful', 'means', 'meant', 'meanwhile', 'measure', 'measured', 'measurement', 'measures', 'meatpacking', 'mechanical', 'mechanically', 'mechanism', 'mechanisms', 'medallions', 'media', 'medical', 'medicine', 'mediocre', 'medium-sized', 'meet', 'meeting', 'meetings', 'meets', 'mega-stadium', 'megabytes', 'melt-textured', 'member', 'members', 'membership', 'memo', 'memories', 'memorize', 'memory', 'men', 'mend', 'mental', 'mentally', 'mention', 'mentioned', 'merchandise', 'merchandising', 'merchant', 'merchants', 'mere', 'merely', 'merge', 'merged', 'merger', 'merger-related', 'mergers', 'merit', 'merits', 'mesothelioma', 'message', 'met', 'metal', 'metals', 'methods', 'metric', 'metropolitan', 'microcomputers', 'microphone', 'microprocessor', 'microprocessors', 'microwave', 'mid-1970s', 'mid-1990s', 'mid-October', 'mid-afternoon', 'mid-size', 'middle', 'middle-ground', 'midnight', 'midrange', 'midsized', 'midtown', 'midyear', 'might', 'mignon', 'migrate', 'miles', 'milestone', 'milestones', 'military', 'milk', 'milked', 'mill', 'million', 'million-a-year', 'millionaires', 'millions', 'mimics', 'mind', 'mind-boggling', 'mindful', 'mine', 'miners', 'mines', 'minicrash', 'minimal', 'minimum', 'minimum-wage', 'mining', 'mininum-wage', 'minister', 'ministers', 'ministry', 'minivans', 'minor', 'minority', 'minority-owned', 'minted', 'minus', 'minute', 'minutes', 'mired', 'mirror', 'mirrors', 'miscarriages', 'misdemeanor', 'missed', 'missiles', 'mistake', 'mistakenly', 'mistakes', 'mistrials', 'mitigate', 'mix', 'mixed', 'mobile', 'mobilizing', 'mobster', 'mode', 'model', 'models', 'modems', 'moderate', 'moderated', 'moderately', 'modern', 'modern-day', 'modernization', 'modest', 'modestly', 'modification', 'modify', 'mollified', 'moment', 'momentary', 'moments', 'money', 'money-center', 'money-fund', 'money-losing', 'money-market', 'moneymakers', 'monied', 'monitor', 'monopolize', 'monopoly', 'monster', 'month', 'monthly', 'months', 'mood', 'moons', 'morale', 'morale-damaging', 'morass', 'moratorium', 'morbidity', 'more', 'more-advanced', 'more-efficient', 'moreover', 'morning', 'morphogenetic', 'mortgage', 'mortgage-backed', 'mortgage-based', 'mortgaged', 'mortgages', 'most', 'most-likely-successor', 'mostly', 'mother', 'mothers', 'motion', 'motive', 'motives', 'motor', 'motor-home', 'motors', 'mount', 'mounted', 'mousseline', 'mouth-up', 'move', 'moved', 'movement', 'movements', 'moves', 'movie', 'movies', 'moving', 'much', 'much-larger', 'mudslinging', 'muffled', 'mulling', 'multi-crystal', 'multibillion-dollar', 'multilevel', 'multinational', 'multinationals', 'multiples', 'multiplying', 'multitude', 'mundane', 'municipal', 'municipalities', 'municipality', 'murder', 'murdered', 'muscling', 'museum', 'museums', 'mushy', 'music', 'must', 'muster', 'muted', 'mutual', 'mutual-fund', 'muzzling', 'my', 'myriad', \"n't\", 'nail', 'name', 'named', 'nameless', 'namely', 'nameplate', 'names', 'naming', 'narcotics', 'narrow', 'narrowed', 'narrowly', 'nation', 'national', 'nationalist', 'nations', 'nationwide', 'native', 'natural', 'natural-gas', 'nature', 'navigation', 'near', 'near-limit', 'near-record', 'nearby', 'nearly', 'nearly-30', 'neat', 'necessarily', 'necessary', 'necessities', 'necklace', 'necks', 'need', 'needed', 'needing', 'needle-like', 'needs', 'needy', 'negative', 'negatives', 'negotiable', 'negotiate', 'negotiated', 'negotiating', 'negotiations', 'negotiator', 'negotiators', 'neighborhood', 'neighborhoods', 'neighboring', 'neighbors', 'neither', 'neoprene', 'nervous', 'nervousness', 'net', 'nets', 'network', 'networking', 'networks', 'neutrons', 'never', 'new', 'new-car', 'new-home', 'newcomer', 'newer', 'newest', 'newly', 'news', 'newspaper', 'newspaper-printing', 'newspapers', 'newsroom', 'newsstand', 'newsstands', 'newsweekly', 'newsworthy', 'next', 'nice', 'niches', 'nickel', 'nickname', 'night', 'nightmare', 'nine', 'nine-member', 'nine-month', 'nine-year', 'ninth', 'no', 'no-confidence', 'noble', 'nobody', 'nominal', 'nominate', 'nominated', 'nomination', 'nominee', 'nominees', 'non-U.S.', 'non-biodegradable', 'non-callable', 'non-core', 'non-encapsulating', 'non-farm', 'non-religious', 'noncompetitively', 'nondurable', 'none', 'nonetheless', 'nonexecutive', 'nonfat', 'nonfinancial', 'nonprofit', 'nonrecurring', 'nonresidential', 'noodles', 'nor', 'normal', 'normally', 'north', 'northern', 'nose', 'not', 'notable', 'notably', 'notch', 'notched', 'note', 'noted', 'notes', 'nothing', 'notice', 'noticed', 'noticing', 'notified', 'notify', 'noting', 'notion', 'notwithstanding', 'novel', 'novelist', 'now', 'nowhere', 'nuclear', 'nullified', 'number', 'numbered', 'numbers', 'numeral', 'numerous', 'nurtured', 'nutrition', 'nutty', 'obedient', 'objectionable', 'objective', 'objectives', 'obligated', 'obligation', 'obligations', 'oblivion', 'observance', 'observations', 'observed', 'observers', 'obsessed', 'obsession', 'obstacles', 'obtain', 'obtained', 'obtaining', 'obvious', 'obviously', 'occasionally', 'occupant', 'occupying', 'occur', 'occurred', 'occurrences', 'occurs', 'octogenarians', 'odd', 'odd-sounding', 'odd-year', 'odds', 'of', 'off', 'off-off', 'off-year', 'offend', 'offender', 'offenders', 'offending', 'offense', 'offensive', 'offer', 'offered', 'offering', 'offerings', 'offers', 'office', 'officer', 'officers', 'offices', 'official', 'officially', 'officials', 'offset', 'offsetting', 'often', 'oil', 'oilman', 'oils', 'old', 'old-fashioned', 'old-style', 'old-time', 'older', 'oldest', 'omitted', 'omnipresent', 'on', 'on-campus', 'once', 'one', 'one-country', 'one-day', 'one-fifth', 'one-hour', 'one-house', 'one-month', 'one-newspaper', 'one-third', 'one-time', 'one-upsmanship', 'one-week', 'one-year', 'one-yen', 'ones', 'ongoing', 'only', 'onslaught', 'onto', 'onus', 'open', 'open-end', 'open-top', 'opened', 'opening', 'openings', 'openly', 'opens', 'operate', 'operated', 'operates', 'operating', 'operation', 'operational', 'operations', 'operator', 'operators', 'opinion', 'opinions', 'opponents', 'opportunities', 'opportunity', 'oppose', 'opposed', 'opposes', 'opposite', 'opposition', 'optimism', 'option', 'options', 'or', 'orange', 'orchestrated', 'ordeal', 'order', 'ordered', 'ordering', 'orders', 'ordinary', 'organization', 'organizations', 'organized', 'oriented', 'original', 'originally', 'ornamental', 'other', 'others', 'otherwise', 'ought', 'ounce', 'ounces', 'our', 'oust', 'out', 'outbid', 'outcry', 'outdistanced', 'outlawed', 'outlawing', 'outlay', 'outlays', 'outlets', 'outlook', 'outnumbered', 'outpaced', 'outrage', 'outraged', 'outrageous', 'outranks', 'outright', 'outside', 'outsiders', 'outstanding', 'outstrips', 'ovation', 'over', 'over-the-counter', 'overall', 'overcapacity', 'overcome', 'overcrowding', 'overdone', 'overhead', 'overlap', 'overleveraged', 'overnight', 'overpaying', 'overpriced', 'overproduction', 'override', 'overriding', 'overruns', 'overseas', 'oversee', 'oversight', 'overstated', 'overtime', 'overused', 'overvalued', 'owed', 'own', 'owned', 'owner', 'owners', 'ownership', 'owning', 'owns', 'p.m', 'p.m.', 'pace', 'pack', 'package', 'packages', 'packaging', 'packed', 'pact', 'page', 'page-one', 'pages', 'paid', 'pain', 'pains', 'paint', 'painted', 'painting', 'pair', 'palace', 'pall', 'paltry', 'panel', 'panic', 'paper', 'paperback', 'papers', 'par', 'parallel', 'parallels', 'parched', 'parent', 'parents', 'parishes', 'parishioners', 'park', 'parking', 'parliament', 'parlors', 'part', 'partial', 'partially', 'participant', 'participants', 'participate', 'participated', 'participation', 'particular', 'particularly', 'particulars', 'parties', 'partisan', 'partisans', 'partly', 'partner', 'partners', 'partnership', 'parts', 'parts-engineering', 'party', 'pass', 'passage', 'passages', 'passbook', 'passed', 'passenger', 'passenger-car', 'passers-by', 'passing', 'passion', 'passions', 'passport', 'past', 'pasta', 'patent', 'patented', 'patents', 'path', 'pathlogy', 'patient', 'patients', 'pattern', 'patterns', 'pay', 'payable', 'paycheck', 'paying', 'payment', 'payments', 'payoff', 'payouts', 'payrolls', 'peace', 'peaceful', 'peak', 'peaked', 'peaks', 'peal', 'pealing', 'peals', 'peculiar', 'peculiarities', 'peddling', 'pediatrician', 'pegged', 'penalties', 'penalty', 'pence', 'penchant', 'pending', 'penetrate', 'penetration', 'pennies', 'penny', 'pension', 'pension-fund', 'people', 'pep', 'per', 'per-share', 'perceived', 'perceives', 'percent', 'percentage', 'perception', 'perceptions', 'perfection', 'perfectly', 'perform', 'performance', 'performed', 'performers', 'performing', 'perhaps', 'period', 'periodontal', 'periods', 'peripheral', 'permanent', 'permissible', 'permission', 'permit', 'permits', 'permitted', 'permitting', 'perpetual', 'perpetuate', 'perpetuates', 'persistent', 'person', 'personal', 'personally', 'personnel', 'persons', 'perspective', 'persuade', 'persuasion', 'persuasive', 'pet', 'petition', 'petroleum', 'petulant', 'pharaohs', 'pharmaceutical', 'pharmaceuticals', 'phase', 'phase-out', 'phasing', 'philosophy', 'phobias', 'phone', 'phony', 'photocopy', 'photocopying', 'photograph', 'photographic', 'photographs', 'photos', 'phrase', 'physical', 'physicist', 'physics', 'pianist-comedian', 'pick', 'pick-up', 'picked', 'pickers', 'picket', 'picking', 'picks', 'pickups', 'picture', 'pie', 'piece', 'pieces', 'pill', 'pillow', 'pills', 'pilots', 'pine', 'pinning', 'pins', 'pioneer', 'pipe', 'pipeline', 'pipes', 'piracy', 'pirates', 'pistols', 'pit', 'pitches', 'pitting', 'place', 'placed', 'placement', 'places', 'placing', 'plagued', 'plainclothes', 'plaintiffs', 'plaintive', 'plan', 'plane', 'planes', 'planned', 'planner', 'planners', 'planning', 'plans', 'plant', 'planted', 'planting', 'plants', 'plastic', 'plate', 'platforms', 'platinum', 'platitudes', 'play', 'played', 'player', 'players', 'playful', 'playgrounds', 'playing', 'plays', 'playwright', 'plea', 'pleaded', 'please', 'pleased', 'pledged', 'plenty', 'plight', 'plot', 'plugged', 'plummeted', 'plunge', 'plunged', 'plunging', 'plus', 'pocket', 'pockets', 'poignant', 'point', 'pointed', 'pointing', 'points', 'poison', 'polarized', 'police', 'policies', 'policy', 'policy-making', 'polish', 'politely', 'political', 'politically', 'politicians', 'politics', 'polled', 'polls', 'polluters', 'pollution', 'polyester', 'polyproplene', 'polystyrene', 'pool', 'pools', 'poor', 'poorly', 'popular', 'popularly', 'populated', 'population', 'port', 'portfolio', 'portfolios', 'portion', 'portions', 'portray', 'portrayal', 'portrayed', 'ports', 'pose', 'posing', 'position', 'positioned', 'positions', 'positive', 'possess', 'possessed', 'possessions', 'possibility', 'possible', 'possibly', 'post', 'post-hearing', 'posted', 'posters', 'posting', 'postponed', 'posts', 'potential', 'potentially', 'pound', 'pounds', 'pour', 'poured', 'poverty', 'powder', 'power', 'powerful', 'powerhouse', 'powers', 'powwow', 'practical', 'practice', 'practiced', 'practices', 'practicing', 'practitioners', 'praised', 'prayer', 'pre-1917', 'pre-1933', 'pre-Communist', 'pre-approved', 'pre-cooked', 'pre-emptive', 'pre-existing', 'pre-tax', 'preapproved', 'precedent', 'precedes', 'precious', 'precise', 'precisely', 'preclinical', 'preclude', 'predecessor', 'predicated', 'predict', 'predictable', 'predictably', 'predicted', 'predicting', 'predicts', 'predispose', 'preface', 'prefectural', 'prefecture', 'prefer', 'preference', 'preferences', 'preferred', 'pregnant', 'prejudice', 'preliminary', 'premier', 'premiere', 'premises', 'premium', 'premiums', 'preparation', 'preparatives', 'prepare', 'prepared', 'prepayment', 'prerogative', 'prerogatives', 'prescient', 'prescribe', 'prescription', 'presence', 'present', 'presentation', 'presented', 'preserving', 'preset', 'presidency', 'president', 'presidential', 'presidents', 'press', 'pressed', 'pressing', 'pressman', 'pressure', 'pressured', 'pressures', 'prestige', 'prestigious', 'presumably', 'presumes', 'pretax', 'pretext', 'pretty', 'prevailing', 'prevalance', 'prevent', 'preventative', 'preventing', 'prevents', 'previous', 'previously', 'price', 'price-depressing', 'price-support', 'priced', 'prices', 'priciest', 'pricing', 'pricings', 'pride', 'primarily', 'primary', 'prime', 'princely', 'principal', 'principals', 'principle', 'print', 'printed', 'printers', 'printing-press', 'prints', 'prior', 'prior-year', 'priority', 'prison', 'prisoners', 'privacy', 'private', 'privately', 'privilege', 'privileged', 'prize-fighter', 'prizes', 'pro-Iranian', 'pro-choice', 'pro-democracy', 'probably', 'problem', 'problems', 'procedural', 'procedure', 'procedures', 'proceedings', 'proceeds', 'process', 'processes', 'processing', 'processors', 'procurement', 'produce', 'produced', 'producer', 'producers', 'produces', 'producing', 'product', 'product-design', 'production', 'productivity', 'products', 'profess', 'profession', 'professional', 'professionals', 'professor', 'professors', 'profit', 'profit-taking', 'profitability', 'profitable', 'profitably', 'profited', 'profits', 'program', 'program-trading', 'programmer', 'programming', 'programs', 'progress', 'progressive', 'prohibited', 'prohibiting', 'prohibits', 'project', 'projections', 'projector', 'projects', 'prolonged', 'prominent', 'prominently', 'promise', 'promised', 'promises', 'promising', 'promissory', 'promote', 'promoting', 'promotion', 'promotional', 'promotions', 'prompted', 'promptly', 'prompts', 'proof', 'propaganda', 'propagandize', 'propagandizes', 'propelling', 'properly', 'properties', 'property', 'property\\\\/casualty', 'proponent', 'proponents', 'proportion', 'proposal', 'proposals', 'propose', 'proposed', 'proposing', 'proposition', 'proprietor', 'proscribes', 'prosecute', 'prosecuted', 'prosecuting', 'prosecution', 'prosecutor', 'prosecutors', 'prospect', 'prospective', 'prospectively', 'prospects', 'prostitute', 'protect', 'protected', 'protecting', 'protection', 'protections', 'protective', 'protects', 'protein', 'protein-1', 'proteins', 'protest', 'protesters', 'protests', 'protocols', 'prototype', 'protracted', 'prove', 'proved', 'proven', 'provide', 'provided', 'providers', 'provides', 'providing', 'province', 'proving', 'provision', 'provisions', 'proviso', 'provoke', 'provoked', 'prying', 'psychiatric', 'psychiatrist', 'psychology', 'pub', 'public', 'public-relations', 'publication', 'publications', 'publicity', 'publicized', 'publicly', 'publish', 'published', 'publisher', 'publishes', 'publishing', 'pull', 'pulled', 'pulling', 'pulls', 'pulp', 'pumping', 'punish', 'punishable', 'punishing', 'punishment', 'punitive', 'purchase', 'purchased', 'purchasers', 'purchases', 'purchasing', 'purely', 'purhasing', 'purpose', 'purposes', 'purrs', 'purse', 'pursuant', 'pursue', 'pursued', 'push', 'pushed', 'pushes', 'pushing', 'put', 'puts', 'putting', 'puzzled', 'pyramids', 'qualified', 'qualify', 'qualities', 'quality', 'quantitative', 'quantities', 'quantitive', 'quantity', 'quarter', 'quarterly', 'quarters', 'quashing', 'queers', 'question', 'questionable', 'questioned', 'questions', 'queuing', 'quick', 'quickly', 'quiet', 'quietly', 'quipped', 'quips', 'quite', 'quitting', 'quota', 'quotas', 'quotations', 'quote', 'quoted', 'quoting', 'race', 'raced', 'races', 'racing', 'racket', 'radically', 'radio', 'radio-station', 'radioactivity', 'railcar', 'railcars', 'railing', 'railings', 'railroad', 'rain', 'raise', 'raised', 'raises', 'raising', 'rally', 'rallying', 'rampage', 'ramparts', 'ran', 'rancor', 'rang', 'range', 'ranged', 'ranging', 'ranked', 'rankings', 'ranks', 'rap', 'rape', 'rapid', 'rapidly', 'rapists', 'rapport', 'rapprochement', 'rare', 'rarefied', 'rarely', 'raring', 'rash', 'raspberry', 'ratcheting', 'rate', 'rate-sensitive', 'rated', 'ratepayers', 'rates', 'rather', 'ratified', 'rating', 'ratings', 'rationed', 'raw', 'razor-thin', 're-election', 're-thought', 'reach', 'reached', 'reaches', 'reaching', 'reacted', 'reaction', 'read', 'reader', 'readership', 'reading', 'readings', 'ready', 'reaffirmed', 'real', 'real-estate', 'realestate', 'reality', 'realization', 'realize', 'realized', 'reallocate', 'reallocated', 'really', 'reap', 'reaped', 'reaping', 'rear', 'rear-seat', 'reason', 'reasonably', 'reasoning', 'reasons', 'reasserts', 'reassuring', 'rebel', 'rebellion', 'rebels', 'rebound', 'rebounding', 'rebuffed', 'rebuild', 'rebuilding', 'rebuked', 'recall', 'recalling', 'recalls', 'recede', 'receipt', 'receipts', 'receive', 'received', 'receivers', 'receives', 'receiving', 'recent', 'recently', 'receptive', 'recess', 'recession', 'recession-inspired', 'recessionary', 'rechargeable', 'recipient', 'reciting', 'reckless', 'reclaim', 'reclaimed', 'recognition', 'recognize', 'recognizing', 'recombinant', 'recommend', 'recommendation', 'recommendations', 'recommended', 'recommending', 'record', 'record-keeping', 'recorded', 'recorder', 'records', 'recouped', 'recover', 'recovered', 'recovering', 'recovery', 'recruit', 'recruited', 'recruiting', 'rectified', 'recyclability', 'recyclable', 'recycled', 'red', 'red-and-white', 'red-carpet', 'red-flag', 'redeem', 'redeemed', 'redeeming', 'redemption', 'redeploy', 'redistribute', 'redistributing', 'reds', 'reduce', 'reduced', 'reducing', 'reduction', 'reductions', 'reeling', 'refer', 'reference', 'referenda', 'referendum', 'referral', 'referrals', 'referred', 'referring', 'refile', 'refinery', 'refitting', 'reflect', 'reflected', 'reflecting', 'reflection', 'reflects', 'refocusing', 'reform', 'reformers', 'reforms', 'refreshing', 'refrigerator', 'refuge', 'refund', 'refunded', 'refunding', 'refunds', 'refusal', 'refuse', 'refused', 'refuses', 'regard', 'regarded', 'regarding', 'regardless', 'regenerate', 'regime', 'regimented', 'region', 'regional', 'regions', 'registered', 'registration', 'regret', 'regrettable', 'regular', 'regulate', 'regulated', 'regulating', 'regulation', 'regulations', 'regulators', 'regulatory', 'reimbursed', 'reins', 'reinstatement', 'reinstating', 'reinvestment', 'reject', 'rejected', 'related', 'relating', 'relation', 'relations', 'relationship', 'relative', 'relatively', 'relaunched', 'release', 'released', 'releases', 'relegated', 'relentlessly', 'relevance', 'reliance', 'relied', 'relief', 'relies', 'relieve', 'relieved', 'relocate', 'reluctance', 'reluctant', 'remain', 'remainder', 'remained', 'remaining', 'remains', 'remarkable', 'remarked', 'remarks', 'reminded', 'remodeling', 'remorse', 'removal', 'remove', 'removed', 'removing', 'rendering', 'renew', 'renewal', 'renewed', 'renewing', 'renovated', 'renovation', 'rentals', 'reopen', 'reopened', 'reorganization', 'reorganized', 'repaid', 'repair', 'repaired', 'repay', 'repayment', 'repeals', 'repeatedly', 'replace', 'replaced', 'replacement', 'replacement-car', 'replacing', 'replete', 'replicate', 'replicated', 'replicating', 'replies', 'report', 'reported', 'reportedly', 'reporter', 'reporters', 'reporting', 'reports', 'represent', 'representative', 'representatives', 'represented', 'representing', 'represents', 'repriced', 'reprint', 'reprove', 'reps', 'reputation', 'request', 'requested', 'requesting', 'requests', 'require', 'required', 'requirement', 'requirements', 'requires', 'requiring', 'reruns', 'rescheduled', 'research', 'researcher', 'researchers', 'researching', 'resembles', 'resent', 'resentment', 'reservations', 'reserve', 'reserved', 'reserves', 'reservoirs', 'reshaping', 'residence', 'residential', 'resign', 'resignation', 'resigned', 'resigning', 'resilient', 'resist', 'resistance', 'resistant', 'resisting', 'resists', 'resolution', 'resolve', 'resolved', 'resonate', 'resort', 'resources', 'respect', 'respectable', 'respected', 'respite', 'respond', 'responded', 'respondents', 'responding', 'responds', 'response', 'responses', 'responsibilities', 'responsibility', 'responsible', 'responsive', 'rest', 'restaurant', 'restaurants', 'restore', 'restored', 'restraints', 'restricting', 'restriction', 'restrictions', 'restricts', 'restructure', 'restructured', 'restructures', 'restructuring', 'restructurings', 'resubmit', 'result', 'resulted', 'resulting', 'results', 'resume', 'resumes', 'resumption', 'retail', 'retailer', 'retailers', 'retailing', 'retain', 'retained', 'retaining', 'retaliating', 'retaliation', 'retard', 'retardation', 'retentive', 'retired', 'retirement', 'retires', 'retiring', 'retort', 'retorts', 'retraced', 'retractable', 'return', 'returned', 'returning', 'returns', 'revelations', 'revenue', 'revenue-desperate', 'revenues', 'reversal', 'reversed', 'review', 'reviewed', 'reviewing', 'revised', 'revising', 'revival', 'revive', 'revived', 'revolt', 'revolves', 'reward', 'rewarding', 'rewards', 'rewrite', 'rhetoric', 'rhythm', 'rhythmically', 'rich', 'richer', 'rider', 'riders', 'riding', 'rifles', 'rigged', 'right', 'rights', 'rigid', 'rigors', 'rim', 'ring', 'ringer', 'ringers', 'ringing', 'rings', 'ripen', 'rise', 'risen', 'rises', 'rising', 'risk', 'risk-free', 'riskier', 'risks', 'ritual', 'rival', 'rivals', 'river', 'road', 'roadblock', 'robbed', 'robotic', 'robustly', 'rock', 'rocket', 'role', 'roll', 'rolled', 'rolling', 'rollover', 'romance', 'romanticized', 'roof', 'roof-crush', 'roofs', 'root', 'rooted', 'rope', 'rope-sight', 'ropes', 'rose', 'rough', 'roughhewn', 'roughly', 'round', 'round-trip', 'rounds', 'rout', 'route', 'routes', 'routine', 'row', 'royalty', 'rubber', 'rule', 'ruled', 'rulers', 'rules', 'ruling', 'rulings', 'rumor', 'rumored', 'rumors', 'run', 'run-down', 'rung', 'running', 'runs', 'rural', 'rushed', 'rusted', 'rusty', 'sabotage', 'sacked', 'sacks', 'sacrifice', 'sacrificing', 'sad', 'safe', 'safe-deposit', 'safeguarding', 'safety', 'sagged', 'sagging', 'said', 'sake', 'salable', 'salaries', 'salary', 'salarymen', 'sale', 'sales', 'same', 'samples', 'sanctions', 'sank', 'sassy', 'satisfaction', 'satisfactorily', 'satisfactory', 'satisfying', 'sauce', 'save', 'saved', 'savers\\\\/investors', 'saving', 'savings', 'savings-and-loan', 'savvier', 'saw', 'say', 'saying', 'says', 'scale', 'scammers', 'scams', 'scandal', 'scandals', 'scans', 'scant', 'scarce', 'scarcely', 'scared', 'scaring', 'scattered', 'scenario', 'scenes', 'scenic', 'schedule', 'scheduled', 'scheme', 'schemes', 'scholar', 'scholarly', 'scholars', 'school', 'school-board', 'school-district', 'school-improvement', 'school-research', 'school-sponsored', 'schoolboys', 'schoolchildren', 'schools', 'schoolteacher', 'science', 'scientific', 'scientist', 'scientists', 'scoffs', 'scoop', 'score', 'scores', 'scrambled', 'scrambling', 'scrape', 'scrapped', 'scream', 'screen', 'screened', 'screens', 'screenwriters', 'screwed', 'scripts', 'scrounge', 'scrupulously', 'scrutinizing', 'scrutiny', 'scuttle', 'seafood', 'search', 'search-and-seizure', 'searched', 'searching', 'season', 'seasonal', 'seasonally', 'seasoned', 'seat', 'seats', 'secede', 'second', 'second-largest', 'secondary', 'seconds', 'secret', 'secretary', 'section', 'sections', 'sector', 'sectors', 'secured', 'securities', 'securities-based', 'security', 'security-type', 'seduce', 'see', 'seeing', 'seek', 'seeking', 'seeks', 'seem', 'seemed', 'seems', 'seen', 'sees', 'segment', 'segmenting', 'segments', 'seize', 'seized', 'select', 'selected', 'self', 'self-aggrandizing', 'self-esteem', 'self-perpetuating', 'self-regulatory', 'self-serving', 'sell', 'sell-off', 'sell-offs', 'seller', 'sellers', 'selling', 'sells', 'semesters', 'semiannual', 'semicircular', 'semiconductor', 'semiconductors', 'semiliterate', 'seminar', 'senate', 'send', 'sending', 'sends', 'senior', 'sensation', 'sensational', 'sense', 'senses', 'sensitive', 'sensitivity', 'sent', 'sentence', 'sentencing', 'sentiment', 'sentimental', 'separate', 'separately', 'separation', 'serial', 'series', 'serious', 'seriously', 'serve', 'served', 'serves', 'service', 'serviced', 'services', 'servicing', 'serving', 'session', 'set', 'setback', 'sets', 'setting', 'settle', 'settled', 'settlement', 'settlements', 'seven', 'seven-day', 'seven-million-ton', 'seven-year', 'seven-yen', 'seventh', 'severable', 'several', 'several-year', 'severance', 'severe', 'sew', 'sewer', 'sewing-machine', 'sex', 'sexy', 'shaded', 'shadows', 'shake', 'shaken', 'shaky', 'shall', 'shallow', 'shambles', 'shame', 'shape', 'shaping', 'share', 'shared', 'shareholder', 'shareholder-rights', 'shareholders', 'shares', 'sharp', 'sharper', 'sharply', 'she', 'sheaf', 'shed', 'shedding', 'sheep', 'sheepskin', 'sheet', 'sheets', 'shelf', 'shelter', 'shift', 'ship', 'shipboard', 'shipbuilding', 'shipments', 'shipped', 'shipping', 'ships', 'shipyard', 'shipyards', 'shirt-sleeved', 'shirts', 'shivers', 'shoot', 'shop', 'shopped', 'shopping', 'shops', 'shore', 'shoring', 'short', 'short-lived', 'short-term', 'short-wave', 'shortage', 'shortages', 'shortly', 'shot', 'should', 'shoulder', 'shovels', 'show', 'showed', 'showing', 'showings', 'shown', 'shows', 'shrank', 'shrinking', 'shrinks', 'shrug', 'shudders', 'shut', 'shuttle', 'sickness', 'side', 'side-crash', 'sidelines', 'sides', 'sidestep', 'sidewalk', 'sigh', 'sight', 'sights', 'sign', 'signal', 'signaling', 'signals', 'signature', 'signboards', 'signed', 'significance', 'significant', 'significantly', 'signifying', 'signing', 'signs', 'silent', 'silicon', 'silicone', 'silver', 'similar', 'similarity', 'simple', 'simply', 'simulates', 'simultaneous', 'simultaneously', 'since', 'single', 'single-A', 'single-digit', 'single-family', 'single-handed', 'single-handedly', 'single-lot', 'singled', 'sinister', 'sink', 'sit', 'sites', 'sitting', 'situation', 'situations', 'six', 'six-bottle', 'six-inch', 'six-month', 'six-packs', 'sixth', 'sizable', 'size', 'skeptical', 'skepticism', 'sketch', 'sketching', 'skidded', 'skill', 'skilled', 'skills', 'skin', 'skip', 'skipped', 'skirmishes', 'skittishness', 'sky', 'skyrocketed', 'skyward', 'slab', 'slack', 'slash', 'slashing', 'slate', 'slated', 'slaying', 'sleep', 'sleeping', 'slew', 'slid', 'slide', 'slides', 'sliding', 'slightly', 'slip', 'slippage', 'slipped', 'slippery', 'slogan', 'slope', 'slow', 'slowdown', 'slowdowns', 'slowed', 'slower', 'slowing', 'slowly', 'sluggish', 'sluggishness', 'slump', 'small', 'small-company', 'small-time', 'smaller', 'smallest', 'smartly', 'smattering', 'smiles', 'smoke', 'smokers', 'smoking', 'smooth', 'smoothly', 'smothering', 'snaking', 'snapped', 'sneaked', 'snow', 'so', 'so-called', 'soared', 'soaring', 'social', 'social-studies', 'socialism', 'socialist', 'society', 'sociology', 'soft', 'softening', 'softer', 'software', 'sogo-shosha', 'sold', 'soldiers', 'sole', 'solely', 'solemn', 'solicitation', 'soliciting', 'solicitor', 'solicitous', 'solid', 'solidarity', 'solutions', 'solved', 'solvent', 'some', 'somebody', 'somehow', 'someone', 'something', 'sometimes', 'sometimes-exhausting', 'sometimes-tawdry', 'somewhat', 'son', 'soon', 'sooner', 'sophisticated', 'sorry', 'sort', 'sorting', 'sorts', 'sought', 'soul', 'sound', 'sounded', 'sounding', 'sounds', 'source', 'sources', 'soured', 'south', 'soybeans', 'space', 'spaces', 'spackle', 'sparing', 'spark', 'sparked', 'sparking', 'sparkplugs', 'speak', 'speaking', 'speaks', 'special', 'specialist', 'specialists', 'specialize', 'specialized', 'specializes', 'specializing', 'specialty', 'species', 'specific', 'specifics', 'specified', 'specify', 'spectacular', 'spectacularly', 'spectrum', 'speculate', 'speculated', 'speculating', 'speculation', 'speculative', 'speculator', 'speculators', 'speech', 'speeches', 'speed', 'speedway', 'spend', 'spenders', 'spending', 'spends', 'spent', 'sphere', 'spiders', 'spilling', 'spin-off', 'spinoff', 'spirit', 'spirits', 'spite', 'split', 'spoke', 'spokesman', 'spokeswoman', 'spokewoman', 'sponsor', 'sponsors', 'spook', 'spooked', 'sport-utility', 'sports', 'sports-oriented', 'spot', 'spotted', 'spouse', 'sprawling', 'spread', 'spreads', 'sprightly', 'spring', 'spun', 'spur', 'spurned', 'spurns', 'spurred', 'spurring', 'sputtered', 'squad', 'square', 'squeeze', 'squeezed', 'stabbed', 'stability', 'stable', 'stacked', 'stacking', 'stadium', 'stadiums', 'staff', 'staff-reduction', 'staffs', 'stage', 'stages', 'staggering', 'staid', 'stairs', 'stake', 'stakes', 'stalemate', 'stalls', 'stance', 'stand', 'standard', 'standardized', 'standards', 'standing', 'standpoint', 'stands', 'star', 'stare', 'stark', 'stars', 'start', 'start-up', 'started', 'starters', 'starting', 'startling', 'starts', 'state', 'state-appointed', 'state-owned', 'state-supervised', 'stated', 'statement', 'states', 'statewide', 'station', 'stations', 'statistics', 'statue', 'stature', 'status', 'statute', 'statutory', 'staunchly', 'stay', 'stayed', 'staying', 'stays', 'steadily', 'steady', 'steal', 'steel', 'steelmaker', 'steelmakers', 'steep', 'steeper', 'stellar', 'stem', 'stemmed', 'stemming', 'step', 'stepped', 'stepping', 'steps', 'stereo', 'stereotyped', 'sterling', 'stick', 'sticker', 'sticker-shock', 'sticking', 'sticky', 'stiff', 'stiffer', 'stifle', 'stigma', 'still', 'stimulated', 'stimulating', 'stirred', 'stirrings', 'stock', 'stock-index', 'stock-manipulation', 'stock-market', 'stock-picking', 'stock-price', 'stock-selection', 'stock-specialist', 'stockbroker', 'stockbrokers', 'stockholders', 'stockpiles', 'stocks', 'stoked', 'stone', 'stones', 'stood', 'stop', 'stoppage', 'stopped', 'storage', 'store', 'stored', 'stores', 'storm', 'story', 'straight', 'strain', 'strains', 'strapped', 'strategic', 'strategies', 'strategy', 'stream', 'street', 'streets', 'strength', 'strengthened', 'stress', 'stressed', 'stresses', 'stressing', 'stretch', 'stretched', 'stretching', 'strict', 'strictly', 'strike', 'striking', 'string', 'stringently', 'strings', 'strip', 'stripped', 'striving', 'strong', 'strong-willed', 'stronger', 'strongest', 'strongly', 'structural', 'structurally', 'structure', 'structured', 'structures', 'struggle', 'struggled', 'struggling', 'stuck', 'student', 'student-test', 'students', 'studied', 'studies', 'studio', 'studiously', 'study', 'studying', 'stuff', 'stunned', 'stupid', 'style', 'styles', 'sub-markets', 'sub-segments', 'subcommittee', 'subcontractor', 'subdued', 'subindustry', 'subject', 'subjecting', 'subjects', 'subminimum', 'submit', 'subordinate', 'subordinated', 'subpoenaed', 'subscribe', 'subscriber', 'subscribers', 'subscription', 'subscriptions', 'subsequent', 'subsidiaries', 'subsidiary', 'subsidize', 'subskill', 'subskills', 'substance', 'substance-abusing', 'substantial', 'substantially', 'substitute', 'subtraction', 'suburban', 'succeed', 'succeeded', 'succeeding', 'succeeds', 'success', 'successful', 'successfully', 'succession', 'successor', 'such', 'sudden', 'suddenly', 'sue', 'sued', 'suffer', 'suffered', 'suffering', 'sufficiency', 'sufficient', 'sufficiently', 'sugar', 'suggest', 'suggested', 'suggests', 'suing', 'suit', 'suitors', 'sulfur-dioxide', 'sum', 'summary', 'summer', 'summer\\\\/winter', 'summoned', 'summons', 'sums', 'sunlight', 'sunny', 'super-absorbent', 'supercilious', 'supercomputer', 'supercomputers', 'superconductor', 'superconductors', 'superimposed', 'superintendent', 'superior', 'superiors', 'supermarket', 'superpremiums', 'supplemental', 'supplier', 'suppliers', 'supplies', 'supply', 'support', 'supported', 'supporters', 'supportive', 'supports', 'supposedly', 'suppression', 'supreme', 'sure', 'surely', 'surfaced', 'surge', 'surged', 'surgeon', 'surgery', 'surplus', 'surpluses', 'surprise', 'surprised', 'surprising', 'surprisingly', 'surrender', 'surrendered', 'surreptitiously', 'surrounding', 'survey', 'surveyed', 'survival', 'survive', 'surviving', 'survivor', 'suspect', 'suspects', 'suspend', 'suspended', 'suspension', 'suspensions', 'sustained', 'swallow', 'swap', 'swapped', 'swapping', 'swaps', 'sweat', 'sweater', 'sweaters', 'sweatshirts', 'sweaty', 'sweeping', 'sweepstakes', 'sweet', 'sweeten', 'sweetened', 'swelling', 'swift', 'swiftly', 'swim', 'swing', 'swings', 'switch', 'switched', 'symbol', 'symbolic', 'symmetry', 'sympathetic', 'sympathy', 'symptoms', 'synchronized', 'syndicate', 'syndication', 'syndrome', 'synthetic', 'system', 'systematic', 'systems', 'table', 'tablets', 'tabloid', 'tackle', 'tactics', 'tad', 'tag', 'tags', 'tailor-made', 'tailored', 'tailoring', 'take', 'taken', 'takeover', 'takeover-stock', 'takes', 'taking', 'takings', 'talk', 'talk-show', 'talked', 'talking', 'talks', 'tall', 'tallies', 'tally', 'tanked', 'taper', 'tapes', 'tapping', 'target', 'targeted', 'targeting', 'targets', 'tariff', 'task', 'taste', 'tasty', 'taught', 'tax', 'taxable', 'taxation', 'taxes', 'taxpayer', 'taxpayers', 'tea', 'teach', 'teacher', 'teacher-cadet', 'teachers', 'teaches', 'teaching', 'team', 'teams', 'technical', 'technically', 'technique', 'techniques', 'technologies', 'technology', 'teenage', 'teetering', 'telecommunications', 'telegraph', 'telephone', 'telephone-information', 'telephones', 'television', 'tell', 'telling', 'tells', 'temperature', 'temporarily', 'temporary', 'temptation', 'tempted', 'tempts', 'tend', 'tender', 'tendered', 'tendering', 'tenfold', 'tens', 'tense', 'tension', 'tentatively', 'tenth', 'tenure', 'term', 'termed', 'terminated', 'terms', 'terrine', 'territory', 'terrorists', 'test', 'test-coaching', 'test-drive', 'test-practice', 'test-prep', 'test-preparation', 'tested', 'testify', 'testing', 'tests', 'tete-a-tete', 'text', 'textile', 'texts', 'texture', 'than', 'thanks', 'that', 'the', 'theaters', 'their', 'them', 'theme', 'themselves', 'then', 'then-Speaker', 'theological', 'theory', 'therapies', 'therapy', 'there', 'therefore', 'these', 'they', 'thieves', 'thin', 'thin-lipped', 'thing', 'things', 'think', 'thinking', 'thinks', 'third', 'third-highest', 'third-largest', 'third-quarter', 'thirtysomething', 'this', 'those', 'though', 'thought', 'thousand', 'thousands', 'thread', 'threat', 'threatened', 'threatens', 'threats', 'three', 'three-digit', 'three-lawyer', 'three-month', 'three-quarters', 'three-sevenths', 'three-year', 'thrift', 'thrifts', 'through', 'throughout', 'throws', 'thugs', 'thumbing', 'thumbs', 'thunder', 'thus', 'thwart', 'ticket', 'tickets', 'tidbits', 'tidily', 'tie-breaking', 'tie-in', 'tied', 'ties', 'tigers', 'tight', 'tightened', 'tightening', 'till', 'tilt', 'time', 'timely', 'times', 'timing', 'tinker', 'tiny', 'tip', 'tire', 'tire-kickers', 'tired', 'tires', 'tissue', 'tissue-transplant', 'tissues', 'titans', 'to', 'toast', 'tobacco', 'today', 'together', 'toilet', 'told', 'tolerate', 'toll', 'tomorrow', 'ton', 'tone', 'tons', 'too', 'took', 'tool', 'tools', 'tooth', 'top', 'top-level', 'top-selling', 'top-yielding', 'topics', 'topped', 'tormentors', 'torn', 'torrent', 'tort', 'total', 'totaled', 'totaling', 'tote', 'touch', 'touched', 'touchy', 'tough', 'tour', 'tours', 'touted', 'tow', 'toward', 'tower', 'town', 'towns', 'tows', 'toy', 'traced', 'track', 'tracked', 'tracking', 'tracks', 'trade', 'traded', 'trademark', 'trader', 'traders', 'trades', 'trading', 'trading-company', 'tradition', 'traditional', 'traditionalists', 'traditionally', 'traffic', 'trafficking', 'trail', 'trailed', 'train', 'trained', 'training', 'training-wage', 'trains', 'traitor', 'tramp', 'transacting', 'transaction', 'transactions', 'transcribe', 'transfer', 'transferring', 'transfers', 'transformed', 'transforming', 'transition', 'transplant', 'transplantation', 'transplants', 'transportation', 'transporting', 'trap', 'trash', 'travel', 'travel-related', 'traveled', 'travelers', 'traveling', 'trays', 'treat', 'treated', 'treating', 'treatment', 'treats', 'tree', 'trees', 'tremendous', 'trend', 'trends', 'trespass', 'trial', 'trials', 'tricky', 'tried', 'trigger', 'triggered', 'trillion', 'trim', 'trimmed', 'trimming', 'trip', 'triple', 'triple-A', 'triple-A-rated', 'triple-C', 'tripled', 'trivial', 'troop', 'troops', 'trouble', 'troubled', 'troubles', 'troublesome', 'truce', 'truck', 'trucks', 'true', 'trust', 'truth', 'truth-in-lending', 'truthful', 'try', 'trying', 'tubes', 'tubular', 'tuck', 'tumbled', 'tumultuous', 'tune', 'tunes', 'turf', 'turmoil', 'turn', 'turnaround', 'turned', 'turning', 'turnover', 'turns', 'tutorials', 'twice', 'twin', 'twin-jet', 'twindam', 'twinned', 'twist', 'twisting', 'two', 'two-letter', 'two-sevenths', 'two-thirds', 'two-tiered', 'two-time-losers', 'two-week', 'two-year', 'two-year-old', 'type', 'types', 'typically', 'ugly', 'ultimate', 'ultimately', 'ultimatum', 'unabated', 'unable', 'unaffiliated', 'unanimous', 'unanticipated', 'unattractive', 'unauthorized', 'unavailability', 'unaware', 'unbearably', 'uncanny', 'uncertainties', 'uncertainty', 'unchanged', 'uncharted', 'unclear', 'uncomfortable', 'uncompensated', 'uncomplaining', 'unconsolidated', 'unconstitutional', 'undelivered', 'under', 'undercut', 'undercutting', 'undergoing', 'underline', 'underlying', 'underperforming', 'underpin', 'underprivileged', 'underscore', 'undersecretary', 'understand', 'understanding', 'understands', 'understatement', 'understood', 'undertaking', 'undertone', 'underwent', 'underwriter', 'underwriters', 'undesirable', 'undiplomatic', 'undisclosed', 'undo', 'unemployment', 'unenthusiastic', 'unenticing', 'unethical', 'unexpected', 'unfair', 'unfair-trade', 'unfairly', 'unfathomable', 'unfettered', 'unfilled', 'unfocused', 'unfounded', 'unfunded', 'unhappy', 'unheard', 'unimpeded', 'unintelligible', 'union', 'unions', 'unique', 'unit', 'unitary', 'unitholders', 'units', 'universally', 'universities', 'university', 'unjust', 'unjustified', 'unknown', 'unlabeled', 'unleashed', 'unless', 'unlike', 'unlikely', 'unload', 'unloaded', 'unmarked', 'unneeded', 'unofficial', 'unpleasant', 'unpopularity', 'unproductive', 'unproven', 'unpublished', 'unraveling', 'unrealistically', 'unrealized', 'unreasonable', 'unrecognizable', 'unresolved', 'unrestricted', 'unsecured', 'unsettled', 'unsettling', 'unsolicited', 'unspecified', 'unstinting', 'unsuccessful', 'unsuccessfully', 'unsympathetic', 'until', 'untrained', 'untrue', 'unusual', 'unusually', 'unveil', 'unveiled', 'unwanted', 'unwary', 'unwashed', 'unwilling', 'unwind', 'unworkable', 'up', 'upbeat', 'upheld', 'upon', 'upper', 'upscale', 'upset', 'upsetting', 'upside', 'upstate', 'upstream', 'uptick', 'upturn', 'upward', 'urge', 'urged', 'urging', 'us', 'use', 'used', 'useful', 'users', 'uses', 'ushered', 'ushering', 'ushers', 'using', 'usual', 'usually', 'usurp', 'utilities', 'utility', 'uttering', 'utterly', 'v.', 'vacancy', 'vacant', 'vacation', 'vacations', 'vaccines', 'vagabond', 'vagrant', 'vague', 'valuable', 'valuation', 'valuations', 'value', 'valued', 'values', 'van', 'vans', 'variables', 'variation', 'varied', 'variety', 'various', 'vary', 'varying', 'vast', 'veal', 'vehicle', 'vehicles', 'vendors', 'venerable', 'ventilated', 'venture', 'ventures', 'verbatim', 'verge', 'version', 'versions', 'versus', 'vertically', 'very', 'vested', 'veteran', 'veto', 'vetoes', 'via', 'vicar', 'vicars', 'vice', 'vicious', 'vicissitudes', 'victim', 'victims', 'victory', 'video-viewing', 'videocassette', 'view', 'viewed', 'viewers', 'viewership', 'viewing', 'viewpoint', 'viewpoints', 'views', 'vindication', 'vineyard', 'vintage', 'vintages', 'vinyl', 'violate', 'violated', 'violating', 'violation', 'violations', 'violence', 'virtually', 'virtue', 'virtues', 'visible', 'vision', 'visit', 'visited', 'visiting', 'visitors', 'visits', 'vital', 'vitally', 'vitriolic', 'voice', 'voices', 'void', 'volatile', 'volatility', 'volume', 'voluntarily', 'voluntary', 'volunteer', 'vortex', 'vote', 'voted', 'voters', 'votes', 'voting', 'vow', 'vowed', 'vs.', 'wafers', 'wage', 'wages', 'waif', 'wait', 'waited', 'waiting', 'waive', 'waived', 'waiver', 'waivers', 'waiving', 'wake', 'walk', 'walking', 'walkout', 'wallowing', 'walls', 'want', 'wanted', 'wanting', 'wants', 'war', 'war-damaged', 'war-rationed', 'ward', 'warehouses', 'warehousing', 'warming', 'warn', 'warned', 'warning', 'warnings', 'warns', 'warrant', 'warranties', 'warrants', 'wary', 'was', 'waste', 'wasted', 'watch', 'watchdogs', 'watched', 'watchers', 'watches', 'watching', 'water', 'water-authority', 'waters', 'waterworks', 'wave', 'way', 'ways', 'we', 'we-Japanese', 'weak', 'weaken', 'weakening', 'weaker', 'weakness', 'wealth', 'wealthy', 'weapon', 'weapons-modernization', 'wear', 'wears', 'weather', 'web', 'wedded', 'weddings', 'week', 'weekends', 'weeklies', 'weekly', 'weeks', 'weigh', 'weighed', 'weighing', 'weight', 'weird', 'welcome', 'welcomed', 'welfare', 'well', 'well-connected', 'well-known', 'went', 'were', 'what', 'wheat', 'wheel-loader', 'wheels', 'when', 'when-issued', 'whenever', 'where', 'whereby', 'wherewithal', 'whether', 'which', 'whichever', 'while', 'whimsical', 'whipping', 'whipsaw', 'whirling', 'whistle', 'white', 'white-collar', 'who', 'whole', 'wholesale', 'wholesaler', 'whom', 'whose', 'why', 'wide', 'widely', 'widespread', 'widget', 'widgets', 'widow', 'wield', 'wife', 'wild', 'wildly', 'will', 'willing', 'willingness', 'win', 'windfall', 'winding', 'window', 'wine', 'wine-buying', 'wine-making', 'wines', 'wings', 'winner', 'winners', 'winning', 'wins', 'winter', 'wires', 'wisdom', 'wish', 'witches', 'with', 'withdraw', 'withdrawal', 'withdrawn', 'withdrew', 'withhold', 'within', 'without', 'withstand', 'witness', 'witnesses', 'wives', 'wizards', 'wo', 'woman', 'women', 'won', 'wonder', 'wooing', 'word', 'word-processing', 'words', 'work', 'workable', 'workbooks', 'worked', 'worker', 'workers', 'workforce', 'working', 'workplace', 'works', 'worksheets', 'world', 'world-wide', 'worms', 'worried', 'worries', 'worry', 'worrying', 'worse', 'worsen', 'worsening', 'worship', 'worst', 'worst-case', 'worth', 'worthiness', 'worthy', 'would', 'would-be', 'wound', 'wrath', 'wrecking', 'wrenching', 'wrestling', 'wrists', 'write', 'write-downs', 'write-off', 'writer', 'writers', 'writing', 'written', 'wrong', 'wrongdoing', 'wrote', 'year', 'year-ago', 'year-earlier', 'year-end', 'year-long', 'year-to-year', 'yearly', 'years', 'yellow', 'yen', 'yen-denominated', 'yen-support', 'yes', 'yesterday', 'yet', 'yet-to-be-formed', 'yield', 'yielded', 'yielding', 'yields', 'yon', 'you', 'young', 'younger', 'youngsters', 'your', 'yourself', 'youth', 'youthful', 'yttrium-containing', 'zero', 'zinc', 'zip', 'zone', 'zoomed']\n"
     ]
    }
   ],
   "source": [
    "wsj = sorted(set(nltk.corpus.treebank.words()))\n",
    "print(wsj)"
   ]
  },
  {
   "cell_type": "markdown",
   "metadata": {},
   "source": [
    "set은 집합으로 만들고 sorting을 한다. 사전화 한다. "
   ]
  },
  {
   "cell_type": "code",
   "execution_count": 14,
   "metadata": {},
   "outputs": [
    {
     "name": "stdout",
     "output_type": "stream",
     "text": [
      "['ea', 'oi', 'ea', 'ou', 'oi', 'ea', 'ea', 'oi', 'oi', 'ea', 'io', 'ea', 'ea', 'ea', 'oi', 'ea', 'ea', 'ea', 'ea', 'ea', 'ea', 'ea', 'ee', 'ea', 'ea', 'ea', 'ea', 'ea', 'ea', 'ea', 'ea', 'oi', 'ea', 'ea', 'ou', 'ou', 'ou', 'ie', 'ui', 'io', 'ua', 'io', 'ai', 'ai', 'ai', 'io', 'ie', 'ue', 'ue', 'ia', 'ie', 'ea', 'ai', 'ou', 'ia', 'ei', 'ie', 'ea', 'ea', 'ie', 'ia', 'ia', 'ua', 'ie', 'io', 'ea', 'ia', 'io', 'ui', 'ia', 'ia', 'ea', 'iai', 'ai', 'ia', 'ia', 'ia', 'ia', 'ia', 'io', 'oo', 'io', 'ia', 'ia', 'ia', 'ia', 'ue', 'ea', 'ai', 'ai', 'ue', 'ie', 'au', 'ea', 'ea', 'ea', 'ea', 'eau', 'au', 'ei', 'ei', 'ei', 'ei', 'ei', 'ia', 'ie', 'io', 'ue', 'oa', 'oei', 'oe', 'ia', 'oo', 'oo', 'oo', 'eau', 'ou', 'ou', 'ai', 'ou', 'ai', 'oo', 'ea', 'au', 'ia', 'ea', 'ea', 'ee', 'ia', 'ai', 'oa', 'oo', 'oo', 'oo', 'ei', 'ei', 'ea', 'ui', 'ui', 'eau', 'ie', 'ia', 'ia', 'ai', 'eau', 'ia', 'ea', 'ie', 'ie', 'oo', 'ai', 'ai', 'io', 'ie', 'ie', 'eau', 'ee', 'ee', 'ea', 'io', 'oo', 'ia', 'ie', 'ui', 'io', 'io', 'io', 'ai', 'ai', 'au', 'oa', 'oi', 'ia', 'io', 'io', 'ee', 'ie', 'ea', 'io', 'io', 'ie', 'ou', 'io', 'io', 'ue', 'io', 'io', 'ai', 'ue', 'ui', 'io', 'oo', 'oo', 'io', 'ou', 'ou', 'ou', 'ou', 'ie', 'ou', 'ou', 'ou', 'ou', 'ou', 'ee', 'ui', 'ee', 'ia', 'ai', 'ai', 'ai', 'ie', 'ie', 'oi', 'ie', 'io', 'ea', 'ea', 'ea', 'ee', 'au', 'io', 'ai', 'io', 'oi', 'ia', 'ia', 'eo', 'ie', 'ea', 'io', 'oa', 'oe', 'ai', 'io', 'ie', 'ue', 'ou', 'oi', 'ue', 'ee', 'ie', 'ia', 'ie', 'io', 'io', 'ia', 'io', 'ie', 'ou', 'ou', 'ee', 'ea', 'ai', 'ua', 'ui', 'ui', 'ui', 'uu', 'ea', 'ea', 'io', 'ui', 'ie', 'ia', 'ie', 'ie', 'ei', 'ai', 'ai', 'ai', 'ai', 'ai', 'ie', 'au', 'ea', 'ua', 'io', 'ee', 'ee', 'ie', 'ee', 'ia', 'ia', 'io', 'oo', 'oo', 'oo', 'ei', 'ei', 'ou', 'io', 'ou', 'ou', 'ai', 'ou', 'ou', 'ee', 'ou', 'ie', 'ee', 'ee', 'eu', 'eu', 'ie', 'ie', 'ue', 'ai', 'ie', 'eo', 'eo', 'eo', 'ia', 'eo', 'ia', 'ia', 'ia', 'ie', 'ie', 'au', 'iu', 'ia', 'au', 'oo', 'oo', 'ie', 'ua', 'ua', 'ai', 'ea', 'ee', 'ee', 'ee', 'ee', 'ee', 'ou', 'ou', 'ou', 'ua', 'ee', 'ua', 'ee', 'ua', 'ue', 'ui', 'ui', 'ui', 'ea', 'oo', 'ou', 'ou', 'au', 'io', 'aii', 'aiia', 'ea', 'ea', 'ea', 'ea', 'ea', 'ei', 'ei', 'ei', 'ei', 'oo', 'ie', 'oo', 'ou', 'ou', 'ou', 'ou', 'ou', 'ou', 'ea', 'oi', 'ee', 'ia', 'ia', 'ia', 'ua', 'ua', 'ia', 'ia', 'ie', 'io', 'ia', 'ou', 'ea', 'io', 'io', 'eu', 'ia', 'io', 'ie', 'ia', 'ie', 'ae', 'ue', 'ia', 'ua', 'ai', 'aa', 'aa', 'ai', 'ua', 'oa', 'oe', 'oe', 'ou', 'ou', 'ia', 'ia', 'ie', 'ia', 'oo', 'ee', 'ei', 'ea', 'ea', 'ee', 'ei', 'ei', 'ee', 'au', 'ei', 'oi', 'oi', 'ea', 'ua', 'ie', 'oui', 'ieu', 'ou', 'au', 'au', 'au', 'ea', 'ea', 'ea', 'ee', 'ou', 'io', 'ei', 'ei', 'ei', 'eo', 'eo', 'io', 'ie', 'ou', 'oa', 'oe', 'oe', 'oo', 'ai', 'oui', 'oui', 'ia', 'oui', 'ia', 'oui', 'ie', 'ae', 'ai', 'ia', 'ia', 'ie', 'ie', 'oui', 'ie', 'io', 'io', 'io', 'ia', 'au', 'ui', 'eo', 'ea', 'ea', 'ia', 'ee', 'ei', 'ia', 'ia', 'ia', 'ae', 'ae', 'io', 'ue', 'ai', 'au', 'ee', 'ea', 'ea', 'io', 'ou', 'ui', 'io', 'oi', 'ou', 'ie', 'oo', 'oo', 'oo', 'eo', 'ou', 'ua', 'oi', 'ia', 'ia', 'ia', 'io', 'io', 'io', 'io', 'ea', 'ea', 'ea', 'ee', 'ia', 'ei', 'ei', 'oo', 'eu', 'ou', 'ee', 'ua', 'ie', 'ei', 'ai', 'ie', 'ea', 'ia', 'ou', 'ie', 'ou', 'ei', 'io', 'io', 'ea', 'ia', 'io', 'io', 'ou', 'ia', 'io', 'io', 'io', 'io', 'io', 'ea', 'ea', 'ea', 'ai', 'ia', 'ua', 'ou', 'ia', 'ie', 'ia', 'au', 'au', 'ou', 'ea', 'ia', 'ie', 'eo', 'eo', 'ia', 'oi', 'io', 'ua', 'eu', 'ao', 'ia', 'ia', 'oe', 'ie', 'ie', 'io', 'ai', 'io', 'ie', 'oo', 'oo', 'io', 'ua', 'iou', 'ie', 'ia', 'iou', 'io', 'ee', 'io', 'io', 'ua', 'io', 'ia', 'ia', 'io', 'io', 'ue', 'ua', 'uee', 'ia', 'io', 'ae', 'ai', 'ai', 'oa', 'ei', 'ie', 'au', 'oo', 'ea', 'ea', 'ea', 'ea', 'ea', 'oo', 'ee', 'io', 'ia', 'ai', 'ee', 'ea', 'ea', 'ou', 'au', 'ai', 'eu', 'eu', 'eu', 'ue', 'ie', 'io', 'ou', 'ie', 'ie', 'ie', 'ie', 'ie', 'oe', 'ee', 'oo', 'oo', 'oo', 'ie', 'ou', 'ou', 'ie', 'ia', 'ai', 'ai', 'ue', 'au', 'au', 'au', 'au', 'ia', 'ae', 'oo', 'ei', 'ie', 'ie', 'ia', 'ea', 'ea', 'ea', 'ea', 'ea', 'ea', 'ia', 'ia', 'io', 'ie', 'ee', 'ou', 'io', 'io', 'eou', 'ia', 'ie', 'io', 'ou', 'ea', 'ee', 'ie', 'oo', 'ai', 'ia', 'ie', 'ie', 'eo', 'ie', 'oa', 'ia', 'ie', 'aia', 'io', 'oo', 'ou', 'ou', 'ou', 'ou', 'ou', 'ou', 'ea', 'ou', 'ie', 'ie', 'ai', 'io', 'ee', 'ie', 'ie', 'oo', 'ea', 'ie', 'uie', 'iu', 'iu', 'ea', 'ee', 'ee', 'ei', 'ie', 'ie', 'ie', 'ai', 'ee', 'ua', 'ui', 'ai', 'ea', 'ai', 'ai', 'ei', 'ai', 'ai', 'ai', 'eo', 'au', 'ea', 'ea', 'ei', 'io', 'io', 'ai', 'ai', 'ei', 'eo', 'ou', 'ou', 'ee', 'oo', 'io', 'oo', 'ou', 'ou', 'io', 'io', 'ai', 'ai', 'io', 'ea', 'ie', 'ee', 'au', 'ou', 'eau', 'ue', 'ou', 'ai', 'oo', 'oo', 'io', 'ie', 'ie', 'ue', 'ia', 'eo', 'ia', 'ia', 'ua', 'oi', 'ae', 'ae', 'ui', 'ou', 'oo', 'ea', 'ee', 'ei', 'ei', 'ie', 'ei', 'ou', 'ee', 'ea', 'ia', 'ia', 'ia', 'ou', 'oo', 'oo', 'oo', 'oo', 'oo', 'ee', 'ia', 'iao', 'ai', 'ea', 'ea', 'ie', 'ou', 'ou', 'ou', 'ou', 'ou', 'ue', 'ea', 'oa', 'io', 'io', 'io', 'io', 'ou', 'ou', 'oa', 'io', 'ie', 'io', 'ou', 'ou', 'ou', 'ou', 'ou', 'ou', 'ou', 'ue', 'ue', 'ie', 'ie', 'ie', 'ie', 'ie', 'ai', 'ui', 'ui', 'ui', 'ui', 'ui', 'ui', 'ui', 'io', 'ui', 'io', 'ui', 'io', 'io', 'io', 'ie', 'ua', 'ua', 'io', 'io', 'io', 'io', 'ua', 'ua', 'io', 'io', 'ia', 'ae', 'ae', 'ai', 'ai', 'ia', 'ia', 'ai', 'oo', 'ai', 'ai', 'ie', 'ee', 'ee', 'ee', 'eei', 'ee', 'ee', 'ee', 'ea', 'ai', 'ai', 'ai', 'ai', 'ai', 'ai', 'ai', 'ai', 'ai', 'ai', 'ai', 'ai', 'ai', 'ai', 'ai', 'ai', 'ai', 'ai', 'ai', 'ie', 'io', 'ia', 'ie', 'io', 'ea', 'ou', 'ui', 'io', 'iou', 'io', 'ou', 'ou', 'ou', 'ie', 'ou', 'ou', 'ou', 'ou', 'ua', 'ua', 'ua', 'io', 'io', 'ia', 'eo', 'io', 'ie', 'ie', 'iou', 'ie', 'ea', 'ea', 'ea', 'ea', 'ea', 'ea', 'ea', 'ea', 'au', 'ia', 'ia', 'io', 'io', 'ie', 'oi', 'oi', 'oi', 'oi', 'ia', 'io', 'oa', 'oa', 'oa', 'ia', 'ia', 'ia', 'io', 'ia', 'io', 'ia', 'ea', 'ea', 'ue', 'ue', 'ue', 'ui', 'ou', 'io', 'au', 'au', 'io', 'io', 'ua', 'io', 'ia', 'ia', 'ia', 'ia', 'io', 'io', 'io', 'ie', 'io', 'au', 'io', 'au', 'io', 'au', 'io', 'au', 'ie', 'au', 'io', 'au', 'au', 'au', 'au', 'au', 'au', 'au', 'ie', 'au', 'au', 'au', 'au', 'au', 'au', 'io', 'au', 'au', 'au', 'au', 'au', 'io', 'au', 'au', 'au', 'au', 'au', 'au', 'au', 'ai', 'ue', 'oi', 'oi', 'ai', 'ou', 'oo', 'oo', 'ue', 'ai', 'ai', 'ie', 'ie', 'ea', 'ea', 'ea', 'ea', 'eau', 'eau', 'au', 'ee', 'ee', 'ee', 'ee', 'io', 'ea', 'ei', 'ea', 'ue', 'ie', 'ie', 'ie', 'ie', 'ia', 'ia', 'ie', 'ia', 'ee', 'ia', 'ua', 'ia', 'ua', 'io', 'io', 'io', 'ai', 'io', 'ui', 'oo', 'oo', 'oo', 'oo', 'eo', 'ue', 'ue', 'ue', 'ue', 'oa', 'oa', 'oa', 'oi', 'oo', 'ie', 'oo', 'oo', 'oo', 'oo', 'oo', 'oo', 'oo', 'oo', 'oo', 'oo', 'oo', 'oo', 'oo', 'oo', 'ou', 'ou', 'ou', 'ou', 'ou', 'ou', 'ue', 'ie', 'ai', 'ea', 'ea', 'ea', 'ea', 'ea', 'ea', 'ea', 'ea', 'ea', 'ea', 'ea', 'ea', 'ea', 'ee', 'ee', 'ie', 'ie', 'ie', 'ia', 'ia', 'oa', 'oa', 'oa', 'oa', 'oa', 'oa', 'oa', 'oa', 'ou', 'ui', 'ui', 'ui', 'ui', 'ui', 'ui', 'ui', 'ui', 'uo', 'eau', 'eau', 'ie', 'oa', 'ou', 'ou', 'iu', 'io', 'ai', 'ai', 'ai', 'ai', 'io', 'au', 'ai', 'oa', 'io', 'ee', 'ee', 'ee', 'ie', 'ie', 'ie', 'ie', 'oo', 'ie', 'au', 'au', 'au', 'au', 'au', 'au', 'au', 'io', 'au', 'io', 'au', 'iou', 'au', 'iou', 'ea', 'ou', 'ea', 'ei', 'ia', 'ie', 'ea', 'ai', 'ai', 'ie', 'ai', 'ai', 'ai', 'ai', 'io', 'io', 'ao', 'ao', 'au', 'eu', 'ea', 'ea', 'ea', 'ea', 'oo', 'ee', 'ea', 'ee', 'ea', 'ie', 'ie', 'oi', 'oo', 'oo', 'oo', 'oe', 'ui', 'ui', 'oa', 'ui', 'ea', 'io', 'io', 'io', 'ie', 'io', 'ai', 'ai', 'ai', 'ai', 'ie', 'io', 'ie', 'oo', 'au', 'ea', 'ea', 'ai', 'ea', 'ea', 'ea', 'ea', 'ea', 'ea', 'ea', 'ea', 'ea', 'ea', 'ea', 'ea', 'ie', 'ie', 'ou', 'ou', 'ou', 'ue', 'au', 'ai', 'ou', 'oa', 'oa', 'oa', 'oa', 'oa', 'ie', 'ee', 'oi', 'eu', 'ea', 'ue', 'io', 'io', 'ai', 'io', 'io', 'ie', 'ia', 'ia', 'io', 'io', 'ee', 'ee', 'ie', 'io', 'io', 'ie', 'io', 'io', 'io', 'io', 'io', 'io', 'ai', 'ai', 'ai', 'ai', 'ai', 'ai', 'io', 'ia', 'io', 'ou', 'ai', 'ei', 'io', 'io', 'io', 'io', 'io', 'io', 'ui', 'ee', 'ia', 'io', 'io', 'io', 'io', 'ue', 'ue', 'io', 'uou', 'ue', 'io', 'io', 'ai', 'io', 'ue', 'io', 'ai', 'ai', 'ai', 'ai', 'ai', 'ai', 'ee', 'ua', 'ue', 'ue', 'ue', 'ui', 'ui', 'uou', 'uou', 'io', 'io', 'io', 'ia', 'ie', 'io', 'io', 'io', 'io', 'oo', 'oo', 'oo', 'oo', 'io', 'oo', 'oo', 'ie', 'ie', 'io', 'io', 'io', 'ou', 'ou', 'ou', 'ou', 'ou', 'ou', 'ou', 'ou', 'ou', 'ou', 'ou', 'io', 'ou', 'ei', 'ou', 'ou', 'ou', 'ie', 'ou', 'ou', 'ou', 'ou', 'ou', 'ou', 'ou', 'ou', 'ou', 'ou', 'ou', 'oo', 'ou', 'ou', 'oo', 'ea', 'ea', 'ea', 'ea', 'ea', 'ea', 'io', 'ea', 'ea', 'ea', 'ia', 'ia', 'oo', 'oo', 'ia', 'ui', 'ui', 'ue', 'ue', 'io', 'ie', 'ai', 'ai', 'io', 'io', 'oa', 'ee', 'ai', 'ie', 'ai', 'ai', 'au', 'ea', 'ea', 'ea', 'ea', 'oo', 'ea', 'ea', 'ea', 'ea', 'ea', 'ea', 'ea', 'ea', 'io', 'io', 'io', 'ea', 'ie', 'ie', 'ee', 'ee', 'ee', 'ee', 'au', 'ea', 'ea', 'ea', 'ie', 'ie', 'ee', 'ee', 'io', 'ia', 'ie', 'ie', 'ou', 'ou', 'io', 'io', 'io', 'io', 'io', 'io', 'io', 'ai', 'ai', 'ai', 'io', 'io', 'io', 'io', 'ia', 'ia', 'io', 'ou', 'ia', 'ia', 'ia', 'ia', 'ue', 'ia', 'ia', 'ie', 'ie', 'ie', 'ia', 'ie', 'au', 'ai', 'io', 'io', 'ie', 'ia', 'io', 'ee', 'eea', 'ee', 'ee', 'ee', 'ea', 'ea', 'oi', 'oi', 'oi', 'ue', 'ue', 'ui', 'ou', 'ou', 'ou', 'ou', 'ie', 'io', 'io', 'io', 'io', 'io', 'ea', 'ea', 'ie', 'io', 'io', 'io', 'ui', 'io', 'io', 'ie', 'io', 'io', 'io', 'ou', 'oe', 'oi', 'io', 'oo', 'oo', 'ou', 'ou', 'ou', 'ou', 'ou', 'ou', 'ou', 'ou', 'ai', 'ea', 'ea', 'ea', 'ea', 'ie', 'oo', 'ou', 'ou', 'ue', 'ou', 'ie', 'uo', 'oo', 'ie', 'ee', 'ea', 'ea', 'ea', 'ie', 'ea', 'ie', 'ea', 'ea', 'ea', 'ea', 'ea', 'ea', 'ea', 'ea', 'ua', 'ea', 'ea', 'ea', 'ea', 'ie', 'ea', 'ea', 'ea', 'ea', 'ea', 'ea', 'ea', 'oe', 'ie', 'io', 'io', 'ia', 'ia', 'io', 'io', 'ie', 'ie', 'ie', 'ie', 'iou', 'ei', 'ei', 'ou', 'ei', 'ei', 'ei', 'ei', 'io', 'io', 'io', 'oi', 'ie', 'io', 'io', 'io', 'ee', 'ee', 'ou', 'ou', 'ou', 'ou', 'oa', 'ee', 'ee', 'ee', 'ee', 'ou', 'ou', 'ou', 'ai', 'ai', 'ai', 'ia', 'eu', 'ia', 'ua', 'ua', 'ua', 'ua', 'ua', 'ui', 'ui', 'ui', 'ui', 'ie', 'ui', 'ui', 'ui', 'eou', 'ia', 'ou', 'ia', 'io', 'ua', 'ua', 'ua', 'io', 'ua', 'io', 'io', 'io', 'ee', 'ee', 'ee', 'ee', 'ee', 'io', 'io', 'io', 'io', 'io', 'io', 'io', 'au', 'au', 'io', 'io', 'io', 'io', 'ie', 'ie', 'ie', 'ai', 'ai', 'ai', 'ai', 'oi', 'io', 'io', 'ie', 'io', 'io', 'ao', 'ei', 'ia', 'ie', 'ai', 'ai', 'ai', 'ai', 'ai', 'ai', 'ai', 'ai', 'ai', 'ai', 'ai', 'ai', 'ia', 'ia', 'io', 'ie', 'ou', 'io', 'io', 'oo', 'ie', 'au', 'au', 'ea', 'ea', 'ea', 'ea', 'ea', 'ea', 'ea', 'ea', 'ea', 'ee', 'ee', 'ee', 'ee', 'ee', 'ee', 'ee', 'ee', 'ee', 'ie', 'ue', 'eu', 'ie', 'ie', 'ie', 'ie', 'ia', 'ia', 'ia', 'ie', 'oi', 'ea', 'ee', 'ee', 'ie', 'oa', 'oa', 'oo', 'oo', 'oo', 'oo', 'ou', 'ua', 'io', 'ua', 'io', 'ue', 'oa', 'io', 'oo', 'oo', 'oo', 'oo', 'oo', 'oo', 'ei', 'ei', 'ei', 'ei', 'io', 'ou', 'ou', 'ou', 'ou', 'io', 'ou', 'io', 'ou', 'ou', 'ou', 'ou', 'ou', 'ou', 'ou', 'oo', 'ou', 'ea', 'ou', 'ea', 'ou', 'ou', 'ua', 'io', 'io', 'io', 'au', 'ee', 'ee', 'ee', 'ee', 'ee', 'ee', 'ue', 'ue', 'io', 'ie', 'ie', 'ie', 'ie', 'ea', 'ue', 'ue', 'ue', 'ue', 'ea', 'io', 'io', 'ai', 'iou', 'ai', 'ai', 'ai', 'ai', 'iu', 'ie', 'au', 'au', 'au', 'io', 'io', 'io', 'ou', 'ie', 'ui', 'eo', 'eo', 'ou', 'ia', 'ia', 'ie', 'ea', 'oo', 'oa', 'oe', 'oi', 'oo', 'oo', 'ai', 'oo', 'ea', 'oo', 'oo', 'ie', 'oo', 'oo', 'ie', 'ua', 'ua', 'ua', 'ai', 'ai', 'ea', 'ea', 'ea', 'ea', 'ee', 'ee', 'ee', 'ee', 'ai', 'ou', 'ou', 'ou', 'ua', 'ee', 'ua', 'ee', 'ua', 'ee', 'ua', 'ua', 'ia', 'ue', 'ue', 'ue', 'ui', 'ui', 'ui', 'ui', 'ui', 'io', 'ai', 'ai', 'ai', 'ou', 'ie', 'au', 'au', 'au', 'ou', 'ea', 'ea', 'ou', 'ea', 'ea', 'ea', 'ea', 'ea', 'ua', 'ea', 'ea', 'ea', 'ea', 'ea', 'ea', 'ea', 'ea', 'ea', 'ea', 'ea', 'ea', 'ea', 'ea', 'ea', 'ea', 'ea', 'ee', 'ie', 'ee', 'ie', 'ei', 'ei', 'ie', 'ua', 'ee', 'ie', 'ie', 'ua', 'oo', 'oo', 'ou', 'ou', 'ou', 'ou', 'ou', 'ou', 'ou', 'ou', 'ou', 'au', 'ia', 'ea', 'ea', 'ie', 'ie', 'eo', 'io', 'ia', 'ia', 'ai', 'ia', 'ie', 'uou', 'io', 'io', 'io', 'ie', 'ie', 'io', 'ua', 'ua', 'ia', 'au', 'iou', 'io', 'io', 'ea', 'ea', 'ea', 'ea', 'ea', 'ee', 'io', 'io', 'io', 'ua', 'ua', 'ia', 'ia', 'io', 'ia', 'ia', 'ie', 'ie', 'ie', 'iou', 'io', 'io', 'ue', 'ue', 'ue', 'ue', 'ia', 'io', 'io', 'ue', 'io', 'ui', 'ie', 'ia', 'ia', 'ia', 'ia', 'ia', 'ia', 'ia', 'ia', 'ie', 'io', 'ue', 'oe', 'ui', 'ie', 'ui', 'ui', 'iou', 'ua', 'io', 'io', 'ea', 'io', 'io', 'io', 'io', 'io', 'ua', 'ua', 'io', 'io', 'io', 'ea', 'io', 'ia', 'io', 'io', 'io', 'io', 'io', 'ie', 'ie', 'io', 'ao', 'ui', 'io', 'io', 'io', 'ia', 'io', 'ie', 'io', 'io', 'io', 'io', 'ue', 'ue', 'ue', 'ue', 'ue', 'ui', 'ai', 'eo', 'eo', 'oi', 'oi', 'oi', 'oi', 'oi', 'oi', 'oi', 'ou', 'ou', 'ou', 'ia', 'ia', 'au', 'io', 'io', 'ie', 'ee', 'ee', 'ee', 'oa', 'ea', 'iou', 'ai', 'ua', 'ua', 'ou', 'ee', 'ua', 'ou', 'au', 'au', 'au', 'au', 'au', 'au', 'ui', 'ui', 'ea', 'ea', 'ea', 'ea', 'ea', 'ea', 'ea', 'ea', 'ea', 'ea', 'ea', 'ea', 'ea', 'ea', 'ea', 'ea', 'ea', 'ea', 'ea', 'ea', 'ee', 'ee', 'io', 'ea', 'io', 'iou', 'ia', 'ia', 'ie', 'ia', 'ia', 'ieu', 'ieu', 'oo', 'io', 'io', 'ui', 'ui', 'ui', 'ui', 'io', 'ui', 'io', 'oo', 'oa', 'oa', 'oa', 'oa', 'oa', 'oa', 'ie', 'io', 'io', 'oo', 'oo', 'oo', 'ee', 'oo', 'oo', 'oo', 'oo', 'oo', 'oo', 'oo', 'io', 'ou', 'ou', 'ie', 'io', 'ia', 'ie', 'ai', 'ai', 'ai', 'ai', 'ai', 'ai', 'ai', 'ai', 'ai', 'ai', 'ai', 'ai', 'ai', 'ai', 'ea', 'ue', 'io', 'ia', 'ua', 'ie', 'io', 'aa', 'ia', 'ou', 'ia', 'ia', 'ia', 'ia', 'ia', 'ie', 'ea', 'ea', 'ea', 'ea', 'ea', 'ea', 'ea', 'ea', 'ea', 'ea', 'ea', 'ea', 'ea', 'io', 'ia', 'io', 'iu', 'ee', 'ee', 'ee', 'ee', 'iu', 'ie', 'io', 'io', 'io', 'oo', 'ou', 'ea', 'io', 'io', 'ea', 'io', 'ai', 'io', 'ia', 'ea', 'ia', 'io', 'io', 'ie', 'ie', 'oo', 'oo', 'iu', 'ie', 'eo', 'io', 'ou', 'ou', 'ou', 'ou', 'ie', 'ie', 'io', 'io', 'io', 'ie', 'eu', 'eu', 'ua', 'ua', 'ia', 'ai', 'io', 'io', 'io', 'io', 'io', 'io', 'ea', 'ea', 'ea', 'ea', 'ea', 'ea', 'ea', 'ie', 'ee', 'ee', 'ee', 'ee', 'ee', 'ee', 'ia', 'ia', 'ia', 'ia', 'ia', 'io', 'ia', 'ia', 'ei', 'oo', 'ei', 'oo', 'ei', 'ei', 'ei', 'eo', 'ou', 'ou', 'eu', 'oo', 'ee', 'ea', 'io', 'ee', 'ee', 'io', 'iou', 'ia', 'ia', 'oo', 'ie', 'io', 'ea', 'ie', 'ou', 'io', 'ie', 'io', 'io', 'io', 'io', 'io', 'io', 'ai', 'ai', 'ai', 'iou', 'iou', 'io', 'ia', 'ou', 'ea', 'ea', 'ia', 'ia', 'ia', 'oi', 'oi', 'oi', 'io', 'ou', 'ou', 'ou', 'ee', 'ea', 'oi', 'au', 'io', 'io', 'io', 'io', 'io', 'ie', 'io', 'io', 'io', 'ea', 'io', 'io', 'ie', 'ou', 'ou', 'ou', 'ou', 'ou', 'ou', 'ou', 'ou', 'ou', 'ou', 'ou', 'ou', 'ou', 'ou', 'ou', 'oo', 'ou', 'ou', 'ou', 'ou', 'ou', 'eou', 'ou', 'ou', 'ou', 'ou', 'ou', 'ou', 'io', 'ou', 'ea', 'io', 'ea', 'ee', 'ue', 'ai', 'ai', 'ai', 'ai', 'ai', 'ai', 'ai', 'io', 'ia', 'ia', 'ia', 'io', 'ie', 'ee', 'oo', 'io', 'io', 'ie', 'ie', 'ou', 'ea', 'ea', 'ea', 'ea', 'ea', 'ea', 'ea', 'ea', 'ia', 'ia', 'ie', 'ia', 'ia', 'ie', 'io', 'ie', 'io', 'io', 'eo', 'ei', 'ei', 'io', 'io', 'io', 'io', 'io', 'io', 'io', 'ua', 'ua', 'ua', 'ua', 'ua', 'io', 'ua', 'io', 'eu', 'ao', 'eu', 'eu', 'ou', 'ia', 'ia', 'ia', 'ie', 'ie', 'ie', 'io', 'ee', 'ue', 'ai', 'ai', 'ai', 'ou', 'ea', 'ea', 'ea', 'ea', 'oi', 'oi', 'oi', 'oi', 'oi', 'oi', 'ie', 'ia', 'io', 'oo', 'oo', 'oo', 'oo', 'io', 'io', 'io', 'io', 'io', 'io', 'io', 'io', 'io', 'ea', 'ia', 'ia', 'ou', 'ou', 'ou', 'ou', 'ou', 'io', 'ai', 'oo', 'ea', 'iou', 'ie', 'ie', 'iu', 'iu', 'io', 'ie', 'io', 'io', 'ia', 'iou', 'ai', 'iou', 'iou', 'ie', 'io', 'io', 'ea', 'io', 'ia', 'oi', 'ee', 'ee', 'io', 'io', 'io', 'io', 'io', 'io', 'io', 'io', 'oo', 'ie', 'ua', 'io', 'io', 'ie', 'io', 'io', 'io', 'ei', 'ei', 'ei', 'io', 'io', 'ia', 'ia', 'io', 'io', 'io', 'ua', 'ue', 'ue', 'ua', 'ie', 'ua', 'ua', 'ie', 'ua', 'ua', 'ua', 'ie', 'ua', 'ua', 'ua', 'ua', 'ua', 'ua', 'uee', 'ue', 'io', 'ue', 'io', 'ue', 'io', 'ue', 'io', 'ueui', 'ui', 'ui', 'uie', 'uie', 'ui', 'ui', 'ui', 'ui', 'uo', 'uo', 'uo', 'io', 'uo', 'uo', 'uo', 'io', 'io', 'io', 'ioa', 'ai', 'ai', 'ai', 'ai', 'ai', 'oa', 'ai', 'ai', 'ai', 'ai', 'ai', 'ie', 'ie', 'io', 'io', 'ou', 'ea', 'ea', 'ea', 'ea', 'ea', 'ea', 'io', 'ea', 'ea', 'ea', 'ea', 'ea', 'ea', 'ea', 'ea', 'ea', 'ea', 'ea', 'ea', 'io', 'ea', 'ea', 'ea', 'ea', 'ea', 'ea', 'ea', 'ea', 'ea', 'ea', 'ea', 'ea', 'ea', 'ea', 'ea', 'ea', 'ea', 'io', 'ou', 'ou', 'ui', 'ui', 'ei', 'ei', 'ei', 'ei', 'ei', 'ei', 'ei', 'io', 'io', 'io', 'ea', 'ie', 'ai', 'ai', 'io', 'io', 'io', 'ee', 'ou', 'ui', 'ui', 'ui', 'ie', 'ee', 'ee', 'ee', 'io', 'io', 'io', 'ee', 'io', 'io', 'io', 'io', 'io', 'io', 'io', 'ei', 'ei', 'ei', 'ei', 'ei', 'io', 'io', 'io', 'au', 'ea', 'ea', 'ea', 'ia', 'ie', 'ie', 'ie', 'ie', 'ie', 'ai', 'ai', 'ai', 'ai', 'ai', 'io', 'eo', 'eo', 'eo', 'io', 'eo', 'ai', 'ai', 'ai', 'ea', 'ea', 'ie', 'io', 'ue', 'ue', 'ue', 'ue', 'ui', 'ui', 'ui', 'ui', 'ui', 'ui', 'ea', 'ea', 'ea', 'ea', 'io', 'oi', 'ia', 'io', 'ie', 'io', 'ou', 'ie', 'au', 'au', 'ai', 'io', 'io', 'io', 'ai', 'ai', 'ai', 'ai', 'ai', 'ai', 'ai', 'ia', 'ia', 'io', 'io', 'io', 'ue', 'ue', 'ue', 'ie', 'ie', 'ie', 'ee', 'ie', 'ua', 'oa', 'oa', 'oo', 'oo', 'oo', 'oo', 'oo', 'ou', 'ou', 'ou', 'ou', 'ou', 'ou', 'ou', 'ou', 'ou', 'ou', 'ua', 'ai', 'ie', 'io', 'io', 'au', 'oa', 'ie', 'io', 'oo', 'oo', 'oa', 'oo', 'oo', 'oo', 'ea', 'oo', 'oo', 'oo', 'oo', 'oo', 'ea', 'ie', 'ie', 'ie', 'ie', 'oo', 'ea', 'ee', 'ee', 'ee', 'ee', 'ou', 'ou', 'ea', 'oo', 'ea', 'ea', 'ei', 'ea', 'ea', 'ea', 'ea', 'ea', 'ea', 'ea', 'ea', 'io', 'io', 'ie', 'ie', 'ee', 'eei', 'ee', 'ee', 'ee', 'ee', 'ee', 'ee', 'ee', 'ee', 'ei', 'ei', 'ee', 'ua', 'ia', 'ua', 'io', 'io', 'io', 'io', 'ia', 'ie', 'iou', 'iou', 'io', 'io', 'ea', 'ea', 'ea', 'ee', 'ee', 'ee', 'ee', 'oa', 'ui', 'ee', 'oo', 'ou', 'ou', 'oa', 'eou', 'eou', 'ua', 'io', 'ua', 'io', 'ee', 'ee', 'oo', 'oo', 'ea', 'oa', 'oa', 'ia', 'ia', 'ie', 'ia', 'ia', 'ie', 'io', 'ie', 'io', 'ou', 'io', 'eo', 'au', 'oo', 'oo', 'ou', 'ou', 'ou', 'ou', 'ou', 'ou', 'ou', 'ou', 'ou', 'ou', 'ea', 'ea', 'ea', 'ea', 'ia', 'ia', 'ia', 'ia', 'ia', 'ia', 'ia', 'ia', 'ie', 'ie', 'io', 'ee', 'ee', 'ee', 'ee', 'oo', 'oo', 'ie', 'ou', 'ea', 'ea', 'ua', 'ua', 'uee', 'uee', 'iu', 'iu', 'io', 'ai', 'ai', 'oi', 'oi', 'io', 'io', 'ue', 'au', 'ea', 'ea', 'ea', 'ee', 'ee', 'ee', 'ee', 'ee', 'eo', 'eo', 'io', 'io', 'ia', 'oo', 'ai', 'ai', 'ai', 'ie', 'ea', 'ee', 'ee', 'ie', 'ie', 'io', 'iou', 'ee', 'ue', 'oe', 'ae', 'io', 'io', 'ue', 'ia', 'ie', 'ia', 'ia', 'ia', 'io', 'ee', 'ee', 'ee', 'ee', 'io', 'ue', 'ue', 'ie', 'ie', 'ie', 'ui', 'ui', 'ui', 'io', 'iou', 'io', 'io', 'iu', 'ie', 'ie', 'ie', 'io', 'eo', 'iou', 'ou', 'io', 'io', 'ai', 'ea', 'ea', 'ea', 'ea', 'ea', 'ee', 'ee', 'ee', 'ee', 'ee', 'io', 'oi', 'ai', 'ai', 'ai', 'eo', 'eo', 'ie', 'au', 'io', 'ea', 'ea', 'ea', 'ea', 'ea', 'ea', 'ea', 'ea', 'ea', 'ue', 'ue', 'ie', 'ee', 'ee', 'io', 'io', 'io', 'io', 'io', 'oa', 'io', 'ea', 'ei', 'ea', 'eo', 'eo', 'ie', 'ie', 'ua', 'ou', 'ou', 'ou', 'ou', 'ea', 'ea', 'ea', 'ea', 'ea', 'ee', 'ee', 'ee', 'ee', 'ee', 'ua', 'ee', 'ee', 'ea', 'ou', 'ou', 'ou', 'ie', 'ea', 'ie', 'ie', 'ie', 'ue', 'ue', 'ue', 'oa', 'oi', 'oo', 'oo', 'oo', 'oo', 'oo', 'ie', 'ou', 'ou', 'ou', 'ou', 'ou', 'ou', 'ou', 'io', 'io', 'io', 'io', 'ai', 'ai', 'ai', 'ai', 'ai', 'ai', 'ai', 'ai', 'io', 'io', 'io', 'io', 'io', 'ea', 'ea', 'ea', 'ea', 'ea', 'ee', 'ee', 'ou', 'ia', 'ia', 'ie', 'io', 'ia', 'oo', 'oo', 'ou', 'ou', 'ou', 'ou', 'ue', 'uou', 'oi', 'ou', 'ia', 'ie', 'ee', 'ea', 'ea', 'ia', 'ou', 'au', 'ai', 'ea', 'ai', 'ie', 'ai', 'ea', 'ai', 'io', 'oi', 'oo', 'ia', 'ai', 'ai', 'ai', 'ou', 'ea', 'io', 'io', 'ue', 'ie', 'ie', 'ea', 'oa', 'oa', 'ee', 'ia', 'ea', 'ea', 'ea', 'ea', 'ie', 'ai', 'ue', 'ua', 'ua', 'ei', 'ei', 'ea', 'ea', 'ua', 'ua', 'ie', 'io', 'io', 'ue', 'ua', 'ua', 'io', 'ua', 'io', 'ue', 'ue', 'ue', 'ia', 'ia', 'io', 'ie', 'ie', 'iou', 'ea', 'io', 'io', 'oe', 'ia', 'iou', 'eo', 'ie', 'eo', 'ie', 'ie', 'ie', 'ie', 'ie', 'ie', 'oi', 'ie', 'oi', 'ie', 'io', 'io', 'io', 'io', 'io', 'io', 'io', 'io', 'io', 'ua', 'ue', 'ue', 'io', 'io', 'oi', 'oi', 'oi', 'ee', 'ai', 'ai', 'ai', 'ai', 'ai', 'ai', 'ai', 'ai', 'ai', 'ou', 'io', 'ou', 'ou', 'ie', 'au', 'ea', 'ea', 'ea', 'ea', 'ea', 'ea', 'ea', 'ea', 'ea', 'io', 'ea', 'ea', 'ea', 'ee', 'ee', 'ee', 'ie', 'ee', 'ee', 'ei', 'ei', 'ei', 'ei', 'ei', 'ea', 'ee', 'oa', 'ee', 'ue', 'ea', 'ie', 'ou', 'ooi', 'oo', 'ee', 'ie', 'ie', 'ou', 'ou', 'ou', 'oi', 'ea', 'ea', 'ea', 'ea', 'ie', 'ea', 'ea', 'ea', 'ea', 'ea', 'ea', 'ie', 'ie', 'ie', 'ie', 'ou', 'ou', 'ou', 'ou', 'ou', 'ou', 'ou', 'ou', 'iu', 'ai', 'oo']\n"
     ]
    }
   ],
   "source": [
    "wordlist = [vs for word in wsj for vs in re.findall('[aeiou]{2,}', word)]\n",
    "print(wordlist)"
   ]
  },
  {
   "cell_type": "markdown",
   "metadata": {},
   "source": [
    "word에서 findall 하는데, aeiou 모음이 두번이상 발견되면 그 모든 string을 찾고 vs에 넣은 뒤 재배열해라 "
   ]
  },
  {
   "cell_type": "code",
   "execution_count": 13,
   "metadata": {
    "scrolled": true
   },
   "outputs": [
    {
     "data": {
      "text/plain": [
       "[('io', 549),\n",
       " ('ea', 476),\n",
       " ('ie', 331),\n",
       " ('ou', 329),\n",
       " ('ai', 261),\n",
       " ('ia', 253),\n",
       " ('ee', 217),\n",
       " ('oo', 174),\n",
       " ('ua', 109),\n",
       " ('au', 106)]"
      ]
     },
     "execution_count": 13,
     "metadata": {},
     "output_type": "execute_result"
    }
   ],
   "source": [
    "fdist = nltk.FreqDist(wordlist)\n",
    "fdist.most_common(10)"
   ]
  },
  {
   "cell_type": "markdown",
   "metadata": {},
   "source": [
    "어떤 모음이 제일 많이 나오는가? 만약에 영어사전 같은 것을 wordlist을 넣으면, 그 빈도수는 모두 1일 것이다. "
   ]
  },
  {
   "cell_type": "code",
   "execution_count": 7,
   "metadata": {},
   "outputs": [
    {
     "name": "stdout",
     "output_type": "stream",
     "text": [
      "['Universal', 'Declaration', 'of', 'Human', 'Rights', ...]\n"
     ]
    }
   ],
   "source": [
    "english_udhr = nltk.corpus.udhr.words('English-Latin1')\n",
    "print(english_udhr)"
   ]
  },
  {
   "cell_type": "code",
   "execution_count": 8,
   "metadata": {
    "scrolled": true
   },
   "outputs": [
    {
     "data": {
      "text/plain": [
       "['Unvrsl',\n",
       " 'Dclrtn',\n",
       " 'of',\n",
       " 'Hmn',\n",
       " 'Rghts',\n",
       " 'Prmble',\n",
       " 'Whrs',\n",
       " 'rcgntn',\n",
       " 'of',\n",
       " 'the',\n",
       " 'inhrnt',\n",
       " 'dgnty',\n",
       " 'and',\n",
       " 'of',\n",
       " 'the',\n",
       " 'eql',\n",
       " 'and',\n",
       " 'inlnble',\n",
       " 'rghts',\n",
       " 'of',\n",
       " 'all',\n",
       " 'mmbrs',\n",
       " 'of',\n",
       " 'the',\n",
       " 'hmn',\n",
       " 'fmly',\n",
       " 'is',\n",
       " 'the',\n",
       " 'fndtn',\n",
       " 'of',\n",
       " 'frdm',\n",
       " ',',\n",
       " 'jstce',\n",
       " 'and',\n",
       " 'pce',\n",
       " 'in',\n",
       " 'the',\n",
       " 'wrld',\n",
       " ',',\n",
       " 'Whrs',\n",
       " 'dsrgrd',\n",
       " 'and',\n",
       " 'cntmpt',\n",
       " 'fr',\n",
       " 'hmn',\n",
       " 'rghts',\n",
       " 'hve',\n",
       " 'rsltd',\n",
       " 'in',\n",
       " 'brbrs',\n",
       " 'acts',\n",
       " 'whch',\n",
       " 'hve',\n",
       " 'outrgd',\n",
       " 'the',\n",
       " 'cnscnce',\n",
       " 'of',\n",
       " 'mnknd',\n",
       " ',',\n",
       " 'and',\n",
       " 'the',\n",
       " 'advnt',\n",
       " 'of',\n",
       " 'a',\n",
       " 'wrld',\n",
       " 'in',\n",
       " 'whch',\n",
       " 'hmn',\n",
       " 'bngs',\n",
       " 'shll',\n",
       " 'enjy',\n",
       " 'frdm',\n",
       " 'of',\n",
       " 'spch',\n",
       " 'and']"
      ]
     },
     "execution_count": 8,
     "metadata": {},
     "output_type": "execute_result"
    }
   ],
   "source": [
    "regexp = '^[AEIOUaeiou]+|[AEIOUaeiou]+$|[^AEIOUaeiou]'\n",
    "def compress(word):\n",
    "    pieces = re.findall(regexp, word)\n",
    "    return ''.join(pieces)\n",
    "[compress(w) for w in english_udhr[:75]]"
   ]
  },
  {
   "cell_type": "markdown",
   "metadata": {},
   "source": [
    "함수 만들기. def~return 까지가 함수. string을 regexp로 담은 것이고, 함수를 쓰는 방법은 함수 자체는 입력을 받아서 내부적으로 바꾸고 출력을 해주는 것. compress라는 명명이 되어 있음. ()를 열고, 그 괄호 속에 들어가는 것이 입력. def = define. 함수의 내용부분은 indent 가 필요함. compress 함수는 word라는 string을 받아서 바로 그자리에서 regexp를 때리고, return은 이 함수의 출력값. 입력은 word고 출력은 return 다음이 출력. 처음에는 모음으로 시작되는것이 하나 이상이 나오면 찾는데, 중간에 모음이 나오는 것이 있으면 찾아라, 마지막에는 자음인 것을 찾아라. 그것들을 pieces로 찾아서 합쳐라. "
   ]
  },
  {
   "cell_type": "code",
   "execution_count": 9,
   "metadata": {
    "scrolled": true
   },
   "outputs": [
    {
     "name": "stdout",
     "output_type": "stream",
     "text": [
      "['kaa', 'kaa', 'kaa', 'kaakaaro', 'kaakaaviko', 'kaakaavo', 'kaakaoko', 'kaakasi', 'kaakau', 'kaakauko', 'kaakito', 'kaakuupato', 'kaaova', 'kaapa', 'kaapea', 'kaapie', 'kaapie', 'kaapiepato', 'kaapisi', 'kaapisivira', 'kaapo', 'kaapopato', 'kaara', 'kaare', 'kaareko', 'kaarekopie', 'kaareto', 'Kaareva', 'kaava', 'kaavaaua', 'kaaveaka', 'kaaveakapie', 'kaaveakapievira', 'kaaveakavira', 'kae', 'kae', 'kaekae', 'kaekae', 'kaekaearo', 'kaekaeo', 'kaekaesoto', 'kaekaevira', 'kaekeru', 'kaepaa', 'kaepie', 'kaepie', 'kaepievira', 'kaereasi', 'kaereasivira', 'kaetu', 'kaetupie', 'kaetuvira', 'kaeviro', 'kagave', 'kaie', 'kaiea', 'kaikaio', 'Kaio', 'kaipori', 'kaiporipie', 'kaiporivira', 'kairi', 'kairiro', 'kairo', 'kaita', 'kaitutu', 'kaitutupie', 'kaitutuvira', 'kakae', 'kakae', 'kakae', 'kakaevira', 'kakapikoa', 'kakapikoto', 'kakapu', 'kakapua', 'kakara', 'Kakarapaia', 'kakarau', 'Kakarera', 'kakata', 'kakate', 'kakatuara', 'kakau', 'kakauoa', 'kakavea', 'kakavoro', 'kakavu', 'kakeoto', 'kaki', 'kaki', 'kakiaki', 'kakiri', 'kakiua', 'kaku', 'kakua', 'kakuaku', 'kakupaa', 'kakuparei', 'kakupato', 'kakupie', 'kakupute', 'kakutauo', 'kakuto', 'kakutuiato', 'kakuva', 'kakuvira', 'kameoro', 'kandora', 'kaokao', 'kaokaoara', 'kaokaoto', 'kapa', 'kapa', 'kapaava', 'kapai', 'kapara', 'kaparu', 'kaparuvira', 'kapatau', 'kapatoro', 'kapatoroto', 'kape', 'kapeaa', 'kapeaa', 'kapeaavira', 'kapekape', 'kapekapevira', 'kapere', 'kaperepie', 'kapi', 'kapiaa', 'kapiaavira', 'kapikapi', 'kapiro', 'kapiroa', 'kapiroko', 'kapisi', 'kapisito', 'kapiu', 'kapiua', 'kapo', 'kapoa', 'kapokao', 'kapokapo', 'kapokapoa', 'kapokapora', 'kapokaporo', 'kapokari', 'kapokarito', 'kapokoa', 'kapoo', 'kapooto', 'kapoovira', 'kapopaa', 'kaporo', 'kaporo', 'kaporopa', 'kaporoto', 'kapoto', 'kapu', 'kapua', 'kapua', 'kapuapato', 'kapuapie', 'kapuasisi', 'kapupie', 'kapupiea', 'kapupiepaa', 'kapuu', 'kapuupie', 'kapuupiepa', 'Kara', 'kara', 'karaava', 'karakarao', 'karakaraoa', 'karakaraoto', 'karakaraovira', 'karakaroto', 'karakuku', 'karaova', 'karapi', 'karapivira', 'karara', 'karata', 'karato', 'karavau', 'karavisi', 'karavisito', 'karavuru', 'kare', 'kare', 'karekare', 'karekare', 'karekarererava', 'karekareto', 'kareke', 'karekepie', 'karekova', 'kareo', 'kareovira', 'karepie', 'karepieto', 'Karepirie', 'kari', 'karia', 'kariava', 'karikari', 'karirapa', 'karisito', 'karivai', 'karivaito', 'karivara', 'karo', 'karokaropo', 'karopato', 'karopo', 'karot', 'karoto', 'karova', 'karu', 'karuka', 'karukaru', 'karukava', 'Karuru', 'karutu', 'karuvira', 'kasi', 'kasi', 'kasi', 'kasiarao', 'kasiava', 'kasikasi', 'Kasikasiua', 'kasipie', 'kasipu', 'kasipupie', 'kasipuvira', 'kasirao', 'kasiraopie', 'kasiraovira', 'kasiu', 'kasiura', 'kasivari', 'kasuari', 'kata', 'katai', 'kataitoarei', 'katakatai', 'katakataivira', 'kataraua', 'katarauto', 'katavira', 'katokato', 'katokatoto', 'katokatovira', 'katokoi', 'katopato', 'katoto', 'katuara', 'katuarato', 'katukatu', 'katuta', 'kau', 'kaukau', 'kaukaupie', 'kaukauvira', 'kaukovo', 'kauo', 'kauokauo', 'kaureo', 'kaureoto', 'kausiopa', 'kausiovira', 'Kava', 'kavakavau', 'kavatao', 'Kavatara', 'kavau', 'kavau', 'kavau asiava', 'kave', 'kavee', 'kaveepaa', 'kaverui', 'kaveruko', 'kavesi', 'kavikavi', 'kavikaviru', 'kavikaviru', 'kaviko', 'kavikoa', 'kaviru', 'kaviru', 'kaviruto', 'kaviruvira', 'kavo', 'kavokavo', 'kavokavoa', 'kavokavoto', 'kavora', 'kavorato', 'kavori', 'kavori', 'kavorou', 'kavovoa', 'kavovovira', 'kavu', 'kavu', 'kavuava', 'kavupie', 'kavura', 'kavurao', 'kavusi', 'kavuvo', 'kea', 'keakea', 'keakeato', 'keari', 'kearito', 'keavira', 'kee', 'keekee', 'keekeepa', 'keekeeri', 'keekeerito', 'keera', 'keeriva', 'keesi', 'keetaa', 'keevuru', 'keevuruvira', 'kegi', 'kei', 'keke', 'keke', 'kekepie', 'kekeputu', 'kekeputuvira', 'kekeraokovira', 'kekesopa', 'kekevoto', 'kekevotovira', 'kekira', 'keo', 'keoka', 'keopa', 'keovira', 'kepa', 'kepa toupato', 'kepetai', 'kepi', 'kepia', 'kepikepi', 'kepiko', 'kepiriko', 'kepiro', 'kepisi', 'kepisiva', 'kepita', 'kepitai', 'kepito', 'kepo', 'kepoi', 'keposi', 'kepoto', 'kera', 'kerakera', 'kerari', 'keraria', 'kerau', 'kerauto', 'keravisi', 'keravisia', 'keravo', 'Kereaka', 'kerekoi', 'kerere', 'kerereua', 'kerete', 'kerete', 'Kerevaru', 'keri', 'Keriaka', 'kerikerisi', 'kerio', 'kerioua', 'keripaara', 'keripato', 'kerisi', 'kerisito', 'kerisivira', 'keritara', 'keriva', 'keroroi', 'kerosiri', 'keru', 'keru', 'kerui', 'keruiato', 'keruito', 'kerupiua', 'keruria', 'keruriato', 'keruriavira', 'kesi', 'kesie', 'kesievira', 'kesikea vaaguru', 'kesio', 'kesioto', 'kesivira', 'keta', 'ketaka', 'ketakaa', 'ketato', 'ketoo', 'ketoo', 'ketoopie', 'ketoopieara', 'ketoroa', 'ketu', 'kevaita', 'kevaita', 'kevaitato', 'kevira', 'kevisi', 'kevoisi', 'kevoisivira', 'kie', 'kii', 'kiikariko', 'kiipie', 'kiire', 'kiire', 'kiiru', 'kiiuto', 'kiki', 'kiki', 'kikipi', 'kikipisi', 'kikira', 'kikiraeko', 'kikisi', 'kikisikae', 'kikisiova', 'kikitausi', 'kikoo', 'kilia', 'kio', 'kipa', 'kipapie', 'kipe', 'kipekipe', 'kipekipea', 'kipeto', 'kipu', 'kipukipu', 'kipupaa', 'kipupato', 'kipuvira', 'kira', 'kirava', 'kire', 'kiri', 'kirikaokao', 'kirioto', 'kiro', 'kirokiro', 'kirokiro', 'kirokiropato', 'kiroko', 'kiru', 'kirukiru', 'kirukirua', 'kirupato', 'kitoiva', 'kitu', 'kitukitu', 'kiu', 'kiupie', 'kiuto', 'kiuve', 'kiuvu', 'koa', 'koai', 'koakoa', 'koakoa', 'koara', 'koarao', 'koaraua', 'koarava', 'koasio', 'koata', 'koatapie', 'koauve', 'koavaato', 'koe', 'koea', 'koekoe', 'koekoeto', 'koepato', 'koeta', 'koetaova', 'koetapie', 'koetava', 'koetavira', 'koeto', 'kogo', 'kogova', 'koi', 'koie', 'koie', 'koike', 'koiketo', 'koikevira', 'koikoi', 'koikoipato', 'koikoipie', 'koikoito', 'koisi', 'koisiva', 'koivira', 'koka', 'kokai', 'kokara', 'kokaraa', 'kokarapato', 'koke', 'kokee', 'kokepato', 'kokepato', 'kokepie', 'kokerao', 'kokeriva', 'kokeu', 'kokeva', 'koki', 'kokio', 'Kokipaia', 'kokito', 'kokivira', 'koko', 'koko', 'kokoi', 'kokoisi', 'kokokoru', 'kokoo', 'kokooko', 'kokookoa', 'kokoote', 'kokootu', 'kokopa', 'kokopakou', 'kokopeko', 'kokopekovira', 'kokopeoto', 'kokopuoto', 'kokopuovira', 'Kokopuru', 'kokopuvira', 'kokora', 'kokorai', 'kokorato', 'kokori', 'kokorivira', 'kokoro', 'kokoroki', 'kokoroku', 'kokorokupie', 'kokoropato', 'kokorosi', 'kokorovira', 'kokoru', 'kokoruu', 'kokoruu', 'kokosi', 'kokosi', 'Kokosiria', 'kokosito', 'kokosiva', 'kokotagoe', 'kokote', 'kokoto', 'kokotu', 'kokotua', 'kokotuo', 'kokovae', 'kokovaeva', 'kokovara', 'kokovara', 'kokovaravira', 'kokovu', 'kokovua', 'kokovua', 'kokovua', 'kokovupaparie', 'kokovurito', 'koku', 'kokuoku', 'kokureko', 'kokuuto', 'kooe', 'kookaa', 'kookai', 'kookoo', 'kookooia', 'kookoopeko', 'kookoopi', 'kooku', 'kookuto', 'kookuvira', 'koopi', 'koopipi', 'koora', 'kooroo', 'koorooto', 'koorooto', 'kooroovira', 'kooru', 'koota', 'kootopa', 'kootutu', 'koou', 'kooupato', 'koova', 'koova', 'koovoto', 'koovotova', 'kopa', 'kopakai', 'kopakava', 'kopakopa', 'kopakovira', 'kopato', 'kopii', 'kopiia', 'kopiipato', 'kopiipie', 'kopiito', 'kopikao', 'kopikopi', 'kopikopiara', 'kopipi', 'kopirovu', 'kopu', 'kopua', 'kopuasi', 'kopuasipie', 'kopuasito', 'kopuasitovira', 'kopuasivira', 'Kopuisi', 'kopukopu', 'kopukopua', 'kopupa', 'kopupira', 'kopuro', 'Kopuru', 'kopuvioro', 'kopuvira', 'kora', 'korapato', 'korara', 'koraraoko', 'korau', 'koraua', 'korauru', 'korauvira', 'korea', 'korekare', 'Korere', 'korereto', 'kori', 'koria', 'Koribori', 'korikori', 'korikoripava', 'korita', 'korita', 'koriteira', 'koro', 'kororo', 'kororo', 'kororoisivira', 'kororovi', 'kororovivira', 'kororu', 'kororupie', 'koroto', 'koroviri', 'korovo', 'koru', 'Koruko', 'korukoru', 'korukorupato', 'koruo', 'koruoto', 'koruou', 'koruoua', 'koruovira', 'korupie', 'korupievira', 'kosi', 'kosikosi', 'kosikosi', 'kosipa', 'kosipato', 'kosipie', 'kosivago', 'kosiviro', 'koto', 'kotokoto', 'kotokotoara', 'kotopa', 'kotopa', 'kotovira', 'kotu', 'kotukotu', 'kotupiua', 'koturu', 'kou', 'kou', 'koue', 'koue', 'koui', 'koukou', 'koukouo', 'koukouo', 'kova', 'kovaaro', 'kovaeto', 'kovaii', 'kovakovara', 'kovapato', 'kovarato', 'kovarua', 'kovasi', 'kovata', 'kovatavira', 'kovato', 'kovauke', 'Kovava', 'kove', 'kove', 'kovea', 'kovekove', 'koveoapa', 'koveva', 'Kovia', 'kovikoro', 'kovire', 'kovirea', 'kovo', 'kovo', 'kovo', 'kovoa', 'kovokovo', 'kovokovo', 'kovokovo', 'kovokovoa', 'kovopaa', 'kovopato', 'kovopie', 'kovoruko', 'kovoto', 'kovovo', 'kovuaka', 'kovuaro', 'kovukovu', 'kovukovuto', 'kovukovuvira', 'kovuru', 'kovurui', 'kovuruko', 'kovurukovira', 'kovuruvira', 'kovuto', 'kuara', 'kue', 'kuea', 'kuga', 'kui', 'kuio', 'kuioi', 'kuiopesi', 'kuiopetu', 'kuito', 'kuka', 'kukara', 'kukauviro', 'kukiuki', 'kukiukia', 'kuku', 'kukua', 'kukuaua', 'kukue', 'kukue pute', 'kukuepaa', 'kukuku', 'kukupira', 'kukuriko', 'kukurikoto', 'kukusiri', 'kukutauvu', 'kukutu', 'kukuuku', 'kukuukua', 'kukuukupie', 'kukuuvua', 'kukuvai', 'kukuvaipaa', 'kukuvita', 'kukuvua', 'Kuokuo', 'kupare', 'kupareto', 'kupekupe', 'kupekupepa', 'kupero', 'kuperoo', 'kuperovira', 'kupii', 'kupukupu', 'kurae', 'kurasia', 'kurasia', 'kurei', 'kuri', 'kuriato', 'kurikaakaakuto', 'kurikasi', 'kurikasivira', 'kurikoko', 'kurikuri', 'kuripaa', 'kuritava', 'kuroa', 'kuroea', 'kurokuro', 'kurokuroto', 'kuroo', 'kurooro', 'kurovira', 'kuru', 'kurue', 'kurupi', 'kururai', 'kururu', 'kurutu', 'Kusi', 'kusii', 'kusike', 'kusito', 'kuu', 'kuu', 'kuukuuvu', 'kuukuuvuto', 'kuuoa', 'kuupie', 'kuurea', 'kuuri', 'kuuva', 'kuuvaki', 'kuuvakito', 'kuuvato', 'kuuvavira', 'kuuvu', 'kuuvuvira', 'kuva', 'kuvaku', 'kuvato', 'kuvau', 'kuvaupie', 'kuvauvira', 'kuvera', 'kuverava', 'kuvere', 'kuverea', 'kuvereto', 'kuverevira', 'kuvoro', 'kuvu', 'kuvuara', 'kuvukuvu', 'kuvukuvua', 'kuvupato', 'kuvuto']\n"
     ]
    }
   ],
   "source": [
    "rotokas_words = nltk.corpus.toolbox.words('rotokas.dic')\n",
    "print(rotokas_words)"
   ]
  },
  {
   "cell_type": "code",
   "execution_count": 10,
   "metadata": {},
   "outputs": [
    {
     "name": "stdout",
     "output_type": "stream",
     "text": [
      "['ka', 'ka', 'ka', 'ka', 'ka', 'ro', 'ka', 'ka', 'vi', 'ko', 'ka', 'ka', 'vo', 'ka', 'ka', 'ko', 'ka', 'ka', 'si', 'ka', 'ka', 'ka', 'ka', 'ko', 'ka', 'ki', 'to', 'ka', 'ku', 'pa', 'to', 'ka', 'va', 'ka', 'pa', 'ka', 'pe', 'ka', 'pi', 'ka', 'pi', 'ka', 'pi', 'pa', 'to', 'ka', 'pi', 'si', 'ka', 'pi', 'si', 'vi', 'ra', 'ka', 'po', 'ka', 'po', 'pa', 'to', 'ka', 'ra', 'ka', 're', 'ka', 're', 'ko', 'ka', 're', 'ko', 'pi', 'ka', 're', 'to', 're', 'va', 'ka', 'va', 'ka', 'va', 'ka', 've', 'ka', 'ka', 've', 'ka', 'pi', 'ka', 've', 'ka', 'pi', 'vi', 'ra', 'ka', 've', 'ka', 'vi', 'ra', 'ka', 'ka', 'ka', 'ka', 'ka', 'ka', 'ka', 'ka', 'ro', 'ka', 'ka', 'ka', 'ka', 'so', 'to', 'ka', 'ka', 'vi', 'ra', 'ka', 'ke', 'ru', 'ka', 'pa', 'ka', 'pi', 'ka', 'pi', 'ka', 'pi', 'vi', 'ra', 'ka', 're', 'si', 'ka', 're', 'si', 'vi', 'ra', 'ka', 'tu', 'ka', 'tu', 'pi', 'ka', 'tu', 'vi', 'ra', 'ka', 'vi', 'ro', 'ka', 've', 'ka', 'ka', 'ka', 'ka', 'ka', 'po', 'ri', 'ka', 'po', 'ri', 'pi', 'ka', 'po', 'ri', 'vi', 'ra', 'ka', 'ri', 'ka', 'ri', 'ro', 'ka', 'ro', 'ka', 'ta', 'ka', 'tu', 'tu', 'ka', 'tu', 'tu', 'pi', 'ka', 'tu', 'tu', 'vi', 'ra', 'ka', 'ka', 'ka', 'ka', 'ka', 'ka', 'ka', 'ka', 'vi', 'ra', 'ka', 'ka', 'pi', 'ko', 'ka', 'ka', 'pi', 'ko', 'to', 'ka', 'ka', 'pu', 'ka', 'ka', 'pu', 'ka', 'ka', 'ra', 'ka', 'ra', 'pa', 'ka', 'ka', 'ra', 'ka', 're', 'ra', 'ka', 'ka', 'ta', 'ka', 'ka', 'te', 'ka', 'ka', 'tu', 'ra', 'ka', 'ka', 'ka', 'ka', 'ka', 'ka', 've', 'ka', 'ka', 'vo', 'ro', 'ka', 'ka', 'vu', 'ka', 'ke', 'to', 'ka', 'ki', 'ka', 'ki', 'ka', 'ki', 'ki', 'ka', 'ki', 'ri', 'ka', 'ki', 'ka', 'ku', 'ka', 'ku', 'ka', 'ku', 'ku', 'ka', 'ku', 'pa', 'ka', 'ku', 'pa', 're', 'ka', 'ku', 'pa', 'to', 'ka', 'ku', 'pi', 'ka', 'ku', 'pu', 'te', 'ka', 'ku', 'ta', 'ka', 'ku', 'to', 'ka', 'ku', 'tu', 'to', 'ka', 'ku', 'va', 'ka', 'ku', 'vi', 'ra', 'ka', 'ro', 'ka', 'ra', 'ka', 'ka', 'ka', 'ka', 'ra', 'ka', 'ka', 'to', 'ka', 'pa', 'ka', 'pa', 'ka', 'pa', 'va', 'ka', 'pa', 'ka', 'pa', 'ra', 'ka', 'pa', 'ru', 'ka', 'pa', 'ru', 'vi', 'ra', 'ka', 'pa', 'ta', 'ka', 'pa', 'to', 'ro', 'ka', 'pa', 'to', 'ro', 'to', 'ka', 'pe', 'ka', 'pe', 'ka', 'pe', 'ka', 'pe', 'vi', 'ra', 'ka', 'pe', 'ka', 'pe', 'ka', 'pe', 'ka', 'pe', 'vi', 'ra', 'ka', 'pe', 're', 'ka', 'pe', 're', 'pi', 'ka', 'pi', 'ka', 'pi', 'ka', 'pi', 'vi', 'ra', 'ka', 'pi', 'ka', 'pi', 'ka', 'pi', 'ro', 'ka', 'pi', 'ro', 'ka', 'pi', 'ro', 'ko', 'ka', 'pi', 'si', 'ka', 'pi', 'si', 'to', 'ka', 'pi', 'ka', 'pi', 'ka', 'po', 'ka', 'po', 'ka', 'po', 'ka', 'ka', 'po', 'ka', 'po', 'ka', 'po', 'ka', 'po', 'ka', 'po', 'ka', 'po', 'ra', 'ka', 'po', 'ka', 'po', 'ro', 'ka', 'po', 'ka', 'ri', 'ka', 'po', 'ka', 'ri', 'to', 'ka', 'po', 'ko', 'ka', 'po', 'ka', 'po', 'to', 'ka', 'po', 'vi', 'ra', 'ka', 'po', 'pa', 'ka', 'po', 'ro', 'ka', 'po', 'ro', 'ka', 'po', 'ro', 'pa', 'ka', 'po', 'ro', 'to', 'ka', 'po', 'to', 'ka', 'pu', 'ka', 'pu', 'ka', 'pu', 'ka', 'pu', 'pa', 'to', 'ka', 'pu', 'pi', 'ka', 'pu', 'si', 'si', 'ka', 'pu', 'pi', 'ka', 'pu', 'pi', 'ka', 'pu', 'pi', 'pa', 'ka', 'pu', 'ka', 'pu', 'pi', 'ka', 'pu', 'pi', 'pa', 'ra', 'ka', 'ra', 'ka', 'ra', 'va', 'ka', 'ra', 'ka', 'ra', 'ka', 'ra', 'ka', 'ra', 'ka', 'ra', 'ka', 'ra', 'to', 'ka', 'ra', 'ka', 'ra', 'vi', 'ra', 'ka', 'ra', 'ka', 'ro', 'to', 'ka', 'ra', 'ku', 'ku', 'ka', 'ra', 'va', 'ka', 'ra', 'pi', 'ka', 'ra', 'pi', 'vi', 'ra', 'ka', 'ra', 'ra', 'ka', 'ra', 'ta', 'ka', 'ra', 'to', 'ka', 'ra', 'va', 'ka', 'ra', 'vi', 'si', 'ka', 'ra', 'vi', 'si', 'to', 'ka', 'ra', 'vu', 'ru', 'ka', 're', 'ka', 're', 'ka', 're', 'ka', 're', 'ka', 're', 'ka', 're', 'ka', 're', 'ka', 're', 're', 'ra', 'va', 'ka', 're', 'ka', 're', 'to', 'ka', 're', 'ke', 'ka', 're', 'ke', 'pi', 'ka', 're', 'ko', 'va', 'ka', 're', 'ka', 're', 'vi', 'ra', 'ka', 're', 'pi', 'ka', 're', 'pi', 'to', 're', 'pi', 'ri', 'ka', 'ri', 'ka', 'ri', 'ka', 'ri', 'va', 'ka', 'ri', 'ka', 'ri', 'ka', 'ri', 'ra', 'pa', 'ka', 'ri', 'si', 'to', 'ka', 'ri', 'va', 'ka', 'ri', 'va', 'to', 'ka', 'ri', 'va', 'ra', 'ka', 'ro', 'ka', 'ro', 'ka', 'ro', 'po', 'ka', 'ro', 'pa', 'to', 'ka', 'ro', 'po', 'ka', 'ro', 'ka', 'ro', 'to', 'ka', 'ro', 'va', 'ka', 'ru', 'ka', 'ru', 'ka', 'ka', 'ru', 'ka', 'ru', 'ka', 'ru', 'ka', 'va', 'ru', 'ru', 'ka', 'ru', 'tu', 'ka', 'ru', 'vi', 'ra', 'ka', 'si', 'ka', 'si', 'ka', 'si', 'ka', 'si', 'ra', 'ka', 'si', 'va', 'ka', 'si', 'ka', 'si', 'si', 'ka', 'si', 'ka', 'si', 'pi', 'ka', 'si', 'pu', 'ka', 'si', 'pu', 'pi', 'ka', 'si', 'pu', 'vi', 'ra', 'ka', 'si', 'ra', 'ka', 'si', 'ra', 'pi', 'ka', 'si', 'ra', 'vi', 'ra', 'ka', 'si', 'ka', 'si', 'ra', 'ka', 'si', 'va', 'ri', 'ka', 'su', 'ri', 'ka', 'ta', 'ka', 'ta', 'ka', 'ta', 'to', 're', 'ka', 'ta', 'ka', 'ta', 'ka', 'ta', 'ka', 'ta', 'vi', 'ra', 'ka', 'ta', 'ra', 'ka', 'ta', 'ra', 'to', 'ka', 'ta', 'vi', 'ra', 'ka', 'to', 'ka', 'to', 'ka', 'to', 'ka', 'to', 'to', 'ka', 'to', 'ka', 'to', 'vi', 'ra', 'ka', 'to', 'ko', 'ka', 'to', 'pa', 'to', 'ka', 'to', 'to', 'ka', 'tu', 'ra', 'ka', 'tu', 'ra', 'to', 'ka', 'tu', 'ka', 'tu', 'ka', 'tu', 'ta', 'ka', 'ka', 'ka', 'ka', 'ka', 'pi', 'ka', 'ka', 'vi', 'ra', 'ka', 'ko', 'vo', 'ka', 'ka', 'ka', 'ka', 're', 'ka', 're', 'to', 'ka', 'si', 'pa', 'ka', 'si', 'vi', 'ra', 'va', 'ka', 'va', 'ka', 'va', 'ka', 'va', 'ta', 'va', 'ta', 'ra', 'ka', 'va', 'ka', 'va', 'ka', 'va', 'si', 'va', 'ka', 've', 'ka', 've', 'ka', 've', 'pa', 'ka', 've', 'ru', 'ka', 've', 'ru', 'ko', 'ka', 've', 'si', 'ka', 'vi', 'ka', 'vi', 'ka', 'vi', 'ka', 'vi', 'ru', 'ka', 'vi', 'ka', 'vi', 'ru', 'ka', 'vi', 'ko', 'ka', 'vi', 'ko', 'ka', 'vi', 'ru', 'ka', 'vi', 'ru', 'ka', 'vi', 'ru', 'to', 'ka', 'vi', 'ru', 'vi', 'ra', 'ka', 'vo', 'ka', 'vo', 'ka', 'vo', 'ka', 'vo', 'ka', 'vo', 'ka', 'vo', 'ka', 'vo', 'to', 'ka', 'vo', 'ra', 'ka', 'vo', 'ra', 'to', 'ka', 'vo', 'ri', 'ka', 'vo', 'ri', 'ka', 'vo', 'ro', 'ka', 'vo', 'vo', 'ka', 'vo', 'vo', 'vi', 'ra', 'ka', 'vu', 'ka', 'vu', 'ka', 'vu', 'va', 'ka', 'vu', 'pi', 'ka', 'vu', 'ra', 'ka', 'vu', 'ra', 'ka', 'vu', 'si', 'ka', 'vu', 'vo', 'ke', 'ke', 'ke', 'ke', 'ke', 'to', 'ke', 'ri', 'ke', 'ri', 'to', 'ke', 'vi', 'ra', 'ke', 'ke', 'ke', 'ke', 'ke', 'pa', 'ke', 'ke', 'ri', 'ke', 'ke', 'ri', 'to', 'ke', 'ra', 'ke', 'ri', 'va', 'ke', 'si', 'ke', 'ta', 'ke', 'vu', 'ru', 'ke', 'vu', 'ru', 'vi', 'ra', 'ke', 'ke', 'ke', 'ke', 'ke', 'ke', 'ke', 'ke', 'pi', 'ke', 'ke', 'pu', 'tu', 'ke', 'ke', 'pu', 'tu', 'vi', 'ra', 'ke', 'ke', 'ra', 'ko', 'vi', 'ra', 'ke', 'ke', 'so', 'pa', 'ke', 'ke', 'vo', 'to', 'ke', 'ke', 'vo', 'to', 'vi', 'ra', 'ke', 'ki', 'ra', 'ke', 'ke', 'ka', 'ke', 'pa', 'ke', 'vi', 'ra', 'ke', 'pa', 'ke', 'pa', 'to', 'pa', 'to', 'ke', 'pe', 'ta', 'ke', 'pi', 'ke', 'pi', 'ke', 'pi', 'ke', 'pi', 'ke', 'pi', 'ko', 'ke', 'pi', 'ri', 'ko', 'ke', 'pi', 'ro', 'ke', 'pi', 'si', 'ke', 'pi', 'si', 'va', 'ke', 'pi', 'ta', 'ke', 'pi', 'ta', 'ke', 'pi', 'to', 'ke', 'po', 'ke', 'po', 'ke', 'po', 'si', 'ke', 'po', 'to', 'ke', 'ra', 'ke', 'ra', 'ke', 'ra', 'ke', 'ra', 'ri', 'ke', 'ra', 'ri', 'ke', 'ra', 'ke', 'ra', 'to', 'ke', 'ra', 'vi', 'si', 'ke', 'ra', 'vi', 'si', 'ke', 'ra', 'vo', 're', 'ka', 'ke', 're', 'ko', 'ke', 're', 're', 'ke', 're', 're', 'ke', 're', 'te', 'ke', 're', 'te', 're', 'va', 'ru', 'ke', 'ri', 'ri', 'ka', 'ke', 'ri', 'ke', 'ri', 'si', 'ke', 'ri', 'ke', 'ri', 'ke', 'ri', 'pa', 'ra', 'ke', 'ri', 'pa', 'to', 'ke', 'ri', 'si', 'ke', 'ri', 'si', 'to', 'ke', 'ri', 'si', 'vi', 'ra', 'ke', 'ri', 'ta', 'ra', 'ke', 'ri', 'va', 'ke', 'ro', 'ro', 'ke', 'ro', 'si', 'ri', 'ke', 'ru', 'ke', 'ru', 'ke', 'ru', 'ke', 'ru', 'to', 'ke', 'ru', 'to', 'ke', 'ru', 'pi', 'ke', 'ru', 'ri', 'ke', 'ru', 'ri', 'to', 'ke', 'ru', 'ri', 'vi', 'ra', 'ke', 'si', 'ke', 'si', 'ke', 'si', 'vi', 'ra', 'ke', 'si', 'ke', 'va', 'ru', 'ke', 'si', 'ke', 'si', 'to', 'ke', 'si', 'vi', 'ra', 'ke', 'ta', 'ke', 'ta', 'ka', 'ke', 'ta', 'ka', 'ke', 'ta', 'to', 'ke', 'to', 'ke', 'to', 'ke', 'to', 'pi', 'ke', 'to', 'pi', 'ra', 'ke', 'to', 'ro', 'ke', 'tu', 'ke', 'va', 'ta', 'ke', 'va', 'ta', 'ke', 'va', 'ta', 'to', 'ke', 'vi', 'ra', 'ke', 'vi', 'si', 'ke', 'vo', 'si', 'ke', 'vo', 'si', 'vi', 'ra', 'ki', 'ki', 'ki', 'ka', 'ri', 'ko', 'ki', 'pi', 'ki', 're', 'ki', 're', 'ki', 'ru', 'ki', 'to', 'ki', 'ki', 'ki', 'ki', 'ki', 'ki', 'pi', 'ki', 'ki', 'pi', 'si', 'ki', 'ki', 'ra', 'ki', 'ki', 'ra', 'ko', 'ki', 'ki', 'si', 'ki', 'ki', 'si', 'ka', 'ki', 'ki', 'si', 'va', 'ki', 'ki', 'ta', 'si', 'ki', 'ko', 'ki', 'ki', 'ki', 'pa', 'ki', 'pa', 'pi', 'ki', 'pe', 'ki', 'pe', 'ki', 'pe', 'ki', 'pe', 'ki', 'pe', 'ki', 'pe', 'to', 'ki', 'pu', 'ki', 'pu', 'ki', 'pu', 'ki', 'pu', 'pa', 'ki', 'pu', 'pa', 'to', 'ki', 'pu', 'vi', 'ra', 'ki', 'ra', 'ki', 'ra', 'va', 'ki', 're', 'ki', 'ri', 'ki', 'ri', 'ka', 'ka', 'ki', 'ri', 'to', 'ki', 'ro', 'ki', 'ro', 'ki', 'ro', 'ki', 'ro', 'ki', 'ro', 'ki', 'ro', 'ki', 'ro', 'pa', 'to', 'ki', 'ro', 'ko', 'ki', 'ru', 'ki', 'ru', 'ki', 'ru', 'ki', 'ru', 'ki', 'ru', 'ki', 'ru', 'pa', 'to', 'ki', 'to', 'va', 'ki', 'tu', 'ki', 'tu', 'ki', 'tu', 'ki', 'ki', 'pi', 'ki', 'to', 'ki', 've', 'ki', 'vu', 'ko', 'ko', 'ko', 'ko', 'ko', 'ko', 'ko', 'ra', 'ko', 'ra', 'ko', 'ra', 'ko', 'ra', 'va', 'ko', 'si', 'ko', 'ta', 'ko', 'ta', 'pi', 'ko', 've', 'ko', 'va', 'to', 'ko', 'ko', 'ko', 'ko', 'ko', 'ko', 'to', 'ko', 'pa', 'to', 'ko', 'ta', 'ko', 'ta', 'va', 'ko', 'ta', 'pi', 'ko', 'ta', 'va', 'ko', 'ta', 'vi', 'ra', 'ko', 'to', 'ko', 'ko', 'va', 'ko', 'ko', 'ko', 'ko', 'ke', 'ko', 'ke', 'to', 'ko', 'ke', 'vi', 'ra', 'ko', 'ko', 'ko', 'ko', 'pa', 'to', 'ko', 'ko', 'pi', 'ko', 'ko', 'to', 'ko', 'si', 'ko', 'si', 'va', 'ko', 'vi', 'ra', 'ko', 'ka', 'ko', 'ka', 'ko', 'ka', 'ra', 'ko', 'ka', 'ra', 'ko', 'ka', 'ra', 'pa', 'to', 'ko', 'ke', 'ko', 'ke', 'ko', 'ke', 'pa', 'to', 'ko', 'ke', 'pa', 'to', 'ko', 'ke', 'pi', 'ko', 'ke', 'ra', 'ko', 'ke', 'ri', 'va', 'ko', 'ke', 'ko', 'ke', 'va', 'ko', 'ki', 'ko', 'ki', 'ki', 'pa', 'ko', 'ki', 'to', 'ko', 'ki', 'vi', 'ra', 'ko', 'ko', 'ko', 'ko', 'ko', 'ko', 'ko', 'ko', 'si', 'ko', 'ko', 'ko', 'ru', 'ko', 'ko', 'ko', 'ko', 'ko', 'ko', 'ko', 'ko', 'ko', 'ko', 'te', 'ko', 'ko', 'tu', 'ko', 'ko', 'pa', 'ko', 'ko', 'pa', 'ko', 'ko', 'ko', 'pe', 'ko', 'ko', 'ko', 'pe', 'ko', 'vi', 'ra', 'ko', 'ko', 'pe', 'to', 'ko', 'ko', 'pu', 'to', 'ko', 'ko', 'pu', 'vi', 'ra', 'ko', 'pu', 'ru', 'ko', 'ko', 'pu', 'vi', 'ra', 'ko', 'ko', 'ra', 'ko', 'ko', 'ra', 'ko', 'ko', 'ra', 'to', 'ko', 'ko', 'ri', 'ko', 'ko', 'ri', 'vi', 'ra', 'ko', 'ko', 'ro', 'ko', 'ko', 'ro', 'ki', 'ko', 'ko', 'ro', 'ku', 'ko', 'ko', 'ro', 'ku', 'pi', 'ko', 'ko', 'ro', 'pa', 'to', 'ko', 'ko', 'ro', 'si', 'ko', 'ko', 'ro', 'vi', 'ra', 'ko', 'ko', 'ru', 'ko', 'ko', 'ru', 'ko', 'ko', 'ru', 'ko', 'ko', 'si', 'ko', 'ko', 'si', 'ko', 'si', 'ri', 'ko', 'ko', 'si', 'to', 'ko', 'ko', 'si', 'va', 'ko', 'ko', 'ta', 'ko', 'ko', 'te', 'ko', 'ko', 'to', 'ko', 'ko', 'tu', 'ko', 'ko', 'tu', 'ko', 'ko', 'tu', 'ko', 'ko', 'va', 'ko', 'ko', 'va', 'va', 'ko', 'ko', 'va', 'ra', 'ko', 'ko', 'va', 'ra', 'ko', 'ko', 'va', 'ra', 'vi', 'ra', 'ko', 'ko', 'vu', 'ko', 'ko', 'vu', 'ko', 'ko', 'vu', 'ko', 'ko', 'vu', 'ko', 'ko', 'vu', 'pa', 'pa', 'ri', 'ko', 'ko', 'vu', 'ri', 'to', 'ko', 'ku', 'ko', 'ku', 'ku', 'ko', 'ku', 're', 'ko', 'ko', 'ku', 'to', 'ko', 'ko', 'ka', 'ko', 'ka', 'ko', 'ko', 'ko', 'ko', 'ko', 'ko', 'pe', 'ko', 'ko', 'ko', 'pi', 'ko', 'ku', 'ko', 'ku', 'to', 'ko', 'ku', 'vi', 'ra', 'ko', 'pi', 'ko', 'pi', 'pi', 'ko', 'ra', 'ko', 'ro', 'ko', 'ro', 'to', 'ko', 'ro', 'to', 'ko', 'ro', 'vi', 'ra', 'ko', 'ru', 'ko', 'ta', 'ko', 'to', 'pa', 'ko', 'tu', 'tu', 'ko', 'ko', 'pa', 'to', 'ko', 'va', 'ko', 'va', 'ko', 'vo', 'to', 'ko', 'vo', 'to', 'va', 'ko', 'pa', 'ko', 'pa', 'ka', 'ko', 'pa', 'ka', 'va', 'ko', 'pa', 'ko', 'pa', 'ko', 'pa', 'ko', 'vi', 'ra', 'ko', 'pa', 'to', 'ko', 'pi', 'ko', 'pi', 'ko', 'pi', 'pa', 'to', 'ko', 'pi', 'pi', 'ko', 'pi', 'to', 'ko', 'pi', 'ka', 'ko', 'pi', 'ko', 'pi', 'ko', 'pi', 'ko', 'pi', 'ra', 'ko', 'pi', 'pi', 'ko', 'pi', 'ro', 'vu', 'ko', 'pu', 'ko', 'pu', 'ko', 'pu', 'si', 'ko', 'pu', 'si', 'pi', 'ko', 'pu', 'si', 'to', 'ko', 'pu', 'si', 'to', 'vi', 'ra', 'ko', 'pu', 'si', 'vi', 'ra', 'pu', 'si', 'ko', 'pu', 'ko', 'pu', 'ko', 'pu', 'ko', 'pu', 'ko', 'pu', 'pa', 'ko', 'pu', 'pi', 'ra', 'ko', 'pu', 'ro', 'pu', 'ru', 'ko', 'pu', 'vi', 'ro', 'ko', 'pu', 'vi', 'ra', 'ko', 'ra', 'ko', 'ra', 'pa', 'to', 'ko', 'ra', 'ra', 'ko', 'ra', 'ra', 'ko', 'ko', 'ra', 'ko', 'ra', 'ko', 'ra', 'ru', 'ko', 'ra', 'vi', 'ra', 'ko', 're', 'ko', 're', 'ka', 're', 're', 're', 'ko', 're', 're', 'to', 'ko', 'ri', 'ko', 'ri', 'ri', 'ri', 'ko', 'ri', 'ko', 'ri', 'ko', 'ri', 'ko', 'ri', 'pa', 'va', 'ko', 'ri', 'ta', 'ko', 'ri', 'ta', 'ko', 'ri', 'te', 'ra', 'ko', 'ro', 'ko', 'ro', 'ro', 'ko', 'ro', 'ro', 'ko', 'ro', 'ro', 'si', 'vi', 'ra', 'ko', 'ro', 'ro', 'vi', 'ko', 'ro', 'ro', 'vi', 'vi', 'ra', 'ko', 'ro', 'ru', 'ko', 'ro', 'ru', 'pi', 'ko', 'ro', 'to', 'ko', 'ro', 'vi', 'ri', 'ko', 'ro', 'vo', 'ko', 'ru', 'ru', 'ko', 'ko', 'ru', 'ko', 'ru', 'ko', 'ru', 'ko', 'ru', 'pa', 'to', 'ko', 'ru', 'ko', 'ru', 'to', 'ko', 'ru', 'ko', 'ru', 'ko', 'ru', 'vi', 'ra', 'ko', 'ru', 'pi', 'ko', 'ru', 'pi', 'vi', 'ra', 'ko', 'si', 'ko', 'si', 'ko', 'si', 'ko', 'si', 'ko', 'si', 'ko', 'si', 'pa', 'ko', 'si', 'pa', 'to', 'ko', 'si', 'pi', 'ko', 'si', 'va', 'ko', 'si', 'vi', 'ro', 'ko', 'to', 'ko', 'to', 'ko', 'to', 'ko', 'to', 'ko', 'to', 'ra', 'ko', 'to', 'pa', 'ko', 'to', 'pa', 'ko', 'to', 'vi', 'ra', 'ko', 'tu', 'ko', 'tu', 'ko', 'tu', 'ko', 'tu', 'pi', 'ko', 'tu', 'ru', 'ko', 'ko', 'ko', 'ko', 'ko', 'ko', 'ko', 'ko', 'ko', 'ko', 'ko', 'ko', 'va', 'ko', 'va', 'ro', 'ko', 'va', 'to', 'ko', 'va', 'ko', 'va', 'ko', 'va', 'ra', 'ko', 'va', 'pa', 'to', 'ko', 'va', 'ra', 'to', 'ko', 'va', 'ru', 'ko', 'va', 'si', 'ko', 'va', 'ta', 'ko', 'va', 'ta', 'vi', 'ra', 'ko', 'va', 'to', 'ko', 'va', 'ke', 'va', 'va', 'ko', 've', 'ko', 've', 'ko', 've', 'ko', 've', 'ko', 've', 'ko', 've', 'pa', 'ko', 've', 'va', 'vi', 'ko', 'vi', 'ko', 'ro', 'ko', 'vi', 're', 'ko', 'vi', 're', 'ko', 'vo', 'ko', 'vo', 'ko', 'vo', 'ko', 'vo', 'ko', 'vo', 'ko', 'vo', 'ko', 'vo', 'ko', 'vo', 'ko', 'vo', 'ko', 'vo', 'ko', 'vo', 'ko', 'vo', 'ko', 'vo', 'pa', 'ko', 'vo', 'pa', 'to', 'ko', 'vo', 'pi', 'ko', 'vo', 'ru', 'ko', 'ko', 'vo', 'to', 'ko', 'vo', 'vo', 'ko', 'vu', 'ka', 'ko', 'vu', 'ro', 'ko', 'vu', 'ko', 'vu', 'ko', 'vu', 'ko', 'vu', 'to', 'ko', 'vu', 'ko', 'vu', 'vi', 'ra', 'ko', 'vu', 'ru', 'ko', 'vu', 'ru', 'ko', 'vu', 'ru', 'ko', 'ko', 'vu', 'ru', 'ko', 'vi', 'ra', 'ko', 'vu', 'ru', 'vi', 'ra', 'ko', 'vu', 'to', 'ku', 'ra', 'ku', 'ku', 'ku', 'ku', 'ku', 'ku', 'ku', 'pe', 'si', 'ku', 'pe', 'tu', 'ku', 'to', 'ku', 'ka', 'ku', 'ka', 'ra', 'ku', 'ka', 'vi', 'ro', 'ku', 'ki', 'ki', 'ku', 'ki', 'ki', 'ku', 'ku', 'ku', 'ku', 'ku', 'ku', 'ku', 'ku', 'ku', 'ku', 'pu', 'te', 'ku', 'ku', 'pa', 'ku', 'ku', 'ku', 'ku', 'ku', 'pi', 'ra', 'ku', 'ku', 'ri', 'ko', 'ku', 'ku', 'ri', 'ko', 'to', 'ku', 'ku', 'si', 'ri', 'ku', 'ku', 'ta', 'vu', 'ku', 'ku', 'tu', 'ku', 'ku', 'ku', 'ku', 'ku', 'ku', 'ku', 'ku', 'ku', 'pi', 'ku', 'ku', 'vu', 'ku', 'ku', 'va', 'ku', 'ku', 'va', 'pa', 'ku', 'ku', 'vi', 'ta', 'ku', 'ku', 'vu', 'ku', 'ku', 'pa', 're', 'ku', 'pa', 're', 'to', 'ku', 'pe', 'ku', 'pe', 'ku', 'pe', 'ku', 'pe', 'pa', 'ku', 'pe', 'ro', 'ku', 'pe', 'ro', 'ku', 'pe', 'ro', 'vi', 'ra', 'ku', 'pi', 'ku', 'pu', 'ku', 'pu', 'ku', 'ra', 'ku', 'ra', 'si', 'ku', 'ra', 'si', 'ku', 're', 'ku', 'ri', 'ku', 'ri', 'to', 'ku', 'ri', 'ka', 'ka', 'ku', 'to', 'ku', 'ri', 'ka', 'si', 'ku', 'ri', 'ka', 'si', 'vi', 'ra', 'ku', 'ri', 'ko', 'ko', 'ku', 'ri', 'ku', 'ri', 'ku', 'ri', 'pa', 'ku', 'ri', 'ta', 'va', 'ku', 'ro', 'ku', 'ro', 'ku', 'ro', 'ku', 'ro', 'ku', 'ro', 'ku', 'ro', 'to', 'ku', 'ro', 'ku', 'ro', 'ro', 'ku', 'ro', 'vi', 'ra', 'ku', 'ru', 'ku', 'ru', 'ku', 'ru', 'pi', 'ku', 'ru', 'ra', 'ku', 'ru', 'ru', 'ku', 'ru', 'tu', 'si', 'ku', 'si', 'ku', 'si', 'ke', 'ku', 'si', 'to', 'ku', 'ku', 'ku', 'ku', 'vu', 'ku', 'ku', 'vu', 'to', 'ku', 'ku', 'pi', 'ku', 're', 'ku', 'ri', 'ku', 'va', 'ku', 'va', 'ki', 'ku', 'va', 'ki', 'to', 'ku', 'va', 'to', 'ku', 'va', 'vi', 'ra', 'ku', 'vu', 'ku', 'vu', 'vi', 'ra', 'ku', 'va', 'ku', 'va', 'ku', 'ku', 'va', 'to', 'ku', 'va', 'ku', 'va', 'pi', 'ku', 'va', 'vi', 'ra', 'ku', 've', 'ra', 'ku', 've', 'ra', 'va', 'ku', 've', 're', 'ku', 've', 're', 'ku', 've', 're', 'to', 'ku', 've', 're', 'vi', 'ra', 'ku', 'vo', 'ro', 'ku', 'vu', 'ku', 'vu', 'ra', 'ku', 'vu', 'ku', 'vu', 'ku', 'vu', 'ku', 'vu', 'ku', 'vu', 'pa', 'to', 'ku', 'vu', 'to']"
     ]
    },
    {
     "name": "stdout",
     "output_type": "stream",
     "text": [
      "\n"
     ]
    }
   ],
   "source": [
    "cvs = [cv for w in rotokas_words for cv in re.findall('[ptksvr][aeiou]', w)]\n",
    "print(cvs)"
   ]
  },
  {
   "cell_type": "code",
   "execution_count": 11,
   "metadata": {
    "scrolled": true
   },
   "outputs": [
    {
     "name": "stdout",
     "output_type": "stream",
     "text": [
      "    a   e   i   o   u \n",
      "k 418 148  94 420 173 \n",
      "p  83  31 105  34  51 \n",
      "r 187  63  84  89  79 \n",
      "s   0   0 100   2   1 \n",
      "t  47   8   0 148  37 \n",
      "v  93  27 105  48  49 \n"
     ]
    }
   ],
   "source": [
    "cfd = nltk.ConditionalFreqDist(cvs) # CFD works pairwise only\n",
    "cfd.tabulate()"
   ]
  },
  {
   "cell_type": "markdown",
   "metadata": {},
   "source": [
    "tabulate을 써버리면 나온 횟수를 차트로 만들어준다. Conditional 하게 만들어준다. "
   ]
  },
  {
   "cell_type": "code",
   "execution_count": 15,
   "metadata": {},
   "outputs": [
    {
     "name": "stdout",
     "output_type": "stream",
     "text": [
      "['I', 'am', 'Jhon', 'from', 'America', 'and', 'would', 'like', 'to', 'go', 'to', 'Starbuck']\n"
     ]
    }
   ],
   "source": [
    "import nltk\n",
    "sent = \"I am Jhon from America and would like to go to Starbuck\"\n",
    "token = nltk.word_tokenize(sent)\n",
    "print(token)"
   ]
  },
  {
   "cell_type": "code",
   "execution_count": 16,
   "metadata": {},
   "outputs": [
    {
     "data": {
      "text/plain": [
       "'\\nPOS tag list:\\n\\nCC\\tcoordinating conjunction\\nCD\\tcardinal digit\\nDT\\tdeterminer\\nEX\\texistential there (like: \"there is\" ... think of it like \"there exists\")\\nFW\\tforeign word\\nIN\\tpreposition/subordinating conjunction\\nJJ\\tadjective\\t\\'big\\'\\nJJR\\tadjective, comparative\\t\\'bigger\\'\\nJJS\\tadjective, superlative\\t\\'biggest\\'\\nLS\\tlist marker\\t1)\\nMD\\tmodal\\tcould, will\\nNN\\tnoun, singular \\'desk\\'\\nNNS\\tnoun plural\\t\\'desks\\'\\nNNP\\tproper noun, singular\\t\\'Harrison\\'\\nNNPS\\tproper noun, plural\\t\\'Americans\\'\\nPDT\\tpredeterminer\\t\\'all the kids\\'\\nPOS\\tpossessive ending\\tparent\\'s\\nPRP\\tpersonal pronoun\\tI, he, she\\nPRP$\\tpossessive pronoun\\tmy, his, hers\\nRB\\tadverb\\tvery, silently,\\nRBR\\tadverb, comparative\\tbetter\\nRBS\\tadverb, superlative\\tbest\\nRP\\tparticle\\tgive up\\nTO\\tto\\tgo \\'to\\' the store.\\nUH\\tinterjection\\terrrrrrrrm\\nVB\\tverb, base form\\ttake\\nVBD\\tverb, past tense\\ttook\\nVBG\\tverb, gerund/present participle\\ttaking\\nVBN\\tverb, past participle\\ttaken\\nVBP\\tverb, sing. present, non-3d\\ttake\\nVBZ\\tverb, 3rd person sing. present\\ttakes\\nWDT\\twh-determiner\\twhich\\nWP\\twh-pronoun\\twho, what\\nWP$\\tpossessive wh-pronoun\\twhose\\nWRB\\twh-abverb\\twhere, when\\n'"
      ]
     },
     "execution_count": 16,
     "metadata": {},
     "output_type": "execute_result"
    }
   ],
   "source": [
    "'''\n",
    "POS tag list:\n",
    "\n",
    "CC\tcoordinating conjunction\n",
    "CD\tcardinal digit\n",
    "DT\tdeterminer\n",
    "EX\texistential there (like: \"there is\" ... think of it like \"there exists\")\n",
    "FW\tforeign word\n",
    "IN\tpreposition/subordinating conjunction\n",
    "JJ\tadjective\t'big'\n",
    "JJR\tadjective, comparative\t'bigger'\n",
    "JJS\tadjective, superlative\t'biggest'\n",
    "LS\tlist marker\t1)\n",
    "MD\tmodal\tcould, will\n",
    "NN\tnoun, singular 'desk'\n",
    "NNS\tnoun plural\t'desks'\n",
    "NNP\tproper noun, singular\t'Harrison'\n",
    "NNPS\tproper noun, plural\t'Americans'\n",
    "PDT\tpredeterminer\t'all the kids'\n",
    "POS\tpossessive ending\tparent's\n",
    "PRP\tpersonal pronoun\tI, he, she\n",
    "PRP$\tpossessive pronoun\tmy, his, hers\n",
    "RB\tadverb\tvery, silently,\n",
    "RBR\tadverb, comparative\tbetter\n",
    "RBS\tadverb, superlative\tbest\n",
    "RP\tparticle\tgive up\n",
    "TO\tto\tgo 'to' the store.\n",
    "UH\tinterjection\terrrrrrrrm\n",
    "VB\tverb, base form\ttake\n",
    "VBD\tverb, past tense\ttook\n",
    "VBG\tverb, gerund/present participle\ttaking\n",
    "VBN\tverb, past participle\ttaken\n",
    "VBP\tverb, sing. present, non-3d\ttake\n",
    "VBZ\tverb, 3rd person sing. present\ttakes\n",
    "WDT\twh-determiner\twhich\n",
    "WP\twh-pronoun\twho, what\n",
    "WP$\tpossessive wh-pronoun\twhose\n",
    "WRB\twh-abverb\twhere, when\n",
    "'''"
   ]
  },
  {
   "cell_type": "code",
   "execution_count": 21,
   "metadata": {},
   "outputs": [
    {
     "name": "stdout",
     "output_type": "stream",
     "text": [
      "[('I', 'PRP'), ('am', 'VBP'), ('Jhon', 'RB'), ('from', 'IN'), ('America', 'NNP'), ('and', 'CC'), ('would', 'MD'), ('like', 'VB'), ('to', 'TO'), ('go', 'VB'), ('to', 'TO'), ('Starbuck', 'NNP')]\n"
     ]
    }
   ],
   "source": [
    "pos = nltk.pos_tag(token)\n",
    "print(pos)"
   ]
  },
  {
   "cell_type": "markdown",
   "metadata": {},
   "source": [
    "pos = part of speech, theoretical, linguistic 한 syntax가 아니라 공학적접근. tuple을 쓰는 이유는 정보보호 차원에서. "
   ]
  },
  {
   "cell_type": "code",
   "execution_count": 22,
   "metadata": {},
   "outputs": [
    {
     "name": "stdout",
     "output_type": "stream",
     "text": [
      "(S\n",
      "  I/PRP\n",
      "  am/VBP\n",
      "  Jhon/RB\n",
      "  from/IN\n",
      "  (GPE America/NNP)\n",
      "  and/CC\n",
      "  would/MD\n",
      "  like/VB\n",
      "  to/TO\n",
      "  go/VB\n",
      "  to/TO\n",
      "  (PERSON Starbuck/NNP))\n"
     ]
    }
   ],
   "source": [
    "NE = nltk.ne_chunk(pos)\n",
    "print(NE)\n",
    "# common Entity types: ORGANIZATION, PERSON, LOCATION, DATE, TIME, MONEY, and GPE (geo-political entity)"
   ]
  },
  {
   "cell_type": "markdown",
   "metadata": {},
   "source": [
    "긴 문장이 있을때 필요한 정보만 빼내면 된다. named entity만 찾아내는 것이다. 과정이 생각보다 단순하다. Named entity 가 가장 중요한 text processing의 과정. 정보적으로 John, America, Starbuck 중요한거 같다. 여기서 뽑아내서 선택이 된다. "
   ]
  },
  {
   "cell_type": "code",
   "execution_count": 2,
   "metadata": {},
   "outputs": [],
   "source": [
    "import numpy as np\n",
    "import matplotlib.pyplot as plt"
   ]
  },
  {
   "cell_type": "code",
   "execution_count": 3,
   "metadata": {
    "scrolled": true
   },
   "outputs": [
    {
     "data": {
      "text/plain": [
       "array([[         0, 1072168960,          0],\n",
       "       [1072168960,          0,          0]])"
      ]
     },
     "execution_count": 3,
     "metadata": {},
     "output_type": "execute_result"
    }
   ],
   "source": [
    "np.empty([2,3], dtype='int')"
   ]
  },
  {
   "cell_type": "markdown",
   "metadata": {},
   "source": [
    "2x3 matrix를 만드는데 random 한 숫자들이 들어간다. []이 두개면 2차원이라고 생각하면 됨. []이 하나면 그냥 vector"
   ]
  },
  {
   "cell_type": "code",
   "execution_count": 4,
   "metadata": {},
   "outputs": [
    {
     "data": {
      "text/plain": [
       "array([[0., 0., 0.],\n",
       "       [0., 0., 0.]])"
      ]
     },
     "execution_count": 4,
     "metadata": {},
     "output_type": "execute_result"
    }
   ],
   "source": [
    "np.zeros([2,3])"
   ]
  },
  {
   "cell_type": "code",
   "execution_count": 5,
   "metadata": {},
   "outputs": [
    {
     "data": {
      "text/plain": [
       "array([0., 2., 4., 6., 8.])"
      ]
     },
     "execution_count": 5,
     "metadata": {},
     "output_type": "execute_result"
    }
   ],
   "source": [
    "np.arange(0,10,2, dtype='float64')"
   ]
  },
  {
   "cell_type": "markdown",
   "metadata": {},
   "source": [
    "0부터 10까지 2만큼 늘어나면서 가라. 앞에있는 0은 포함하고 10은 포함하면 안된다. 숫자뒤에 .이 있는데 이건 data type을 float로 했기 때문에. float 64는 float인데 소수점을 더 뒤에까지 나타내라는 것. "
   ]
  },
  {
   "cell_type": "code",
   "execution_count": 6,
   "metadata": {},
   "outputs": [
    {
     "data": {
      "text/plain": [
       "array([ 0.,  2.,  4.,  6.,  8., 10.])"
      ]
     },
     "execution_count": 6,
     "metadata": {},
     "output_type": "execute_result"
    }
   ],
   "source": [
    "np.linspace(0,10,6, dtype='float')"
   ]
  },
  {
   "cell_type": "markdown",
   "metadata": {},
   "source": [
    "0 부터 10까지 총 6구간을 만들어라. "
   ]
  },
  {
   "cell_type": "code",
   "execution_count": 7,
   "metadata": {},
   "outputs": [
    {
     "data": {
      "text/plain": [
       "array([[1, 2, 3],\n",
       "       [4, 5, 6]])"
      ]
     },
     "execution_count": 7,
     "metadata": {},
     "output_type": "execute_result"
    }
   ],
   "source": [
    "X = np.array([[1,2,3], [4,5,6]])\n",
    "X"
   ]
  },
  {
   "cell_type": "markdown",
   "metadata": {},
   "source": [
    "list형태를 만들어서 그걸 밑으로 내려가서 list에서 array로 바꿔주는 작업. "
   ]
  },
  {
   "cell_type": "code",
   "execution_count": 8,
   "metadata": {
    "scrolled": true
   },
   "outputs": [
    {
     "data": {
      "text/plain": [
       "array([[1., 2., 3.],\n",
       "       [4., 5., 6.]])"
      ]
     },
     "execution_count": 8,
     "metadata": {},
     "output_type": "execute_result"
    }
   ],
   "source": [
    "X.astype(np.float64)"
   ]
  },
  {
   "cell_type": "markdown",
   "metadata": {},
   "source": [
    "X의 type을 바꾸고 싶을때 X.astype을 통해서 int를 float로 바꿔줄 수 있다. "
   ]
  },
  {
   "cell_type": "code",
   "execution_count": 9,
   "metadata": {},
   "outputs": [
    {
     "data": {
      "text/plain": [
       "array([[0, 0, 0],\n",
       "       [0, 0, 0]])"
      ]
     },
     "execution_count": 9,
     "metadata": {},
     "output_type": "execute_result"
    }
   ],
   "source": [
    "np.zeros_like(X)"
   ]
  },
  {
   "cell_type": "markdown",
   "metadata": {},
   "source": [
    "X의 array를 zeros 화 해주는 것. "
   ]
  },
  {
   "cell_type": "code",
   "execution_count": 10,
   "metadata": {},
   "outputs": [
    {
     "name": "stdout",
     "output_type": "stream",
     "text": [
      "[ 0.30907436  1.53625469  0.75024399  0.11394726  0.99836307  0.70857422\n",
      "  2.0529924   0.04460159 -0.61589646 -1.72580508  1.46978203  0.41548415\n",
      " -0.56211154  1.40025987  0.51880263  1.44789874  1.20420349 -0.37072526\n",
      "  0.11955888 -0.5224486  -0.76249684 -0.27959489  1.90535388  0.91778961\n",
      "  0.36587199  0.67517438  0.56963783 -0.72481485  0.70044954 -2.0573027\n",
      " -0.50945514 -0.24837154 -0.32178079  1.1320427  -1.01693089 -0.68118271\n",
      "  0.1147756  -0.61917306  0.71736346 -0.36428463 -0.29974877  0.37795128\n",
      " -0.31460304  0.21281306 -1.38335031  0.56382394 -1.15174974  0.23576224\n",
      " -0.59943189 -0.79494381 -2.3216879  -0.57510977 -0.59765818 -0.10643511\n",
      "  0.53832887 -0.91534711  1.09123191 -0.3386413   0.34001193 -1.20681075\n",
      "  0.83634712 -0.54553446  0.07692639 -2.58232228 -0.48119014 -1.41054741\n",
      " -0.52974516  0.86147514 -1.51427715  0.32911474  0.98399227 -1.48276375\n",
      " -0.11128266 -0.01998205  1.09746452 -1.70161053  1.57279421  1.66047874\n",
      "  0.58563225  0.37600673  0.24221057 -1.13912803 -0.01315433  0.07025432\n",
      " -2.75909764 -0.03966554  3.02903484  0.18950397  0.19401528  0.15140676\n",
      " -1.86438128  0.13103247 -0.86268994 -0.83358786 -0.73601407  0.24301025\n",
      "  1.22649242  0.57558162 -1.21627074 -0.44823156]\n"
     ]
    },
    {
     "data": {
      "image/png": "[encoded data removed]",
      "text/plain": [
       "<Figure size 432x288 with 1 Axes>"
      ]
     },
     "metadata": {
      "needs_background": "light"
     },
     "output_type": "display_data"
    }
   ],
   "source": [
    "data = np.random.normal(0,1, 100)\n",
    "print(data)\n",
    "plt.hist(data, bins=10)\n",
    "plt.show()"
   ]
  },
  {
   "cell_type": "markdown",
   "metadata": {},
   "source": [
    " 0을 평균값으로 하고 1이 standard deviation. 정규분표표를 만들어라. 그래서 histogram을 뿌려봤더니 그림이 나오더라. "
   ]
  },
  {
   "cell_type": "code",
   "execution_count": 11,
   "metadata": {
    "scrolled": true
   },
   "outputs": [
    {
     "data": {
      "text/plain": [
       "array([[[1., 1., 1., 1.],\n",
       "        [1., 1., 1., 1.],\n",
       "        [1., 1., 1., 1.]],\n",
       "\n",
       "       [[1., 1., 1., 1.],\n",
       "        [1., 1., 1., 1.],\n",
       "        [1., 1., 1., 1.]]])"
      ]
     },
     "execution_count": 11,
     "metadata": {},
     "output_type": "execute_result"
    }
   ],
   "source": [
    "X = np.ones([2, 3, 4])\n",
    "X"
   ]
  },
  {
   "cell_type": "markdown",
   "metadata": {},
   "source": [
    "[]이 3개이면 3차원이라고 생각하면됨. 크게 두덩어리니까 2차원, 3줄로 나뉘니까 3, 그리고 그속에 4개씩 들어있으니까 4. 덩어리나누고, 줄나누고 갯수들어간 순서. "
   ]
  },
  {
   "cell_type": "code",
   "execution_count": 17,
   "metadata": {
    "scrolled": true
   },
   "outputs": [
    {
     "data": {
      "text/plain": [
       "array([[[1., 1.],\n",
       "        [1., 1.],\n",
       "        [1., 1.]],\n",
       "\n",
       "       [[1., 1.],\n",
       "        [1., 1.],\n",
       "        [1., 1.]],\n",
       "\n",
       "       [[1., 1.],\n",
       "        [1., 1.],\n",
       "        [1., 1.]],\n",
       "\n",
       "       [[1., 1.],\n",
       "        [1., 1.],\n",
       "        [1., 1.]]])"
      ]
     },
     "execution_count": 17,
     "metadata": {},
     "output_type": "execute_result"
    }
   ],
   "source": [
    "Y = X.reshape(-1, 3, 2)\n",
    "Y"
   ]
  },
  {
   "cell_type": "markdown",
   "metadata": {},
   "source": [
    "-1 이면 자동으로 그 차원을 계산해준다. 그니까 숫자 2개를 알고, 다른거 하나 뭐들어가야될지 모르면 -1을 쳐주면 된다. "
   ]
  },
  {
   "cell_type": "code",
   "execution_count": 18,
   "metadata": {},
   "outputs": [
    {
     "data": {
      "text/plain": [
       "True"
      ]
     },
     "execution_count": 18,
     "metadata": {},
     "output_type": "execute_result"
    }
   ],
   "source": [
    "np.allclose(X.reshape(-1, 3, 2), Y)"
   ]
  },
  {
   "cell_type": "code",
   "execution_count": 19,
   "metadata": {},
   "outputs": [],
   "source": [
    "assert np.allclose(X.reshape(-1, 3, 2), Y)"
   ]
  },
  {
   "cell_type": "code",
   "execution_count": 38,
   "metadata": {},
   "outputs": [
    {
     "data": {
      "text/plain": [
       "array([[5, 6, 9],\n",
       "       [4, 6, 5]])"
      ]
     },
     "execution_count": 38,
     "metadata": {},
     "output_type": "execute_result"
    }
   ],
   "source": [
    "a = np.random.randint(0, 10, [2, 3])\n",
    "b = np.random.random([2, 3])\n",
    "np.savez(\"test\", a, b)\n",
    "a"
   ]
  },
  {
   "cell_type": "markdown",
   "metadata": {},
   "source": [
    "0부터 9까지 integer를 만드는데, 2X3의 형태로 만들어라. b는 2X3를 만드는데 random한 숫자로 나오게 만들어라. 저장을 하고 싶을때, np.savez를 치고, 그 뒤는 파일이름. 그리고 a,b는 만들어준 변수. "
   ]
  },
  {
   "cell_type": "code",
   "execution_count": 36,
   "metadata": {},
   "outputs": [],
   "source": [
    "!ls -al test*"
   ]
  },
  {
   "cell_type": "markdown",
   "metadata": {},
   "source": [
    "test파일을 찾는 명령어 "
   ]
  },
  {
   "cell_type": "code",
   "execution_count": 41,
   "metadata": {},
   "outputs": [
    {
     "name": "stdout",
     "output_type": "stream",
     "text": [
      "X\t Y\t data\t np\t npzfiles\t plt\t \n"
     ]
    }
   ],
   "source": [
    "del a, b\n",
    "%who  \n"
   ]
  },
  {
   "cell_type": "markdown",
   "metadata": {},
   "source": [
    "%who를 쓰면 여태까지 memory상에 있는 variable 들을 보여준다. "
   ]
  },
  {
   "cell_type": "code",
   "execution_count": 28,
   "metadata": {
    "scrolled": true
   },
   "outputs": [
    {
     "data": {
      "text/plain": [
       "['arr_0', 'arr_1']"
      ]
     },
     "execution_count": 28,
     "metadata": {},
     "output_type": "execute_result"
    }
   ],
   "source": [
    "npzfiles = np.load(\"test.npz\")\n",
    "npzfiles.files"
   ]
  },
  {
   "cell_type": "markdown",
   "metadata": {},
   "source": [
    "지금 array 0과 1이 들어와 있는 상태이다. "
   ]
  },
  {
   "cell_type": "code",
   "execution_count": 44,
   "metadata": {},
   "outputs": [
    {
     "ename": "BadZipFile",
     "evalue": "Bad CRC-32 for file 'arr_0.npy'",
     "output_type": "error",
     "traceback": [
      "\u001b[1;31m---------------------------------------------------------------------------\u001b[0m",
      "\u001b[1;31mBadZipFile\u001b[0m                                Traceback (most recent call last)",
      "\u001b[1;32m<ipython-input-44-0edd93b39ec3>\u001b[0m in \u001b[0;36m<module>\u001b[1;34m\u001b[0m\n\u001b[1;32m----> 1\u001b[1;33m \u001b[0mnpzfiles\u001b[0m\u001b[1;33m[\u001b[0m\u001b[1;34m'arr_0'\u001b[0m\u001b[1;33m]\u001b[0m\u001b[1;33m\u001b[0m\u001b[1;33m\u001b[0m\u001b[0m\n\u001b[0m",
      "\u001b[1;32m~\\Anaconda3\\lib\\site-packages\\numpy\\lib\\npyio.py\u001b[0m in \u001b[0;36m__getitem__\u001b[1;34m(self, key)\u001b[0m\n\u001b[0;32m    243\u001b[0m         \u001b[1;32mif\u001b[0m \u001b[0mmember\u001b[0m\u001b[1;33m:\u001b[0m\u001b[1;33m\u001b[0m\u001b[1;33m\u001b[0m\u001b[0m\n\u001b[0;32m    244\u001b[0m             \u001b[0mbytes\u001b[0m \u001b[1;33m=\u001b[0m \u001b[0mself\u001b[0m\u001b[1;33m.\u001b[0m\u001b[0mzip\u001b[0m\u001b[1;33m.\u001b[0m\u001b[0mopen\u001b[0m\u001b[1;33m(\u001b[0m\u001b[0mkey\u001b[0m\u001b[1;33m)\u001b[0m\u001b[1;33m\u001b[0m\u001b[1;33m\u001b[0m\u001b[0m\n\u001b[1;32m--> 245\u001b[1;33m             \u001b[0mmagic\u001b[0m \u001b[1;33m=\u001b[0m \u001b[0mbytes\u001b[0m\u001b[1;33m.\u001b[0m\u001b[0mread\u001b[0m\u001b[1;33m(\u001b[0m\u001b[0mlen\u001b[0m\u001b[1;33m(\u001b[0m\u001b[0mformat\u001b[0m\u001b[1;33m.\u001b[0m\u001b[0mMAGIC_PREFIX\u001b[0m\u001b[1;33m)\u001b[0m\u001b[1;33m)\u001b[0m\u001b[1;33m\u001b[0m\u001b[1;33m\u001b[0m\u001b[0m\n\u001b[0m\u001b[0;32m    246\u001b[0m             \u001b[0mbytes\u001b[0m\u001b[1;33m.\u001b[0m\u001b[0mclose\u001b[0m\u001b[1;33m(\u001b[0m\u001b[1;33m)\u001b[0m\u001b[1;33m\u001b[0m\u001b[1;33m\u001b[0m\u001b[0m\n\u001b[0;32m    247\u001b[0m             \u001b[1;32mif\u001b[0m \u001b[0mmagic\u001b[0m \u001b[1;33m==\u001b[0m \u001b[0mformat\u001b[0m\u001b[1;33m.\u001b[0m\u001b[0mMAGIC_PREFIX\u001b[0m\u001b[1;33m:\u001b[0m\u001b[1;33m\u001b[0m\u001b[1;33m\u001b[0m\u001b[0m\n",
      "\u001b[1;32m~\\Anaconda3\\lib\\zipfile.py\u001b[0m in \u001b[0;36mread\u001b[1;34m(self, n)\u001b[0m\n\u001b[0;32m    897\u001b[0m         \u001b[0mself\u001b[0m\u001b[1;33m.\u001b[0m\u001b[0m_offset\u001b[0m \u001b[1;33m=\u001b[0m \u001b[1;36m0\u001b[0m\u001b[1;33m\u001b[0m\u001b[1;33m\u001b[0m\u001b[0m\n\u001b[0;32m    898\u001b[0m         \u001b[1;32mwhile\u001b[0m \u001b[0mn\u001b[0m \u001b[1;33m>\u001b[0m \u001b[1;36m0\u001b[0m \u001b[1;32mand\u001b[0m \u001b[1;32mnot\u001b[0m \u001b[0mself\u001b[0m\u001b[1;33m.\u001b[0m\u001b[0m_eof\u001b[0m\u001b[1;33m:\u001b[0m\u001b[1;33m\u001b[0m\u001b[1;33m\u001b[0m\u001b[0m\n\u001b[1;32m--> 899\u001b[1;33m             \u001b[0mdata\u001b[0m \u001b[1;33m=\u001b[0m \u001b[0mself\u001b[0m\u001b[1;33m.\u001b[0m\u001b[0m_read1\u001b[0m\u001b[1;33m(\u001b[0m\u001b[0mn\u001b[0m\u001b[1;33m)\u001b[0m\u001b[1;33m\u001b[0m\u001b[1;33m\u001b[0m\u001b[0m\n\u001b[0m\u001b[0;32m    900\u001b[0m             \u001b[1;32mif\u001b[0m \u001b[0mn\u001b[0m \u001b[1;33m<\u001b[0m \u001b[0mlen\u001b[0m\u001b[1;33m(\u001b[0m\u001b[0mdata\u001b[0m\u001b[1;33m)\u001b[0m\u001b[1;33m:\u001b[0m\u001b[1;33m\u001b[0m\u001b[1;33m\u001b[0m\u001b[0m\n\u001b[0;32m    901\u001b[0m                 \u001b[0mself\u001b[0m\u001b[1;33m.\u001b[0m\u001b[0m_readbuffer\u001b[0m \u001b[1;33m=\u001b[0m \u001b[0mdata\u001b[0m\u001b[1;33m\u001b[0m\u001b[1;33m\u001b[0m\u001b[0m\n",
      "\u001b[1;32m~\\Anaconda3\\lib\\zipfile.py\u001b[0m in \u001b[0;36m_read1\u001b[1;34m(self, n)\u001b[0m\n\u001b[0;32m    987\u001b[0m         \u001b[1;32mif\u001b[0m \u001b[0mself\u001b[0m\u001b[1;33m.\u001b[0m\u001b[0m_left\u001b[0m \u001b[1;33m<=\u001b[0m \u001b[1;36m0\u001b[0m\u001b[1;33m:\u001b[0m\u001b[1;33m\u001b[0m\u001b[1;33m\u001b[0m\u001b[0m\n\u001b[0;32m    988\u001b[0m             \u001b[0mself\u001b[0m\u001b[1;33m.\u001b[0m\u001b[0m_eof\u001b[0m \u001b[1;33m=\u001b[0m \u001b[1;32mTrue\u001b[0m\u001b[1;33m\u001b[0m\u001b[1;33m\u001b[0m\u001b[0m\n\u001b[1;32m--> 989\u001b[1;33m         \u001b[0mself\u001b[0m\u001b[1;33m.\u001b[0m\u001b[0m_update_crc\u001b[0m\u001b[1;33m(\u001b[0m\u001b[0mdata\u001b[0m\u001b[1;33m)\u001b[0m\u001b[1;33m\u001b[0m\u001b[1;33m\u001b[0m\u001b[0m\n\u001b[0m\u001b[0;32m    990\u001b[0m         \u001b[1;32mreturn\u001b[0m \u001b[0mdata\u001b[0m\u001b[1;33m\u001b[0m\u001b[1;33m\u001b[0m\u001b[0m\n\u001b[0;32m    991\u001b[0m \u001b[1;33m\u001b[0m\u001b[0m\n",
      "\u001b[1;32m~\\Anaconda3\\lib\\zipfile.py\u001b[0m in \u001b[0;36m_update_crc\u001b[1;34m(self, newdata)\u001b[0m\n\u001b[0;32m    915\u001b[0m         \u001b[1;31m# Check the CRC if we're at the end of the file\u001b[0m\u001b[1;33m\u001b[0m\u001b[1;33m\u001b[0m\u001b[1;33m\u001b[0m\u001b[0m\n\u001b[0;32m    916\u001b[0m         \u001b[1;32mif\u001b[0m \u001b[0mself\u001b[0m\u001b[1;33m.\u001b[0m\u001b[0m_eof\u001b[0m \u001b[1;32mand\u001b[0m \u001b[0mself\u001b[0m\u001b[1;33m.\u001b[0m\u001b[0m_running_crc\u001b[0m \u001b[1;33m!=\u001b[0m \u001b[0mself\u001b[0m\u001b[1;33m.\u001b[0m\u001b[0m_expected_crc\u001b[0m\u001b[1;33m:\u001b[0m\u001b[1;33m\u001b[0m\u001b[1;33m\u001b[0m\u001b[0m\n\u001b[1;32m--> 917\u001b[1;33m             \u001b[1;32mraise\u001b[0m \u001b[0mBadZipFile\u001b[0m\u001b[1;33m(\u001b[0m\u001b[1;34m\"Bad CRC-32 for file %r\"\u001b[0m \u001b[1;33m%\u001b[0m \u001b[0mself\u001b[0m\u001b[1;33m.\u001b[0m\u001b[0mname\u001b[0m\u001b[1;33m)\u001b[0m\u001b[1;33m\u001b[0m\u001b[1;33m\u001b[0m\u001b[0m\n\u001b[0m\u001b[0;32m    918\u001b[0m \u001b[1;33m\u001b[0m\u001b[0m\n\u001b[0;32m    919\u001b[0m     \u001b[1;32mdef\u001b[0m \u001b[0mread1\u001b[0m\u001b[1;33m(\u001b[0m\u001b[0mself\u001b[0m\u001b[1;33m,\u001b[0m \u001b[0mn\u001b[0m\u001b[1;33m)\u001b[0m\u001b[1;33m:\u001b[0m\u001b[1;33m\u001b[0m\u001b[1;33m\u001b[0m\u001b[0m\n",
      "\u001b[1;31mBadZipFile\u001b[0m: Bad CRC-32 for file 'arr_0.npy'"
     ]
    }
   ],
   "source": [
    "npzfiles['arr_0']"
   ]
  },
  {
   "cell_type": "code",
   "execution_count": 48,
   "metadata": {},
   "outputs": [
    {
     "data": {
      "text/plain": [
       "array([( 3.3  , 1.7  ), ( 4.4  , 2.76 ), ( 5.5  , 2.09 ), ( 6.71 , 3.19 ),\n",
       "       ( 6.93 , 1.694), ( 4.168, 1.573), ( 9.779, 3.366), ( 6.182, 2.596),\n",
       "       ( 7.59 , 2.53 ), ( 2.167, 1.221), ( 7.042, 2.827), (10.791, 3.465),\n",
       "       ( 5.313, 1.65 ), ( 7.997, 2.904), ( 5.654, 2.42 ), ( 9.27 , 2.94 ),\n",
       "       ( 3.1  , 1.3  )], dtype=[('X', '<f4'), ('Y', '<f4')])"
      ]
     },
     "execution_count": 48,
     "metadata": {},
     "output_type": "execute_result"
    }
   ],
   "source": [
    "data = np.loadtxt(\"regression.csv\", delimiter=\",\", skiprows=1, dtype={'names':(\"X\", \"Y\"), 'formats':('f', 'f')})\n",
    "data"
   ]
  },
  {
   "cell_type": "markdown",
   "metadata": {},
   "source": [
    "format에 ff로 받으면 float로 받는다. "
   ]
  },
  {
   "cell_type": "code",
   "execution_count": null,
   "metadata": {},
   "outputs": [],
   "source": [
    "np.savetxt(\"regression_saved.csv\", data, delimiter=\",\")\n",
    "!ls -al regression_saved.cs"
   ]
  },
  {
   "cell_type": "code",
   "execution_count": 49,
   "metadata": {},
   "outputs": [],
   "source": [
    "arr = np.random.random([5,2,3])"
   ]
  },
  {
   "cell_type": "code",
   "execution_count": 50,
   "metadata": {},
   "outputs": [
    {
     "name": "stdout",
     "output_type": "stream",
     "text": [
      "<class 'numpy.ndarray'>\n",
      "5\n",
      "(5, 2, 3)\n",
      "3\n",
      "30\n",
      "float64\n"
     ]
    }
   ],
   "source": [
    "print(type(arr))\n",
    "print(len(arr))\n",
    "print(arr.shape)\n",
    "print(arr.ndim)\n",
    "print(arr.size)\n",
    "print(arr.dtype)"
   ]
  },
  {
   "cell_type": "code",
   "execution_count": 57,
   "metadata": {},
   "outputs": [
    {
     "data": {
      "text/plain": [
       "(array([1, 2, 3, 4]), array([9, 8, 7, 6]))"
      ]
     },
     "execution_count": 57,
     "metadata": {},
     "output_type": "execute_result"
    }
   ],
   "source": [
    "a = np.arange(1, 5)\n",
    "b = np.arange(9, 5, -1)\n",
    "a,b"
   ]
  },
  {
   "cell_type": "markdown",
   "metadata": {},
   "source": [
    "a,b한번에 쓰면 다 볼 수 있다. "
   ]
  },
  {
   "cell_type": "code",
   "execution_count": 52,
   "metadata": {},
   "outputs": [
    {
     "name": "stdout",
     "output_type": "stream",
     "text": [
      "[-8 -6 -4 -2]\n",
      "[ 9 16 21 24]\n"
     ]
    }
   ],
   "source": [
    "print(a - b)\n",
    "print(a * b)"
   ]
  },
  {
   "cell_type": "code",
   "execution_count": 59,
   "metadata": {},
   "outputs": [
    {
     "data": {
      "text/plain": [
       "(matrix([[1, 2, 3, 4]]), matrix([[9, 8, 7, 6]]))"
      ]
     },
     "execution_count": 59,
     "metadata": {},
     "output_type": "execute_result"
    }
   ],
   "source": [
    "a = np.matrix(a)\n",
    "b = np.matrix(b)\n",
    "a,b"
   ]
  },
  {
   "cell_type": "markdown",
   "metadata": {},
   "source": [
    "matrix로 바꿔주는 순간 axb의 형태가 나와야하므로 [][]가 더 들어가야한다. "
   ]
  },
  {
   "cell_type": "code",
   "execution_count": 54,
   "metadata": {},
   "outputs": [
    {
     "data": {
      "text/plain": [
       "matrix([[70]])"
      ]
     },
     "execution_count": 54,
     "metadata": {},
     "output_type": "execute_result"
    }
   ],
   "source": [
    "a * b.T"
   ]
  },
  {
   "cell_type": "code",
   "execution_count": 55,
   "metadata": {},
   "outputs": [
    {
     "data": {
      "text/plain": [
       "matrix([[ 9,  8,  7,  6],\n",
       "        [18, 16, 14, 12],\n",
       "        [27, 24, 21, 18],\n",
       "        [36, 32, 28, 24]])"
      ]
     },
     "execution_count": 55,
     "metadata": {},
     "output_type": "execute_result"
    }
   ],
   "source": [
    "a.T * b"
   ]
  },
  {
   "cell_type": "code",
   "execution_count": 60,
   "metadata": {},
   "outputs": [
    {
     "name": "stdout",
     "output_type": "stream",
     "text": [
      "[[1 2 3]\n",
      " [4 5 6]\n",
      " [7 8 9]]\n",
      "[[9 8 7]\n",
      " [6 5 4]\n",
      " [3 2 1]]\n"
     ]
    }
   ],
   "source": [
    "a = np.arange(1, 10).reshape(3,3)\n",
    "b = np.arange(9, 0, -1).reshape(3,3)\n",
    "print(a)\n",
    "print(b)"
   ]
  },
  {
   "cell_type": "code",
   "execution_count": 61,
   "metadata": {},
   "outputs": [
    {
     "data": {
      "text/plain": [
       "array([[False, False, False],\n",
       "       [False,  True, False],\n",
       "       [False, False, False]])"
      ]
     },
     "execution_count": 61,
     "metadata": {},
     "output_type": "execute_result"
    }
   ],
   "source": [
    "a == b"
   ]
  },
  {
   "cell_type": "code",
   "execution_count": 62,
   "metadata": {},
   "outputs": [
    {
     "data": {
      "text/plain": [
       "array([[False, False, False],\n",
       "       [False, False,  True],\n",
       "       [ True,  True,  True]])"
      ]
     },
     "execution_count": 62,
     "metadata": {},
     "output_type": "execute_result"
    }
   ],
   "source": [
    "a > b"
   ]
  },
  {
   "cell_type": "code",
   "execution_count": 63,
   "metadata": {
    "scrolled": true
   },
   "outputs": [
    {
     "data": {
      "text/plain": [
       "(45, 45)"
      ]
     },
     "execution_count": 63,
     "metadata": {},
     "output_type": "execute_result"
    }
   ],
   "source": [
    "a.sum(), np.sum(a)"
   ]
  },
  {
   "cell_type": "markdown",
   "metadata": {},
   "source": [
    "a의 모든 합을 구하라 "
   ]
  },
  {
   "cell_type": "code",
   "execution_count": 64,
   "metadata": {},
   "outputs": [
    {
     "data": {
      "text/plain": [
       "(array([12, 15, 18]), array([12, 15, 18]))"
      ]
     },
     "execution_count": 64,
     "metadata": {},
     "output_type": "execute_result"
    }
   ],
   "source": [
    "a.sum(axis=0), np.sum(a, axis=0)"
   ]
  },
  {
   "cell_type": "markdown",
   "metadata": {},
   "source": [
    "3x3를 한쪽 방향으로 더할 수도 있을 것이다. 첫번째는 row방향으로 sum을 하라. row를 기반으로 해서 collapse 시킨다."
   ]
  },
  {
   "cell_type": "code",
   "execution_count": 65,
   "metadata": {},
   "outputs": [
    {
     "data": {
      "text/plain": [
       "(array([ 6, 15, 24]), array([ 6, 15, 24]))"
      ]
     },
     "execution_count": 65,
     "metadata": {},
     "output_type": "execute_result"
    }
   ],
   "source": [
    "a.sum(axis=1), np.sum(a, axis=1)"
   ]
  },
  {
   "cell_type": "markdown",
   "metadata": {},
   "source": [
    "axis=1이라고 하면 행방향으로 다 더한것. "
   ]
  },
  {
   "cell_type": "code",
   "execution_count": 66,
   "metadata": {},
   "outputs": [
    {
     "data": {
      "text/plain": [
       "array([[ 1,  2,  3,  4,  5,  6],\n",
       "       [ 7,  8,  9, 10, 11, 12],\n",
       "       [13, 14, 15, 16, 17, 18],\n",
       "       [19, 20, 21, 22, 23, 24]])"
      ]
     },
     "execution_count": 66,
     "metadata": {},
     "output_type": "execute_result"
    }
   ],
   "source": [
    "a = np.arange(1, 25).reshape(4, 6)\n",
    "a"
   ]
  },
  {
   "cell_type": "code",
   "execution_count": 67,
   "metadata": {},
   "outputs": [
    {
     "data": {
      "text/plain": [
       "array([[101, 102, 103, 104, 105, 106],\n",
       "       [107, 108, 109, 110, 111, 112],\n",
       "       [113, 114, 115, 116, 117, 118],\n",
       "       [119, 120, 121, 122, 123, 124]])"
      ]
     },
     "execution_count": 67,
     "metadata": {},
     "output_type": "execute_result"
    }
   ],
   "source": [
    "a + 100"
   ]
  },
  {
   "cell_type": "code",
   "execution_count": 68,
   "metadata": {},
   "outputs": [
    {
     "data": {
      "text/plain": [
       "array([0, 1, 2, 3, 4, 5])"
      ]
     },
     "execution_count": 68,
     "metadata": {},
     "output_type": "execute_result"
    }
   ],
   "source": [
    "b = np.arange(6)\n",
    "b"
   ]
  },
  {
   "cell_type": "code",
   "execution_count": 69,
   "metadata": {
    "scrolled": true
   },
   "outputs": [
    {
     "data": {
      "text/plain": [
       "array([[ 1,  3,  5,  7,  9, 11],\n",
       "       [ 7,  9, 11, 13, 15, 17],\n",
       "       [13, 15, 17, 19, 21, 23],\n",
       "       [19, 21, 23, 25, 27, 29]])"
      ]
     },
     "execution_count": 69,
     "metadata": {},
     "output_type": "execute_result"
    }
   ],
   "source": [
    "a + b"
   ]
  },
  {
   "cell_type": "markdown",
   "metadata": {},
   "source": [
    "그냥 a에다 b 더한것. "
   ]
  },
  {
   "cell_type": "code",
   "execution_count": 70,
   "metadata": {},
   "outputs": [
    {
     "data": {
      "text/plain": [
       "array([[0],\n",
       "       [1],\n",
       "       [2],\n",
       "       [3]])"
      ]
     },
     "execution_count": 70,
     "metadata": {},
     "output_type": "execute_result"
    }
   ],
   "source": [
    "c = np.arange(4).reshape([4,1])\n",
    "c"
   ]
  },
  {
   "cell_type": "code",
   "execution_count": 71,
   "metadata": {},
   "outputs": [
    {
     "data": {
      "text/plain": [
       "array([[ 1,  2,  3,  4,  5,  6],\n",
       "       [ 8,  9, 10, 11, 12, 13],\n",
       "       [15, 16, 17, 18, 19, 20],\n",
       "       [22, 23, 24, 25, 26, 27]])"
      ]
     },
     "execution_count": 71,
     "metadata": {},
     "output_type": "execute_result"
    }
   ],
   "source": [
    "a + c"
   ]
  },
  {
   "cell_type": "markdown",
   "metadata": {},
   "source": [
    "c는 4x1이니까 그 방향으로 a에다 다 더한 것. "
   ]
  },
  {
   "cell_type": "code",
   "execution_count": 73,
   "metadata": {},
   "outputs": [],
   "source": [
    "from matplotlib import pyplot as plt\n",
    "from mpl_toolkits.mplot3d import Axes3D\n",
    "from mpl_toolkits.axes_grid1 import make_axes_locatable\n",
    "import IPython.display as ipd\n",
    "import numpy as np\n",
    "%matplotlib notebook\n",
    "from scipy.signal import lfilter"
   ]
  },
  {
   "cell_type": "code",
   "execution_count": 74,
   "metadata": {},
   "outputs": [],
   "source": [
    "# parameter setting\n",
    "amp = 1          # range [0.0, 1.0]\n",
    "sr = 10000       # sampling rate, Hz\n",
    "dur = 0.5        # in seconds\n",
    "freq = 100.0     # sine frequency, Hz"
   ]
  },
  {
   "cell_type": "code",
   "execution_count": 75,
   "metadata": {},
   "outputs": [],
   "source": [
    "# generate time\n",
    "t = np.arange(1, sr * dur+1)/sr"
   ]
  },
  {
   "cell_type": "markdown",
   "metadata": {},
   "source": [
    "시간을 5000/10000까지 만든 것. 0.5초까지 시간을 만들어준 것이다. "
   ]
  },
  {
   "cell_type": "code",
   "execution_count": 76,
   "metadata": {},
   "outputs": [],
   "source": [
    "# generate phase\n",
    "theta = t * 2*np.pi * freq"
   ]
  },
  {
   "cell_type": "code",
   "execution_count": 77,
   "metadata": {},
   "outputs": [],
   "source": [
    "# generate signal by cosine-phasor\n",
    "s = np.sin(theta)"
   ]
  },
  {
   "cell_type": "code",
   "execution_count": 79,
   "metadata": {},
   "outputs": [
    {
     "data": {
      "application/javascript": [
       "/* Put everything inside the global mpl namespace */\n",
       "window.mpl = {};\n",
       "\n",
       "\n",
       "mpl.get_websocket_type = function() {\n",
       "    if (typeof(WebSocket) !== 'undefined') {\n",
       "        return WebSocket;\n",
       "    } else if (typeof(MozWebSocket) !== 'undefined') {\n",
       "        return MozWebSocket;\n",
       "    } else {\n",
       "        alert('Your browser does not have WebSocket support.' +\n",
       "              'Please try Chrome, Safari or Firefox ≥ 6. ' +\n",
       "              'Firefox 4 and 5 are also supported but you ' +\n",
       "              'have to enable WebSockets in about:config.');\n",
       "    };\n",
       "}\n",
       "\n",
       "mpl.figure = function(figure_id, websocket, ondownload, parent_element) {\n",
       "    this.id = figure_id;\n",
       "\n",
       "    this.ws = websocket;\n",
       "\n",
       "    this.supports_binary = (this.ws.binaryType != undefined);\n",
       "\n",
       "    if (!this.supports_binary) {\n",
       "        var warnings = document.getElementById(\"mpl-warnings\");\n",
       "        if (warnings) {\n",
       "            warnings.style.display = 'block';\n",
       "            warnings.textContent = (\n",
       "                \"This browser does not support binary websocket messages. \" +\n",
       "                    \"Performance may be slow.\");\n",
       "        }\n",
       "    }\n",
       "\n",
       "    this.imageObj = new Image();\n",
       "\n",
       "    this.context = undefined;\n",
       "    this.message = undefined;\n",
       "    this.canvas = undefined;\n",
       "    this.rubberband_canvas = undefined;\n",
       "    this.rubberband_context = undefined;\n",
       "    this.format_dropdown = undefined;\n",
       "\n",
       "    this.image_mode = 'full';\n",
       "\n",
       "    this.root = $('<div/>');\n",
       "    this._root_extra_style(this.root)\n",
       "    this.root.attr('style', 'display: inline-block');\n",
       "\n",
       "    $(parent_element).append(this.root);\n",
       "\n",
       "    this._init_header(this);\n",
       "    this._init_canvas(this);\n",
       "    this._init_toolbar(this);\n",
       "\n",
       "    var fig = this;\n",
       "\n",
       "    this.waiting = false;\n",
       "\n",
       "    this.ws.onopen =  function () {\n",
       "            fig.send_message(\"supports_binary\", {value: fig.supports_binary});\n",
       "            fig.send_message(\"send_image_mode\", {});\n",
       "            if (mpl.ratio != 1) {\n",
       "                fig.send_message(\"set_dpi_ratio\", {'dpi_ratio': mpl.ratio});\n",
       "            }\n",
       "            fig.send_message(\"refresh\", {});\n",
       "        }\n",
       "\n",
       "    this.imageObj.onload = function() {\n",
       "            if (fig.image_mode == 'full') {\n",
       "                // Full images could contain transparency (where diff images\n",
       "                // almost always do), so we need to clear the canvas so that\n",
       "                // there is no ghosting.\n",
       "                fig.context.clearRect(0, 0, fig.canvas.width, fig.canvas.height);\n",
       "            }\n",
       "            fig.context.drawImage(fig.imageObj, 0, 0);\n",
       "        };\n",
       "\n",
       "    this.imageObj.onunload = function() {\n",
       "        fig.ws.close();\n",
       "    }\n",
       "\n",
       "    this.ws.onmessage = this._make_on_message_function(this);\n",
       "\n",
       "    this.ondownload = ondownload;\n",
       "}\n",
       "\n",
       "mpl.figure.prototype._init_header = function() {\n",
       "    var titlebar = $(\n",
       "        '<div class=\"ui-dialog-titlebar ui-widget-header ui-corner-all ' +\n",
       "        'ui-helper-clearfix\"/>');\n",
       "    var titletext = $(\n",
       "        '<div class=\"ui-dialog-title\" style=\"width: 100%; ' +\n",
       "        'text-align: center; padding: 3px;\"/>');\n",
       "    titlebar.append(titletext)\n",
       "    this.root.append(titlebar);\n",
       "    this.header = titletext[0];\n",
       "}\n",
       "\n",
       "\n",
       "\n",
       "mpl.figure.prototype._canvas_extra_style = function(canvas_div) {\n",
       "\n",
       "}\n",
       "\n",
       "\n",
       "mpl.figure.prototype._root_extra_style = function(canvas_div) {\n",
       "\n",
       "}\n",
       "\n",
       "mpl.figure.prototype._init_canvas = function() {\n",
       "    var fig = this;\n",
       "\n",
       "    var canvas_div = $('<div/>');\n",
       "\n",
       "    canvas_div.attr('style', 'position: relative; clear: both; outline: 0');\n",
       "\n",
       "    function canvas_keyboard_event(event) {\n",
       "        return fig.key_event(event, event['data']);\n",
       "    }\n",
       "\n",
       "    canvas_div.keydown('key_press', canvas_keyboard_event);\n",
       "    canvas_div.keyup('key_release', canvas_keyboard_event);\n",
       "    this.canvas_div = canvas_div\n",
       "    this._canvas_extra_style(canvas_div)\n",
       "    this.root.append(canvas_div);\n",
       "\n",
       "    var canvas = $('<canvas/>');\n",
       "    canvas.addClass('mpl-canvas');\n",
       "    canvas.attr('style', \"left: 0; top: 0; z-index: 0; outline: 0\")\n",
       "\n",
       "    this.canvas = canvas[0];\n",
       "    this.context = canvas[0].getContext(\"2d\");\n",
       "\n",
       "    var backingStore = this.context.backingStorePixelRatio ||\n",
       "\tthis.context.webkitBackingStorePixelRatio ||\n",
       "\tthis.context.mozBackingStorePixelRatio ||\n",
       "\tthis.context.msBackingStorePixelRatio ||\n",
       "\tthis.context.oBackingStorePixelRatio ||\n",
       "\tthis.context.backingStorePixelRatio || 1;\n",
       "\n",
       "    mpl.ratio = (window.devicePixelRatio || 1) / backingStore;\n",
       "\n",
       "    var rubberband = $('<canvas/>');\n",
       "    rubberband.attr('style', \"position: absolute; left: 0; top: 0; z-index: 1;\")\n",
       "\n",
       "    var pass_mouse_events = true;\n",
       "\n",
       "    canvas_div.resizable({\n",
       "        start: function(event, ui) {\n",
       "            pass_mouse_events = false;\n",
       "        },\n",
       "        resize: function(event, ui) {\n",
       "            fig.request_resize(ui.size.width, ui.size.height);\n",
       "        },\n",
       "        stop: function(event, ui) {\n",
       "            pass_mouse_events = true;\n",
       "            fig.request_resize(ui.size.width, ui.size.height);\n",
       "        },\n",
       "    });\n",
       "\n",
       "    function mouse_event_fn(event) {\n",
       "        if (pass_mouse_events)\n",
       "            return fig.mouse_event(event, event['data']);\n",
       "    }\n",
       "\n",
       "    rubberband.mousedown('button_press', mouse_event_fn);\n",
       "    rubberband.mouseup('button_release', mouse_event_fn);\n",
       "    // Throttle sequential mouse events to 1 every 20ms.\n",
       "    rubberband.mousemove('motion_notify', mouse_event_fn);\n",
       "\n",
       "    rubberband.mouseenter('figure_enter', mouse_event_fn);\n",
       "    rubberband.mouseleave('figure_leave', mouse_event_fn);\n",
       "\n",
       "    canvas_div.on(\"wheel\", function (event) {\n",
       "        event = event.originalEvent;\n",
       "        event['data'] = 'scroll'\n",
       "        if (event.deltaY < 0) {\n",
       "            event.step = 1;\n",
       "        } else {\n",
       "            event.step = -1;\n",
       "        }\n",
       "        mouse_event_fn(event);\n",
       "    });\n",
       "\n",
       "    canvas_div.append(canvas);\n",
       "    canvas_div.append(rubberband);\n",
       "\n",
       "    this.rubberband = rubberband;\n",
       "    this.rubberband_canvas = rubberband[0];\n",
       "    this.rubberband_context = rubberband[0].getContext(\"2d\");\n",
       "    this.rubberband_context.strokeStyle = \"#000000\";\n",
       "\n",
       "    this._resize_canvas = function(width, height) {\n",
       "        // Keep the size of the canvas, canvas container, and rubber band\n",
       "        // canvas in synch.\n",
       "        canvas_div.css('width', width)\n",
       "        canvas_div.css('height', height)\n",
       "\n",
       "        canvas.attr('width', width * mpl.ratio);\n",
       "        canvas.attr('height', height * mpl.ratio);\n",
       "        canvas.attr('style', 'width: ' + width + 'px; height: ' + height + 'px;');\n",
       "\n",
       "        rubberband.attr('width', width);\n",
       "        rubberband.attr('height', height);\n",
       "    }\n",
       "\n",
       "    // Set the figure to an initial 600x600px, this will subsequently be updated\n",
       "    // upon first draw.\n",
       "    this._resize_canvas(600, 600);\n",
       "\n",
       "    // Disable right mouse context menu.\n",
       "    $(this.rubberband_canvas).bind(\"contextmenu\",function(e){\n",
       "        return false;\n",
       "    });\n",
       "\n",
       "    function set_focus () {\n",
       "        canvas.focus();\n",
       "        canvas_div.focus();\n",
       "    }\n",
       "\n",
       "    window.setTimeout(set_focus, 100);\n",
       "}\n",
       "\n",
       "mpl.figure.prototype._init_toolbar = function() {\n",
       "    var fig = this;\n",
       "\n",
       "    var nav_element = $('<div/>')\n",
       "    nav_element.attr('style', 'width: 100%');\n",
       "    this.root.append(nav_element);\n",
       "\n",
       "    // Define a callback function for later on.\n",
       "    function toolbar_event(event) {\n",
       "        return fig.toolbar_button_onclick(event['data']);\n",
       "    }\n",
       "    function toolbar_mouse_event(event) {\n",
       "        return fig.toolbar_button_onmouseover(event['data']);\n",
       "    }\n",
       "\n",
       "    for(var toolbar_ind in mpl.toolbar_items) {\n",
       "        var name = mpl.toolbar_items[toolbar_ind][0];\n",
       "        var tooltip = mpl.toolbar_items[toolbar_ind][1];\n",
       "        var image = mpl.toolbar_items[toolbar_ind][2];\n",
       "        var method_name = mpl.toolbar_items[toolbar_ind][3];\n",
       "\n",
       "        if (!name) {\n",
       "            // put a spacer in here.\n",
       "            continue;\n",
       "        }\n",
       "        var button = $('<button/>');\n",
       "        button.addClass('ui-button ui-widget ui-state-default ui-corner-all ' +\n",
       "                        'ui-button-icon-only');\n",
       "        button.attr('role', 'button');\n",
       "        button.attr('aria-disabled', 'false');\n",
       "        button.click(method_name, toolbar_event);\n",
       "        button.mouseover(tooltip, toolbar_mouse_event);\n",
       "\n",
       "        var icon_img = $('<span/>');\n",
       "        icon_img.addClass('ui-button-icon-primary ui-icon');\n",
       "        icon_img.addClass(image);\n",
       "        icon_img.addClass('ui-corner-all');\n",
       "\n",
       "        var tooltip_span = $('<span/>');\n",
       "        tooltip_span.addClass('ui-button-text');\n",
       "        tooltip_span.html(tooltip);\n",
       "\n",
       "        button.append(icon_img);\n",
       "        button.append(tooltip_span);\n",
       "\n",
       "        nav_element.append(button);\n",
       "    }\n",
       "\n",
       "    var fmt_picker_span = $('<span/>');\n",
       "\n",
       "    var fmt_picker = $('<select/>');\n",
       "    fmt_picker.addClass('mpl-toolbar-option ui-widget ui-widget-content');\n",
       "    fmt_picker_span.append(fmt_picker);\n",
       "    nav_element.append(fmt_picker_span);\n",
       "    this.format_dropdown = fmt_picker[0];\n",
       "\n",
       "    for (var ind in mpl.extensions) {\n",
       "        var fmt = mpl.extensions[ind];\n",
       "        var option = $(\n",
       "            '<option/>', {selected: fmt === mpl.default_extension}).html(fmt);\n",
       "        fmt_picker.append(option)\n",
       "    }\n",
       "\n",
       "    // Add hover states to the ui-buttons\n",
       "    $( \".ui-button\" ).hover(\n",
       "        function() { $(this).addClass(\"ui-state-hover\");},\n",
       "        function() { $(this).removeClass(\"ui-state-hover\");}\n",
       "    );\n",
       "\n",
       "    var status_bar = $('<span class=\"mpl-message\"/>');\n",
       "    nav_element.append(status_bar);\n",
       "    this.message = status_bar[0];\n",
       "}\n",
       "\n",
       "mpl.figure.prototype.request_resize = function(x_pixels, y_pixels) {\n",
       "    // Request matplotlib to resize the figure. Matplotlib will then trigger a resize in the client,\n",
       "    // which will in turn request a refresh of the image.\n",
       "    this.send_message('resize', {'width': x_pixels, 'height': y_pixels});\n",
       "}\n",
       "\n",
       "mpl.figure.prototype.send_message = function(type, properties) {\n",
       "    properties['type'] = type;\n",
       "    properties['figure_id'] = this.id;\n",
       "    this.ws.send(JSON.stringify(properties));\n",
       "}\n",
       "\n",
       "mpl.figure.prototype.send_draw_message = function() {\n",
       "    if (!this.waiting) {\n",
       "        this.waiting = true;\n",
       "        this.ws.send(JSON.stringify({type: \"draw\", figure_id: this.id}));\n",
       "    }\n",
       "}\n",
       "\n",
       "\n",
       "mpl.figure.prototype.handle_save = function(fig, msg) {\n",
       "    var format_dropdown = fig.format_dropdown;\n",
       "    var format = format_dropdown.options[format_dropdown.selectedIndex].value;\n",
       "    fig.ondownload(fig, format);\n",
       "}\n",
       "\n",
       "\n",
       "mpl.figure.prototype.handle_resize = function(fig, msg) {\n",
       "    var size = msg['size'];\n",
       "    if (size[0] != fig.canvas.width || size[1] != fig.canvas.height) {\n",
       "        fig._resize_canvas(size[0], size[1]);\n",
       "        fig.send_message(\"refresh\", {});\n",
       "    };\n",
       "}\n",
       "\n",
       "mpl.figure.prototype.handle_rubberband = function(fig, msg) {\n",
       "    var x0 = msg['x0'] / mpl.ratio;\n",
       "    var y0 = (fig.canvas.height - msg['y0']) / mpl.ratio;\n",
       "    var x1 = msg['x1'] / mpl.ratio;\n",
       "    var y1 = (fig.canvas.height - msg['y1']) / mpl.ratio;\n",
       "    x0 = Math.floor(x0) + 0.5;\n",
       "    y0 = Math.floor(y0) + 0.5;\n",
       "    x1 = Math.floor(x1) + 0.5;\n",
       "    y1 = Math.floor(y1) + 0.5;\n",
       "    var min_x = Math.min(x0, x1);\n",
       "    var min_y = Math.min(y0, y1);\n",
       "    var width = Math.abs(x1 - x0);\n",
       "    var height = Math.abs(y1 - y0);\n",
       "\n",
       "    fig.rubberband_context.clearRect(\n",
       "        0, 0, fig.canvas.width, fig.canvas.height);\n",
       "\n",
       "    fig.rubberband_context.strokeRect(min_x, min_y, width, height);\n",
       "}\n",
       "\n",
       "mpl.figure.prototype.handle_figure_label = function(fig, msg) {\n",
       "    // Updates the figure title.\n",
       "    fig.header.textContent = msg['label'];\n",
       "}\n",
       "\n",
       "mpl.figure.prototype.handle_cursor = function(fig, msg) {\n",
       "    var cursor = msg['cursor'];\n",
       "    switch(cursor)\n",
       "    {\n",
       "    case 0:\n",
       "        cursor = 'pointer';\n",
       "        break;\n",
       "    case 1:\n",
       "        cursor = 'default';\n",
       "        break;\n",
       "    case 2:\n",
       "        cursor = 'crosshair';\n",
       "        break;\n",
       "    case 3:\n",
       "        cursor = 'move';\n",
       "        break;\n",
       "    }\n",
       "    fig.rubberband_canvas.style.cursor = cursor;\n",
       "}\n",
       "\n",
       "mpl.figure.prototype.handle_message = function(fig, msg) {\n",
       "    fig.message.textContent = msg['message'];\n",
       "}\n",
       "\n",
       "mpl.figure.prototype.handle_draw = function(fig, msg) {\n",
       "    // Request the server to send over a new figure.\n",
       "    fig.send_draw_message();\n",
       "}\n",
       "\n",
       "mpl.figure.prototype.handle_image_mode = function(fig, msg) {\n",
       "    fig.image_mode = msg['mode'];\n",
       "}\n",
       "\n",
       "mpl.figure.prototype.updated_canvas_event = function() {\n",
       "    // Called whenever the canvas gets updated.\n",
       "    this.send_message(\"ack\", {});\n",
       "}\n",
       "\n",
       "// A function to construct a web socket function for onmessage handling.\n",
       "// Called in the figure constructor.\n",
       "mpl.figure.prototype._make_on_message_function = function(fig) {\n",
       "    return function socket_on_message(evt) {\n",
       "        if (evt.data instanceof Blob) {\n",
       "            /* FIXME: We get \"Resource interpreted as Image but\n",
       "             * transferred with MIME type text/plain:\" errors on\n",
       "             * Chrome.  But how to set the MIME type?  It doesn't seem\n",
       "             * to be part of the websocket stream */\n",
       "            evt.data.type = \"image/png\";\n",
       "\n",
       "            /* Free the memory for the previous frames */\n",
       "            if (fig.imageObj.src) {\n",
       "                (window.URL || window.webkitURL).revokeObjectURL(\n",
       "                    fig.imageObj.src);\n",
       "            }\n",
       "\n",
       "            fig.imageObj.src = (window.URL || window.webkitURL).createObjectURL(\n",
       "                evt.data);\n",
       "            fig.updated_canvas_event();\n",
       "            fig.waiting = false;\n",
       "            return;\n",
       "        }\n",
       "        else if (typeof evt.data === 'string' && evt.data.slice(0, 21) == \"data:image/png;base64\") {\n",
       "            fig.imageObj.src = evt.data;\n",
       "            fig.updated_canvas_event();\n",
       "            fig.waiting = false;\n",
       "            return;\n",
       "        }\n",
       "\n",
       "        var msg = JSON.parse(evt.data);\n",
       "        var msg_type = msg['type'];\n",
       "\n",
       "        // Call the  \"handle_{type}\" callback, which takes\n",
       "        // the figure and JSON message as its only arguments.\n",
       "        try {\n",
       "            var callback = fig[\"handle_\" + msg_type];\n",
       "        } catch (e) {\n",
       "            console.log(\"No handler for the '\" + msg_type + \"' message type: \", msg);\n",
       "            return;\n",
       "        }\n",
       "\n",
       "        if (callback) {\n",
       "            try {\n",
       "                // console.log(\"Handling '\" + msg_type + \"' message: \", msg);\n",
       "                callback(fig, msg);\n",
       "            } catch (e) {\n",
       "                console.log(\"Exception inside the 'handler_\" + msg_type + \"' callback:\", e, e.stack, msg);\n",
       "            }\n",
       "        }\n",
       "    };\n",
       "}\n",
       "\n",
       "// from http://stackoverflow.com/questions/1114465/getting-mouse-location-in-canvas\n",
       "mpl.findpos = function(e) {\n",
       "    //this section is from http://www.quirksmode.org/js/events_properties.html\n",
       "    var targ;\n",
       "    if (!e)\n",
       "        e = window.event;\n",
       "    if (e.target)\n",
       "        targ = e.target;\n",
       "    else if (e.srcElement)\n",
       "        targ = e.srcElement;\n",
       "    if (targ.nodeType == 3) // defeat Safari bug\n",
       "        targ = targ.parentNode;\n",
       "\n",
       "    // jQuery normalizes the pageX and pageY\n",
       "    // pageX,Y are the mouse positions relative to the document\n",
       "    // offset() returns the position of the element relative to the document\n",
       "    var x = e.pageX - $(targ).offset().left;\n",
       "    var y = e.pageY - $(targ).offset().top;\n",
       "\n",
       "    return {\"x\": x, \"y\": y};\n",
       "};\n",
       "\n",
       "/*\n",
       " * return a copy of an object with only non-object keys\n",
       " * we need this to avoid circular references\n",
       " * http://stackoverflow.com/a/24161582/3208463\n",
       " */\n",
       "function simpleKeys (original) {\n",
       "  return Object.keys(original).reduce(function (obj, key) {\n",
       "    if (typeof original[key] !== 'object')\n",
       "        obj[key] = original[key]\n",
       "    return obj;\n",
       "  }, {});\n",
       "}\n",
       "\n",
       "mpl.figure.prototype.mouse_event = function(event, name) {\n",
       "    var canvas_pos = mpl.findpos(event)\n",
       "\n",
       "    if (name === 'button_press')\n",
       "    {\n",
       "        this.canvas.focus();\n",
       "        this.canvas_div.focus();\n",
       "    }\n",
       "\n",
       "    var x = canvas_pos.x * mpl.ratio;\n",
       "    var y = canvas_pos.y * mpl.ratio;\n",
       "\n",
       "    this.send_message(name, {x: x, y: y, button: event.button,\n",
       "                             step: event.step,\n",
       "                             guiEvent: simpleKeys(event)});\n",
       "\n",
       "    /* This prevents the web browser from automatically changing to\n",
       "     * the text insertion cursor when the button is pressed.  We want\n",
       "     * to control all of the cursor setting manually through the\n",
       "     * 'cursor' event from matplotlib */\n",
       "    event.preventDefault();\n",
       "    return false;\n",
       "}\n",
       "\n",
       "mpl.figure.prototype._key_event_extra = function(event, name) {\n",
       "    // Handle any extra behaviour associated with a key event\n",
       "}\n",
       "\n",
       "mpl.figure.prototype.key_event = function(event, name) {\n",
       "\n",
       "    // Prevent repeat events\n",
       "    if (name == 'key_press')\n",
       "    {\n",
       "        if (event.which === this._key)\n",
       "            return;\n",
       "        else\n",
       "            this._key = event.which;\n",
       "    }\n",
       "    if (name == 'key_release')\n",
       "        this._key = null;\n",
       "\n",
       "    var value = '';\n",
       "    if (event.ctrlKey && event.which != 17)\n",
       "        value += \"ctrl+\";\n",
       "    if (event.altKey && event.which != 18)\n",
       "        value += \"alt+\";\n",
       "    if (event.shiftKey && event.which != 16)\n",
       "        value += \"shift+\";\n",
       "\n",
       "    value += 'k';\n",
       "    value += event.which.toString();\n",
       "\n",
       "    this._key_event_extra(event, name);\n",
       "\n",
       "    this.send_message(name, {key: value,\n",
       "                             guiEvent: simpleKeys(event)});\n",
       "    return false;\n",
       "}\n",
       "\n",
       "mpl.figure.prototype.toolbar_button_onclick = function(name) {\n",
       "    if (name == 'download') {\n",
       "        this.handle_save(this, null);\n",
       "    } else {\n",
       "        this.send_message(\"toolbar_button\", {name: name});\n",
       "    }\n",
       "};\n",
       "\n",
       "mpl.figure.prototype.toolbar_button_onmouseover = function(tooltip) {\n",
       "    this.message.textContent = tooltip;\n",
       "};\n",
       "mpl.toolbar_items = [[\"Home\", \"Reset original view\", \"fa fa-home icon-home\", \"home\"], [\"Back\", \"Back to previous view\", \"fa fa-arrow-left icon-arrow-left\", \"back\"], [\"Forward\", \"Forward to next view\", \"fa fa-arrow-right icon-arrow-right\", \"forward\"], [\"\", \"\", \"\", \"\"], [\"Pan\", \"Pan axes with left mouse, zoom with right\", \"fa fa-arrows icon-move\", \"pan\"], [\"Zoom\", \"Zoom to rectangle\", \"fa fa-square-o icon-check-empty\", \"zoom\"], [\"\", \"\", \"\", \"\"], [\"Download\", \"Download plot\", \"fa fa-floppy-o icon-save\", \"download\"]];\n",
       "\n",
       "mpl.extensions = [\"eps\", \"jpeg\", \"pdf\", \"png\", \"ps\", \"raw\", \"svg\", \"tif\"];\n",
       "\n",
       "mpl.default_extension = \"png\";var comm_websocket_adapter = function(comm) {\n",
       "    // Create a \"websocket\"-like object which calls the given IPython comm\n",
       "    // object with the appropriate methods. Currently this is a non binary\n",
       "    // socket, so there is still some room for performance tuning.\n",
       "    var ws = {};\n",
       "\n",
       "    ws.close = function() {\n",
       "        comm.close()\n",
       "    };\n",
       "    ws.send = function(m) {\n",
       "        //console.log('sending', m);\n",
       "        comm.send(m);\n",
       "    };\n",
       "    // Register the callback with on_msg.\n",
       "    comm.on_msg(function(msg) {\n",
       "        //console.log('receiving', msg['content']['data'], msg);\n",
       "        // Pass the mpl event to the overridden (by mpl) onmessage function.\n",
       "        ws.onmessage(msg['content']['data'])\n",
       "    });\n",
       "    return ws;\n",
       "}\n",
       "\n",
       "mpl.mpl_figure_comm = function(comm, msg) {\n",
       "    // This is the function which gets called when the mpl process\n",
       "    // starts-up an IPython Comm through the \"matplotlib\" channel.\n",
       "\n",
       "    var id = msg.content.data.id;\n",
       "    // Get hold of the div created by the display call when the Comm\n",
       "    // socket was opened in Python.\n",
       "    var element = $(\"#\" + id);\n",
       "    var ws_proxy = comm_websocket_adapter(comm)\n",
       "\n",
       "    function ondownload(figure, format) {\n",
       "        window.open(figure.imageObj.src);\n",
       "    }\n",
       "\n",
       "    var fig = new mpl.figure(id, ws_proxy,\n",
       "                           ondownload,\n",
       "                           element.get(0));\n",
       "\n",
       "    // Call onopen now - mpl needs it, as it is assuming we've passed it a real\n",
       "    // web socket which is closed, not our websocket->open comm proxy.\n",
       "    ws_proxy.onopen();\n",
       "\n",
       "    fig.parent_element = element.get(0);\n",
       "    fig.cell_info = mpl.find_output_cell(\"<div id='\" + id + \"'></div>\");\n",
       "    if (!fig.cell_info) {\n",
       "        console.error(\"Failed to find cell for figure\", id, fig);\n",
       "        return;\n",
       "    }\n",
       "\n",
       "    var output_index = fig.cell_info[2]\n",
       "    var cell = fig.cell_info[0];\n",
       "\n",
       "};\n",
       "\n",
       "mpl.figure.prototype.handle_close = function(fig, msg) {\n",
       "    var width = fig.canvas.width/mpl.ratio\n",
       "    fig.root.unbind('remove')\n",
       "\n",
       "    // Update the output cell to use the data from the current canvas.\n",
       "    fig.push_to_output();\n",
       "    var dataURL = fig.canvas.toDataURL();\n",
       "    // Re-enable the keyboard manager in IPython - without this line, in FF,\n",
       "    // the notebook keyboard shortcuts fail.\n",
       "    IPython.keyboard_manager.enable()\n",
       "    $(fig.parent_element).html('<img src=\"' + dataURL + '\" width=\"' + width + '\">');\n",
       "    fig.close_ws(fig, msg);\n",
       "}\n",
       "\n",
       "mpl.figure.prototype.close_ws = function(fig, msg){\n",
       "    fig.send_message('closing', msg);\n",
       "    // fig.ws.close()\n",
       "}\n",
       "\n",
       "mpl.figure.prototype.push_to_output = function(remove_interactive) {\n",
       "    // Turn the data on the canvas into data in the output cell.\n",
       "    var width = this.canvas.width/mpl.ratio\n",
       "    var dataURL = this.canvas.toDataURL();\n",
       "    this.cell_info[1]['text/html'] = '<img src=\"' + dataURL + '\" width=\"' + width + '\">';\n",
       "}\n",
       "\n",
       "mpl.figure.prototype.updated_canvas_event = function() {\n",
       "    // Tell IPython that the notebook contents must change.\n",
       "    IPython.notebook.set_dirty(true);\n",
       "    this.send_message(\"ack\", {});\n",
       "    var fig = this;\n",
       "    // Wait a second, then push the new image to the DOM so\n",
       "    // that it is saved nicely (might be nice to debounce this).\n",
       "    setTimeout(function () { fig.push_to_output() }, 1000);\n",
       "}\n",
       "\n",
       "mpl.figure.prototype._init_toolbar = function() {\n",
       "    var fig = this;\n",
       "\n",
       "    var nav_element = $('<div/>')\n",
       "    nav_element.attr('style', 'width: 100%');\n",
       "    this.root.append(nav_element);\n",
       "\n",
       "    // Define a callback function for later on.\n",
       "    function toolbar_event(event) {\n",
       "        return fig.toolbar_button_onclick(event['data']);\n",
       "    }\n",
       "    function toolbar_mouse_event(event) {\n",
       "        return fig.toolbar_button_onmouseover(event['data']);\n",
       "    }\n",
       "\n",
       "    for(var toolbar_ind in mpl.toolbar_items){\n",
       "        var name = mpl.toolbar_items[toolbar_ind][0];\n",
       "        var tooltip = mpl.toolbar_items[toolbar_ind][1];\n",
       "        var image = mpl.toolbar_items[toolbar_ind][2];\n",
       "        var method_name = mpl.toolbar_items[toolbar_ind][3];\n",
       "\n",
       "        if (!name) { continue; };\n",
       "\n",
       "        var button = $('<button class=\"btn btn-default\" href=\"#\" title=\"' + name + '\"><i class=\"fa ' + image + ' fa-lg\"></i></button>');\n",
       "        button.click(method_name, toolbar_event);\n",
       "        button.mouseover(tooltip, toolbar_mouse_event);\n",
       "        nav_element.append(button);\n",
       "    }\n",
       "\n",
       "    // Add the status bar.\n",
       "    var status_bar = $('<span class=\"mpl-message\" style=\"text-align:right; float: right;\"/>');\n",
       "    nav_element.append(status_bar);\n",
       "    this.message = status_bar[0];\n",
       "\n",
       "    // Add the close button to the window.\n",
       "    var buttongrp = $('<div class=\"btn-group inline pull-right\"></div>');\n",
       "    var button = $('<button class=\"btn btn-mini btn-primary\" href=\"#\" title=\"Stop Interaction\"><i class=\"fa fa-power-off icon-remove icon-large\"></i></button>');\n",
       "    button.click(function (evt) { fig.handle_close(fig, {}); } );\n",
       "    button.mouseover('Stop Interaction', toolbar_mouse_event);\n",
       "    buttongrp.append(button);\n",
       "    var titlebar = this.root.find($('.ui-dialog-titlebar'));\n",
       "    titlebar.prepend(buttongrp);\n",
       "}\n",
       "\n",
       "mpl.figure.prototype._root_extra_style = function(el){\n",
       "    var fig = this\n",
       "    el.on(\"remove\", function(){\n",
       "\tfig.close_ws(fig, {});\n",
       "    });\n",
       "}\n",
       "\n",
       "mpl.figure.prototype._canvas_extra_style = function(el){\n",
       "    // this is important to make the div 'focusable\n",
       "    el.attr('tabindex', 0)\n",
       "    // reach out to IPython and tell the keyboard manager to turn it's self\n",
       "    // off when our div gets focus\n",
       "\n",
       "    // location in version 3\n",
       "    if (IPython.notebook.keyboard_manager) {\n",
       "        IPython.notebook.keyboard_manager.register_events(el);\n",
       "    }\n",
       "    else {\n",
       "        // location in version 2\n",
       "        IPython.keyboard_manager.register_events(el);\n",
       "    }\n",
       "\n",
       "}\n",
       "\n",
       "mpl.figure.prototype._key_event_extra = function(event, name) {\n",
       "    var manager = IPython.notebook.keyboard_manager;\n",
       "    if (!manager)\n",
       "        manager = IPython.keyboard_manager;\n",
       "\n",
       "    // Check for shift+enter\n",
       "    if (event.shiftKey && event.which == 13) {\n",
       "        this.canvas_div.blur();\n",
       "        event.shiftKey = false;\n",
       "        // Send a \"J\" for go to next cell\n",
       "        event.which = 74;\n",
       "        event.keyCode = 74;\n",
       "        manager.command_mode();\n",
       "        manager.handle_keydown(event);\n",
       "    }\n",
       "}\n",
       "\n",
       "mpl.figure.prototype.handle_save = function(fig, msg) {\n",
       "    fig.ondownload(fig, null);\n",
       "}\n",
       "\n",
       "\n",
       "mpl.find_output_cell = function(html_output) {\n",
       "    // Return the cell and output element which can be found *uniquely* in the notebook.\n",
       "    // Note - this is a bit hacky, but it is done because the \"notebook_saving.Notebook\"\n",
       "    // IPython event is triggered only after the cells have been serialised, which for\n",
       "    // our purposes (turning an active figure into a static one), is too late.\n",
       "    var cells = IPython.notebook.get_cells();\n",
       "    var ncells = cells.length;\n",
       "    for (var i=0; i<ncells; i++) {\n",
       "        var cell = cells[i];\n",
       "        if (cell.cell_type === 'code'){\n",
       "            for (var j=0; j<cell.output_area.outputs.length; j++) {\n",
       "                var data = cell.output_area.outputs[j];\n",
       "                if (data.data) {\n",
       "                    // IPython >= 3 moved mimebundle to data attribute of output\n",
       "                    data = data.data;\n",
       "                }\n",
       "                if (data['text/html'] == html_output) {\n",
       "                    return [cell, data, j];\n",
       "                }\n",
       "            }\n",
       "        }\n",
       "    }\n",
       "}\n",
       "\n",
       "// Register the function which deals with the matplotlib target/channel.\n",
       "// The kernel may be null if the page has been refreshed.\n",
       "if (IPython.notebook.kernel != null) {\n",
       "    IPython.notebook.kernel.comm_manager.register_target('matplotlib', mpl.mpl_figure_comm);\n",
       "}\n"
      ],
      "text/plain": [
       "<IPython.core.display.Javascript object>"
      ]
     },
     "metadata": {},
     "output_type": "display_data"
    },
    {
     "data": {
      "text/html": [
       "<img src=\"data:image/png;base64,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\" width=\"640\">"
      ],
      "text/plain": [
       "<IPython.core.display.HTML object>"
      ]
     },
     "metadata": {},
     "output_type": "display_data"
    },
    {
     "data": {
      "text/plain": [
       "Text(0, 0.5, 'real')"
      ]
     },
     "execution_count": 79,
     "metadata": {},
     "output_type": "execute_result"
    }
   ],
   "source": [
    "fig = plt.figure()\n",
    "ax = fig.add_subplot(111)\n",
    "ax.plot(t[0:1000], s[0:1000], '.')\n",
    "ax.set_xlabel('time (s)')\n",
    "ax.set_ylabel('real')"
   ]
  },
  {
   "cell_type": "code",
   "execution_count": 81,
   "metadata": {},
   "outputs": [],
   "source": [
    "# generate signal by complex-phasor\n",
    "c = np.exp(theta*1j)"
   ]
  },
  {
   "cell_type": "code",
   "execution_count": 82,
   "metadata": {},
   "outputs": [
    {
     "data": {
      "application/javascript": [
       "/* Put everything inside the global mpl namespace */\n",
       "window.mpl = {};\n",
       "\n",
       "\n",
       "mpl.get_websocket_type = function() {\n",
       "    if (typeof(WebSocket) !== 'undefined') {\n",
       "        return WebSocket;\n",
       "    } else if (typeof(MozWebSocket) !== 'undefined') {\n",
       "        return MozWebSocket;\n",
       "    } else {\n",
       "        alert('Your browser does not have WebSocket support.' +\n",
       "              'Please try Chrome, Safari or Firefox ≥ 6. ' +\n",
       "              'Firefox 4 and 5 are also supported but you ' +\n",
       "              'have to enable WebSockets in about:config.');\n",
       "    };\n",
       "}\n",
       "\n",
       "mpl.figure = function(figure_id, websocket, ondownload, parent_element) {\n",
       "    this.id = figure_id;\n",
       "\n",
       "    this.ws = websocket;\n",
       "\n",
       "    this.supports_binary = (this.ws.binaryType != undefined);\n",
       "\n",
       "    if (!this.supports_binary) {\n",
       "        var warnings = document.getElementById(\"mpl-warnings\");\n",
       "        if (warnings) {\n",
       "            warnings.style.display = 'block';\n",
       "            warnings.textContent = (\n",
       "                \"This browser does not support binary websocket messages. \" +\n",
       "                    \"Performance may be slow.\");\n",
       "        }\n",
       "    }\n",
       "\n",
       "    this.imageObj = new Image();\n",
       "\n",
       "    this.context = undefined;\n",
       "    this.message = undefined;\n",
       "    this.canvas = undefined;\n",
       "    this.rubberband_canvas = undefined;\n",
       "    this.rubberband_context = undefined;\n",
       "    this.format_dropdown = undefined;\n",
       "\n",
       "    this.image_mode = 'full';\n",
       "\n",
       "    this.root = $('<div/>');\n",
       "    this._root_extra_style(this.root)\n",
       "    this.root.attr('style', 'display: inline-block');\n",
       "\n",
       "    $(parent_element).append(this.root);\n",
       "\n",
       "    this._init_header(this);\n",
       "    this._init_canvas(this);\n",
       "    this._init_toolbar(this);\n",
       "\n",
       "    var fig = this;\n",
       "\n",
       "    this.waiting = false;\n",
       "\n",
       "    this.ws.onopen =  function () {\n",
       "            fig.send_message(\"supports_binary\", {value: fig.supports_binary});\n",
       "            fig.send_message(\"send_image_mode\", {});\n",
       "            if (mpl.ratio != 1) {\n",
       "                fig.send_message(\"set_dpi_ratio\", {'dpi_ratio': mpl.ratio});\n",
       "            }\n",
       "            fig.send_message(\"refresh\", {});\n",
       "        }\n",
       "\n",
       "    this.imageObj.onload = function() {\n",
       "            if (fig.image_mode == 'full') {\n",
       "                // Full images could contain transparency (where diff images\n",
       "                // almost always do), so we need to clear the canvas so that\n",
       "                // there is no ghosting.\n",
       "                fig.context.clearRect(0, 0, fig.canvas.width, fig.canvas.height);\n",
       "            }\n",
       "            fig.context.drawImage(fig.imageObj, 0, 0);\n",
       "        };\n",
       "\n",
       "    this.imageObj.onunload = function() {\n",
       "        fig.ws.close();\n",
       "    }\n",
       "\n",
       "    this.ws.onmessage = this._make_on_message_function(this);\n",
       "\n",
       "    this.ondownload = ondownload;\n",
       "}\n",
       "\n",
       "mpl.figure.prototype._init_header = function() {\n",
       "    var titlebar = $(\n",
       "        '<div class=\"ui-dialog-titlebar ui-widget-header ui-corner-all ' +\n",
       "        'ui-helper-clearfix\"/>');\n",
       "    var titletext = $(\n",
       "        '<div class=\"ui-dialog-title\" style=\"width: 100%; ' +\n",
       "        'text-align: center; padding: 3px;\"/>');\n",
       "    titlebar.append(titletext)\n",
       "    this.root.append(titlebar);\n",
       "    this.header = titletext[0];\n",
       "}\n",
       "\n",
       "\n",
       "\n",
       "mpl.figure.prototype._canvas_extra_style = function(canvas_div) {\n",
       "\n",
       "}\n",
       "\n",
       "\n",
       "mpl.figure.prototype._root_extra_style = function(canvas_div) {\n",
       "\n",
       "}\n",
       "\n",
       "mpl.figure.prototype._init_canvas = function() {\n",
       "    var fig = this;\n",
       "\n",
       "    var canvas_div = $('<div/>');\n",
       "\n",
       "    canvas_div.attr('style', 'position: relative; clear: both; outline: 0');\n",
       "\n",
       "    function canvas_keyboard_event(event) {\n",
       "        return fig.key_event(event, event['data']);\n",
       "    }\n",
       "\n",
       "    canvas_div.keydown('key_press', canvas_keyboard_event);\n",
       "    canvas_div.keyup('key_release', canvas_keyboard_event);\n",
       "    this.canvas_div = canvas_div\n",
       "    this._canvas_extra_style(canvas_div)\n",
       "    this.root.append(canvas_div);\n",
       "\n",
       "    var canvas = $('<canvas/>');\n",
       "    canvas.addClass('mpl-canvas');\n",
       "    canvas.attr('style', \"left: 0; top: 0; z-index: 0; outline: 0\")\n",
       "\n",
       "    this.canvas = canvas[0];\n",
       "    this.context = canvas[0].getContext(\"2d\");\n",
       "\n",
       "    var backingStore = this.context.backingStorePixelRatio ||\n",
       "\tthis.context.webkitBackingStorePixelRatio ||\n",
       "\tthis.context.mozBackingStorePixelRatio ||\n",
       "\tthis.context.msBackingStorePixelRatio ||\n",
       "\tthis.context.oBackingStorePixelRatio ||\n",
       "\tthis.context.backingStorePixelRatio || 1;\n",
       "\n",
       "    mpl.ratio = (window.devicePixelRatio || 1) / backingStore;\n",
       "\n",
       "    var rubberband = $('<canvas/>');\n",
       "    rubberband.attr('style', \"position: absolute; left: 0; top: 0; z-index: 1;\")\n",
       "\n",
       "    var pass_mouse_events = true;\n",
       "\n",
       "    canvas_div.resizable({\n",
       "        start: function(event, ui) {\n",
       "            pass_mouse_events = false;\n",
       "        },\n",
       "        resize: function(event, ui) {\n",
       "            fig.request_resize(ui.size.width, ui.size.height);\n",
       "        },\n",
       "        stop: function(event, ui) {\n",
       "            pass_mouse_events = true;\n",
       "            fig.request_resize(ui.size.width, ui.size.height);\n",
       "        },\n",
       "    });\n",
       "\n",
       "    function mouse_event_fn(event) {\n",
       "        if (pass_mouse_events)\n",
       "            return fig.mouse_event(event, event['data']);\n",
       "    }\n",
       "\n",
       "    rubberband.mousedown('button_press', mouse_event_fn);\n",
       "    rubberband.mouseup('button_release', mouse_event_fn);\n",
       "    // Throttle sequential mouse events to 1 every 20ms.\n",
       "    rubberband.mousemove('motion_notify', mouse_event_fn);\n",
       "\n",
       "    rubberband.mouseenter('figure_enter', mouse_event_fn);\n",
       "    rubberband.mouseleave('figure_leave', mouse_event_fn);\n",
       "\n",
       "    canvas_div.on(\"wheel\", function (event) {\n",
       "        event = event.originalEvent;\n",
       "        event['data'] = 'scroll'\n",
       "        if (event.deltaY < 0) {\n",
       "            event.step = 1;\n",
       "        } else {\n",
       "            event.step = -1;\n",
       "        }\n",
       "        mouse_event_fn(event);\n",
       "    });\n",
       "\n",
       "    canvas_div.append(canvas);\n",
       "    canvas_div.append(rubberband);\n",
       "\n",
       "    this.rubberband = rubberband;\n",
       "    this.rubberband_canvas = rubberband[0];\n",
       "    this.rubberband_context = rubberband[0].getContext(\"2d\");\n",
       "    this.rubberband_context.strokeStyle = \"#000000\";\n",
       "\n",
       "    this._resize_canvas = function(width, height) {\n",
       "        // Keep the size of the canvas, canvas container, and rubber band\n",
       "        // canvas in synch.\n",
       "        canvas_div.css('width', width)\n",
       "        canvas_div.css('height', height)\n",
       "\n",
       "        canvas.attr('width', width * mpl.ratio);\n",
       "        canvas.attr('height', height * mpl.ratio);\n",
       "        canvas.attr('style', 'width: ' + width + 'px; height: ' + height + 'px;');\n",
       "\n",
       "        rubberband.attr('width', width);\n",
       "        rubberband.attr('height', height);\n",
       "    }\n",
       "\n",
       "    // Set the figure to an initial 600x600px, this will subsequently be updated\n",
       "    // upon first draw.\n",
       "    this._resize_canvas(600, 600);\n",
       "\n",
       "    // Disable right mouse context menu.\n",
       "    $(this.rubberband_canvas).bind(\"contextmenu\",function(e){\n",
       "        return false;\n",
       "    });\n",
       "\n",
       "    function set_focus () {\n",
       "        canvas.focus();\n",
       "        canvas_div.focus();\n",
       "    }\n",
       "\n",
       "    window.setTimeout(set_focus, 100);\n",
       "}\n",
       "\n",
       "mpl.figure.prototype._init_toolbar = function() {\n",
       "    var fig = this;\n",
       "\n",
       "    var nav_element = $('<div/>')\n",
       "    nav_element.attr('style', 'width: 100%');\n",
       "    this.root.append(nav_element);\n",
       "\n",
       "    // Define a callback function for later on.\n",
       "    function toolbar_event(event) {\n",
       "        return fig.toolbar_button_onclick(event['data']);\n",
       "    }\n",
       "    function toolbar_mouse_event(event) {\n",
       "        return fig.toolbar_button_onmouseover(event['data']);\n",
       "    }\n",
       "\n",
       "    for(var toolbar_ind in mpl.toolbar_items) {\n",
       "        var name = mpl.toolbar_items[toolbar_ind][0];\n",
       "        var tooltip = mpl.toolbar_items[toolbar_ind][1];\n",
       "        var image = mpl.toolbar_items[toolbar_ind][2];\n",
       "        var method_name = mpl.toolbar_items[toolbar_ind][3];\n",
       "\n",
       "        if (!name) {\n",
       "            // put a spacer in here.\n",
       "            continue;\n",
       "        }\n",
       "        var button = $('<button/>');\n",
       "        button.addClass('ui-button ui-widget ui-state-default ui-corner-all ' +\n",
       "                        'ui-button-icon-only');\n",
       "        button.attr('role', 'button');\n",
       "        button.attr('aria-disabled', 'false');\n",
       "        button.click(method_name, toolbar_event);\n",
       "        button.mouseover(tooltip, toolbar_mouse_event);\n",
       "\n",
       "        var icon_img = $('<span/>');\n",
       "        icon_img.addClass('ui-button-icon-primary ui-icon');\n",
       "        icon_img.addClass(image);\n",
       "        icon_img.addClass('ui-corner-all');\n",
       "\n",
       "        var tooltip_span = $('<span/>');\n",
       "        tooltip_span.addClass('ui-button-text');\n",
       "        tooltip_span.html(tooltip);\n",
       "\n",
       "        button.append(icon_img);\n",
       "        button.append(tooltip_span);\n",
       "\n",
       "        nav_element.append(button);\n",
       "    }\n",
       "\n",
       "    var fmt_picker_span = $('<span/>');\n",
       "\n",
       "    var fmt_picker = $('<select/>');\n",
       "    fmt_picker.addClass('mpl-toolbar-option ui-widget ui-widget-content');\n",
       "    fmt_picker_span.append(fmt_picker);\n",
       "    nav_element.append(fmt_picker_span);\n",
       "    this.format_dropdown = fmt_picker[0];\n",
       "\n",
       "    for (var ind in mpl.extensions) {\n",
       "        var fmt = mpl.extensions[ind];\n",
       "        var option = $(\n",
       "            '<option/>', {selected: fmt === mpl.default_extension}).html(fmt);\n",
       "        fmt_picker.append(option)\n",
       "    }\n",
       "\n",
       "    // Add hover states to the ui-buttons\n",
       "    $( \".ui-button\" ).hover(\n",
       "        function() { $(this).addClass(\"ui-state-hover\");},\n",
       "        function() { $(this).removeClass(\"ui-state-hover\");}\n",
       "    );\n",
       "\n",
       "    var status_bar = $('<span class=\"mpl-message\"/>');\n",
       "    nav_element.append(status_bar);\n",
       "    this.message = status_bar[0];\n",
       "}\n",
       "\n",
       "mpl.figure.prototype.request_resize = function(x_pixels, y_pixels) {\n",
       "    // Request matplotlib to resize the figure. Matplotlib will then trigger a resize in the client,\n",
       "    // which will in turn request a refresh of the image.\n",
       "    this.send_message('resize', {'width': x_pixels, 'height': y_pixels});\n",
       "}\n",
       "\n",
       "mpl.figure.prototype.send_message = function(type, properties) {\n",
       "    properties['type'] = type;\n",
       "    properties['figure_id'] = this.id;\n",
       "    this.ws.send(JSON.stringify(properties));\n",
       "}\n",
       "\n",
       "mpl.figure.prototype.send_draw_message = function() {\n",
       "    if (!this.waiting) {\n",
       "        this.waiting = true;\n",
       "        this.ws.send(JSON.stringify({type: \"draw\", figure_id: this.id}));\n",
       "    }\n",
       "}\n",
       "\n",
       "\n",
       "mpl.figure.prototype.handle_save = function(fig, msg) {\n",
       "    var format_dropdown = fig.format_dropdown;\n",
       "    var format = format_dropdown.options[format_dropdown.selectedIndex].value;\n",
       "    fig.ondownload(fig, format);\n",
       "}\n",
       "\n",
       "\n",
       "mpl.figure.prototype.handle_resize = function(fig, msg) {\n",
       "    var size = msg['size'];\n",
       "    if (size[0] != fig.canvas.width || size[1] != fig.canvas.height) {\n",
       "        fig._resize_canvas(size[0], size[1]);\n",
       "        fig.send_message(\"refresh\", {});\n",
       "    };\n",
       "}\n",
       "\n",
       "mpl.figure.prototype.handle_rubberband = function(fig, msg) {\n",
       "    var x0 = msg['x0'] / mpl.ratio;\n",
       "    var y0 = (fig.canvas.height - msg['y0']) / mpl.ratio;\n",
       "    var x1 = msg['x1'] / mpl.ratio;\n",
       "    var y1 = (fig.canvas.height - msg['y1']) / mpl.ratio;\n",
       "    x0 = Math.floor(x0) + 0.5;\n",
       "    y0 = Math.floor(y0) + 0.5;\n",
       "    x1 = Math.floor(x1) + 0.5;\n",
       "    y1 = Math.floor(y1) + 0.5;\n",
       "    var min_x = Math.min(x0, x1);\n",
       "    var min_y = Math.min(y0, y1);\n",
       "    var width = Math.abs(x1 - x0);\n",
       "    var height = Math.abs(y1 - y0);\n",
       "\n",
       "    fig.rubberband_context.clearRect(\n",
       "        0, 0, fig.canvas.width, fig.canvas.height);\n",
       "\n",
       "    fig.rubberband_context.strokeRect(min_x, min_y, width, height);\n",
       "}\n",
       "\n",
       "mpl.figure.prototype.handle_figure_label = function(fig, msg) {\n",
       "    // Updates the figure title.\n",
       "    fig.header.textContent = msg['label'];\n",
       "}\n",
       "\n",
       "mpl.figure.prototype.handle_cursor = function(fig, msg) {\n",
       "    var cursor = msg['cursor'];\n",
       "    switch(cursor)\n",
       "    {\n",
       "    case 0:\n",
       "        cursor = 'pointer';\n",
       "        break;\n",
       "    case 1:\n",
       "        cursor = 'default';\n",
       "        break;\n",
       "    case 2:\n",
       "        cursor = 'crosshair';\n",
       "        break;\n",
       "    case 3:\n",
       "        cursor = 'move';\n",
       "        break;\n",
       "    }\n",
       "    fig.rubberband_canvas.style.cursor = cursor;\n",
       "}\n",
       "\n",
       "mpl.figure.prototype.handle_message = function(fig, msg) {\n",
       "    fig.message.textContent = msg['message'];\n",
       "}\n",
       "\n",
       "mpl.figure.prototype.handle_draw = function(fig, msg) {\n",
       "    // Request the server to send over a new figure.\n",
       "    fig.send_draw_message();\n",
       "}\n",
       "\n",
       "mpl.figure.prototype.handle_image_mode = function(fig, msg) {\n",
       "    fig.image_mode = msg['mode'];\n",
       "}\n",
       "\n",
       "mpl.figure.prototype.updated_canvas_event = function() {\n",
       "    // Called whenever the canvas gets updated.\n",
       "    this.send_message(\"ack\", {});\n",
       "}\n",
       "\n",
       "// A function to construct a web socket function for onmessage handling.\n",
       "// Called in the figure constructor.\n",
       "mpl.figure.prototype._make_on_message_function = function(fig) {\n",
       "    return function socket_on_message(evt) {\n",
       "        if (evt.data instanceof Blob) {\n",
       "            /* FIXME: We get \"Resource interpreted as Image but\n",
       "             * transferred with MIME type text/plain:\" errors on\n",
       "             * Chrome.  But how to set the MIME type?  It doesn't seem\n",
       "             * to be part of the websocket stream */\n",
       "            evt.data.type = \"image/png\";\n",
       "\n",
       "            /* Free the memory for the previous frames */\n",
       "            if (fig.imageObj.src) {\n",
       "                (window.URL || window.webkitURL).revokeObjectURL(\n",
       "                    fig.imageObj.src);\n",
       "            }\n",
       "\n",
       "            fig.imageObj.src = (window.URL || window.webkitURL).createObjectURL(\n",
       "                evt.data);\n",
       "            fig.updated_canvas_event();\n",
       "            fig.waiting = false;\n",
       "            return;\n",
       "        }\n",
       "        else if (typeof evt.data === 'string' && evt.data.slice(0, 21) == \"data:image/png;base64\") {\n",
       "            fig.imageObj.src = evt.data;\n",
       "            fig.updated_canvas_event();\n",
       "            fig.waiting = false;\n",
       "            return;\n",
       "        }\n",
       "\n",
       "        var msg = JSON.parse(evt.data);\n",
       "        var msg_type = msg['type'];\n",
       "\n",
       "        // Call the  \"handle_{type}\" callback, which takes\n",
       "        // the figure and JSON message as its only arguments.\n",
       "        try {\n",
       "            var callback = fig[\"handle_\" + msg_type];\n",
       "        } catch (e) {\n",
       "            console.log(\"No handler for the '\" + msg_type + \"' message type: \", msg);\n",
       "            return;\n",
       "        }\n",
       "\n",
       "        if (callback) {\n",
       "            try {\n",
       "                // console.log(\"Handling '\" + msg_type + \"' message: \", msg);\n",
       "                callback(fig, msg);\n",
       "            } catch (e) {\n",
       "                console.log(\"Exception inside the 'handler_\" + msg_type + \"' callback:\", e, e.stack, msg);\n",
       "            }\n",
       "        }\n",
       "    };\n",
       "}\n",
       "\n",
       "// from http://stackoverflow.com/questions/1114465/getting-mouse-location-in-canvas\n",
       "mpl.findpos = function(e) {\n",
       "    //this section is from http://www.quirksmode.org/js/events_properties.html\n",
       "    var targ;\n",
       "    if (!e)\n",
       "        e = window.event;\n",
       "    if (e.target)\n",
       "        targ = e.target;\n",
       "    else if (e.srcElement)\n",
       "        targ = e.srcElement;\n",
       "    if (targ.nodeType == 3) // defeat Safari bug\n",
       "        targ = targ.parentNode;\n",
       "\n",
       "    // jQuery normalizes the pageX and pageY\n",
       "    // pageX,Y are the mouse positions relative to the document\n",
       "    // offset() returns the position of the element relative to the document\n",
       "    var x = e.pageX - $(targ).offset().left;\n",
       "    var y = e.pageY - $(targ).offset().top;\n",
       "\n",
       "    return {\"x\": x, \"y\": y};\n",
       "};\n",
       "\n",
       "/*\n",
       " * return a copy of an object with only non-object keys\n",
       " * we need this to avoid circular references\n",
       " * http://stackoverflow.com/a/24161582/3208463\n",
       " */\n",
       "function simpleKeys (original) {\n",
       "  return Object.keys(original).reduce(function (obj, key) {\n",
       "    if (typeof original[key] !== 'object')\n",
       "        obj[key] = original[key]\n",
       "    return obj;\n",
       "  }, {});\n",
       "}\n",
       "\n",
       "mpl.figure.prototype.mouse_event = function(event, name) {\n",
       "    var canvas_pos = mpl.findpos(event)\n",
       "\n",
       "    if (name === 'button_press')\n",
       "    {\n",
       "        this.canvas.focus();\n",
       "        this.canvas_div.focus();\n",
       "    }\n",
       "\n",
       "    var x = canvas_pos.x * mpl.ratio;\n",
       "    var y = canvas_pos.y * mpl.ratio;\n",
       "\n",
       "    this.send_message(name, {x: x, y: y, button: event.button,\n",
       "                             step: event.step,\n",
       "                             guiEvent: simpleKeys(event)});\n",
       "\n",
       "    /* This prevents the web browser from automatically changing to\n",
       "     * the text insertion cursor when the button is pressed.  We want\n",
       "     * to control all of the cursor setting manually through the\n",
       "     * 'cursor' event from matplotlib */\n",
       "    event.preventDefault();\n",
       "    return false;\n",
       "}\n",
       "\n",
       "mpl.figure.prototype._key_event_extra = function(event, name) {\n",
       "    // Handle any extra behaviour associated with a key event\n",
       "}\n",
       "\n",
       "mpl.figure.prototype.key_event = function(event, name) {\n",
       "\n",
       "    // Prevent repeat events\n",
       "    if (name == 'key_press')\n",
       "    {\n",
       "        if (event.which === this._key)\n",
       "            return;\n",
       "        else\n",
       "            this._key = event.which;\n",
       "    }\n",
       "    if (name == 'key_release')\n",
       "        this._key = null;\n",
       "\n",
       "    var value = '';\n",
       "    if (event.ctrlKey && event.which != 17)\n",
       "        value += \"ctrl+\";\n",
       "    if (event.altKey && event.which != 18)\n",
       "        value += \"alt+\";\n",
       "    if (event.shiftKey && event.which != 16)\n",
       "        value += \"shift+\";\n",
       "\n",
       "    value += 'k';\n",
       "    value += event.which.toString();\n",
       "\n",
       "    this._key_event_extra(event, name);\n",
       "\n",
       "    this.send_message(name, {key: value,\n",
       "                             guiEvent: simpleKeys(event)});\n",
       "    return false;\n",
       "}\n",
       "\n",
       "mpl.figure.prototype.toolbar_button_onclick = function(name) {\n",
       "    if (name == 'download') {\n",
       "        this.handle_save(this, null);\n",
       "    } else {\n",
       "        this.send_message(\"toolbar_button\", {name: name});\n",
       "    }\n",
       "};\n",
       "\n",
       "mpl.figure.prototype.toolbar_button_onmouseover = function(tooltip) {\n",
       "    this.message.textContent = tooltip;\n",
       "};\n",
       "mpl.toolbar_items = [[\"Home\", \"Reset original view\", \"fa fa-home icon-home\", \"home\"], [\"Back\", \"Back to previous view\", \"fa fa-arrow-left icon-arrow-left\", \"back\"], [\"Forward\", \"Forward to next view\", \"fa fa-arrow-right icon-arrow-right\", \"forward\"], [\"\", \"\", \"\", \"\"], [\"Pan\", \"Pan axes with left mouse, zoom with right\", \"fa fa-arrows icon-move\", \"pan\"], [\"Zoom\", \"Zoom to rectangle\", \"fa fa-square-o icon-check-empty\", \"zoom\"], [\"\", \"\", \"\", \"\"], [\"Download\", \"Download plot\", \"fa fa-floppy-o icon-save\", \"download\"]];\n",
       "\n",
       "mpl.extensions = [\"eps\", \"jpeg\", \"pdf\", \"png\", \"ps\", \"raw\", \"svg\", \"tif\"];\n",
       "\n",
       "mpl.default_extension = \"png\";var comm_websocket_adapter = function(comm) {\n",
       "    // Create a \"websocket\"-like object which calls the given IPython comm\n",
       "    // object with the appropriate methods. Currently this is a non binary\n",
       "    // socket, so there is still some room for performance tuning.\n",
       "    var ws = {};\n",
       "\n",
       "    ws.close = function() {\n",
       "        comm.close()\n",
       "    };\n",
       "    ws.send = function(m) {\n",
       "        //console.log('sending', m);\n",
       "        comm.send(m);\n",
       "    };\n",
       "    // Register the callback with on_msg.\n",
       "    comm.on_msg(function(msg) {\n",
       "        //console.log('receiving', msg['content']['data'], msg);\n",
       "        // Pass the mpl event to the overridden (by mpl) onmessage function.\n",
       "        ws.onmessage(msg['content']['data'])\n",
       "    });\n",
       "    return ws;\n",
       "}\n",
       "\n",
       "mpl.mpl_figure_comm = function(comm, msg) {\n",
       "    // This is the function which gets called when the mpl process\n",
       "    // starts-up an IPython Comm through the \"matplotlib\" channel.\n",
       "\n",
       "    var id = msg.content.data.id;\n",
       "    // Get hold of the div created by the display call when the Comm\n",
       "    // socket was opened in Python.\n",
       "    var element = $(\"#\" + id);\n",
       "    var ws_proxy = comm_websocket_adapter(comm)\n",
       "\n",
       "    function ondownload(figure, format) {\n",
       "        window.open(figure.imageObj.src);\n",
       "    }\n",
       "\n",
       "    var fig = new mpl.figure(id, ws_proxy,\n",
       "                           ondownload,\n",
       "                           element.get(0));\n",
       "\n",
       "    // Call onopen now - mpl needs it, as it is assuming we've passed it a real\n",
       "    // web socket which is closed, not our websocket->open comm proxy.\n",
       "    ws_proxy.onopen();\n",
       "\n",
       "    fig.parent_element = element.get(0);\n",
       "    fig.cell_info = mpl.find_output_cell(\"<div id='\" + id + \"'></div>\");\n",
       "    if (!fig.cell_info) {\n",
       "        console.error(\"Failed to find cell for figure\", id, fig);\n",
       "        return;\n",
       "    }\n",
       "\n",
       "    var output_index = fig.cell_info[2]\n",
       "    var cell = fig.cell_info[0];\n",
       "\n",
       "};\n",
       "\n",
       "mpl.figure.prototype.handle_close = function(fig, msg) {\n",
       "    var width = fig.canvas.width/mpl.ratio\n",
       "    fig.root.unbind('remove')\n",
       "\n",
       "    // Update the output cell to use the data from the current canvas.\n",
       "    fig.push_to_output();\n",
       "    var dataURL = fig.canvas.toDataURL();\n",
       "    // Re-enable the keyboard manager in IPython - without this line, in FF,\n",
       "    // the notebook keyboard shortcuts fail.\n",
       "    IPython.keyboard_manager.enable()\n",
       "    $(fig.parent_element).html('<img src=\"' + dataURL + '\" width=\"' + width + '\">');\n",
       "    fig.close_ws(fig, msg);\n",
       "}\n",
       "\n",
       "mpl.figure.prototype.close_ws = function(fig, msg){\n",
       "    fig.send_message('closing', msg);\n",
       "    // fig.ws.close()\n",
       "}\n",
       "\n",
       "mpl.figure.prototype.push_to_output = function(remove_interactive) {\n",
       "    // Turn the data on the canvas into data in the output cell.\n",
       "    var width = this.canvas.width/mpl.ratio\n",
       "    var dataURL = this.canvas.toDataURL();\n",
       "    this.cell_info[1]['text/html'] = '<img src=\"' + dataURL + '\" width=\"' + width + '\">';\n",
       "}\n",
       "\n",
       "mpl.figure.prototype.updated_canvas_event = function() {\n",
       "    // Tell IPython that the notebook contents must change.\n",
       "    IPython.notebook.set_dirty(true);\n",
       "    this.send_message(\"ack\", {});\n",
       "    var fig = this;\n",
       "    // Wait a second, then push the new image to the DOM so\n",
       "    // that it is saved nicely (might be nice to debounce this).\n",
       "    setTimeout(function () { fig.push_to_output() }, 1000);\n",
       "}\n",
       "\n",
       "mpl.figure.prototype._init_toolbar = function() {\n",
       "    var fig = this;\n",
       "\n",
       "    var nav_element = $('<div/>')\n",
       "    nav_element.attr('style', 'width: 100%');\n",
       "    this.root.append(nav_element);\n",
       "\n",
       "    // Define a callback function for later on.\n",
       "    function toolbar_event(event) {\n",
       "        return fig.toolbar_button_onclick(event['data']);\n",
       "    }\n",
       "    function toolbar_mouse_event(event) {\n",
       "        return fig.toolbar_button_onmouseover(event['data']);\n",
       "    }\n",
       "\n",
       "    for(var toolbar_ind in mpl.toolbar_items){\n",
       "        var name = mpl.toolbar_items[toolbar_ind][0];\n",
       "        var tooltip = mpl.toolbar_items[toolbar_ind][1];\n",
       "        var image = mpl.toolbar_items[toolbar_ind][2];\n",
       "        var method_name = mpl.toolbar_items[toolbar_ind][3];\n",
       "\n",
       "        if (!name) { continue; };\n",
       "\n",
       "        var button = $('<button class=\"btn btn-default\" href=\"#\" title=\"' + name + '\"><i class=\"fa ' + image + ' fa-lg\"></i></button>');\n",
       "        button.click(method_name, toolbar_event);\n",
       "        button.mouseover(tooltip, toolbar_mouse_event);\n",
       "        nav_element.append(button);\n",
       "    }\n",
       "\n",
       "    // Add the status bar.\n",
       "    var status_bar = $('<span class=\"mpl-message\" style=\"text-align:right; float: right;\"/>');\n",
       "    nav_element.append(status_bar);\n",
       "    this.message = status_bar[0];\n",
       "\n",
       "    // Add the close button to the window.\n",
       "    var buttongrp = $('<div class=\"btn-group inline pull-right\"></div>');\n",
       "    var button = $('<button class=\"btn btn-mini btn-primary\" href=\"#\" title=\"Stop Interaction\"><i class=\"fa fa-power-off icon-remove icon-large\"></i></button>');\n",
       "    button.click(function (evt) { fig.handle_close(fig, {}); } );\n",
       "    button.mouseover('Stop Interaction', toolbar_mouse_event);\n",
       "    buttongrp.append(button);\n",
       "    var titlebar = this.root.find($('.ui-dialog-titlebar'));\n",
       "    titlebar.prepend(buttongrp);\n",
       "}\n",
       "\n",
       "mpl.figure.prototype._root_extra_style = function(el){\n",
       "    var fig = this\n",
       "    el.on(\"remove\", function(){\n",
       "\tfig.close_ws(fig, {});\n",
       "    });\n",
       "}\n",
       "\n",
       "mpl.figure.prototype._canvas_extra_style = function(el){\n",
       "    // this is important to make the div 'focusable\n",
       "    el.attr('tabindex', 0)\n",
       "    // reach out to IPython and tell the keyboard manager to turn it's self\n",
       "    // off when our div gets focus\n",
       "\n",
       "    // location in version 3\n",
       "    if (IPython.notebook.keyboard_manager) {\n",
       "        IPython.notebook.keyboard_manager.register_events(el);\n",
       "    }\n",
       "    else {\n",
       "        // location in version 2\n",
       "        IPython.keyboard_manager.register_events(el);\n",
       "    }\n",
       "\n",
       "}\n",
       "\n",
       "mpl.figure.prototype._key_event_extra = function(event, name) {\n",
       "    var manager = IPython.notebook.keyboard_manager;\n",
       "    if (!manager)\n",
       "        manager = IPython.keyboard_manager;\n",
       "\n",
       "    // Check for shift+enter\n",
       "    if (event.shiftKey && event.which == 13) {\n",
       "        this.canvas_div.blur();\n",
       "        event.shiftKey = false;\n",
       "        // Send a \"J\" for go to next cell\n",
       "        event.which = 74;\n",
       "        event.keyCode = 74;\n",
       "        manager.command_mode();\n",
       "        manager.handle_keydown(event);\n",
       "    }\n",
       "}\n",
       "\n",
       "mpl.figure.prototype.handle_save = function(fig, msg) {\n",
       "    fig.ondownload(fig, null);\n",
       "}\n",
       "\n",
       "\n",
       "mpl.find_output_cell = function(html_output) {\n",
       "    // Return the cell and output element which can be found *uniquely* in the notebook.\n",
       "    // Note - this is a bit hacky, but it is done because the \"notebook_saving.Notebook\"\n",
       "    // IPython event is triggered only after the cells have been serialised, which for\n",
       "    // our purposes (turning an active figure into a static one), is too late.\n",
       "    var cells = IPython.notebook.get_cells();\n",
       "    var ncells = cells.length;\n",
       "    for (var i=0; i<ncells; i++) {\n",
       "        var cell = cells[i];\n",
       "        if (cell.cell_type === 'code'){\n",
       "            for (var j=0; j<cell.output_area.outputs.length; j++) {\n",
       "                var data = cell.output_area.outputs[j];\n",
       "                if (data.data) {\n",
       "                    // IPython >= 3 moved mimebundle to data attribute of output\n",
       "                    data = data.data;\n",
       "                }\n",
       "                if (data['text/html'] == html_output) {\n",
       "                    return [cell, data, j];\n",
       "                }\n",
       "            }\n",
       "        }\n",
       "    }\n",
       "}\n",
       "\n",
       "// Register the function which deals with the matplotlib target/channel.\n",
       "// The kernel may be null if the page has been refreshed.\n",
       "if (IPython.notebook.kernel != null) {\n",
       "    IPython.notebook.kernel.comm_manager.register_target('matplotlib', mpl.mpl_figure_comm);\n",
       "}\n"
      ],
      "text/plain": [
       "<IPython.core.display.Javascript object>"
      ]
     },
     "metadata": {},
     "output_type": "display_data"
    },
    {
     "data": {
      "text/html": [
       "<img src=\"data:image/png;base64,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\" width=\"640\">"
      ],
      "text/plain": [
       "<IPython.core.display.HTML object>"
      ]
     },
     "metadata": {},
     "output_type": "display_data"
    },
    {
     "data": {
      "text/plain": [
       "Text(0.5, 0, 'imag')"
      ]
     },
     "execution_count": 82,
     "metadata": {},
     "output_type": "execute_result"
    }
   ],
   "source": [
    "fig = plt.figure()\n",
    "ax = fig.add_subplot(111, projection='3d')\n",
    "ax.plot(t[0:1000], c.real[0:1000], c.imag[0:1000], '.')\n",
    "ax.set_xlabel('time (s)')\n",
    "ax.set_ylabel('real')\n",
    "ax.set_zlabel('imag')"
   ]
  },
  {
   "cell_type": "code",
   "execution_count": null,
   "metadata": {},
   "outputs": [],
   "source": [
    "ipd.Audio(s, rate=sr)"
   ]
  },
  {
   "cell_type": "code",
   "execution_count": null,
   "metadata": {},
   "outputs": [],
   "source": []
  },
  {
   "cell_type": "code",
   "execution_count": null,
   "metadata": {},
   "outputs": [],
   "source": []
  },
  {
   "cell_type": "code",
   "execution_count": null,
   "metadata": {},
   "outputs": [],
   "source": []
  },
  {
   "cell_type": "code",
   "execution_count": null,
   "metadata": {},
   "outputs": [],
   "source": []
  },
  {
   "cell_type": "code",
   "execution_count": null,
   "metadata": {},
   "outputs": [],
   "source": []
  }
 ],
 "metadata": {
  "kernelspec": {
   "display_name": "Python 3",
   "language": "python",
   "name": "python3"
  },
  "language_info": {
   "codemirror_mode": {
    "name": "ipython",
    "version": 3
   },
   "file_extension": ".py",
   "mimetype": "text/x-python",
   "name": "python",
   "nbconvert_exporter": "python",
   "pygments_lexer": "ipython3",
   "version": "3.7.1"
  }
 },
 "nbformat": 4,
 "nbformat_minor": 2
}
