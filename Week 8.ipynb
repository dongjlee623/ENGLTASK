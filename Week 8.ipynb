{
 "cells": [
  {
   "cell_type": "code",
   "execution_count": null,
   "metadata": {},
   "outputs": [],
   "source": []
  },
  {
   "cell_type": "code",
   "execution_count": 1,
   "metadata": {},
   "outputs": [],
   "source": [
    "\n",
    "import pandas as pd\n",
    "import numpy as np\n",
    "import matplotlib.pyplot as plt\n",
    "\n",
    "from tensorflow.keras.models import Sequential\n",
    "from tensorflow.keras.layers import Dense"
   ]
  },
  {
   "cell_type": "code",
   "execution_count": 2,
   "metadata": {},
   "outputs": [
    {
     "data": {
      "text/plain": [
       "[<matplotlib.lines.Line2D at 0x80d0668>]"
      ]
     },
     "execution_count": 2,
     "metadata": {},
     "output_type": "execute_result"
    },
    {
     "data": {
      "image/png": "[encoded data removed]",
      "text/plain": [
       "<Figure size 432x288 with 1 Axes>"
      ]
     },
     "metadata": {
      "needs_background": "light"
     },
     "output_type": "display_data"
    }
   ],
   "source": [
    "data = pd.read_csv('regression.csv')\n",
    "X = data['X']\n",
    "Y = data['Y']\n",
    "plt.plot(X, Y, '.')"
   ]
  },
  {
   "cell_type": "code",
   "execution_count": 3,
   "metadata": {},
   "outputs": [
    {
     "name": "stdout",
     "output_type": "stream",
     "text": [
      "WARNING:tensorflow:From C:\\Users\\Dongjoon Lee\\Anaconda3\\lib\\site-packages\\tensorflow\\python\\ops\\resource_variable_ops.py:435: colocate_with (from tensorflow.python.framework.ops) is deprecated and will be removed in a future version.\n",
      "Instructions for updating:\n",
      "Colocations handled automatically by placer.\n",
      "WARNING:tensorflow:From C:\\Users\\Dongjoon Lee\\Anaconda3\\lib\\site-packages\\tensorflow\\python\\keras\\utils\\losses_utils.py:170: to_float (from tensorflow.python.ops.math_ops) is deprecated and will be removed in a future version.\n",
      "Instructions for updating:\n",
      "Use tf.cast instead.\n"
     ]
    }
   ],
   "source": [
    "model = Sequential()\n",
    "model.add(Dense(1, input_shape=[1]))\n",
    "model.compile(optimizer=\"sgd\", loss='mse')"
   ]
  },
  {
   "cell_type": "code",
   "execution_count": 4,
   "metadata": {},
   "outputs": [
    {
     "name": "stdout",
     "output_type": "stream",
     "text": [
      "WARNING:tensorflow:From C:\\Users\\Dongjoon Lee\\Anaconda3\\lib\\site-packages\\tensorflow\\python\\ops\\math_ops.py:3066: to_int32 (from tensorflow.python.ops.math_ops) is deprecated and will be removed in a future version.\n",
      "Instructions for updating:\n",
      "Use tf.cast instead.\n",
      "17/17 [==============================] - 0s 26ms/sample - loss: 12.7150\n"
     ]
    },
    {
     "data": {
      "text/plain": [
       "<tensorflow.python.keras.callbacks.History at 0x7ffbeb8>"
      ]
     },
     "execution_count": 4,
     "metadata": {},
     "output_type": "execute_result"
    }
   ],
   "source": [
    "model.fit(X,Y)"
   ]
  },
  {
   "cell_type": "code",
   "execution_count": 5,
   "metadata": {},
   "outputs": [
    {
     "data": {
      "text/plain": [
       "[<matplotlib.lines.Line2D at 0xdcf1470>]"
      ]
     },
     "execution_count": 5,
     "metadata": {},
     "output_type": "execute_result"
    },
    {
     "data": {
      "image/png": "[encoded data removed]",
      "text/plain": [
       "<Figure size 432x288 with 1 Axes>"
      ]
     },
     "metadata": {
      "needs_background": "light"
     },
     "output_type": "display_data"
    }
   ],
   "source": [
    "x = [1, 2, 3, 4, 5, 6, 7, 8, 9, 10]\n",
    "y = model.predict(x)\n",
    "plt.plot(X, Y, '.')\n",
    "plt.plot(x, y, 'rx')"
   ]
  },
  {
   "cell_type": "code",
   "execution_count": 6,
   "metadata": {},
   "outputs": [],
   "source": [
    "data = pd.read_csv('matlabfile.csv')\n",
    "x1 = data['X1']\n",
    "x2 = data['X2']\n",
    "x3 = data['X3'] \n",
    "x4 = data['X4'] \n",
    "x5 = data['X5']\n",
    "y = data['Y']"
   ]
  },
  {
   "cell_type": "code",
   "execution_count": 7,
   "metadata": {},
   "outputs": [],
   "source": [
    "model = Sequential()\n",
    "model.add(Dense(1)) \n",
    "model.compile(optimizer=\"sgd\", loss='mse')"
   ]
  },
  {
   "cell_type": "markdown",
   "metadata": {},
   "source": [
    "dense 이후 부분은 입력이 몇개 인가 , 출력이 몇개인가. input shape은 입력, 그 앞에 숫자는 출력"
   ]
  },
  {
   "cell_type": "code",
   "execution_count": 8,
   "metadata": {},
   "outputs": [
    {
     "ename": "ValueError",
     "evalue": "Please provide as model inputs either a single array or a list of arrays. You passed: x=[0        NaN\n1      990.0\n2      850.0\n3      965.0\n4      803.0\n5      990.0\n6      905.0\n7      875.0\n8      985.0\n9      970.0\n10     980.0\n11     985.0\n12     870.0\n13     990.0\n14     945.0\n15     980.0\n16     920.0\n17     970.0\n18     850.0\n19     985.0\n20     990.0\n21     935.0\n22     955.0\n23     950.0\n24     835.0\n25     975.0\n26     970.0\n27     810.0\n28     960.0\n29     985.0\n       ...  \n74     776.0\n75     840.0\n76     940.0\n77     965.0\n78     975.0\n79     950.0\n80     950.0\n81     830.0\n82     940.0\n83     915.0\n84     890.0\n85     925.0\n86     925.0\n87     960.0\n88     865.0\n89     985.0\n90     960.0\n91     850.0\n92     900.0\n93     960.0\n94     970.0\n95     920.0\n96     850.0\n97     935.0\n98     965.0\n99     965.0\n100    935.0\n101    890.0\n102    930.0\n103    765.0\nName: X1, Length: 104, dtype: float64, 0      NaN\n1      1.0\n2      1.0\n3      0.0\n4      1.0\n5      1.0\n6      0.0\n7      1.0\n8      1.0\n9      1.0\n10     1.0\n11     0.0\n12     0.0\n13     1.0\n14     0.0\n15     0.0\n16     1.0\n17     1.0\n18     1.0\n19     1.0\n20     1.0\n21     0.0\n22     0.0\n23     0.0\n24     1.0\n25     1.0\n26     1.0\n27     1.0\n28     0.0\n29     0.0\n      ... \n74     1.0\n75     1.0\n76     1.0\n77     1.0\n78     1.0\n79     0.0\n80     0.0\n81     1.0\n82     0.0\n83     1.0\n84     1.0\n85     1.0\n86     0.0\n87     0.0\n88     0.0\n89     0.0\n90     1.0\n91     0.0\n92     1.0\n93     0.0\n94     0.0\n95     0.0\n96     1.0\n97     0.0\n98     0.0\n99     0.0\n100    1.0\n101    1.0\n102    1.0\n103    0.0\nName: X2, Length: 104, dtype: float64, 0       NaN\n1      25.0\n2      25.0\n3      25.0\n4      25.0\n5      30.0\n6      24.0\n7      25.0\n8      26.0\n9      24.0\n10     25.0\n11     21.0\n12     26.0\n13     24.0\n14     21.0\n15     23.0\n16     26.0\n17     21.0\n18     33.0\n19     24.0\n20     24.0\n21     24.0\n22     25.0\n23     19.0\n24     23.0\n25     25.0\n26     27.0\n27     23.0\n28     30.0\n29     24.0\n       ... \n74     25.0\n75     24.0\n76     24.0\n77     27.0\n78     26.0\n79     23.0\n80     27.0\n81     23.0\n82     23.0\n83     28.0\n84     24.0\n85     23.0\n86     24.0\n87     20.0\n88     26.0\n89     20.0\n90     22.0\n91     18.0\n92     23.0\n93     20.0\n94     24.0\n95     19.0\n96     19.0\n97     24.0\n98     24.0\n99     27.0\n100    23.0\n101    18.0\n102    24.0\n103    22.0\nName: X3, Length: 104, dtype: float64, 0       NaN\n1       6.0\n2       6.0\n3      10.0\n4       6.0\n5       7.0\n6       6.0\n7       7.0\n8       5.0\n9       6.0\n10      7.0\n11      8.0\n12      7.0\n13      7.0\n14      7.0\n15      9.0\n16      7.0\n17      4.0\n18      3.0\n19      7.0\n20     10.0\n21      5.0\n22      8.0\n23      6.0\n24      5.0\n25      5.0\n26      5.0\n27      5.0\n28      7.0\n29      8.0\n       ... \n74      7.0\n75      6.0\n76      6.0\n77      5.0\n78      4.0\n79      7.0\n80      6.0\n81      7.0\n82      8.0\n83      6.0\n84      6.0\n85      3.0\n86      6.0\n87      8.0\n88      7.0\n89      8.0\n90      5.0\n91      6.0\n92      5.0\n93      6.0\n94      5.0\n95      7.0\n96      6.0\n97      6.0\n98      4.0\n99      8.0\n100     7.0\n101     7.0\n102     9.0\n103     9.0\nName: X4, Length: 104, dtype: float64, 0      NaN\n1      8.0\n2      7.0\n3      8.0\n4      3.0\n5      8.0\n6      5.0\n7      4.0\n8      7.0\n9      3.0\n10     8.0\n11     8.0\n12     3.0\n13     8.0\n14     8.0\n15     8.0\n16     5.0\n17     3.0\n18     4.0\n19     5.0\n20     8.0\n21     8.0\n22     8.0\n23     6.0\n24     7.0\n25     8.0\n26     8.0\n27     5.0\n28     8.0\n29     8.0\n      ... \n74     6.0\n75     3.0\n76     6.0\n77     8.0\n78     3.0\n79     8.0\n80     6.0\n81     4.0\n82     8.0\n83     3.0\n84     4.0\n85     4.0\n86     3.0\n87     8.0\n88     8.0\n89     8.0\n90     3.0\n91     4.0\n92     3.0\n93     7.0\n94     8.0\n95     8.0\n96     6.0\n97     7.0\n98     7.0\n99     8.0\n100    8.0\n101    3.0\n102    7.0\n103    8.0\nName: X5, Length: 104, dtype: float64]",
     "output_type": "error",
     "traceback": [
      "\u001b[1;31m---------------------------------------------------------------------------\u001b[0m",
      "\u001b[1;31mValueError\u001b[0m                                Traceback (most recent call last)",
      "\u001b[1;32m<ipython-input-8-bc1e3954bdae>\u001b[0m in \u001b[0;36m<module>\u001b[1;34m\u001b[0m\n\u001b[1;32m----> 1\u001b[1;33m \u001b[0mmodel\u001b[0m\u001b[1;33m.\u001b[0m\u001b[0mfit\u001b[0m\u001b[1;33m(\u001b[0m\u001b[1;33m[\u001b[0m\u001b[0mx1\u001b[0m\u001b[1;33m,\u001b[0m\u001b[0mx2\u001b[0m\u001b[1;33m,\u001b[0m\u001b[0mx3\u001b[0m\u001b[1;33m,\u001b[0m\u001b[0mx4\u001b[0m\u001b[1;33m,\u001b[0m\u001b[0mx5\u001b[0m\u001b[1;33m]\u001b[0m\u001b[1;33m,\u001b[0m\u001b[0my\u001b[0m\u001b[1;33m,\u001b[0m \u001b[0mepochs\u001b[0m\u001b[1;33m=\u001b[0m\u001b[1;36m1000\u001b[0m\u001b[1;33m)\u001b[0m\u001b[1;33m\u001b[0m\u001b[1;33m\u001b[0m\u001b[0m\n\u001b[0m",
      "\u001b[1;32m~\\Anaconda3\\lib\\site-packages\\tensorflow\\python\\keras\\engine\\training.py\u001b[0m in \u001b[0;36mfit\u001b[1;34m(self, x, y, batch_size, epochs, verbose, callbacks, validation_split, validation_data, shuffle, class_weight, sample_weight, initial_epoch, steps_per_epoch, validation_steps, max_queue_size, workers, use_multiprocessing, **kwargs)\u001b[0m\n\u001b[0;32m    774\u001b[0m         \u001b[0msteps\u001b[0m\u001b[1;33m=\u001b[0m\u001b[0msteps_per_epoch\u001b[0m\u001b[1;33m,\u001b[0m\u001b[1;33m\u001b[0m\u001b[1;33m\u001b[0m\u001b[0m\n\u001b[0;32m    775\u001b[0m         \u001b[0mvalidation_split\u001b[0m\u001b[1;33m=\u001b[0m\u001b[0mvalidation_split\u001b[0m\u001b[1;33m,\u001b[0m\u001b[1;33m\u001b[0m\u001b[1;33m\u001b[0m\u001b[0m\n\u001b[1;32m--> 776\u001b[1;33m         shuffle=shuffle)\n\u001b[0m\u001b[0;32m    777\u001b[0m \u001b[1;33m\u001b[0m\u001b[0m\n\u001b[0;32m    778\u001b[0m     \u001b[1;31m# Prepare validation data.\u001b[0m\u001b[1;33m\u001b[0m\u001b[1;33m\u001b[0m\u001b[1;33m\u001b[0m\u001b[0m\n",
      "\u001b[1;32m~\\Anaconda3\\lib\\site-packages\\tensorflow\\python\\keras\\engine\\training.py\u001b[0m in \u001b[0;36m_standardize_user_data\u001b[1;34m(self, x, y, sample_weight, class_weight, batch_size, check_steps, steps_name, steps, validation_split, shuffle)\u001b[0m\n\u001b[0;32m   2264\u001b[0m                    tensor_util.is_tensor(v) for v in x):\n\u001b[0;32m   2265\u001b[0m           raise ValueError('Please provide as model inputs either a single '\n\u001b[1;32m-> 2266\u001b[1;33m                            'array or a list of arrays. You passed: x=' + str(x))\n\u001b[0m\u001b[0;32m   2267\u001b[0m         \u001b[0mall_inputs\u001b[0m \u001b[1;33m+=\u001b[0m \u001b[0mlist\u001b[0m\u001b[1;33m(\u001b[0m\u001b[0mx\u001b[0m\u001b[1;33m)\u001b[0m\u001b[1;33m\u001b[0m\u001b[1;33m\u001b[0m\u001b[0m\n\u001b[0;32m   2268\u001b[0m       \u001b[1;32melif\u001b[0m \u001b[0misinstance\u001b[0m\u001b[1;33m(\u001b[0m\u001b[0mx\u001b[0m\u001b[1;33m,\u001b[0m \u001b[0mdict\u001b[0m\u001b[1;33m)\u001b[0m\u001b[1;33m:\u001b[0m\u001b[1;33m\u001b[0m\u001b[1;33m\u001b[0m\u001b[0m\n",
      "\u001b[1;31mValueError\u001b[0m: Please provide as model inputs either a single array or a list of arrays. You passed: x=[0        NaN\n1      990.0\n2      850.0\n3      965.0\n4      803.0\n5      990.0\n6      905.0\n7      875.0\n8      985.0\n9      970.0\n10     980.0\n11     985.0\n12     870.0\n13     990.0\n14     945.0\n15     980.0\n16     920.0\n17     970.0\n18     850.0\n19     985.0\n20     990.0\n21     935.0\n22     955.0\n23     950.0\n24     835.0\n25     975.0\n26     970.0\n27     810.0\n28     960.0\n29     985.0\n       ...  \n74     776.0\n75     840.0\n76     940.0\n77     965.0\n78     975.0\n79     950.0\n80     950.0\n81     830.0\n82     940.0\n83     915.0\n84     890.0\n85     925.0\n86     925.0\n87     960.0\n88     865.0\n89     985.0\n90     960.0\n91     850.0\n92     900.0\n93     960.0\n94     970.0\n95     920.0\n96     850.0\n97     935.0\n98     965.0\n99     965.0\n100    935.0\n101    890.0\n102    930.0\n103    765.0\nName: X1, Length: 104, dtype: float64, 0      NaN\n1      1.0\n2      1.0\n3      0.0\n4      1.0\n5      1.0\n6      0.0\n7      1.0\n8      1.0\n9      1.0\n10     1.0\n11     0.0\n12     0.0\n13     1.0\n14     0.0\n15     0.0\n16     1.0\n17     1.0\n18     1.0\n19     1.0\n20     1.0\n21     0.0\n22     0.0\n23     0.0\n24     1.0\n25     1.0\n26     1.0\n27     1.0\n28     0.0\n29     0.0\n      ... \n74     1.0\n75     1.0\n76     1.0\n77     1.0\n78     1.0\n79     0.0\n80     0.0\n81     1.0\n82     0.0\n83     1.0\n84     1.0\n85     1.0\n86     0.0\n87     0.0\n88     0.0\n89     0.0\n90     1.0\n91     0.0\n92     1.0\n93     0.0\n94     0.0\n95     0.0\n96     1.0\n97     0.0\n98     0.0\n99     0.0\n100    1.0\n101    1.0\n102    1.0\n103    0.0\nName: X2, Length: 104, dtype: float64, 0       NaN\n1      25.0\n2      25.0\n3      25.0\n4      25.0\n5      30.0\n6      24.0\n7      25.0\n8      26.0\n9      24.0\n10     25.0\n11     21.0\n12     26.0\n13     24.0\n14     21.0\n15     23.0\n16     26.0\n17     21.0\n18     33.0\n19     24.0\n20     24.0\n21     24.0\n22     25.0\n23     19.0\n24     23.0\n25     25.0\n26     27.0\n27     23.0\n28     30.0\n29     24.0\n       ... \n74     25.0\n75     24.0\n76     24.0\n77     27.0\n78     26.0\n79     23.0\n80     27.0\n81     23.0\n82     23.0\n83     28.0\n84     24.0\n85     23.0\n86     24.0\n87     20.0\n88     26.0\n89     20.0\n90     22.0\n91     18.0\n92     23.0\n93     20.0\n94     24.0\n95     19.0\n96     19.0\n97     24.0\n98     24.0\n99     27.0\n100    23.0\n101    18.0\n102    24.0\n103    22.0\nName: X3, Length: 104, dtype: float64, 0       NaN\n1       6.0\n2       6.0\n3      10.0\n4       6.0\n5       7.0\n6       6.0\n7       7.0\n8       5.0\n9       6.0\n10      7.0\n11      8.0\n12      7.0\n13      7.0\n14      7.0\n15      9.0\n16      7.0\n17      4.0\n18      3.0\n19      7.0\n20     10.0\n21      5.0\n22      8.0\n23      6.0\n24      5.0\n25      5.0\n26      5.0\n27      5.0\n28      7.0\n29      8.0\n       ... \n74      7.0\n75      6.0\n76      6.0\n77      5.0\n78      4.0\n79      7.0\n80      6.0\n81      7.0\n82      8.0\n83      6.0\n84      6.0\n85      3.0\n86      6.0\n87      8.0\n88      7.0\n89      8.0\n90      5.0\n91      6.0\n92      5.0\n93      6.0\n94      5.0\n95      7.0\n96      6.0\n97      6.0\n98      4.0\n99      8.0\n100     7.0\n101     7.0\n102     9.0\n103     9.0\nName: X4, Length: 104, dtype: float64, 0      NaN\n1      8.0\n2      7.0\n3      8.0\n4      3.0\n5      8.0\n6      5.0\n7      4.0\n8      7.0\n9      3.0\n10     8.0\n11     8.0\n12     3.0\n13     8.0\n14     8.0\n15     8.0\n16     5.0\n17     3.0\n18     4.0\n19     5.0\n20     8.0\n21     8.0\n22     8.0\n23     6.0\n24     7.0\n25     8.0\n26     8.0\n27     5.0\n28     8.0\n29     8.0\n      ... \n74     6.0\n75     3.0\n76     6.0\n77     8.0\n78     3.0\n79     8.0\n80     6.0\n81     4.0\n82     8.0\n83     3.0\n84     4.0\n85     4.0\n86     3.0\n87     8.0\n88     8.0\n89     8.0\n90     3.0\n91     4.0\n92     3.0\n93     7.0\n94     8.0\n95     8.0\n96     6.0\n97     7.0\n98     7.0\n99     8.0\n100    8.0\n101    3.0\n102    7.0\n103    8.0\nName: X5, Length: 104, dtype: float64]"
     ]
    }
   ],
   "source": [
    "model.fit([x1,x2,x3,x4,x5],y, epochs=1000)"
   ]
  },
  {
   "cell_type": "code",
   "execution_count": 9,
   "metadata": {},
   "outputs": [
    {
     "ename": "ValueError",
     "evalue": "Please provide as model inputs either a single array or a list of arrays. You passed: x=[990, 0, 26, 10, 8]",
     "output_type": "error",
     "traceback": [
      "\u001b[1;31m---------------------------------------------------------------------------\u001b[0m",
      "\u001b[1;31mValueError\u001b[0m                                Traceback (most recent call last)",
      "\u001b[1;32m<ipython-input-9-7589568f5fb0>\u001b[0m in \u001b[0;36m<module>\u001b[1;34m\u001b[0m\n\u001b[0;32m      1\u001b[0m \u001b[0mx\u001b[0m\u001b[1;33m=\u001b[0m \u001b[1;33m[\u001b[0m\u001b[1;36m990\u001b[0m\u001b[1;33m,\u001b[0m \u001b[1;36m0\u001b[0m\u001b[1;33m,\u001b[0m \u001b[1;36m26\u001b[0m\u001b[1;33m,\u001b[0m \u001b[1;36m10\u001b[0m\u001b[1;33m,\u001b[0m \u001b[1;36m8\u001b[0m\u001b[1;33m]\u001b[0m\u001b[1;33m\u001b[0m\u001b[1;33m\u001b[0m\u001b[0m\n\u001b[1;32m----> 2\u001b[1;33m \u001b[0my\u001b[0m \u001b[1;33m=\u001b[0m \u001b[0mmodel\u001b[0m\u001b[1;33m.\u001b[0m\u001b[0mpredict\u001b[0m\u001b[1;33m(\u001b[0m\u001b[0mx\u001b[0m\u001b[1;33m)\u001b[0m\u001b[1;33m\u001b[0m\u001b[1;33m\u001b[0m\u001b[0m\n\u001b[0m\u001b[0;32m      3\u001b[0m \u001b[0mplot\u001b[0m\u001b[1;33m(\u001b[0m\u001b[0mx\u001b[0m\u001b[1;33m,\u001b[0m\u001b[0my\u001b[0m\u001b[1;33m)\u001b[0m\u001b[1;33m\u001b[0m\u001b[1;33m\u001b[0m\u001b[0m\n",
      "\u001b[1;32m~\\Anaconda3\\lib\\site-packages\\tensorflow\\python\\keras\\engine\\training.py\u001b[0m in \u001b[0;36mpredict\u001b[1;34m(self, x, batch_size, verbose, steps, max_queue_size, workers, use_multiprocessing)\u001b[0m\n\u001b[0;32m   1094\u001b[0m       \u001b[1;31m# batch size.\u001b[0m\u001b[1;33m\u001b[0m\u001b[1;33m\u001b[0m\u001b[1;33m\u001b[0m\u001b[0m\n\u001b[0;32m   1095\u001b[0m       x, _, _ = self._standardize_user_data(\n\u001b[1;32m-> 1096\u001b[1;33m           x, check_steps=True, steps_name='steps', steps=steps)\n\u001b[0m\u001b[0;32m   1097\u001b[0m \u001b[1;33m\u001b[0m\u001b[0m\n\u001b[0;32m   1098\u001b[0m     if (self.run_eagerly or (isinstance(x, iterator_ops.EagerIterator) and\n",
      "\u001b[1;32m~\\Anaconda3\\lib\\site-packages\\tensorflow\\python\\keras\\engine\\training.py\u001b[0m in \u001b[0;36m_standardize_user_data\u001b[1;34m(self, x, y, sample_weight, class_weight, batch_size, check_steps, steps_name, steps, validation_split, shuffle)\u001b[0m\n\u001b[0;32m   2264\u001b[0m                    tensor_util.is_tensor(v) for v in x):\n\u001b[0;32m   2265\u001b[0m           raise ValueError('Please provide as model inputs either a single '\n\u001b[1;32m-> 2266\u001b[1;33m                            'array or a list of arrays. You passed: x=' + str(x))\n\u001b[0m\u001b[0;32m   2267\u001b[0m         \u001b[0mall_inputs\u001b[0m \u001b[1;33m+=\u001b[0m \u001b[0mlist\u001b[0m\u001b[1;33m(\u001b[0m\u001b[0mx\u001b[0m\u001b[1;33m)\u001b[0m\u001b[1;33m\u001b[0m\u001b[1;33m\u001b[0m\u001b[0m\n\u001b[0;32m   2268\u001b[0m       \u001b[1;32melif\u001b[0m \u001b[0misinstance\u001b[0m\u001b[1;33m(\u001b[0m\u001b[0mx\u001b[0m\u001b[1;33m,\u001b[0m \u001b[0mdict\u001b[0m\u001b[1;33m)\u001b[0m\u001b[1;33m:\u001b[0m\u001b[1;33m\u001b[0m\u001b[1;33m\u001b[0m\u001b[0m\n",
      "\u001b[1;31mValueError\u001b[0m: Please provide as model inputs either a single array or a list of arrays. You passed: x=[990, 0, 26, 10, 8]"
     ]
    }
   ],
   "source": [
    "x= [990, 0, 26, 10, 8] \n",
    "y = model.predict(x)\n",
    "plot(x,y)"
   ]
  },
  {
   "cell_type": "code",
   "execution_count": null,
   "metadata": {},
   "outputs": [],
   "source": [
    "weights = model.layer[0].get_weights()\n",
    "print(weights)"
   ]
  },
  {
   "cell_type": "code",
   "execution_count": null,
   "metadata": {},
   "outputs": [],
   "source": []
  },
  {
   "cell_type": "code",
   "execution_count": null,
   "metadata": {},
   "outputs": [],
   "source": []
  },
  {
   "cell_type": "code",
   "execution_count": null,
   "metadata": {},
   "outputs": [],
   "source": []
  },
  {
   "cell_type": "code",
   "execution_count": null,
   "metadata": {},
   "outputs": [],
   "source": []
  },
  {
   "cell_type": "code",
   "execution_count": null,
   "metadata": {},
   "outputs": [],
   "source": []
  },
  {
   "cell_type": "code",
   "execution_count": null,
   "metadata": {},
   "outputs": [],
   "source": []
  },
  {
   "cell_type": "code",
   "execution_count": null,
   "metadata": {},
   "outputs": [],
   "source": []
  }
 ],
 "metadata": {
  "kernelspec": {
   "display_name": "Python 3",
   "language": "python",
   "name": "python3"
  },
  "language_info": {
   "codemirror_mode": {
    "name": "ipython",
    "version": 3
   },
   "file_extension": ".py",
   "mimetype": "text/x-python",
   "name": "python",
   "nbconvert_exporter": "python",
   "pygments_lexer": "ipython3",
   "version": "3.7.1"
  }
 },
 "nbformat": 4,
 "nbformat_minor": 2
}
